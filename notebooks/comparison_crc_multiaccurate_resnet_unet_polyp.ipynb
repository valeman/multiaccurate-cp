{
 "cells": [
  {
   "cell_type": "code",
   "execution_count": 1,
   "metadata": {},
   "outputs": [],
   "source": [
    "import sys\n",
    "sys.path.append(\"/home/vblot/multiaccurate_cp/\")"
   ]
  },
  {
   "cell_type": "code",
   "execution_count": 2,
   "metadata": {},
   "outputs": [],
   "source": [
    "import os\n",
    "import time\n",
    "import yaml\n",
    "\n",
    "import cv2\n",
    "import numpy as np\n",
    "import matplotlib.pyplot as plt\n",
    "from mapie.multi_label_classification import MapieMultiLabelClassifier\n",
    "from scipy import integrate\n",
    "from scipy.optimize import minimize\n",
    "from tqdm import tqdm\n",
    "\n",
    "from multiaccurate_cp.utils.multiaccurate import J, J_prime\n",
    "\n",
    "%load_ext autoreload\n",
    "%autoreload 2"
   ]
  },
  {
   "cell_type": "code",
   "execution_count": 3,
   "metadata": {},
   "outputs": [],
   "source": [
    "BASE_DIR = \"/home/vblot/multiaccurate_cp/data/polyp\"\n",
    "MODELS_PATH = \"/home/vblot/multiaccurate_cp/data/polyp/03_model_weights/resnet\"\n",
    "MODEL_NAME = \"20240325_1446\""
   ]
  },
  {
   "cell_type": "code",
   "execution_count": 4,
   "metadata": {},
   "outputs": [],
   "source": [
    "# Specify the path to the YAML file\n",
    "file_path = os.path.join(MODELS_PATH, MODEL_NAME, \"config.yaml\")\n",
    "\n",
    "# Read the YAML file\n",
    "with open(file_path, \"r\") as file:\n",
    "    config = yaml.safe_load(file)\n"
   ]
  },
  {
   "cell_type": "code",
   "execution_count": 5,
   "metadata": {},
   "outputs": [],
   "source": [
    "IMG_SIZE = 64\n",
    "RESNET_EMBEDDING_SIZE = config[\"model\"][\"embedding_size\"]\n"
   ]
  },
  {
   "cell_type": "code",
   "execution_count": 6,
   "metadata": {},
   "outputs": [],
   "source": [
    "DIR_CAL_PRED_PROBAS = os.path.join(BASE_DIR, \"04_predictions/cal/pred_probas\")\n",
    "DIR_CAL_LABELS = os.path.join(BASE_DIR, \"02_prepared_data/cal/labels\")\n",
    "DIR_TEST_PRED_PROBAS = DIR_CAL_PRED_PROBAS.replace(\"cal\", \"test\")\n",
    "DIR_TEST_LABELS = DIR_CAL_LABELS.replace(\"cal\", \"test\")\n",
    "\n",
    "DIR_CAL_RES_EMB = os.path.join(BASE_DIR, \"04_predictions/cal/res_embeddings\", MODEL_NAME)\n",
    "DIR_TEST_RES_EMB = DIR_CAL_RES_EMB.replace(\"cal\", \"test\")\n"
   ]
  },
  {
   "cell_type": "code",
   "execution_count": 7,
   "metadata": {},
   "outputs": [],
   "source": [
    "def load_data(pred_probas_dir, res_emb_dir, labels_dir):\n",
    "    pred_probas = np.zeros((len(os.listdir(pred_probas_dir)), IMG_SIZE, IMG_SIZE))\n",
    "    res_emb = np.zeros((len(os.listdir(res_emb_dir)), RESNET_EMBEDDING_SIZE))\n",
    "    labels = np.zeros((len(os.listdir(labels_dir)), IMG_SIZE, IMG_SIZE))\n",
    "\n",
    "    for i, (pred_proba_file, res_emb_file, label_file) in enumerate(\n",
    "        tqdm(zip(\n",
    "            sorted(os.listdir(pred_probas_dir)),\n",
    "            sorted(os.listdir(res_emb_dir)),\n",
    "            sorted(os.listdir(labels_dir))\n",
    "        ))\n",
    "    ):\n",
    "        pred_proba = np.load(os.path.join(pred_probas_dir, pred_proba_file))\n",
    "        pred_probas[i] = cv2.resize(pred_proba, (IMG_SIZE, IMG_SIZE))\n",
    "        res_emb[i] = np.load(os.path.join(res_emb_dir, res_emb_file))\n",
    "        label = cv2.imread(os.path.join(labels_dir, label_file), cv2.IMREAD_GRAYSCALE) / 255\n",
    "        labels[i] = cv2.resize(label, (IMG_SIZE, IMG_SIZE)) > .5    \n",
    "    return pred_probas, res_emb, labels\n"
   ]
  },
  {
   "cell_type": "code",
   "execution_count": 8,
   "metadata": {},
   "outputs": [
    {
     "name": "stderr",
     "output_type": "stream",
     "text": [
      "252it [00:00, 452.37it/s]\n"
     ]
    }
   ],
   "source": [
    "cal_pred_probas, cal_res_emb, cal_labels = load_data(\n",
    "    DIR_CAL_PRED_PROBAS, DIR_CAL_RES_EMB, DIR_CAL_LABELS\n",
    ")\n"
   ]
  },
  {
   "cell_type": "code",
   "execution_count": 9,
   "metadata": {},
   "outputs": [
    {
     "name": "stderr",
     "output_type": "stream",
     "text": [
      "546it [00:01, 369.08it/s]\n"
     ]
    }
   ],
   "source": [
    "test_pred_probas, test_res_emb, test_labels = load_data(\n",
    "    DIR_TEST_PRED_PROBAS, DIR_TEST_RES_EMB, DIR_TEST_LABELS\n",
    ")"
   ]
  },
  {
   "cell_type": "code",
   "execution_count": 10,
   "metadata": {},
   "outputs": [],
   "source": [
    "index_not_empy = np.where(cal_labels.sum(axis=(1, 2)) > 0)[0]\n",
    "cal_labels = cal_labels[index_not_empy]\n",
    "cal_res_emb = cal_res_emb[index_not_empy]\n",
    "cal_pred_probas = cal_pred_probas[index_not_empy]\n"
   ]
  },
  {
   "cell_type": "code",
   "execution_count": 11,
   "metadata": {},
   "outputs": [],
   "source": [
    "ALPHA = .1\n",
    "N = len(cal_labels)\n",
    "REGULARIZATION = \"ridge\""
   ]
  },
  {
   "cell_type": "code",
   "execution_count": 12,
   "metadata": {},
   "outputs": [],
   "source": [
    "def grid_search_lambda(labels, pred_probas, embeddings, embedding_size):\n",
    "    lambdas = [0.001, 0.01, 0.1, 0.2, 0.5, 0.7, 1]\n",
    "    best_dist = np.inf\n",
    "    best_lambda = None\n",
    "    cv = len(lambdas)\n",
    "    # get cv indices\n",
    "    indices = np.arange(len(labels))\n",
    "    np.random.seed(42)\n",
    "    np.random.shuffle(indices)\n",
    "    np.random.seed(None)\n",
    "    indices = np.array_split(indices, cv)\n",
    "    for i, lambda_ in enumerate(tqdm(lambdas)):\n",
    "        test_labels = labels[indices[i]]\n",
    "        test_pred_probas = pred_probas[indices[i]]\n",
    "        test_res_emb = embeddings[indices[i]]\n",
    "        cal_labels = np.concatenate([labels[indices[j]] for j in range(cv) if j != i])\n",
    "        cal_pred_probas = np.concatenate([pred_probas[indices[j]] for j in range(cv) if j != i])\n",
    "        cal_res_emb = np.concatenate([embeddings[indices[j]] for j in range(cv) if j != i])\n",
    "        # np.random.seed(int(time.time()))\n",
    "        result = minimize(\n",
    "            J, np.random.uniform(0, 1, embedding_size),\n",
    "            method=\"SLSQP\",\n",
    "            args=(cal_labels, cal_pred_probas, cal_res_emb, ALPHA, len(cal_labels), REGULARIZATION, lambda_), jac=J_prime,\n",
    "            options={\"disp\": False, \"maxiter\": 10000}\n",
    "        )\n",
    "        ths = np.maximum((test_res_emb @ result.x).reshape(-1, 1, 1), 0.01)\n",
    "        ths = (test_res_emb @ result.x).reshape(-1, 1, 1)\n",
    "        test_res_emb.shape\n",
    "        y_pred_test_th = (test_pred_probas >= ths).astype(int)\n",
    "        recall_test = np.nanmean((y_pred_test_th * test_labels).sum(axis=1) / test_labels.sum(axis=1))\n",
    "        if (np.abs(recall_test - (1 - ALPHA))) < best_dist:\n",
    "            best_dist = np.abs(recall_test - (1 - ALPHA))\n",
    "            best_lambda = lambda_\n",
    "        \n",
    "    return best_lambda, best_dist\n",
    "        "
   ]
  },
  {
   "cell_type": "markdown",
   "metadata": {},
   "source": [
    "# Fit CRC"
   ]
  },
  {
   "cell_type": "code",
   "execution_count": 13,
   "metadata": {},
   "outputs": [],
   "source": [
    "class MapieWrapper():\n",
    "    def __init__(self):\n",
    "        self.trained_ = True\n",
    "        self.classes_ = 1\n",
    "\n",
    "    def fit(self, X, y=None):\n",
    "        pass\n",
    "\n",
    "    def predict_proba(self, X):\n",
    "        return X\n",
    "\n",
    "    def predict(self, X):\n",
    "        pred_proba = self.predict_proba(X)\n",
    "        return pred_proba >= .5\n",
    "\n",
    "    def __sklearn_is_fitted__(self):\n",
    "        return True"
   ]
  },
  {
   "cell_type": "code",
   "execution_count": 14,
   "metadata": {},
   "outputs": [
    {
     "name": "stderr",
     "output_type": "stream",
     "text": [
      "  0%|          | 0/252 [00:00<?, ?it/s]"
     ]
    },
    {
     "name": "stderr",
     "output_type": "stream",
     "text": [
      "100%|██████████| 252/252 [00:00<00:00, 310.14it/s]\n"
     ]
    }
   ],
   "source": [
    "mapie_crc = MapieMultiLabelClassifier(MapieWrapper(), method=\"crc\")\n",
    "for i in tqdm(range(len(cal_pred_probas))):\n",
    "    X, y = cal_pred_probas[i], cal_labels[i]\n",
    "    mapie_crc.partial_fit(X.ravel()[np.newaxis, :], y.ravel()[np.newaxis, :])"
   ]
  },
  {
   "cell_type": "code",
   "execution_count": 15,
   "metadata": {},
   "outputs": [
    {
     "data": {
      "text/plain": [
       "array([0.28])"
      ]
     },
     "execution_count": 15,
     "metadata": {},
     "output_type": "execute_result"
    }
   ],
   "source": [
    "_, _ = mapie_crc.predict(test_pred_probas.ravel()[np.newaxis, :], alpha=ALPHA)\n",
    "th_crc = mapie_crc.lambdas_star\n",
    "th_crc"
   ]
  },
  {
   "cell_type": "markdown",
   "metadata": {},
   "source": [
    "# Fit multi-accurate with ResNet embedding"
   ]
  },
  {
   "cell_type": "code",
   "execution_count": 16,
   "metadata": {},
   "outputs": [
    {
     "name": "stderr",
     "output_type": "stream",
     "text": [
      "  0%|          | 0/7 [00:00<?, ?it/s]"
     ]
    },
    {
     "name": "stderr",
     "output_type": "stream",
     "text": [
      "/tmp/ipykernel_4115759/1122415497.py:30: RuntimeWarning: invalid value encountered in divide\n",
      "  recall_test = np.nanmean((y_pred_test_th * test_labels).sum(axis=1) / test_labels.sum(axis=1))\n",
      "100%|██████████| 7/7 [02:27<00:00, 21.04s/it]"
     ]
    },
    {
     "name": "stdout",
     "output_type": "stream",
     "text": [
      "0.1 0.0020404607064901104\n"
     ]
    },
    {
     "name": "stderr",
     "output_type": "stream",
     "text": [
      "\n"
     ]
    },
    {
     "name": "stdout",
     "output_type": "stream",
     "text": [
      "Optimization terminated successfully    (Exit mode 0)\n",
      "            Current function value: -9.62720113965864\n",
      "            Iterations: 25\n",
      "            Function evaluations: 60\n",
      "            Gradient evaluations: 25\n",
      "0.9049906819515363 0.23998912837310588\n"
     ]
    },
    {
     "name": "stderr",
     "output_type": "stream",
     "text": [
      "100%|██████████| 7/7 [02:16<00:00, 19.56s/it]"
     ]
    },
    {
     "name": "stdout",
     "output_type": "stream",
     "text": [
      "0.1 0.004118504469603712\n"
     ]
    },
    {
     "name": "stderr",
     "output_type": "stream",
     "text": [
      "\n"
     ]
    },
    {
     "name": "stdout",
     "output_type": "stream",
     "text": [
      "Optimization terminated successfully    (Exit mode 0)\n",
      "            Current function value: -9.627199927590222\n",
      "            Iterations: 17\n",
      "            Function evaluations: 36\n",
      "            Gradient evaluations: 17\n",
      "0.9053693882538782 0.23952030931378449\n"
     ]
    },
    {
     "name": "stderr",
     "output_type": "stream",
     "text": [
      "100%|██████████| 7/7 [02:06<00:00, 18.01s/it]"
     ]
    },
    {
     "name": "stdout",
     "output_type": "stream",
     "text": [
      "0.1 0.002901699183135431\n"
     ]
    },
    {
     "name": "stderr",
     "output_type": "stream",
     "text": [
      "\n"
     ]
    },
    {
     "name": "stdout",
     "output_type": "stream",
     "text": [
      "Optimization terminated successfully    (Exit mode 0)\n",
      "            Current function value: -9.627200752461045\n",
      "            Iterations: 34\n",
      "            Function evaluations: 103\n",
      "            Gradient evaluations: 34\n",
      "0.9052308925316485 0.23969743523318243\n"
     ]
    },
    {
     "name": "stderr",
     "output_type": "stream",
     "text": [
      "100%|██████████| 7/7 [02:20<00:00, 20.02s/it]"
     ]
    },
    {
     "name": "stdout",
     "output_type": "stream",
     "text": [
      "0.1 0.0029362594043209622\n"
     ]
    },
    {
     "name": "stderr",
     "output_type": "stream",
     "text": [
      "\n"
     ]
    },
    {
     "name": "stdout",
     "output_type": "stream",
     "text": [
      "Optimization terminated successfully    (Exit mode 0)\n",
      "            Current function value: -9.627199522377264\n",
      "            Iterations: 18\n",
      "            Function evaluations: 39\n",
      "            Gradient evaluations: 18\n",
      "0.9053273388830038 0.2396739336217167\n"
     ]
    },
    {
     "name": "stderr",
     "output_type": "stream",
     "text": [
      "100%|██████████| 7/7 [02:18<00:00, 19.76s/it]"
     ]
    },
    {
     "name": "stdout",
     "output_type": "stream",
     "text": [
      "0.1 0.00013897866126955094\n"
     ]
    },
    {
     "name": "stderr",
     "output_type": "stream",
     "text": [
      "\n"
     ]
    },
    {
     "name": "stdout",
     "output_type": "stream",
     "text": [
      "Optimization terminated successfully    (Exit mode 0)\n",
      "            Current function value: -9.627199804217208\n",
      "            Iterations: 19\n",
      "            Function evaluations: 41\n",
      "            Gradient evaluations: 19\n",
      "0.9055962380460024 0.23944126246790787\n"
     ]
    },
    {
     "name": "stderr",
     "output_type": "stream",
     "text": [
      "100%|██████████| 7/7 [02:19<00:00, 19.94s/it]"
     ]
    },
    {
     "name": "stdout",
     "output_type": "stream",
     "text": [
      "0.1 7.789609860431312e-05\n"
     ]
    },
    {
     "name": "stderr",
     "output_type": "stream",
     "text": [
      "\n"
     ]
    },
    {
     "name": "stdout",
     "output_type": "stream",
     "text": [
      "Optimization terminated successfully    (Exit mode 0)\n",
      "            Current function value: -9.627200449652142\n",
      "            Iterations: 18\n",
      "            Function evaluations: 39\n",
      "            Gradient evaluations: 18\n",
      "0.9050956342761242 0.2398008150696595\n"
     ]
    },
    {
     "name": "stderr",
     "output_type": "stream",
     "text": [
      "100%|██████████| 7/7 [02:22<00:00, 20.35s/it]"
     ]
    },
    {
     "name": "stdout",
     "output_type": "stream",
     "text": [
      "0.1 0.0002831347834219011\n"
     ]
    },
    {
     "name": "stderr",
     "output_type": "stream",
     "text": [
      "\n"
     ]
    },
    {
     "name": "stdout",
     "output_type": "stream",
     "text": [
      "Optimization terminated successfully    (Exit mode 0)\n",
      "            Current function value: -9.62720011700068\n",
      "            Iterations: 24\n",
      "            Function evaluations: 57\n",
      "            Gradient evaluations: 24\n",
      "0.905370794910173 0.23961528827096734\n"
     ]
    },
    {
     "name": "stderr",
     "output_type": "stream",
     "text": [
      "100%|██████████| 7/7 [02:38<00:00, 22.61s/it]"
     ]
    },
    {
     "name": "stdout",
     "output_type": "stream",
     "text": [
      "0.1 0.0025820837976270328\n"
     ]
    },
    {
     "name": "stderr",
     "output_type": "stream",
     "text": [
      "\n"
     ]
    },
    {
     "name": "stdout",
     "output_type": "stream",
     "text": [
      "Optimization terminated successfully    (Exit mode 0)\n",
      "            Current function value: -9.627197774112492\n",
      "            Iterations: 16\n",
      "            Function evaluations: 31\n",
      "            Gradient evaluations: 16\n",
      "0.9058595950460872 0.23878202060228934\n"
     ]
    },
    {
     "name": "stderr",
     "output_type": "stream",
     "text": [
      "100%|██████████| 7/7 [02:12<00:00, 18.87s/it]"
     ]
    },
    {
     "name": "stdout",
     "output_type": "stream",
     "text": [
      "0.1 0.004307115038413634\n"
     ]
    },
    {
     "name": "stderr",
     "output_type": "stream",
     "text": [
      "\n"
     ]
    },
    {
     "name": "stdout",
     "output_type": "stream",
     "text": [
      "Optimization terminated successfully    (Exit mode 0)\n",
      "            Current function value: -9.62720198898749\n",
      "            Iterations: 24\n",
      "            Function evaluations: 51\n",
      "            Gradient evaluations: 24\n",
      "0.9045019900441005 0.24061541920258137\n"
     ]
    },
    {
     "name": "stderr",
     "output_type": "stream",
     "text": [
      "100%|██████████| 7/7 [02:18<00:00, 19.72s/it]"
     ]
    },
    {
     "name": "stdout",
     "output_type": "stream",
     "text": [
      "0.1 0.00024501689240852276\n"
     ]
    },
    {
     "name": "stderr",
     "output_type": "stream",
     "text": [
      "\n"
     ]
    },
    {
     "name": "stdout",
     "output_type": "stream",
     "text": [
      "Optimization terminated successfully    (Exit mode 0)\n",
      "            Current function value: -9.627200637444043\n",
      "            Iterations: 27\n",
      "            Function evaluations: 69\n",
      "            Gradient evaluations: 27\n",
      "0.9054061370175829 0.23949412170751186\n"
     ]
    }
   ],
   "source": [
    "for _ in range(10):\n",
    "    lambda_resnet, dist_resnet = grid_search_lambda(cal_labels, cal_pred_probas, cal_res_emb, RESNET_EMBEDDING_SIZE)\n",
    "    print(lambda_resnet, dist_resnet)\n",
    "    seed = np.random.randint(0, 1000)\n",
    "    # np.random.seed(int(time.time()))\n",
    "    result_res = minimize(\n",
    "        J, np.random.uniform(0, 1, RESNET_EMBEDDING_SIZE),\n",
    "        method=\"SLSQP\",\n",
    "        args=(cal_labels, cal_pred_probas, cal_res_emb, ALPHA, N, REGULARIZATION, lambda_resnet), jac=J_prime,\n",
    "        options={\"disp\": True, \"maxiter\": 1000}, tol=1e-10\n",
    "    )\n",
    "    ths_res = (test_res_emb @ result_res.x).reshape(-1, 1, 1)\n",
    "    y_pred_test_th_resnet = (test_pred_probas >= ths_res).astype(int)\n",
    "    recall_resnet = (y_pred_test_th_resnet * test_labels).sum(axis=(1, 2)) / test_labels.sum(axis=(1, 2))\n",
    "    print(np.nanmean(recall_resnet), np.nanstd(recall_resnet))"
   ]
  },
  {
   "cell_type": "code",
   "execution_count": 21,
   "metadata": {},
   "outputs": [
    {
     "data": {
      "text/plain": [
       "array([0.97972973, 1.        , 1.        , 0.94488189, 1.        ,\n",
       "       1.        , 1.        , 1.        , 1.        , 1.        ,\n",
       "       1.        , 0.975     , 0.96330275, 0.99386503, 0.99678457,\n",
       "       1.        , 1.        , 1.        , 1.        , 1.        ,\n",
       "       1.        , 1.        , 1.        , 0.98601399, 1.        ,\n",
       "       1.        , 1.        , 0.94827586, 1.        , 1.        ,\n",
       "       1.        , 1.        , 1.        , 1.        , 1.        ,\n",
       "       1.        , 1.        , 1.        , 0.99009901, 0.95      ,\n",
       "       0.97058824, 1.        , 1.        , 1.        , 0.99622642,\n",
       "       0.95602294, 1.        , 1.        , 0.99450549, 1.        ,\n",
       "       1.        , 1.        , 1.        , 1.        , 1.        ,\n",
       "       1.        , 1.        , 0.99658703, 1.        , 1.        ,\n",
       "       1.        , 0.94334975, 0.99427918, 0.99312715, 1.        ,\n",
       "       0.99260824, 0.99603175, 0.95918367, 1.        , 0.9527027 ,\n",
       "       1.        , 1.        , 1.        , 1.        , 0.98198198,\n",
       "       1.        , 0.9968254 , 0.99630996, 0.96666667, 0.98901099,\n",
       "       1.        , 1.        , 1.        , 1.        , 1.        ,\n",
       "       0.74137931, 1.        , 1.        , 1.        , 1.        ,\n",
       "       1.        , 1.        , 1.        , 1.        , 0.99834163,\n",
       "       1.        , 1.        , 0.98994975, 0.99722222, 0.77251185,\n",
       "       0.92708333, 1.        , 0.95333333, 0.75903614, 1.        ,\n",
       "       0.9853211 , 0.99217221, 0.99082569, 1.        , 1.        ,\n",
       "       0.99016393, 0.99810247, 0.99104478, 0.9939577 , 0.98927614,\n",
       "       0.98648649, 0.98797595, 0.99255121, 0.99563319, 1.        ,\n",
       "       1.        , 1.        , 0.97972973, 1.        , 1.        ,\n",
       "       0.9929078 , 0.94488189, 1.        , 1.        , 1.        ,\n",
       "       1.        , 1.        , 1.        , 1.        , 1.        ,\n",
       "       0.99386503, 1.        , 0.99678457, 1.        , 1.        ,\n",
       "       1.        , 1.        , 1.        , 1.        , 0.98601399,\n",
       "       1.        , 1.        , 1.        , 1.        , 1.        ,\n",
       "       1.        , 0.99615385, 1.        , 1.        , 1.        ,\n",
       "       1.        , 1.        , 1.        , 0.8125    , 0.97101449,\n",
       "       1.        , 0.99009901, 0.95      , 1.        , 1.        ,\n",
       "       1.        , 1.        , 0.96907216, 0.99441341, 0.99371069,\n",
       "       0.98726115, 1.        , 0.99647887, 0.99603175, 1.        ,\n",
       "       0.98203593, 1.        , 1.        , 1.        , 1.        ,\n",
       "       0.99435028, 0.9706275 , 1.        , 1.        , 1.        ,\n",
       "       0.984375  , 1.        , 1.        , 1.        , 0.99791667,\n",
       "       0.99765808, 1.        , 0.9954955 , 1.        , 1.        ,\n",
       "       1.        , 1.        , 0.98473282, 1.        , 1.        ,\n",
       "       1.        , 1.        , 1.        , 0.98863636, 1.        ,\n",
       "       1.        , 1.        , 0.97058824, 0.94420601, 1.        ,\n",
       "       1.        , 1.        , 0.41839763, 0.62176166, 0.7592955 ,\n",
       "       0.77469136, 0.57971014, 0.86181818, 1.        , 0.89451477,\n",
       "       0.82790698, 0.93333333, 1.        , 1.        , 0.98746082,\n",
       "       0.44129555, 0.56167979, 0.67220903, 1.        , 0.67449664,\n",
       "       0.67340067, 0.49746193, 0.49324324, 0.62176166, 0.77469136,\n",
       "       0.57971014, 0.86181818, 0.94736842, 0.01438849, 0.89451477,\n",
       "       0.01520913, 0.54096834, 0.79088206, 0.82227632, 0.8397272 ,\n",
       "       0.22215308, 0.00641711, 0.7046332 , 0.03042763, 0.99730458,\n",
       "       1.        , 0.33389121, 0.99635227, 0.08499096, 1.        ,\n",
       "       0.96351575, 1.        , 1.        , 0.99912434, 0.98712697,\n",
       "       0.9978355 , 0.99934426, 1.        , 1.        , 0.99854862,\n",
       "       1.        , 0.99735915, 1.        , 1.        , 1.        ,\n",
       "       0.13580247, 1.        , 0.6       , 0.92982456, 0.71875   ,\n",
       "       0.57575758, 0.95833333, 0.9       , 0.36842105, 0.93333333,\n",
       "       1.        , 0.99267399, 0.99038462, 0.70422535, 1.        ,\n",
       "       1.        , 0.84      , 0.97674419, 0.36363636, 1.        ,\n",
       "       1.        , 1.        , 0.63333333, 1.        , 0.79411765,\n",
       "       1.        , 1.        , 1.        , 0.        , 1.        ,\n",
       "       0.96478873, 1.        , 1.        , 1.        , 1.        ,\n",
       "       1.        , 1.        , 1.        , 0.99107143, 1.        ,\n",
       "       0.97826087, 1.        , 1.        , 0.99386503, 1.        ,\n",
       "       1.        , 0.99570815, 0.99527187, 1.        , 1.        ,\n",
       "       1.        , 1.        , 1.        , 1.        , 1.        ,\n",
       "       1.        , 0.98780488, 0.85365854, 0.97297297, 0.92105263,\n",
       "       1.        , 1.        , 1.        , 0.89189189, 1.        ,\n",
       "       0.85135135, 0.8       , 0.97333333, 0.84848485, 1.        ,\n",
       "       1.        , 1.        , 0.        , 0.95945946, 1.        ,\n",
       "       1.        , 1.        , 1.        , 1.        , 1.        ,\n",
       "       1.        , 1.        , 1.        , 0.99858557, 1.        ,\n",
       "       0.99894737, 0.9984326 , 0.99866667, 0.2972973 , 0.99022005,\n",
       "       0.42857143, 1.        , 1.        , 1.        , 1.        ,\n",
       "       0.2       , 1.        , 1.        , 1.        , 1.        ,\n",
       "       1.        , 1.        , 0.38419619, 1.        , 1.        ,\n",
       "       1.        , 0.75      , 0.        , 1.        , 0.        ,\n",
       "       1.        , 0.78378378, 0.3125    , 0.        , 0.70789474,\n",
       "       1.        , 1.        , 0.98214286, 1.        , 1.        ,\n",
       "       1.        , 1.        , 1.        , 1.        , 1.        ,\n",
       "       1.        , 1.        , 1.        , 1.        , 1.        ,\n",
       "       0.99703264, 0.90552147, 1.        , 0.95744681, 1.        ,\n",
       "       0.9375    , 1.        , 1.        , 0.        , 0.        ,\n",
       "       0.        , 0.8       , 1.        , 0.        , 1.        ,\n",
       "       1.        , 1.        , 1.        , 0.79411765, 1.        ,\n",
       "       0.02941176, 0.91153846, 0.92592593, 0.00543478, 0.        ,\n",
       "       1.        , 1.        , 1.        , 1.        , 1.        ,\n",
       "       1.        , 0.57364341, 0.07964602, 0.0430622 , 0.        ,\n",
       "       0.00568182, 1.        , 1.        , 1.        , 0.9961165 ,\n",
       "       0.        , 0.70175439, 1.        , 1.        , 0.15625   ,\n",
       "       0.4375    , 1.        , 1.        , 1.        , 1.        ,\n",
       "       0.        , 1.        , 0.71428571, 0.04761905, 0.91666667,\n",
       "       1.        , 1.        , 1.        , 1.        , 0.        ,\n",
       "       1.        , 1.        , 1.        , 1.        , 1.        ,\n",
       "       1.        , 1.        , 0.        , 1.        , 1.        ,\n",
       "       0.93571429, 1.        , 1.        , 1.        , 1.        ,\n",
       "       0.99901478, 1.        , 1.        , 1.        , 1.        ,\n",
       "       1.        , 0.99295775, 1.        , 0.99127907, 1.        ,\n",
       "       0.78688525, 0.97090909, 1.        , 1.        , 0.88879493,\n",
       "       1.        , 0.9990689 , 1.        , 1.        , 0.99173554,\n",
       "       0.92009685, 1.        , 1.        , 0.95447284, 0.99557522,\n",
       "       1.        , 1.        , 0.99808061, 0.99233716, 0.99297424,\n",
       "       0.99609883, 1.        , 0.99019608, 1.        , 0.97996661,\n",
       "       1.        , 0.94217687, 1.        , 1.        , 1.        ,\n",
       "       1.        , 1.        , 1.        , 0.99319728, 1.        ,\n",
       "       0.98901099, 0.66442953, 0.99619048, 1.        , 0.9971831 ,\n",
       "       1.        , 1.        , 0.98086124, 1.        , 0.99740933,\n",
       "       1.        , 0.90802676, 0.99435028, 0.86157025, 0.99777778,\n",
       "       1.        , 0.99881376, 1.        , 1.        , 1.        ,\n",
       "       1.        , 1.        , 1.        , 1.        , 1.        ,\n",
       "       1.        ])"
      ]
     },
     "execution_count": 21,
     "metadata": {},
     "output_type": "execute_result"
    }
   ],
   "source": [
    "recall_resnet"
   ]
  },
  {
   "cell_type": "code",
   "execution_count": 23,
   "metadata": {},
   "outputs": [
    {
     "name": "stderr",
     "output_type": "stream",
     "text": [
      "  0%|          | 0/7 [00:00<?, ?it/s]"
     ]
    },
    {
     "name": "stderr",
     "output_type": "stream",
     "text": [
      "  0%|          | 0/7 [00:04<?, ?it/s]\n"
     ]
    },
    {
     "ename": "KeyboardInterrupt",
     "evalue": "",
     "output_type": "error",
     "traceback": [
      "\u001b[0;31m---------------------------------------------------------------------------\u001b[0m",
      "\u001b[0;31mKeyboardInterrupt\u001b[0m                         Traceback (most recent call last)",
      "Cell \u001b[0;32mIn[23], line 1\u001b[0m\n\u001b[0;32m----> 1\u001b[0m lambda_resnet, dist_resnet \u001b[38;5;241m=\u001b[39m \u001b[43mgrid_search_lambda\u001b[49m\u001b[43m(\u001b[49m\u001b[43mcal_labels\u001b[49m\u001b[43m,\u001b[49m\u001b[43m \u001b[49m\u001b[43mcal_pred_probas\u001b[49m\u001b[43m,\u001b[49m\u001b[43m \u001b[49m\u001b[43mcal_res_emb\u001b[49m\u001b[43m,\u001b[49m\u001b[43m \u001b[49m\u001b[43mRESNET_EMBEDDING_SIZE\u001b[49m\u001b[43m)\u001b[49m\n\u001b[1;32m      2\u001b[0m \u001b[38;5;28mprint\u001b[39m(lambda_resnet, dist_resnet)\n\u001b[1;32m      3\u001b[0m result_res \u001b[38;5;241m=\u001b[39m minimize(\n\u001b[1;32m      4\u001b[0m     J, np\u001b[38;5;241m.\u001b[39mrandom\u001b[38;5;241m.\u001b[39muniform(\u001b[38;5;241m0\u001b[39m, \u001b[38;5;241m1\u001b[39m, RESNET_EMBEDDING_SIZE),\n\u001b[1;32m      5\u001b[0m     method\u001b[38;5;241m=\u001b[39m\u001b[38;5;124m\"\u001b[39m\u001b[38;5;124mSLSQP\u001b[39m\u001b[38;5;124m\"\u001b[39m,\n\u001b[1;32m      6\u001b[0m     args\u001b[38;5;241m=\u001b[39m(cal_labels, cal_pred_probas, cal_res_emb, ALPHA, N, REGULARIZATION, lambda_resnet), jac\u001b[38;5;241m=\u001b[39mJ_prime,\n\u001b[1;32m      7\u001b[0m     options\u001b[38;5;241m=\u001b[39m{\u001b[38;5;124m\"\u001b[39m\u001b[38;5;124mdisp\u001b[39m\u001b[38;5;124m\"\u001b[39m: \u001b[38;5;28;01mTrue\u001b[39;00m, \u001b[38;5;124m\"\u001b[39m\u001b[38;5;124mmaxiter\u001b[39m\u001b[38;5;124m\"\u001b[39m: \u001b[38;5;241m1000\u001b[39m}, tol\u001b[38;5;241m=\u001b[39m\u001b[38;5;241m1e-10\u001b[39m\n\u001b[1;32m      8\u001b[0m )\n",
      "Cell \u001b[0;32mIn[12], line 20\u001b[0m, in \u001b[0;36mgrid_search_lambda\u001b[0;34m(labels, pred_probas, embeddings, embedding_size)\u001b[0m\n\u001b[1;32m     18\u001b[0m cal_res_emb \u001b[38;5;241m=\u001b[39m np\u001b[38;5;241m.\u001b[39mconcatenate([embeddings[indices[j]] \u001b[38;5;28;01mfor\u001b[39;00m j \u001b[38;5;129;01min\u001b[39;00m \u001b[38;5;28mrange\u001b[39m(cv) \u001b[38;5;28;01mif\u001b[39;00m j \u001b[38;5;241m!=\u001b[39m i])\n\u001b[1;32m     19\u001b[0m \u001b[38;5;66;03m# np.random.seed(int(time.time()))\u001b[39;00m\n\u001b[0;32m---> 20\u001b[0m result \u001b[38;5;241m=\u001b[39m \u001b[43mminimize\u001b[49m\u001b[43m(\u001b[49m\n\u001b[1;32m     21\u001b[0m \u001b[43m    \u001b[49m\u001b[43mJ\u001b[49m\u001b[43m,\u001b[49m\u001b[43m \u001b[49m\u001b[43mnp\u001b[49m\u001b[38;5;241;43m.\u001b[39;49m\u001b[43mrandom\u001b[49m\u001b[38;5;241;43m.\u001b[39;49m\u001b[43muniform\u001b[49m\u001b[43m(\u001b[49m\u001b[38;5;241;43m0\u001b[39;49m\u001b[43m,\u001b[49m\u001b[43m \u001b[49m\u001b[38;5;241;43m1\u001b[39;49m\u001b[43m,\u001b[49m\u001b[43m \u001b[49m\u001b[43membedding_size\u001b[49m\u001b[43m)\u001b[49m\u001b[43m,\u001b[49m\n\u001b[1;32m     22\u001b[0m \u001b[43m    \u001b[49m\u001b[43mmethod\u001b[49m\u001b[38;5;241;43m=\u001b[39;49m\u001b[38;5;124;43m\"\u001b[39;49m\u001b[38;5;124;43mSLSQP\u001b[39;49m\u001b[38;5;124;43m\"\u001b[39;49m\u001b[43m,\u001b[49m\n\u001b[1;32m     23\u001b[0m \u001b[43m    \u001b[49m\u001b[43margs\u001b[49m\u001b[38;5;241;43m=\u001b[39;49m\u001b[43m(\u001b[49m\u001b[43mcal_labels\u001b[49m\u001b[43m,\u001b[49m\u001b[43m \u001b[49m\u001b[43mcal_pred_probas\u001b[49m\u001b[43m,\u001b[49m\u001b[43m \u001b[49m\u001b[43mcal_res_emb\u001b[49m\u001b[43m,\u001b[49m\u001b[43m \u001b[49m\u001b[43mALPHA\u001b[49m\u001b[43m,\u001b[49m\u001b[43m \u001b[49m\u001b[38;5;28;43mlen\u001b[39;49m\u001b[43m(\u001b[49m\u001b[43mcal_labels\u001b[49m\u001b[43m)\u001b[49m\u001b[43m,\u001b[49m\u001b[43m \u001b[49m\u001b[43mREGULARIZATION\u001b[49m\u001b[43m,\u001b[49m\u001b[43m \u001b[49m\u001b[43mlambda_\u001b[49m\u001b[43m)\u001b[49m\u001b[43m,\u001b[49m\u001b[43m \u001b[49m\u001b[43mjac\u001b[49m\u001b[38;5;241;43m=\u001b[39;49m\u001b[43mJ_prime\u001b[49m\u001b[43m,\u001b[49m\n\u001b[1;32m     24\u001b[0m \u001b[43m    \u001b[49m\u001b[43moptions\u001b[49m\u001b[38;5;241;43m=\u001b[39;49m\u001b[43m{\u001b[49m\u001b[38;5;124;43m\"\u001b[39;49m\u001b[38;5;124;43mdisp\u001b[39;49m\u001b[38;5;124;43m\"\u001b[39;49m\u001b[43m:\u001b[49m\u001b[43m \u001b[49m\u001b[38;5;28;43;01mFalse\u001b[39;49;00m\u001b[43m,\u001b[49m\u001b[43m \u001b[49m\u001b[38;5;124;43m\"\u001b[39;49m\u001b[38;5;124;43mmaxiter\u001b[39;49m\u001b[38;5;124;43m\"\u001b[39;49m\u001b[43m:\u001b[49m\u001b[43m \u001b[49m\u001b[38;5;241;43m10000\u001b[39;49m\u001b[43m}\u001b[49m\n\u001b[1;32m     25\u001b[0m \u001b[43m\u001b[49m\u001b[43m)\u001b[49m\n\u001b[1;32m     26\u001b[0m ths \u001b[38;5;241m=\u001b[39m np\u001b[38;5;241m.\u001b[39mmaximum((test_res_emb \u001b[38;5;241m@\u001b[39m result\u001b[38;5;241m.\u001b[39mx)\u001b[38;5;241m.\u001b[39mreshape(\u001b[38;5;241m-\u001b[39m\u001b[38;5;241m1\u001b[39m, \u001b[38;5;241m1\u001b[39m, \u001b[38;5;241m1\u001b[39m), \u001b[38;5;241m0.01\u001b[39m)\n\u001b[1;32m     27\u001b[0m ths \u001b[38;5;241m=\u001b[39m (test_res_emb \u001b[38;5;241m@\u001b[39m result\u001b[38;5;241m.\u001b[39mx)\u001b[38;5;241m.\u001b[39mreshape(\u001b[38;5;241m-\u001b[39m\u001b[38;5;241m1\u001b[39m, \u001b[38;5;241m1\u001b[39m, \u001b[38;5;241m1\u001b[39m)\n",
      "File \u001b[0;32m~/multiaccurate_cp/.venv/lib/python3.10/site-packages/scipy/optimize/_minimize.py:722\u001b[0m, in \u001b[0;36mminimize\u001b[0;34m(fun, x0, args, method, jac, hess, hessp, bounds, constraints, tol, callback, options)\u001b[0m\n\u001b[1;32m    719\u001b[0m     res \u001b[38;5;241m=\u001b[39m _minimize_cobyla(fun, x0, args, constraints, callback\u001b[38;5;241m=\u001b[39mcallback,\n\u001b[1;32m    720\u001b[0m                            bounds\u001b[38;5;241m=\u001b[39mbounds, \u001b[38;5;241m*\u001b[39m\u001b[38;5;241m*\u001b[39moptions)\n\u001b[1;32m    721\u001b[0m \u001b[38;5;28;01melif\u001b[39;00m meth \u001b[38;5;241m==\u001b[39m \u001b[38;5;124m'\u001b[39m\u001b[38;5;124mslsqp\u001b[39m\u001b[38;5;124m'\u001b[39m:\n\u001b[0;32m--> 722\u001b[0m     res \u001b[38;5;241m=\u001b[39m \u001b[43m_minimize_slsqp\u001b[49m\u001b[43m(\u001b[49m\u001b[43mfun\u001b[49m\u001b[43m,\u001b[49m\u001b[43m \u001b[49m\u001b[43mx0\u001b[49m\u001b[43m,\u001b[49m\u001b[43m \u001b[49m\u001b[43margs\u001b[49m\u001b[43m,\u001b[49m\u001b[43m \u001b[49m\u001b[43mjac\u001b[49m\u001b[43m,\u001b[49m\u001b[43m \u001b[49m\u001b[43mbounds\u001b[49m\u001b[43m,\u001b[49m\n\u001b[1;32m    723\u001b[0m \u001b[43m                          \u001b[49m\u001b[43mconstraints\u001b[49m\u001b[43m,\u001b[49m\u001b[43m \u001b[49m\u001b[43mcallback\u001b[49m\u001b[38;5;241;43m=\u001b[39;49m\u001b[43mcallback\u001b[49m\u001b[43m,\u001b[49m\u001b[43m \u001b[49m\u001b[38;5;241;43m*\u001b[39;49m\u001b[38;5;241;43m*\u001b[39;49m\u001b[43moptions\u001b[49m\u001b[43m)\u001b[49m\n\u001b[1;32m    724\u001b[0m \u001b[38;5;28;01melif\u001b[39;00m meth \u001b[38;5;241m==\u001b[39m \u001b[38;5;124m'\u001b[39m\u001b[38;5;124mtrust-constr\u001b[39m\u001b[38;5;124m'\u001b[39m:\n\u001b[1;32m    725\u001b[0m     res \u001b[38;5;241m=\u001b[39m _minimize_trustregion_constr(fun, x0, args, jac, hess, hessp,\n\u001b[1;32m    726\u001b[0m                                        bounds, constraints,\n\u001b[1;32m    727\u001b[0m                                        callback\u001b[38;5;241m=\u001b[39mcallback, \u001b[38;5;241m*\u001b[39m\u001b[38;5;241m*\u001b[39moptions)\n",
      "File \u001b[0;32m~/multiaccurate_cp/.venv/lib/python3.10/site-packages/scipy/optimize/_slsqp_py.py:431\u001b[0m, in \u001b[0;36m_minimize_slsqp\u001b[0;34m(func, x0, args, jac, bounds, constraints, maxiter, ftol, iprint, disp, eps, callback, finite_diff_rel_step, **unknown_options)\u001b[0m\n\u001b[1;32m    427\u001b[0m a \u001b[38;5;241m=\u001b[39m _eval_con_normals(x, cons, la, n, m, meq, mieq)\n\u001b[1;32m    429\u001b[0m \u001b[38;5;28;01mwhile\u001b[39;00m \u001b[38;5;241m1\u001b[39m:\n\u001b[1;32m    430\u001b[0m     \u001b[38;5;66;03m# Call SLSQP\u001b[39;00m\n\u001b[0;32m--> 431\u001b[0m     \u001b[43mslsqp\u001b[49m\u001b[43m(\u001b[49m\u001b[43mm\u001b[49m\u001b[43m,\u001b[49m\u001b[43m \u001b[49m\u001b[43mmeq\u001b[49m\u001b[43m,\u001b[49m\u001b[43m \u001b[49m\u001b[43mx\u001b[49m\u001b[43m,\u001b[49m\u001b[43m \u001b[49m\u001b[43mxl\u001b[49m\u001b[43m,\u001b[49m\u001b[43m \u001b[49m\u001b[43mxu\u001b[49m\u001b[43m,\u001b[49m\u001b[43m \u001b[49m\u001b[43mfx\u001b[49m\u001b[43m,\u001b[49m\u001b[43m \u001b[49m\u001b[43mc\u001b[49m\u001b[43m,\u001b[49m\u001b[43m \u001b[49m\u001b[43mg\u001b[49m\u001b[43m,\u001b[49m\u001b[43m \u001b[49m\u001b[43ma\u001b[49m\u001b[43m,\u001b[49m\u001b[43m \u001b[49m\u001b[43macc\u001b[49m\u001b[43m,\u001b[49m\u001b[43m \u001b[49m\u001b[43mmajiter\u001b[49m\u001b[43m,\u001b[49m\u001b[43m \u001b[49m\u001b[43mmode\u001b[49m\u001b[43m,\u001b[49m\u001b[43m \u001b[49m\u001b[43mw\u001b[49m\u001b[43m,\u001b[49m\u001b[43m \u001b[49m\u001b[43mjw\u001b[49m\u001b[43m,\u001b[49m\n\u001b[1;32m    432\u001b[0m \u001b[43m          \u001b[49m\u001b[43malpha\u001b[49m\u001b[43m,\u001b[49m\u001b[43m \u001b[49m\u001b[43mf0\u001b[49m\u001b[43m,\u001b[49m\u001b[43m \u001b[49m\u001b[43mgs\u001b[49m\u001b[43m,\u001b[49m\u001b[43m \u001b[49m\u001b[43mh1\u001b[49m\u001b[43m,\u001b[49m\u001b[43m \u001b[49m\u001b[43mh2\u001b[49m\u001b[43m,\u001b[49m\u001b[43m \u001b[49m\u001b[43mh3\u001b[49m\u001b[43m,\u001b[49m\u001b[43m \u001b[49m\u001b[43mh4\u001b[49m\u001b[43m,\u001b[49m\u001b[43m \u001b[49m\u001b[43mt\u001b[49m\u001b[43m,\u001b[49m\u001b[43m \u001b[49m\u001b[43mt0\u001b[49m\u001b[43m,\u001b[49m\u001b[43m \u001b[49m\u001b[43mtol\u001b[49m\u001b[43m,\u001b[49m\n\u001b[1;32m    433\u001b[0m \u001b[43m          \u001b[49m\u001b[43miexact\u001b[49m\u001b[43m,\u001b[49m\u001b[43m \u001b[49m\u001b[43mincons\u001b[49m\u001b[43m,\u001b[49m\u001b[43m \u001b[49m\u001b[43mireset\u001b[49m\u001b[43m,\u001b[49m\u001b[43m \u001b[49m\u001b[43mitermx\u001b[49m\u001b[43m,\u001b[49m\u001b[43m \u001b[49m\u001b[43mline\u001b[49m\u001b[43m,\u001b[49m\n\u001b[1;32m    434\u001b[0m \u001b[43m          \u001b[49m\u001b[43mn1\u001b[49m\u001b[43m,\u001b[49m\u001b[43m \u001b[49m\u001b[43mn2\u001b[49m\u001b[43m,\u001b[49m\u001b[43m \u001b[49m\u001b[43mn3\u001b[49m\u001b[43m)\u001b[49m\n\u001b[1;32m    436\u001b[0m     \u001b[38;5;28;01mif\u001b[39;00m mode \u001b[38;5;241m==\u001b[39m \u001b[38;5;241m1\u001b[39m:  \u001b[38;5;66;03m# objective and constraint evaluation required\u001b[39;00m\n\u001b[1;32m    437\u001b[0m         fx \u001b[38;5;241m=\u001b[39m wrapped_fun(x)\n",
      "\u001b[0;31mKeyboardInterrupt\u001b[0m: "
     ]
    }
   ],
   "source": [
    "lambda_resnet, dist_resnet = grid_search_lambda(cal_labels, cal_pred_probas, cal_res_emb, RESNET_EMBEDDING_SIZE)\n",
    "print(lambda_resnet, dist_resnet)\n",
    "result_res = minimize(\n",
    "    J, np.random.uniform(0, 1, RESNET_EMBEDDING_SIZE),\n",
    "    method=\"SLSQP\",\n",
    "    args=(cal_labels, cal_pred_probas, cal_res_emb, ALPHA, N, REGULARIZATION, lambda_resnet), jac=J_prime,\n",
    "    options={\"disp\": True, \"maxiter\": 1000}, tol=1e-10\n",
    ")\n",
    "ths_res = (test_res_emb @ result_res.x).reshape(-1, 1, 1)"
   ]
  },
  {
   "cell_type": "markdown",
   "metadata": {},
   "source": [
    "# Apply thresholds on pred-probas"
   ]
  },
  {
   "cell_type": "code",
   "execution_count": 24,
   "metadata": {},
   "outputs": [],
   "source": [
    "y_pred_test_th_resnet = (test_pred_probas >= ths_res).astype(int)\n",
    "recall_resnet = (y_pred_test_th_resnet * test_labels).sum(axis=(1, 2)) / test_labels.sum(axis=(1, 2))\n",
    "\n",
    "y_pred_test_th_crc = (test_pred_probas >= th_crc).astype(int)\n",
    "recall_test_crc = (y_pred_test_th_crc * test_labels).sum(axis=(1, 2)) / test_labels.sum(axis=(1, 2))"
   ]
  },
  {
   "cell_type": "code",
   "execution_count": 25,
   "metadata": {},
   "outputs": [
    {
     "name": "stderr",
     "output_type": "stream",
     "text": [
      "/tmp/ipykernel_4115759/1638778521.py:1: RuntimeWarning: invalid value encountered in divide\n",
      "  precision_test_resnet = np.nan_to_num((y_pred_test_th_resnet * test_labels).sum(axis=(1, 2)) / y_pred_test_th_resnet.sum(axis=(1, 2)), nan=1)\n"
     ]
    }
   ],
   "source": [
    "precision_test_resnet = np.nan_to_num((y_pred_test_th_resnet * test_labels).sum(axis=(1, 2)) / y_pred_test_th_resnet.sum(axis=(1, 2)), nan=1)\n",
    "precision_test_crc = np.nan_to_num((y_pred_test_th_crc * test_labels).sum(axis=(1, 2)) / y_pred_test_th_crc.sum(axis=(1, 2)), nan=1)\n"
   ]
  },
  {
   "cell_type": "markdown",
   "metadata": {},
   "source": [
    "# Plot results"
   ]
  },
  {
   "cell_type": "code",
   "execution_count": 26,
   "metadata": {},
   "outputs": [
    {
     "data": {
      "image/png": "[encoded data removed]",
      "text/plain": [
       "<Figure size 2000x3000 with 6 Axes>"
      ]
     },
     "metadata": {},
     "output_type": "display_data"
    }
   ],
   "source": [
    "s = 10\n",
    "nrow = 3\n",
    "ncol = 2\n",
    "f, ax = plt.subplots(nrow, ncol, figsize=(ncol * s, nrow * s))\n",
    "\n",
    "ax[0, 0].hist(recall_resnet, bins=100, alpha=.5)\n",
    "ax[0, 0].set_title(f\"Muti-accurate ResNet embedding - average recall: {np.nanmean(recall_resnet):.2f}\")\n",
    "ax[0, 0].set_xlabel(\"Recall\")\n",
    "\n",
    "ax[0, 1].hist(recall_test_crc, bins=100, alpha=.5)\n",
    "ax[0, 1].set_title(f\"CRC - average recall: {np.nanmean(recall_test_crc):.2f}\")\n",
    "ax[0, 1].set_xlabel(\"Recall\")\n",
    "\n",
    "ax[1, 0].hist(precision_test_resnet, bins=100, alpha=.5)\n",
    "ax[1, 0].set_title(f\"Muti-accurate ResNet embedding - average precision: {np.nanmean(precision_test_resnet):.2f}\")\n",
    "ax[1, 0].set_xlabel(\"Precision\")\n",
    "\n",
    "ax[1, 1].hist(precision_test_crc, bins=100, alpha=.5)\n",
    "ax[1, 1].set_title(f\"CRC - average precision: {np.nanmean(precision_test_crc):.2f}\")\n",
    "ax[1, 1].set_xlabel(\"Precision\")\n",
    "\n",
    "\n",
    "ax[2, 0].hist(ths_res[:, 0, 0], bins=100, alpha=.5)\n",
    "ax[2, 0].set_title(f\"Muti-accurate ResNet embedding - average threshold: {np.nanmean(ths_res):.2f}\")\n",
    "ax[2, 0].set_xlabel(\"Threshold\")\n",
    "\n",
    "ax[2, 1].set_axis_off()"
   ]
  },
  {
   "cell_type": "code",
   "execution_count": null,
   "metadata": {},
   "outputs": [],
   "source": []
  }
 ],
 "metadata": {
  "kernelspec": {
   "display_name": ".venv",
   "language": "python",
   "name": "python3"
  },
  "language_info": {
   "codemirror_mode": {
    "name": "ipython",
    "version": 3
   },
   "file_extension": ".py",
   "mimetype": "text/x-python",
   "name": "python",
   "nbconvert_exporter": "python",
   "pygments_lexer": "ipython3",
   "version": "3.10.12"
  }
 },
 "nbformat": 4,
 "nbformat_minor": 2
}
