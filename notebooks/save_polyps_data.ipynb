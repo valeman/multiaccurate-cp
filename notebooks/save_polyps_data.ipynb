{
 "cells": [
  {
   "cell_type": "code",
   "execution_count": 25,
   "metadata": {},
   "outputs": [],
   "source": [
    "import os\n",
    "import random\n",
    "from shutil import copyfile\n",
    "\n",
    "import cv2"
   ]
  },
  {
   "cell_type": "code",
   "execution_count": 26,
   "metadata": {},
   "outputs": [],
   "source": [
    "DATA_PATH = \"/home/vblot/multiaccurate_cp/\"\n",
    "SAVE_PATH = \"/home/vblot/multiaccurate_cp/data/aerial/polyps/02_prepared_data\""
   ]
  },
  {
   "cell_type": "code",
   "execution_count": 33,
   "metadata": {},
   "outputs": [],
   "source": [
    "img_sizes = []\n",
    "mask_sizes = []\n",
    "for split in [\"TrainDataset\", \"TestDataset\"]:\n",
    "    path = os.path.join(DATA_PATH, split)\n",
    "    if \"Test\" in split:\n",
    "        if not os.path.exists(os.path.join(SAVE_PATH, \"cal\", \"images\")):\n",
    "            os.makedirs(os.path.join(SAVE_PATH, \"cal\", \"images\"))\n",
    "        if not os.path.exists(os.path.join(SAVE_PATH, \"cal\", \"labels\")):\n",
    "            os.makedirs(os.path.join(SAVE_PATH, \"cal\", \"labels\"))\n",
    "        if not os.path.exists(os.path.join(SAVE_PATH, \"test\", \"labels\")):\n",
    "            os.makedirs(os.path.join(SAVE_PATH, \"test\", \"labels\"))\n",
    "        if not os.path.exists(os.path.join(SAVE_PATH, \"test\", \"images\")):\n",
    "            os.makedirs(os.path.join(SAVE_PATH, \"test\", \"images\"))\n",
    "        for ds in os.listdir(path):\n",
    "            if ds != \".DS_Store\":\n",
    "                for img in os.listdir(os.path.join(path, ds, \"images\")):\n",
    "                    new_img_name = ds.lower().replace(\"-\", \"_\") + \"_\" + img\n",
    "                    if random.random() < .65:\n",
    "                        copyfile(os.path.join(path, ds, \"images\", img), os.path.join(SAVE_PATH, \"test\", \"images\", new_img_name))\n",
    "                        copyfile(os.path.join(path, ds, \"masks\", img.replace(\".jpg\", \".png\")), os.path.join(SAVE_PATH, \"test\", \"labels\", new_img_name.replace(\".jpg\", \".png\")))\n",
    "                    else:\n",
    "                        copyfile(os.path.join(path, ds, \"images\", img), os.path.join(SAVE_PATH, \"cal\", \"images\", new_img_name))\n",
    "                        copyfile(os.path.join(path, ds, \"masks\", img.replace(\".jpg\", \".png\")), os.path.join(SAVE_PATH, \"cal\", \"labels\", new_img_name.replace(\".jpg\", \".png\")))\n",
    "                    \n",
    "    else:\n",
    "        if not os.path.exists(os.path.join(SAVE_PATH, \"res\", \"images\")):\n",
    "            os.makedirs(os.path.join(SAVE_PATH, \"res\", \"images\"))\n",
    "        if not os.path.exists(os.path.join(SAVE_PATH, \"res\", \"labels\")):\n",
    "            os.makedirs(os.path.join(SAVE_PATH, \"res\", \"labels\"))\n",
    "\n",
    "        for img in os.listdir(os.path.join(path, \"image\")):\n",
    "            copyfile(os.path.join(path, \"image\", img), os.path.join(SAVE_PATH, \"res\", \"images\", img))\n",
    "        for mask in os.listdir(os.path.join(path, \"masks\")):\n",
    "            copyfile(os.path.join(path, \"masks\", mask), os.path.join(SAVE_PATH, \"res\", \"labels\", mask))"
   ]
  },
  {
   "cell_type": "code",
   "execution_count": 34,
   "metadata": {},
   "outputs": [
    {
     "name": "stdout",
     "output_type": "stream",
     "text": [
      "N images in cal: 252\n",
      "N images in test: 546\n",
      "N images in res: 1450\n"
     ]
    }
   ],
   "source": [
    "print(\"N images in cal:\", len(os.listdir(os.path.join(SAVE_PATH, \"cal\", \"images\"))))\n",
    "print(\"N images in test:\", len(os.listdir(os.path.join(SAVE_PATH, \"test\", \"images\"))))\n",
    "print(\"N images in res:\", len(os.listdir(os.path.join(SAVE_PATH, \"res\", \"images\"))))"
   ]
  },
  {
   "cell_type": "code",
   "execution_count": null,
   "metadata": {},
   "outputs": [],
   "source": []
  }
 ],
 "metadata": {
  "kernelspec": {
   "display_name": ".venv",
   "language": "python",
   "name": "python3"
  },
  "language_info": {
   "codemirror_mode": {
    "name": "ipython",
    "version": 3
   },
   "file_extension": ".py",
   "mimetype": "text/x-python",
   "name": "python",
   "nbconvert_exporter": "python",
   "pygments_lexer": "ipython3",
   "version": "3.10.12"
  }
 },
 "nbformat": 4,
 "nbformat_minor": 2
}
