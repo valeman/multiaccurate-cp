{
 "cells": [
  {
   "cell_type": "code",
   "execution_count": null,
   "metadata": {},
   "outputs": [
    {
     "ename": "",
     "evalue": "",
     "output_type": "error",
     "traceback": [
      "\u001b[1;31mFailed to start the Kernel. \n",
      "\u001b[1;31mUnable to start Kernel '.venv (Python 3.10.12)' due to a connection timeout. \n",
      "\u001b[1;31mView Jupyter <a href='command:jupyter.viewOutput'>log</a> for further details."
     ]
    }
   ],
   "source": [
    "import sys\n",
    "sys.path.append(\"/home/vblot/multiaccurate_cp/\")"
   ]
  },
  {
   "cell_type": "code",
   "execution_count": null,
   "metadata": {},
   "outputs": [
    {
     "ename": "",
     "evalue": "",
     "output_type": "error",
     "traceback": [
      "\u001b[1;31mFailed to start the Kernel. \n",
      "\u001b[1;31mUnable to start Kernel '.venv (Python 3.10.12)' due to a connection timeout. \n",
      "\u001b[1;31mView Jupyter <a href='command:jupyter.viewOutput'>log</a> for further details."
     ]
    }
   ],
   "source": [
    "\n",
    "\n",
    "import os\n",
    "import yaml\n",
    "\n",
    "import cv2\n",
    "import numpy as np\n",
    "import matplotlib.pyplot as plt\n",
    "from scipy import integrate\n",
    "from scipy.optimize import minimize\n",
    "from tqdm import tqdm\n",
    "\n",
    "from multiaccurate_cp.utils.multiaccurate_positive import J, J_prime\n",
    "\n",
    "%load_ext autoreload\n",
    "%autoreload 2"
   ]
  },
  {
   "cell_type": "code",
   "execution_count": null,
   "metadata": {},
   "outputs": [
    {
     "ename": "",
     "evalue": "",
     "output_type": "error",
     "traceback": [
      "\u001b[1;31mFailed to start the Kernel. \n",
      "\u001b[1;31mUnable to start Kernel '.venv (Python 3.10.12)' due to a connection timeout. \n",
      "\u001b[1;31mView Jupyter <a href='command:jupyter.viewOutput'>log</a> for further details."
     ]
    }
   ],
   "source": [
    "BASE_DIR = \"/home/vblot/multiaccurate_cp/data/aerial\"\n",
    "MODELS_PATH = \"/home/vblot/multiaccurate_cp/data/aerial/03_model_weights/resnet\"\n",
    "MODEL_NAME = \"20240322_1039\""
   ]
  },
  {
   "cell_type": "code",
   "execution_count": null,
   "metadata": {},
   "outputs": [
    {
     "ename": "",
     "evalue": "",
     "output_type": "error",
     "traceback": [
      "\u001b[1;31mFailed to start the Kernel. \n",
      "\u001b[1;31mUnable to start Kernel '.venv (Python 3.10.12)' due to a connection timeout. \n",
      "\u001b[1;31mView Jupyter <a href='command:jupyter.viewOutput'>log</a> for further details."
     ]
    }
   ],
   "source": [
    "import yaml\n",
    "\n",
    "# Specify the path to the YAML file\n",
    "file_path = os.path.join(MODELS_PATH, MODEL_NAME, \"config.yaml\")\n",
    "\n",
    "# Read the YAML file\n",
    "with open(file_path, \"r\") as file:\n",
    "    config = yaml.safe_load(file)\n"
   ]
  },
  {
   "cell_type": "code",
   "execution_count": null,
   "metadata": {},
   "outputs": [
    {
     "ename": "",
     "evalue": "",
     "output_type": "error",
     "traceback": [
      "\u001b[1;31mFailed to start the Kernel. \n",
      "\u001b[1;31mUnable to start Kernel '.venv (Python 3.10.12)' due to a connection timeout. \n",
      "\u001b[1;31mView Jupyter <a href='command:jupyter.viewOutput'>log</a> for further details."
     ]
    }
   ],
   "source": [
    "config"
   ]
  },
  {
   "cell_type": "code",
   "execution_count": null,
   "metadata": {},
   "outputs": [
    {
     "ename": "",
     "evalue": "",
     "output_type": "error",
     "traceback": [
      "\u001b[1;31mFailed to start the Kernel. \n",
      "\u001b[1;31mUnable to start Kernel '.venv (Python 3.10.12)' due to a connection timeout. \n",
      "\u001b[1;31mView Jupyter <a href='command:jupyter.viewOutput'>log</a> for further details."
     ]
    }
   ],
   "source": [
    "IMG_SIZE = 64\n",
    "EMBEDDING_SIZE = config[\"model\"][\"embedding_size\"]"
   ]
  },
  {
   "cell_type": "code",
   "execution_count": 7,
   "metadata": {},
   "outputs": [],
   "source": [
    "DIR_CAL_PRED_PROBAS = os.path.join(BASE_DIR, \"04_predictions/cal/pred_probas\")\n",
    "DIR_CAL_RES_EMB = os.path.join(BASE_DIR, \"04_predictions/cal/res_embeddings\", MODEL_NAME)\n",
    "DIR_CAL_LABELS = os.path.join(BASE_DIR, \"02_prepared_data/cal/labels\")\n",
    "DIR_TEST_PRED_PROBAS = DIR_CAL_PRED_PROBAS.replace(\"cal\", \"test\")\n",
    "DIR_TEST_RES_EMB = DIR_CAL_RES_EMB.replace(\"cal\", \"test\")\n",
    "DIR_TEST_LABELS = DIR_CAL_LABELS.replace(\"cal\", \"test\")\n"
   ]
  },
  {
   "cell_type": "code",
   "execution_count": 8,
   "metadata": {},
   "outputs": [],
   "source": [
    "def load_data(pred_probas_dir, res_emb_dir, labels_dir):\n",
    "    pred_probas = np.zeros((len(os.listdir(pred_probas_dir)), IMG_SIZE, IMG_SIZE))\n",
    "    res_emb = np.zeros((len(os.listdir(res_emb_dir)), EMBEDDING_SIZE))\n",
    "    labels = np.zeros((len(os.listdir(labels_dir)), IMG_SIZE, IMG_SIZE))\n",
    "\n",
    "    for i, (pred_proba_file, res_emb_file, label_file) in enumerate(tqdm(zip(sorted(os.listdir(pred_probas_dir)),\n",
    "                                                                       sorted(os.listdir(res_emb_dir)),\n",
    "                                                                       sorted(os.listdir(labels_dir))))):\n",
    "        pred_proba = np.load(os.path.join(pred_probas_dir, pred_proba_file))\n",
    "        pred_probas[i] = cv2.resize(pred_proba, (IMG_SIZE, IMG_SIZE))\n",
    "        res_emb[i] = np.load(os.path.join(res_emb_dir, res_emb_file))\n",
    "        label = cv2.imread(os.path.join(labels_dir, label_file), cv2.IMREAD_GRAYSCALE) / 255\n",
    "        labels[i] = cv2.resize(label, (IMG_SIZE, IMG_SIZE)) > .5    \n",
    "    return pred_probas, res_emb, labels\n"
   ]
  },
  {
   "cell_type": "code",
   "execution_count": 9,
   "metadata": {},
   "outputs": [
    {
     "name": "stderr",
     "output_type": "stream",
     "text": [
      "1500it [01:40, 14.94it/s]\n"
     ]
    }
   ],
   "source": [
    "cal_pred_probas, cal_res_emb, cal_labels = load_data(DIR_CAL_PRED_PROBAS, DIR_CAL_RES_EMB, DIR_CAL_LABELS)\n"
   ]
  },
  {
   "cell_type": "code",
   "execution_count": 10,
   "metadata": {},
   "outputs": [
    {
     "name": "stderr",
     "output_type": "stream",
     "text": [
      "2300it [01:22, 28.00it/s]\n"
     ]
    }
   ],
   "source": [
    "test_pred_probas, test_res_emb, test_labels = load_data(DIR_TEST_PRED_PROBAS, DIR_TEST_RES_EMB, DIR_TEST_LABELS)"
   ]
  },
  {
   "cell_type": "code",
   "execution_count": 11,
   "metadata": {},
   "outputs": [
    {
     "data": {
      "text/plain": [
       "(2300, 1024)"
      ]
     },
     "execution_count": 11,
     "metadata": {},
     "output_type": "execute_result"
    }
   ],
   "source": [
    "test_res_emb.shape"
   ]
  },
  {
   "cell_type": "code",
   "execution_count": 12,
   "metadata": {},
   "outputs": [],
   "source": [
    "index_not_empy = np.where(cal_labels.sum(axis=(1, 2)) > 0)[0]\n",
    "cal_labels = cal_labels[index_not_empy]\n",
    "cal_res_emb = cal_res_emb[index_not_empy]\n",
    "cal_pred_probas = cal_pred_probas[index_not_empy]"
   ]
  },
  {
   "cell_type": "code",
   "execution_count": 13,
   "metadata": {},
   "outputs": [
    {
     "data": {
      "text/plain": [
       "((1221, 64, 64), (1221, 1024), (1221, 64, 64))"
      ]
     },
     "execution_count": 13,
     "metadata": {},
     "output_type": "execute_result"
    }
   ],
   "source": [
    "cal_labels.shape, cal_res_emb.shape, cal_pred_probas.shape"
   ]
  },
  {
   "cell_type": "code",
   "execution_count": 14,
   "metadata": {},
   "outputs": [
    {
     "data": {
      "text/plain": [
       "(1.0, 0.9999030828475952)"
      ]
     },
     "execution_count": 14,
     "metadata": {},
     "output_type": "execute_result"
    }
   ],
   "source": [
    "cal_labels.max(), cal_pred_probas.max()"
   ]
  },
  {
   "cell_type": "code",
   "execution_count": 15,
   "metadata": {},
   "outputs": [],
   "source": [
    "ALPHA = .05\n",
    "N = len(cal_labels)\n"
   ]
  },
  {
   "cell_type": "code",
   "execution_count": 17,
   "metadata": {},
   "outputs": [
    {
     "name": "stdout",
     "output_type": "stream",
     "text": [
      "Optimization terminated successfully    (Exit mode 0)\n",
      "            Current function value: 0.0\n",
      "            Iterations: 2\n",
      "            Function evaluations: 14\n",
      "            Gradient evaluations: 2\n"
     ]
    }
   ],
   "source": [
    "result = minimize(\n",
    "    J, np.random.uniform(0, 1, EMBEDDING_SIZE),\n",
    "    method=\"SLSQP\",\n",
    "    args=(cal_labels, cal_pred_probas, cal_res_emb, ALPHA, N), jac=J_prime,\n",
    "    options={\"disp\": True, \"maxiter\": 1000}\n",
    "    \n",
    ")"
   ]
  },
  {
   "cell_type": "code",
   "execution_count": 27,
   "metadata": {},
   "outputs": [
    {
     "data": {
      "text/plain": [
       "1.0360946654884515"
      ]
     },
     "execution_count": 27,
     "metadata": {},
     "output_type": "execute_result"
    }
   ],
   "source": [
    "result.x.max()"
   ]
  },
  {
   "cell_type": "code",
   "execution_count": 19,
   "metadata": {},
   "outputs": [],
   "source": [
    "# ths = np.maximum((test_res_emb @ result.x).reshape(-1, 1, 1), 0.01)\n",
    "ths = (test_res_emb @ result.x).reshape(-1, 1, 1)"
   ]
  },
  {
   "cell_type": "code",
   "execution_count": 30,
   "metadata": {},
   "outputs": [
    {
     "data": {
      "text/plain": [
       "-1.6064168978884923"
      ]
     },
     "execution_count": 30,
     "metadata": {},
     "output_type": "execute_result"
    }
   ],
   "source": [
    "ths.max()"
   ]
  },
  {
   "cell_type": "code",
   "execution_count": 31,
   "metadata": {},
   "outputs": [
    {
     "name": "stderr",
     "output_type": "stream",
     "text": [
      "/tmp/ipykernel_1434558/1774683259.py:2: RuntimeWarning: invalid value encountered in divide\n",
      "  recall_test = (y_pred_test_th * test_labels).sum(axis=1) / test_labels.sum(axis=1)\n"
     ]
    }
   ],
   "source": [
    "y_pred_test_th = (test_pred_probas >= ths).astype(int)\n",
    "recall_test = (y_pred_test_th * test_labels).sum(axis=1) / test_labels.sum(axis=1)"
   ]
  },
  {
   "cell_type": "code",
   "execution_count": 32,
   "metadata": {},
   "outputs": [
    {
     "data": {
      "text/plain": [
       "1"
      ]
     },
     "execution_count": 32,
     "metadata": {},
     "output_type": "execute_result"
    }
   ],
   "source": [
    "y_pred_test_th.min()"
   ]
  },
  {
   "cell_type": "code",
   "execution_count": 22,
   "metadata": {},
   "outputs": [
    {
     "data": {
      "text/plain": [
       "1.0"
      ]
     },
     "execution_count": 22,
     "metadata": {},
     "output_type": "execute_result"
    }
   ],
   "source": [
    "np.nanmean(recall_test)"
   ]
  },
  {
   "cell_type": "code",
   "execution_count": 23,
   "metadata": {},
   "outputs": [
    {
     "name": "stderr",
     "output_type": "stream",
     "text": [
      "/tmp/ipykernel_1434558/1952651966.py:1: RuntimeWarning: invalid value encountered in divide\n",
      "  np.nanmean((y_pred_test_th * test_labels).sum(axis=(1, 2)) / test_labels.sum(axis=(1, 2)))\n"
     ]
    },
    {
     "data": {
      "text/plain": [
       "1.0"
      ]
     },
     "execution_count": 23,
     "metadata": {},
     "output_type": "execute_result"
    }
   ],
   "source": [
    "np.nanmean((y_pred_test_th * test_labels).sum(axis=(1, 2)) / test_labels.sum(axis=(1, 2)))"
   ]
  },
  {
   "cell_type": "code",
   "execution_count": 24,
   "metadata": {},
   "outputs": [
    {
     "data": {
      "text/plain": [
       "(1.0, 0.9508190008190007)"
      ]
     },
     "execution_count": 24,
     "metadata": {},
     "output_type": "execute_result"
    }
   ],
   "source": [
    "np.nanmean(recall_test), 1 - ALPHA + 1/N"
   ]
  },
  {
   "cell_type": "code",
   "execution_count": 25,
   "metadata": {},
   "outputs": [
    {
     "data": {
      "text/plain": [
       "0.14844875169836957"
      ]
     },
     "execution_count": 25,
     "metadata": {},
     "output_type": "execute_result"
    }
   ],
   "source": [
    "precision_test = np.nan_to_num((y_pred_test_th * test_labels).sum(axis=(1, 2)) / y_pred_test_th.sum(axis=(1, 2)), nan=1)\n",
    "np.mean(precision_test)"
   ]
  },
  {
   "cell_type": "code",
   "execution_count": 26,
   "metadata": {},
   "outputs": [
    {
     "data": {
      "text/plain": [
       "(array([ 1.,  1.,  2.,  0.,  0.,  1.,  0.,  0.,  1.,  0.,  1.,  1.,  2.,\n",
       "         2.,  1.,  2.,  1.,  4.,  2.,  1.,  2.,  4.,  4.,  6.,  4.,  6.,\n",
       "         9.,  2.,  4., 10.,  9.,  4., 14., 11., 12., 10., 15., 12., 16.,\n",
       "        16., 12., 19., 15., 16., 19., 19., 14., 12., 18., 16., 25., 30.,\n",
       "        25., 24., 17., 25., 30., 30., 32., 23., 19., 30., 30., 48., 39.,\n",
       "        62., 50., 44., 56., 51., 51., 63., 68., 57., 67., 74., 79., 68.,\n",
       "        87., 87., 80., 65., 69., 50., 56., 33., 32., 31., 28., 25., 19.,\n",
       "        14., 11., 13.,  9.,  9.,  4.,  3.,  3.,  2.]),\n",
       " array([-3.00005223, -2.98611588, -2.97217953, -2.95824317, -2.94430682,\n",
       "        -2.93037047, -2.91643411, -2.90249776, -2.88856141, -2.87462505,\n",
       "        -2.8606887 , -2.84675235, -2.83281599, -2.81887964, -2.80494329,\n",
       "        -2.79100693, -2.77707058, -2.76313423, -2.74919787, -2.73526152,\n",
       "        -2.72132517, -2.70738881, -2.69345246, -2.67951611, -2.66557975,\n",
       "        -2.6516434 , -2.63770705, -2.62377069, -2.60983434, -2.59589799,\n",
       "        -2.58196163, -2.56802528, -2.55408893, -2.54015257, -2.52621622,\n",
       "        -2.51227987, -2.49834351, -2.48440716, -2.47047081, -2.45653445,\n",
       "        -2.4425981 , -2.42866175, -2.41472539, -2.40078904, -2.38685269,\n",
       "        -2.37291633, -2.35897998, -2.34504363, -2.33110727, -2.31717092,\n",
       "        -2.30323457, -2.28929821, -2.27536186, -2.26142551, -2.24748915,\n",
       "        -2.2335528 , -2.21961645, -2.20568009, -2.19174374, -2.17780739,\n",
       "        -2.16387103, -2.14993468, -2.13599833, -2.12206197, -2.10812562,\n",
       "        -2.09418927, -2.08025291, -2.06631656, -2.05238021, -2.03844385,\n",
       "        -2.0245075 , -2.01057115, -1.99663479, -1.98269844, -1.96876209,\n",
       "        -1.95482573, -1.94088938, -1.92695303, -1.91301667, -1.89908032,\n",
       "        -1.88514397, -1.87120761, -1.85727126, -1.8433349 , -1.82939855,\n",
       "        -1.8154622 , -1.80152584, -1.78758949, -1.77365314, -1.75971678,\n",
       "        -1.74578043, -1.73184408, -1.71790772, -1.70397137, -1.69003502,\n",
       "        -1.67609866, -1.66216231, -1.64822596, -1.6342896 , -1.62035325,\n",
       "        -1.6064169 ]),\n",
       " <BarContainer object of 100 artists>)"
      ]
     },
     "execution_count": 26,
     "metadata": {},
     "output_type": "execute_result"
    },
    {
     "data": {
      "image/png": "[encoded data removed]",
      "text/plain": [
       "<Figure size 640x480 with 1 Axes>"
      ]
     },
     "metadata": {},
     "output_type": "display_data"
    }
   ],
   "source": [
    "plt.hist(ths[:, 0, 0], bins=100)"
   ]
  },
  {
   "cell_type": "code",
   "execution_count": 33,
   "metadata": {},
   "outputs": [
    {
     "data": {
      "text/plain": [
       "(array([962., 585., 435., 181., 100.,  30.,   3.,   3.,   0.,   1.]),\n",
       " array([0.        , 0.09946289, 0.19892578, 0.29838867, 0.39785156,\n",
       "        0.49731445, 0.59677734, 0.69624023, 0.79570312, 0.89516602,\n",
       "        0.99462891]),\n",
       " <BarContainer object of 10 artists>)"
      ]
     },
     "execution_count": 33,
     "metadata": {},
     "output_type": "execute_result"
    },
    {
     "data": {
      "image/png": "[encoded data removed]",
      "text/plain": [
       "<Figure size 640x480 with 1 Axes>"
      ]
     },
     "metadata": {},
     "output_type": "display_data"
    }
   ],
   "source": [
    "plt.hist(precision_test)"
   ]
  },
  {
   "cell_type": "code",
   "execution_count": 26,
   "metadata": {},
   "outputs": [
    {
     "data": {
      "text/plain": [
       "0.6040416710626572"
      ]
     },
     "execution_count": 26,
     "metadata": {},
     "output_type": "execute_result"
    }
   ],
   "source": [
    "np.mean(precision_test)"
   ]
  },
  {
   "cell_type": "code",
   "execution_count": 27,
   "metadata": {},
   "outputs": [
    {
     "data": {
      "text/plain": [
       "0.6907431478484878"
      ]
     },
     "execution_count": 27,
     "metadata": {},
     "output_type": "execute_result"
    }
   ],
   "source": [
    "np.median(precision_test)"
   ]
  },
  {
   "cell_type": "code",
   "execution_count": 28,
   "metadata": {},
   "outputs": [],
   "source": [
    "if not os.path.exists(os.path.join(BASE_DIR, \"05_multiaccurate_results\", MODEL_NAME)):\n",
    "    os.makedirs(os.path.join(BASE_DIR, \"05_multiaccurate_results\", MODEL_NAME))\n",
    "\n",
    "np.save(os.path.join(BASE_DIR, \"05_multiaccurate_results\", MODEL_NAME, \"theta.npy\"), result.x)"
   ]
  },
  {
   "cell_type": "code",
   "execution_count": 29,
   "metadata": {},
   "outputs": [
    {
     "data": {
      "text/plain": [
       "(1024,)"
      ]
     },
     "execution_count": 29,
     "metadata": {},
     "output_type": "execute_result"
    }
   ],
   "source": [
    "result.x.shape"
   ]
  },
  {
   "cell_type": "code",
   "execution_count": 30,
   "metadata": {},
   "outputs": [
    {
     "name": "stderr",
     "output_type": "stream",
     "text": [
      "  0%|          | 0/100 [00:00<?, ?it/s]/tmp/ipykernel_2911000/4188066551.py:5: RuntimeWarning: invalid value encountered in divide\n",
      "  recall = (pred_th * test_labels).sum(axis=(1, 2)) / test_labels.sum(axis=(1, 2))\n",
      "/tmp/ipykernel_2911000/4188066551.py:6: RuntimeWarning: invalid value encountered in divide\n",
      "  precision = np.nan_to_num((pred_th * test_labels).sum(axis=(1, 2)) / pred_th.sum(axis=(1, 2)), nan=1)\n",
      "100%|██████████| 100/100 [00:03<00:00, 27.49it/s]\n"
     ]
    }
   ],
   "source": [
    "recalls = []\n",
    "precisions = []\n",
    "for th in tqdm(np.linspace(0, 1, 100)):\n",
    "    pred_th = test_pred_probas >= th\n",
    "    recall = (pred_th * test_labels).sum(axis=(1, 2)) / test_labels.sum(axis=(1, 2))\n",
    "    precision = np.nan_to_num((pred_th * test_labels).sum(axis=(1, 2)) / pred_th.sum(axis=(1, 2)), nan=1)\n",
    "    recalls.append(np.nanmean(recall))\n",
    "    precisions.append(np.nanmean(precision))\n",
    "    \n"
   ]
  },
  {
   "cell_type": "code",
   "execution_count": 31,
   "metadata": {},
   "outputs": [
    {
     "data": {
      "text/plain": [
       "<matplotlib.collections.PathCollection at 0x7f5460376920>"
      ]
     },
     "execution_count": 31,
     "metadata": {},
     "output_type": "execute_result"
    },
    {
     "data": {
      "image/png": "[encoded data removed]",
      "text/plain": [
       "<Figure size 640x480 with 1 Axes>"
      ]
     },
     "metadata": {},
     "output_type": "display_data"
    }
   ],
   "source": [
    "plt.plot(precisions, recalls)\n",
    "plt.scatter(np.nanmean(precision_test), np.nanmean(recall_test))"
   ]
  },
  {
   "cell_type": "code",
   "execution_count": null,
   "metadata": {},
   "outputs": [],
   "source": []
  }
 ],
 "metadata": {
  "kernelspec": {
   "display_name": "Python 3",
   "language": "python",
   "name": "python3"
  },
  "language_info": {
   "codemirror_mode": {
    "name": "ipython",
    "version": 3
   },
   "file_extension": ".py",
   "mimetype": "text/x-python",
   "name": "python",
   "nbconvert_exporter": "python",
   "pygments_lexer": "ipython3",
   "version": "3.10.12"
  }
 },
 "nbformat": 4,
 "nbformat_minor": 2
}
