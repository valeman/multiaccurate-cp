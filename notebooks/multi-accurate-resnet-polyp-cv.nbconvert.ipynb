{
 "cells": [
  {
   "cell_type": "code",
   "execution_count": 1,
   "metadata": {
    "execution": {
     "iopub.execute_input": "2024-04-09T08:02:22.617712Z",
     "iopub.status.busy": "2024-04-09T08:02:22.617477Z",
     "iopub.status.idle": "2024-04-09T08:02:22.624443Z",
     "shell.execute_reply": "2024-04-09T08:02:22.623823Z"
    }
   },
   "outputs": [],
   "source": [
    "import sys\n",
    "sys.path.append(\"/home/vblot/multiaccurate_cp/\")"
   ]
  },
  {
   "cell_type": "code",
   "execution_count": 2,
   "metadata": {
    "execution": {
     "iopub.execute_input": "2024-04-09T08:02:22.627126Z",
     "iopub.status.busy": "2024-04-09T08:02:22.626778Z",
     "iopub.status.idle": "2024-04-09T08:02:23.186872Z",
     "shell.execute_reply": "2024-04-09T08:02:23.186403Z"
    }
   },
   "outputs": [],
   "source": [
    "import os\n",
    "import yaml\n",
    "\n",
    "import cv2\n",
    "import numpy as np\n",
    "import matplotlib.pyplot as plt\n",
    "from scipy import integrate\n",
    "from scipy.optimize import minimize\n",
    "from sklearn.model_selection import KFold\n",
    "from tqdm import tqdm\n",
    "\n",
    "from multiaccurate_cp.utils.multiaccurate import J, J_prime\n",
    "\n",
    "%load_ext autoreload\n",
    "%autoreload 2\n"
   ]
  },
  {
   "cell_type": "code",
   "execution_count": 3,
   "metadata": {
    "execution": {
     "iopub.execute_input": "2024-04-09T08:02:23.189246Z",
     "iopub.status.busy": "2024-04-09T08:02:23.188933Z",
     "iopub.status.idle": "2024-04-09T08:02:23.197408Z",
     "shell.execute_reply": "2024-04-09T08:02:23.197004Z"
    }
   },
   "outputs": [],
   "source": [
    "DATASET = \"polyp\"\n",
    "BASE_DIR = f\"/home/vblot/multiaccurate_cp/data/{DATASET}\"\n",
    "MODELS_PATH = f\"/home/vblot/multiaccurate_cp/data/{DATASET}/03_model_weights/resnet\"\n",
    "MODEL_NAME = \"20240325_1446\""
   ]
  },
  {
   "cell_type": "code",
   "execution_count": 4,
   "metadata": {
    "execution": {
     "iopub.execute_input": "2024-04-09T08:02:23.199035Z",
     "iopub.status.busy": "2024-04-09T08:02:23.198891Z",
     "iopub.status.idle": "2024-04-09T08:02:23.220500Z",
     "shell.execute_reply": "2024-04-09T08:02:23.220126Z"
    }
   },
   "outputs": [],
   "source": [
    "# Specify the path to the YAML file\n",
    "file_path = os.path.join(MODELS_PATH, MODEL_NAME, \"config.yaml\")\n",
    "\n",
    "# Read the YAML file\n",
    "with open(file_path, \"r\") as file:\n",
    "    config = yaml.safe_load(file)\n"
   ]
  },
  {
   "cell_type": "code",
   "execution_count": 5,
   "metadata": {
    "execution": {
     "iopub.execute_input": "2024-04-09T08:02:23.222194Z",
     "iopub.status.busy": "2024-04-09T08:02:23.222001Z",
     "iopub.status.idle": "2024-04-09T08:02:23.231730Z",
     "shell.execute_reply": "2024-04-09T08:02:23.231236Z"
    }
   },
   "outputs": [
    {
     "data": {
      "text/plain": [
       "{'mean_RGB_values_path': None,\n",
       " 'ml_data_dir': 'data/polyp/02_prepared_data',\n",
       " 'model': {'batch_size': 40,\n",
       "  'embedding_size': 1024,\n",
       "  'epochs': 100,\n",
       "  'lr': 0.0001,\n",
       "  'model_input': 'image_and_probas',\n",
       "  'num_workers': 8,\n",
       "  'patience': 20,\n",
       "  'resnet': 'resnet50',\n",
       "  'target_recall': 0.9},\n",
       " 'output_dir': 'data/polyp/03_model_weights/resnet',\n",
       " 'polyp': True,\n",
       " 'probas_dir': 'data/polyp/04_predictions'}"
      ]
     },
     "execution_count": 5,
     "metadata": {},
     "output_type": "execute_result"
    }
   ],
   "source": [
    "config"
   ]
  },
  {
   "cell_type": "code",
   "execution_count": 6,
   "metadata": {
    "execution": {
     "iopub.execute_input": "2024-04-09T08:02:23.259642Z",
     "iopub.status.busy": "2024-04-09T08:02:23.259338Z",
     "iopub.status.idle": "2024-04-09T08:02:23.271225Z",
     "shell.execute_reply": "2024-04-09T08:02:23.270584Z"
    }
   },
   "outputs": [],
   "source": [
    "IMG_SIZE = 64\n",
    "EMBEDDING_SIZE = config[\"model\"][\"embedding_size\"]"
   ]
  },
  {
   "cell_type": "code",
   "execution_count": 7,
   "metadata": {
    "execution": {
     "iopub.execute_input": "2024-04-09T08:02:23.274270Z",
     "iopub.status.busy": "2024-04-09T08:02:23.273762Z",
     "iopub.status.idle": "2024-04-09T08:02:23.289271Z",
     "shell.execute_reply": "2024-04-09T08:02:23.288729Z"
    }
   },
   "outputs": [],
   "source": [
    "DIR_CAL_PRED_PROBAS = os.path.join(BASE_DIR, \"04_predictions/cal/pred_probas\")\n",
    "DIR_CAL_RES_EMB = os.path.join(BASE_DIR, \"04_predictions/cal/res_embeddings\", MODEL_NAME)\n",
    "DIR_CAL_LABELS = os.path.join(BASE_DIR, \"02_prepared_data/cal/labels\")\n",
    "DIR_TEST_PRED_PROBAS = DIR_CAL_PRED_PROBAS.replace(\"cal\", \"test\")\n",
    "DIR_TEST_RES_EMB = DIR_CAL_RES_EMB.replace(\"cal\", \"test\")\n",
    "DIR_TEST_LABELS = DIR_CAL_LABELS.replace(\"cal\", \"test\")\n"
   ]
  },
  {
   "cell_type": "code",
   "execution_count": 8,
   "metadata": {
    "execution": {
     "iopub.execute_input": "2024-04-09T08:02:23.292409Z",
     "iopub.status.busy": "2024-04-09T08:02:23.291881Z",
     "iopub.status.idle": "2024-04-09T08:02:23.309847Z",
     "shell.execute_reply": "2024-04-09T08:02:23.309177Z"
    }
   },
   "outputs": [],
   "source": [
    "def load_data(pred_probas_dir, res_emb_dir, labels_dir):\n",
    "    pred_probas = np.zeros((len(os.listdir(pred_probas_dir)), IMG_SIZE, IMG_SIZE))\n",
    "    res_emb = np.zeros((len(os.listdir(res_emb_dir)), EMBEDDING_SIZE))\n",
    "    labels = np.zeros((len(os.listdir(labels_dir)), IMG_SIZE, IMG_SIZE))\n",
    "\n",
    "    for i, (pred_proba_file, res_emb_file, label_file) in enumerate(tqdm(zip(sorted(os.listdir(pred_probas_dir)),\n",
    "                                                                       sorted(os.listdir(res_emb_dir)),\n",
    "                                                                       sorted(os.listdir(labels_dir))))):\n",
    "        pred_proba = np.load(os.path.join(pred_probas_dir, pred_proba_file))\n",
    "        pred_probas[i] = cv2.resize(pred_proba, (IMG_SIZE, IMG_SIZE))\n",
    "        res_emb[i] = np.load(os.path.join(res_emb_dir, res_emb_file))\n",
    "        label = cv2.imread(os.path.join(labels_dir, label_file), cv2.IMREAD_GRAYSCALE) / 255\n",
    "        labels[i] = cv2.resize(label, (IMG_SIZE, IMG_SIZE)) > .5    \n",
    "    return pred_probas, res_emb, labels\n"
   ]
  },
  {
   "cell_type": "code",
   "execution_count": 9,
   "metadata": {
    "execution": {
     "iopub.execute_input": "2024-04-09T08:02:23.312860Z",
     "iopub.status.busy": "2024-04-09T08:02:23.312379Z",
     "iopub.status.idle": "2024-04-09T08:02:30.689115Z",
     "shell.execute_reply": "2024-04-09T08:02:30.686893Z"
    }
   },
   "outputs": [
    {
     "name": "stderr",
     "output_type": "stream",
     "text": [
      "\r",
      "0it [00:00, ?it/s]"
     ]
    },
    {
     "name": "stderr",
     "output_type": "stream",
     "text": [
      "\r",
      "4it [00:00, 31.23it/s]"
     ]
    },
    {
     "name": "stderr",
     "output_type": "stream",
     "text": [
      "\r",
      "11it [00:00, 49.29it/s]"
     ]
    },
    {
     "name": "stderr",
     "output_type": "stream",
     "text": [
      "\r",
      "18it [00:00, 52.26it/s]"
     ]
    },
    {
     "name": "stderr",
     "output_type": "stream",
     "text": [
      "\r",
      "27it [00:00, 64.16it/s]"
     ]
    },
    {
     "name": "stderr",
     "output_type": "stream",
     "text": [
      "\r",
      "34it [00:00, 65.68it/s]"
     ]
    },
    {
     "name": "stderr",
     "output_type": "stream",
     "text": [
      "\r",
      "41it [00:00, 59.17it/s]"
     ]
    },
    {
     "name": "stderr",
     "output_type": "stream",
     "text": [
      "\r",
      "48it [00:00, 58.34it/s]"
     ]
    },
    {
     "name": "stderr",
     "output_type": "stream",
     "text": [
      "\r",
      "55it [00:00, 61.16it/s]"
     ]
    },
    {
     "name": "stderr",
     "output_type": "stream",
     "text": [
      "\r",
      "62it [00:01, 59.81it/s]"
     ]
    },
    {
     "name": "stderr",
     "output_type": "stream",
     "text": [
      "\r",
      "69it [00:01, 62.14it/s]"
     ]
    },
    {
     "name": "stderr",
     "output_type": "stream",
     "text": [
      "\r",
      "76it [00:01, 64.00it/s]"
     ]
    },
    {
     "name": "stderr",
     "output_type": "stream",
     "text": [
      "\r",
      "83it [00:01, 65.36it/s]"
     ]
    },
    {
     "name": "stderr",
     "output_type": "stream",
     "text": [
      "\r",
      "90it [00:01, 66.48it/s]"
     ]
    },
    {
     "name": "stderr",
     "output_type": "stream",
     "text": [
      "\r",
      "97it [00:01, 64.76it/s]"
     ]
    },
    {
     "name": "stderr",
     "output_type": "stream",
     "text": [
      "\r",
      "104it [00:01, 54.11it/s]"
     ]
    },
    {
     "name": "stderr",
     "output_type": "stream",
     "text": [
      "\r",
      "111it [00:01, 57.87it/s]"
     ]
    },
    {
     "name": "stderr",
     "output_type": "stream",
     "text": [
      "\r",
      "118it [00:01, 60.77it/s]"
     ]
    },
    {
     "name": "stderr",
     "output_type": "stream",
     "text": [
      "\r",
      "125it [00:02, 48.90it/s]"
     ]
    },
    {
     "name": "stderr",
     "output_type": "stream",
     "text": [
      "\r",
      "131it [00:02, 51.18it/s]"
     ]
    },
    {
     "name": "stderr",
     "output_type": "stream",
     "text": [
      "\r",
      "138it [00:02, 55.61it/s]"
     ]
    },
    {
     "name": "stderr",
     "output_type": "stream",
     "text": [
      "\r",
      "145it [00:02, 59.05it/s]"
     ]
    },
    {
     "name": "stderr",
     "output_type": "stream",
     "text": [
      "\r",
      "152it [00:02, 61.71it/s]"
     ]
    },
    {
     "name": "stderr",
     "output_type": "stream",
     "text": [
      "\r",
      "159it [00:02, 47.59it/s]"
     ]
    },
    {
     "name": "stderr",
     "output_type": "stream",
     "text": [
      "\r",
      "165it [00:03, 24.68it/s]"
     ]
    },
    {
     "name": "stderr",
     "output_type": "stream",
     "text": [
      "\r",
      "170it [00:03, 21.63it/s]"
     ]
    },
    {
     "name": "stderr",
     "output_type": "stream",
     "text": [
      "\r",
      "174it [00:04, 18.66it/s]"
     ]
    },
    {
     "name": "stderr",
     "output_type": "stream",
     "text": [
      "\r",
      "177it [00:04, 19.06it/s]"
     ]
    },
    {
     "name": "stderr",
     "output_type": "stream",
     "text": [
      "\r",
      "180it [00:04, 17.61it/s]"
     ]
    },
    {
     "name": "stderr",
     "output_type": "stream",
     "text": [
      "\r",
      "183it [00:04, 18.29it/s]"
     ]
    },
    {
     "name": "stderr",
     "output_type": "stream",
     "text": [
      "\r",
      "186it [00:04, 18.94it/s]"
     ]
    },
    {
     "name": "stderr",
     "output_type": "stream",
     "text": [
      "\r",
      "189it [00:04, 19.50it/s]"
     ]
    },
    {
     "name": "stderr",
     "output_type": "stream",
     "text": [
      "\r",
      "192it [00:04, 19.94it/s]"
     ]
    },
    {
     "name": "stderr",
     "output_type": "stream",
     "text": [
      "\r",
      "195it [00:05, 14.72it/s]"
     ]
    },
    {
     "name": "stderr",
     "output_type": "stream",
     "text": [
      "\r",
      "197it [00:05, 14.97it/s]"
     ]
    },
    {
     "name": "stderr",
     "output_type": "stream",
     "text": [
      "\r",
      "200it [00:05, 16.46it/s]"
     ]
    },
    {
     "name": "stderr",
     "output_type": "stream",
     "text": [
      "\r",
      "203it [00:05, 15.06it/s]"
     ]
    },
    {
     "name": "stderr",
     "output_type": "stream",
     "text": [
      "\r",
      "205it [00:05, 15.66it/s]"
     ]
    },
    {
     "name": "stderr",
     "output_type": "stream",
     "text": [
      "\r",
      "208it [00:06, 17.15it/s]"
     ]
    },
    {
     "name": "stderr",
     "output_type": "stream",
     "text": [
      "\r",
      "211it [00:06, 18.23it/s]"
     ]
    },
    {
     "name": "stderr",
     "output_type": "stream",
     "text": [
      "\r",
      "213it [00:06, 16.81it/s]"
     ]
    },
    {
     "name": "stderr",
     "output_type": "stream",
     "text": [
      "\r",
      "215it [00:06, 17.02it/s]"
     ]
    },
    {
     "name": "stderr",
     "output_type": "stream",
     "text": [
      "\r",
      "217it [00:06, 17.24it/s]"
     ]
    },
    {
     "name": "stderr",
     "output_type": "stream",
     "text": [
      "\r",
      "219it [00:06, 17.68it/s]"
     ]
    },
    {
     "name": "stderr",
     "output_type": "stream",
     "text": [
      "\r",
      "222it [00:06, 19.01it/s]"
     ]
    },
    {
     "name": "stderr",
     "output_type": "stream",
     "text": [
      "\r",
      "226it [00:06, 22.66it/s]"
     ]
    },
    {
     "name": "stderr",
     "output_type": "stream",
     "text": [
      "\r",
      "233it [00:07, 33.40it/s]"
     ]
    },
    {
     "name": "stderr",
     "output_type": "stream",
     "text": [
      "\r",
      "240it [00:07, 42.50it/s]"
     ]
    },
    {
     "name": "stderr",
     "output_type": "stream",
     "text": [
      "\r",
      "246it [00:07, 45.63it/s]"
     ]
    },
    {
     "name": "stderr",
     "output_type": "stream",
     "text": [
      "\r",
      "252it [00:07, 49.37it/s]"
     ]
    },
    {
     "name": "stderr",
     "output_type": "stream",
     "text": [
      "\r",
      "252it [00:07, 34.28it/s]"
     ]
    },
    {
     "name": "stderr",
     "output_type": "stream",
     "text": [
      "\n"
     ]
    }
   ],
   "source": [
    "c_pp, c_re, c_l = load_data(DIR_CAL_PRED_PROBAS, DIR_CAL_RES_EMB, DIR_CAL_LABELS)\n"
   ]
  },
  {
   "cell_type": "code",
   "execution_count": 10,
   "metadata": {
    "execution": {
     "iopub.execute_input": "2024-04-09T08:02:30.699880Z",
     "iopub.status.busy": "2024-04-09T08:02:30.698530Z",
     "iopub.status.idle": "2024-04-09T08:02:47.627784Z",
     "shell.execute_reply": "2024-04-09T08:02:47.627059Z"
    }
   },
   "outputs": [
    {
     "name": "stderr",
     "output_type": "stream",
     "text": [
      "\r",
      "0it [00:00, ?it/s]"
     ]
    },
    {
     "name": "stderr",
     "output_type": "stream",
     "text": [
      "\r",
      "6it [00:00, 57.77it/s]"
     ]
    },
    {
     "name": "stderr",
     "output_type": "stream",
     "text": [
      "\r",
      "14it [00:00, 65.39it/s]"
     ]
    },
    {
     "name": "stderr",
     "output_type": "stream",
     "text": [
      "\r",
      "21it [00:00, 66.23it/s]"
     ]
    },
    {
     "name": "stderr",
     "output_type": "stream",
     "text": [
      "\r",
      "28it [00:00, 66.60it/s]"
     ]
    },
    {
     "name": "stderr",
     "output_type": "stream",
     "text": [
      "\r",
      "36it [00:00, 68.34it/s]"
     ]
    },
    {
     "name": "stderr",
     "output_type": "stream",
     "text": [
      "\r",
      "43it [00:00, 44.03it/s]"
     ]
    },
    {
     "name": "stderr",
     "output_type": "stream",
     "text": [
      "\r",
      "49it [00:00, 46.25it/s]"
     ]
    },
    {
     "name": "stderr",
     "output_type": "stream",
     "text": [
      "\r",
      "56it [00:01, 51.86it/s]"
     ]
    },
    {
     "name": "stderr",
     "output_type": "stream",
     "text": [
      "\r",
      "62it [00:01, 46.77it/s]"
     ]
    },
    {
     "name": "stderr",
     "output_type": "stream",
     "text": [
      "\r",
      "72it [00:01, 59.26it/s]"
     ]
    },
    {
     "name": "stderr",
     "output_type": "stream",
     "text": [
      "\r",
      "90it [00:01, 87.98it/s]"
     ]
    },
    {
     "name": "stderr",
     "output_type": "stream",
     "text": [
      "\r",
      "100it [00:01, 77.24it/s]"
     ]
    },
    {
     "name": "stderr",
     "output_type": "stream",
     "text": [
      "\r",
      "109it [00:01, 71.94it/s]"
     ]
    },
    {
     "name": "stderr",
     "output_type": "stream",
     "text": [
      "\r",
      "117it [00:01, 71.07it/s]"
     ]
    },
    {
     "name": "stderr",
     "output_type": "stream",
     "text": [
      "\r",
      "125it [00:02, 40.06it/s]"
     ]
    },
    {
     "name": "stderr",
     "output_type": "stream",
     "text": [
      "\r",
      "131it [00:02, 38.91it/s]"
     ]
    },
    {
     "name": "stderr",
     "output_type": "stream",
     "text": [
      "\r",
      "139it [00:02, 44.97it/s]"
     ]
    },
    {
     "name": "stderr",
     "output_type": "stream",
     "text": [
      "\r",
      "146it [00:02, 49.12it/s]"
     ]
    },
    {
     "name": "stderr",
     "output_type": "stream",
     "text": [
      "\r",
      "153it [00:02, 44.60it/s]"
     ]
    },
    {
     "name": "stderr",
     "output_type": "stream",
     "text": [
      "\r",
      "160it [00:02, 49.31it/s]"
     ]
    },
    {
     "name": "stderr",
     "output_type": "stream",
     "text": [
      "\r",
      "168it [00:03, 54.54it/s]"
     ]
    },
    {
     "name": "stderr",
     "output_type": "stream",
     "text": [
      "\r",
      "175it [00:03, 56.36it/s]"
     ]
    },
    {
     "name": "stderr",
     "output_type": "stream",
     "text": [
      "\r",
      "182it [00:03, 59.45it/s]"
     ]
    },
    {
     "name": "stderr",
     "output_type": "stream",
     "text": [
      "\r",
      "190it [00:03, 62.26it/s]"
     ]
    },
    {
     "name": "stderr",
     "output_type": "stream",
     "text": [
      "\r",
      "197it [00:03, 63.85it/s]"
     ]
    },
    {
     "name": "stderr",
     "output_type": "stream",
     "text": [
      "\r",
      "205it [00:03, 65.82it/s]"
     ]
    },
    {
     "name": "stderr",
     "output_type": "stream",
     "text": [
      "\r",
      "212it [00:03, 65.47it/s]"
     ]
    },
    {
     "name": "stderr",
     "output_type": "stream",
     "text": [
      "\r",
      "219it [00:03, 59.71it/s]"
     ]
    },
    {
     "name": "stderr",
     "output_type": "stream",
     "text": [
      "\r",
      "226it [00:03, 58.76it/s]"
     ]
    },
    {
     "name": "stderr",
     "output_type": "stream",
     "text": [
      "\r",
      "232it [00:04, 58.05it/s]"
     ]
    },
    {
     "name": "stderr",
     "output_type": "stream",
     "text": [
      "\r",
      "240it [00:04, 62.05it/s]"
     ]
    },
    {
     "name": "stderr",
     "output_type": "stream",
     "text": [
      "\r",
      "247it [00:04, 59.21it/s]"
     ]
    },
    {
     "name": "stderr",
     "output_type": "stream",
     "text": [
      "\r",
      "254it [00:04, 61.96it/s]"
     ]
    },
    {
     "name": "stderr",
     "output_type": "stream",
     "text": [
      "\r",
      "262it [00:04, 64.10it/s]"
     ]
    },
    {
     "name": "stderr",
     "output_type": "stream",
     "text": [
      "\r",
      "269it [00:04, 64.48it/s]"
     ]
    },
    {
     "name": "stderr",
     "output_type": "stream",
     "text": [
      "\r",
      "277it [00:04, 66.29it/s]"
     ]
    },
    {
     "name": "stderr",
     "output_type": "stream",
     "text": [
      "\r",
      "284it [00:04, 66.98it/s]"
     ]
    },
    {
     "name": "stderr",
     "output_type": "stream",
     "text": [
      "\r",
      "291it [00:04, 67.41it/s]"
     ]
    },
    {
     "name": "stderr",
     "output_type": "stream",
     "text": [
      "\r",
      "298it [00:05, 66.83it/s]"
     ]
    },
    {
     "name": "stderr",
     "output_type": "stream",
     "text": [
      "\r",
      "305it [00:05, 67.65it/s]"
     ]
    },
    {
     "name": "stderr",
     "output_type": "stream",
     "text": [
      "\r",
      "312it [00:05, 67.94it/s]"
     ]
    },
    {
     "name": "stderr",
     "output_type": "stream",
     "text": [
      "\r",
      "320it [00:05, 69.30it/s]"
     ]
    },
    {
     "name": "stderr",
     "output_type": "stream",
     "text": [
      "\r",
      "327it [00:05, 68.49it/s]"
     ]
    },
    {
     "name": "stderr",
     "output_type": "stream",
     "text": [
      "\r",
      "335it [00:05, 68.90it/s]"
     ]
    },
    {
     "name": "stderr",
     "output_type": "stream",
     "text": [
      "\r",
      "342it [00:05, 62.57it/s]"
     ]
    },
    {
     "name": "stderr",
     "output_type": "stream",
     "text": [
      "\r",
      "349it [00:06, 38.73it/s]"
     ]
    },
    {
     "name": "stderr",
     "output_type": "stream",
     "text": [
      "\r",
      "355it [00:06, 23.58it/s]"
     ]
    },
    {
     "name": "stderr",
     "output_type": "stream",
     "text": [
      "\r",
      "359it [00:06, 23.41it/s]"
     ]
    },
    {
     "name": "stderr",
     "output_type": "stream",
     "text": [
      "\r",
      "363it [00:07, 19.92it/s]"
     ]
    },
    {
     "name": "stderr",
     "output_type": "stream",
     "text": [
      "\r",
      "366it [00:07, 19.55it/s]"
     ]
    },
    {
     "name": "stderr",
     "output_type": "stream",
     "text": [
      "\r",
      "369it [00:07, 12.67it/s]"
     ]
    },
    {
     "name": "stderr",
     "output_type": "stream",
     "text": [
      "\r",
      "371it [00:08, 11.30it/s]"
     ]
    },
    {
     "name": "stderr",
     "output_type": "stream",
     "text": [
      "\r",
      "374it [00:08, 12.96it/s]"
     ]
    },
    {
     "name": "stderr",
     "output_type": "stream",
     "text": [
      "\r",
      "376it [00:08, 11.19it/s]"
     ]
    },
    {
     "name": "stderr",
     "output_type": "stream",
     "text": [
      "\r",
      "378it [00:08, 12.18it/s]"
     ]
    },
    {
     "name": "stderr",
     "output_type": "stream",
     "text": [
      "\r",
      "381it [00:08, 14.14it/s]"
     ]
    },
    {
     "name": "stderr",
     "output_type": "stream",
     "text": [
      "\r",
      "383it [00:08, 14.51it/s]"
     ]
    },
    {
     "name": "stderr",
     "output_type": "stream",
     "text": [
      "\r",
      "385it [00:09, 12.31it/s]"
     ]
    },
    {
     "name": "stderr",
     "output_type": "stream",
     "text": [
      "\r",
      "387it [00:09, 13.44it/s]"
     ]
    },
    {
     "name": "stderr",
     "output_type": "stream",
     "text": [
      "\r",
      "390it [00:09, 15.58it/s]"
     ]
    },
    {
     "name": "stderr",
     "output_type": "stream",
     "text": [
      "\r",
      "392it [00:09, 16.32it/s]"
     ]
    },
    {
     "name": "stderr",
     "output_type": "stream",
     "text": [
      "\r",
      "394it [00:09, 16.81it/s]"
     ]
    },
    {
     "name": "stderr",
     "output_type": "stream",
     "text": [
      "\r",
      "396it [00:09, 17.05it/s]"
     ]
    },
    {
     "name": "stderr",
     "output_type": "stream",
     "text": [
      "\r",
      "398it [00:09, 17.20it/s]"
     ]
    },
    {
     "name": "stderr",
     "output_type": "stream",
     "text": [
      "\r",
      "401it [00:09, 18.46it/s]"
     ]
    },
    {
     "name": "stderr",
     "output_type": "stream",
     "text": [
      "\r",
      "404it [00:10, 19.33it/s]"
     ]
    },
    {
     "name": "stderr",
     "output_type": "stream",
     "text": [
      "\r",
      "406it [00:10, 18.37it/s]"
     ]
    },
    {
     "name": "stderr",
     "output_type": "stream",
     "text": [
      "\r",
      "408it [00:10, 18.38it/s]"
     ]
    },
    {
     "name": "stderr",
     "output_type": "stream",
     "text": [
      "\r",
      "411it [00:10, 18.71it/s]"
     ]
    },
    {
     "name": "stderr",
     "output_type": "stream",
     "text": [
      "\r",
      "413it [00:10, 18.92it/s]"
     ]
    },
    {
     "name": "stderr",
     "output_type": "stream",
     "text": [
      "\r",
      "415it [00:10, 18.86it/s]"
     ]
    },
    {
     "name": "stderr",
     "output_type": "stream",
     "text": [
      "\r",
      "417it [00:10, 18.30it/s]"
     ]
    },
    {
     "name": "stderr",
     "output_type": "stream",
     "text": [
      "\r",
      "419it [00:10, 17.79it/s]"
     ]
    },
    {
     "name": "stderr",
     "output_type": "stream",
     "text": [
      "\r",
      "422it [00:11, 18.91it/s]"
     ]
    },
    {
     "name": "stderr",
     "output_type": "stream",
     "text": [
      "\r",
      "424it [00:11, 19.02it/s]"
     ]
    },
    {
     "name": "stderr",
     "output_type": "stream",
     "text": [
      "\r",
      "426it [00:11, 18.52it/s]"
     ]
    },
    {
     "name": "stderr",
     "output_type": "stream",
     "text": [
      "\r",
      "428it [00:12,  4.93it/s]"
     ]
    },
    {
     "name": "stderr",
     "output_type": "stream",
     "text": [
      "\r",
      "430it [00:12,  5.15it/s]"
     ]
    },
    {
     "name": "stderr",
     "output_type": "stream",
     "text": [
      "\r",
      "433it [00:12,  7.18it/s]"
     ]
    },
    {
     "name": "stderr",
     "output_type": "stream",
     "text": [
      "\r",
      "435it [00:13,  8.02it/s]"
     ]
    },
    {
     "name": "stderr",
     "output_type": "stream",
     "text": [
      "\r",
      "437it [00:13,  8.41it/s]"
     ]
    },
    {
     "name": "stderr",
     "output_type": "stream",
     "text": [
      "\r",
      "440it [00:13, 11.01it/s]"
     ]
    },
    {
     "name": "stderr",
     "output_type": "stream",
     "text": [
      "\r",
      "443it [00:13, 13.30it/s]"
     ]
    },
    {
     "name": "stderr",
     "output_type": "stream",
     "text": [
      "\r",
      "445it [00:13, 14.26it/s]"
     ]
    },
    {
     "name": "stderr",
     "output_type": "stream",
     "text": [
      "\r",
      "447it [00:14, 10.84it/s]"
     ]
    },
    {
     "name": "stderr",
     "output_type": "stream",
     "text": [
      "\r",
      "450it [00:14, 13.30it/s]"
     ]
    },
    {
     "name": "stderr",
     "output_type": "stream",
     "text": [
      "\r",
      "453it [00:14, 15.24it/s]"
     ]
    },
    {
     "name": "stderr",
     "output_type": "stream",
     "text": [
      "\r",
      "455it [00:14, 13.15it/s]"
     ]
    },
    {
     "name": "stderr",
     "output_type": "stream",
     "text": [
      "\r",
      "457it [00:14, 13.93it/s]"
     ]
    },
    {
     "name": "stderr",
     "output_type": "stream",
     "text": [
      "\r",
      "459it [00:14, 14.84it/s]"
     ]
    },
    {
     "name": "stderr",
     "output_type": "stream",
     "text": [
      "\r",
      "462it [00:14, 16.74it/s]"
     ]
    },
    {
     "name": "stderr",
     "output_type": "stream",
     "text": [
      "\r",
      "465it [00:15, 18.11it/s]"
     ]
    },
    {
     "name": "stderr",
     "output_type": "stream",
     "text": [
      "\r",
      "468it [00:15, 18.73it/s]"
     ]
    },
    {
     "name": "stderr",
     "output_type": "stream",
     "text": [
      "\r",
      "470it [00:15, 18.45it/s]"
     ]
    },
    {
     "name": "stderr",
     "output_type": "stream",
     "text": [
      "\r",
      "472it [00:15, 18.05it/s]"
     ]
    },
    {
     "name": "stderr",
     "output_type": "stream",
     "text": [
      "\r",
      "475it [00:15, 18.88it/s]"
     ]
    },
    {
     "name": "stderr",
     "output_type": "stream",
     "text": [
      "\r",
      "478it [00:15, 21.12it/s]"
     ]
    },
    {
     "name": "stderr",
     "output_type": "stream",
     "text": [
      "\r",
      "484it [00:15, 29.72it/s]"
     ]
    },
    {
     "name": "stderr",
     "output_type": "stream",
     "text": [
      "\r",
      "490it [00:15, 36.05it/s]"
     ]
    },
    {
     "name": "stderr",
     "output_type": "stream",
     "text": [
      "\r",
      "497it [00:16, 42.70it/s]"
     ]
    },
    {
     "name": "stderr",
     "output_type": "stream",
     "text": [
      "\r",
      "504it [00:16, 48.40it/s]"
     ]
    },
    {
     "name": "stderr",
     "output_type": "stream",
     "text": [
      "\r",
      "511it [00:16, 50.50it/s]"
     ]
    },
    {
     "name": "stderr",
     "output_type": "stream",
     "text": [
      "\r",
      "518it [00:16, 53.96it/s]"
     ]
    },
    {
     "name": "stderr",
     "output_type": "stream",
     "text": [
      "\r",
      "525it [00:16, 57.81it/s]"
     ]
    },
    {
     "name": "stderr",
     "output_type": "stream",
     "text": [
      "\r",
      "531it [00:16, 53.14it/s]"
     ]
    },
    {
     "name": "stderr",
     "output_type": "stream",
     "text": [
      "\r",
      "538it [00:16, 55.55it/s]"
     ]
    },
    {
     "name": "stderr",
     "output_type": "stream",
     "text": [
      "\r",
      "546it [00:16, 53.10it/s]"
     ]
    },
    {
     "name": "stderr",
     "output_type": "stream",
     "text": [
      "\r",
      "546it [00:16, 32.34it/s]"
     ]
    },
    {
     "name": "stderr",
     "output_type": "stream",
     "text": [
      "\n"
     ]
    }
   ],
   "source": [
    "t_pp, t_re, t_l = load_data(DIR_TEST_PRED_PROBAS, DIR_TEST_RES_EMB, DIR_TEST_LABELS)"
   ]
  },
  {
   "cell_type": "code",
   "execution_count": 11,
   "metadata": {
    "execution": {
     "iopub.execute_input": "2024-04-09T08:02:47.643484Z",
     "iopub.status.busy": "2024-04-09T08:02:47.642369Z",
     "iopub.status.idle": "2024-04-09T08:02:47.731370Z",
     "shell.execute_reply": "2024-04-09T08:02:47.730730Z"
    }
   },
   "outputs": [
    {
     "data": {
      "text/plain": [
       "((798, 64, 64), (798, 1024), (798, 64, 64))"
      ]
     },
     "execution_count": 11,
     "metadata": {},
     "output_type": "execute_result"
    }
   ],
   "source": [
    "all_pred_probas = np.concatenate([c_pp, t_pp])\n",
    "all_res_emb = np.concatenate([c_re, t_re])\n",
    "all_labels = np.concatenate([c_l, t_l])\n",
    "\n",
    "all_pred_probas.shape, all_res_emb.shape, all_labels.shape"
   ]
  },
  {
   "cell_type": "code",
   "execution_count": 12,
   "metadata": {
    "execution": {
     "iopub.execute_input": "2024-04-09T08:02:47.734554Z",
     "iopub.status.busy": "2024-04-09T08:02:47.734291Z",
     "iopub.status.idle": "2024-04-09T08:02:47.758617Z",
     "shell.execute_reply": "2024-04-09T08:02:47.757502Z"
    }
   },
   "outputs": [],
   "source": [
    "ALPHA = .1"
   ]
  },
  {
   "cell_type": "code",
   "execution_count": 13,
   "metadata": {
    "execution": {
     "iopub.execute_input": "2024-04-09T08:02:47.767520Z",
     "iopub.status.busy": "2024-04-09T08:02:47.766999Z",
     "iopub.status.idle": "2024-04-09T08:14:40.149100Z",
     "shell.execute_reply": "2024-04-09T08:14:40.148509Z"
    }
   },
   "outputs": [
    {
     "name": "stderr",
     "output_type": "stream",
     "text": [
      "\r",
      "  0%|                                                                                                                                                                                                             | 0/100 [00:00<?, ?it/s]"
     ]
    },
    {
     "name": "stderr",
     "output_type": "stream",
     "text": [
      "/tmp/ipykernel_1682248/2774270312.py:26: RuntimeWarning: invalid value encountered in divide\n",
      "  precision_test = np.nan_to_num((y_pred_test_th * temp_test_labels).sum(axis=(1, 2)) / y_pred_test_th.sum(axis=(1, 2)), nan=1)\n",
      "\r",
      "  1%|█▉                                                                                                                                                                                                   | 1/100 [00:06<10:22,  6.29s/it]"
     ]
    },
    {
     "name": "stdout",
     "output_type": "stream",
     "text": [
      "0.0834129595413892\n"
     ]
    },
    {
     "name": "stderr",
     "output_type": "stream",
     "text": [
      "\r",
      "  2%|███▉                                                                                                                                                                                                 | 2/100 [00:13<10:45,  6.58s/it]"
     ]
    },
    {
     "name": "stdout",
     "output_type": "stream",
     "text": [
      "0.11728248888124672\n"
     ]
    },
    {
     "name": "stderr",
     "output_type": "stream",
     "text": [
      "\r",
      "  3%|█████▉                                                                                                                                                                                               | 3/100 [00:19<10:36,  6.56s/it]"
     ]
    },
    {
     "name": "stdout",
     "output_type": "stream",
     "text": [
      "0.0\n"
     ]
    },
    {
     "name": "stderr",
     "output_type": "stream",
     "text": [
      "\r",
      "  4%|███████▉                                                                                                                                                                                             | 4/100 [00:25<10:22,  6.48s/it]"
     ]
    },
    {
     "name": "stdout",
     "output_type": "stream",
     "text": [
      "1.0\n"
     ]
    },
    {
     "name": "stderr",
     "output_type": "stream",
     "text": [
      "\r",
      "  5%|█████████▊                                                                                                                                                                                           | 5/100 [00:32<10:09,  6.42s/it]"
     ]
    },
    {
     "name": "stdout",
     "output_type": "stream",
     "text": [
      "0.0\n"
     ]
    },
    {
     "name": "stderr",
     "output_type": "stream",
     "text": [
      "\r",
      "  6%|███████████▊                                                                                                                                                                                         | 6/100 [00:39<10:16,  6.56s/it]"
     ]
    },
    {
     "name": "stdout",
     "output_type": "stream",
     "text": [
      "0.35825679044077097\n"
     ]
    },
    {
     "name": "stderr",
     "output_type": "stream",
     "text": [
      "\r",
      "  7%|█████████████▊                                                                                                                                                                                       | 7/100 [00:45<09:55,  6.40s/it]"
     ]
    },
    {
     "name": "stdout",
     "output_type": "stream",
     "text": [
      "0.0\n"
     ]
    },
    {
     "name": "stderr",
     "output_type": "stream",
     "text": [
      "\r",
      "  8%|███████████████▊                                                                                                                                                                                     | 8/100 [00:51<09:50,  6.42s/it]"
     ]
    },
    {
     "name": "stdout",
     "output_type": "stream",
     "text": [
      "0.005126267317124922\n"
     ]
    },
    {
     "name": "stderr",
     "output_type": "stream",
     "text": [
      "\r",
      "  9%|█████████████████▋                                                                                                                                                                                   | 9/100 [00:58<09:42,  6.40s/it]"
     ]
    },
    {
     "name": "stdout",
     "output_type": "stream",
     "text": [
      "0.38667227675665705\n"
     ]
    },
    {
     "name": "stderr",
     "output_type": "stream",
     "text": [
      "\r",
      " 10%|███████████████████▌                                                                                                                                                                                | 10/100 [01:04<09:43,  6.48s/it]"
     ]
    },
    {
     "name": "stdout",
     "output_type": "stream",
     "text": [
      "0.0\n"
     ]
    },
    {
     "name": "stderr",
     "output_type": "stream",
     "text": [
      "\r",
      " 11%|█████████████████████▌                                                                                                                                                                              | 11/100 [01:11<09:39,  6.52s/it]"
     ]
    },
    {
     "name": "stdout",
     "output_type": "stream",
     "text": [
      "0.0\n"
     ]
    },
    {
     "name": "stderr",
     "output_type": "stream",
     "text": [
      "\r",
      " 12%|███████████████████████▌                                                                                                                                                                            | 12/100 [01:18<09:39,  6.59s/it]"
     ]
    },
    {
     "name": "stdout",
     "output_type": "stream",
     "text": [
      "0.0\n"
     ]
    },
    {
     "name": "stderr",
     "output_type": "stream",
     "text": [
      "\r",
      " 13%|█████████████████████████▍                                                                                                                                                                          | 13/100 [01:24<09:32,  6.58s/it]"
     ]
    },
    {
     "name": "stdout",
     "output_type": "stream",
     "text": [
      "0.0\n"
     ]
    },
    {
     "name": "stderr",
     "output_type": "stream",
     "text": [
      "\r",
      " 14%|███████████████████████████▍                                                                                                                                                                        | 14/100 [01:31<09:35,  6.70s/it]"
     ]
    },
    {
     "name": "stdout",
     "output_type": "stream",
     "text": [
      "0.0\n"
     ]
    },
    {
     "name": "stderr",
     "output_type": "stream",
     "text": [
      "\r",
      " 15%|█████████████████████████████▍                                                                                                                                                                      | 15/100 [01:37<09:21,  6.60s/it]"
     ]
    },
    {
     "name": "stdout",
     "output_type": "stream",
     "text": [
      "0.0\n"
     ]
    },
    {
     "name": "stderr",
     "output_type": "stream",
     "text": [
      "\r",
      " 16%|███████████████████████████████▎                                                                                                                                                                    | 16/100 [01:44<09:20,  6.67s/it]"
     ]
    },
    {
     "name": "stdout",
     "output_type": "stream",
     "text": [
      "0.0\n"
     ]
    },
    {
     "name": "stderr",
     "output_type": "stream",
     "text": [
      "\r",
      " 17%|█████████████████████████████████▎                                                                                                                                                                  | 17/100 [01:51<09:08,  6.61s/it]"
     ]
    },
    {
     "name": "stdout",
     "output_type": "stream",
     "text": [
      "0.7528955078508094\n"
     ]
    },
    {
     "name": "stderr",
     "output_type": "stream",
     "text": [
      "\r",
      " 18%|███████████████████████████████████▎                                                                                                                                                                | 18/100 [01:58<09:11,  6.72s/it]"
     ]
    },
    {
     "name": "stdout",
     "output_type": "stream",
     "text": [
      "0.0\n"
     ]
    },
    {
     "name": "stderr",
     "output_type": "stream",
     "text": [
      "\r",
      " 19%|█████████████████████████████████████▏                                                                                                                                                              | 19/100 [02:05<09:07,  6.76s/it]"
     ]
    },
    {
     "name": "stdout",
     "output_type": "stream",
     "text": [
      "0.0\n"
     ]
    },
    {
     "name": "stderr",
     "output_type": "stream",
     "text": [
      "\r",
      " 20%|███████████████████████████████████████▏                                                                                                                                                            | 20/100 [02:11<08:59,  6.75s/it]"
     ]
    },
    {
     "name": "stdout",
     "output_type": "stream",
     "text": [
      "0.5575954875016433\n"
     ]
    },
    {
     "name": "stderr",
     "output_type": "stream",
     "text": [
      "\r",
      " 21%|█████████████████████████████████████████▏                                                                                                                                                          | 21/100 [02:18<08:41,  6.60s/it]"
     ]
    },
    {
     "name": "stdout",
     "output_type": "stream",
     "text": [
      "1.0\n"
     ]
    },
    {
     "name": "stderr",
     "output_type": "stream",
     "text": [
      "\r",
      " 22%|███████████████████████████████████████████                                                                                                                                                         | 22/100 [02:24<08:30,  6.54s/it]"
     ]
    },
    {
     "name": "stdout",
     "output_type": "stream",
     "text": [
      "0.0\n"
     ]
    },
    {
     "name": "stderr",
     "output_type": "stream",
     "text": [
      "\r",
      " 23%|█████████████████████████████████████████████                                                                                                                                                       | 23/100 [02:31<08:29,  6.61s/it]"
     ]
    },
    {
     "name": "stdout",
     "output_type": "stream",
     "text": [
      "0.0\n"
     ]
    },
    {
     "name": "stderr",
     "output_type": "stream",
     "text": [
      "\r",
      " 24%|███████████████████████████████████████████████                                                                                                                                                     | 24/100 [02:37<08:17,  6.55s/it]"
     ]
    },
    {
     "name": "stdout",
     "output_type": "stream",
     "text": [
      "0.9497795598089143\n"
     ]
    },
    {
     "name": "stderr",
     "output_type": "stream",
     "text": [
      "\r",
      " 25%|█████████████████████████████████████████████████                                                                                                                                                   | 25/100 [02:44<08:15,  6.60s/it]"
     ]
    },
    {
     "name": "stdout",
     "output_type": "stream",
     "text": [
      "0.0\n"
     ]
    },
    {
     "name": "stderr",
     "output_type": "stream",
     "text": [
      "\r",
      " 26%|██████████████████████████████████████████████████▉                                                                                                                                                 | 26/100 [02:51<08:19,  6.75s/it]"
     ]
    },
    {
     "name": "stdout",
     "output_type": "stream",
     "text": [
      "0.0\n"
     ]
    },
    {
     "name": "stderr",
     "output_type": "stream",
     "text": [
      "\r",
      " 27%|████████████████████████████████████████████████████▉                                                                                                                                               | 27/100 [02:58<08:20,  6.86s/it]"
     ]
    },
    {
     "name": "stdout",
     "output_type": "stream",
     "text": [
      "0.0009880470406786197\n"
     ]
    },
    {
     "name": "stderr",
     "output_type": "stream",
     "text": [
      "\r",
      " 28%|██████████████████████████████████████████████████████▉                                                                                                                                             | 28/100 [03:05<08:17,  6.91s/it]"
     ]
    },
    {
     "name": "stdout",
     "output_type": "stream",
     "text": [
      "0.0\n"
     ]
    },
    {
     "name": "stderr",
     "output_type": "stream",
     "text": [
      "\r",
      " 29%|████████████████████████████████████████████████████████▊                                                                                                                                           | 29/100 [03:12<08:03,  6.81s/it]"
     ]
    },
    {
     "name": "stdout",
     "output_type": "stream",
     "text": [
      "0.0\n"
     ]
    },
    {
     "name": "stderr",
     "output_type": "stream",
     "text": [
      "\r",
      " 30%|██████████████████████████████████████████████████████████▊                                                                                                                                         | 30/100 [03:19<08:12,  7.03s/it]"
     ]
    },
    {
     "name": "stdout",
     "output_type": "stream",
     "text": [
      "0.34078760818133585\n"
     ]
    },
    {
     "name": "stderr",
     "output_type": "stream",
     "text": [
      "\r",
      " 31%|████████████████████████████████████████████████████████████▊                                                                                                                                       | 31/100 [03:26<07:59,  6.95s/it]"
     ]
    },
    {
     "name": "stdout",
     "output_type": "stream",
     "text": [
      "0.02150733773993674\n"
     ]
    },
    {
     "name": "stderr",
     "output_type": "stream",
     "text": [
      "\r",
      " 32%|██████████████████████████████████████████████████████████████▋                                                                                                                                     | 32/100 [03:33<08:00,  7.07s/it]"
     ]
    },
    {
     "name": "stdout",
     "output_type": "stream",
     "text": [
      "0.6111556737557279\n"
     ]
    },
    {
     "name": "stderr",
     "output_type": "stream",
     "text": [
      "\r",
      " 33%|████████████████████████████████████████████████████████████████▋                                                                                                                                   | 33/100 [03:40<07:42,  6.90s/it]"
     ]
    },
    {
     "name": "stdout",
     "output_type": "stream",
     "text": [
      "0.0\n"
     ]
    },
    {
     "name": "stderr",
     "output_type": "stream",
     "text": [
      "\r",
      " 34%|██████████████████████████████████████████████████████████████████▋                                                                                                                                 | 34/100 [03:47<07:31,  6.84s/it]"
     ]
    },
    {
     "name": "stdout",
     "output_type": "stream",
     "text": [
      "0.0\n"
     ]
    },
    {
     "name": "stderr",
     "output_type": "stream",
     "text": [
      "\r",
      " 35%|████████████████████████████████████████████████████████████████████▌                                                                                                                               | 35/100 [03:54<07:31,  6.94s/it]"
     ]
    },
    {
     "name": "stdout",
     "output_type": "stream",
     "text": [
      "0.9993852081398534\n"
     ]
    },
    {
     "name": "stderr",
     "output_type": "stream",
     "text": [
      "\r",
      " 36%|██████████████████████████████████████████████████████████████████████▌                                                                                                                             | 36/100 [04:00<07:15,  6.80s/it]"
     ]
    },
    {
     "name": "stdout",
     "output_type": "stream",
     "text": [
      "0.9271423108605896\n"
     ]
    },
    {
     "name": "stderr",
     "output_type": "stream",
     "text": [
      "\r",
      " 37%|████████████████████████████████████████████████████████████████████████▌                                                                                                                           | 37/100 [04:07<07:07,  6.78s/it]"
     ]
    },
    {
     "name": "stdout",
     "output_type": "stream",
     "text": [
      "0.0\n"
     ]
    },
    {
     "name": "stderr",
     "output_type": "stream",
     "text": [
      "\r",
      " 38%|██████████████████████████████████████████████████████████████████████████▍                                                                                                                         | 38/100 [04:14<07:01,  6.81s/it]"
     ]
    },
    {
     "name": "stdout",
     "output_type": "stream",
     "text": [
      "0.9942868108229247\n"
     ]
    },
    {
     "name": "stderr",
     "output_type": "stream",
     "text": [
      "\r",
      " 39%|████████████████████████████████████████████████████████████████████████████▍                                                                                                                       | 39/100 [04:21<07:00,  6.89s/it]"
     ]
    },
    {
     "name": "stdout",
     "output_type": "stream",
     "text": [
      "0.7805808464730817\n"
     ]
    },
    {
     "name": "stderr",
     "output_type": "stream",
     "text": [
      "\r",
      " 40%|██████████████████████████████████████████████████████████████████████████████▍                                                                                                                     | 40/100 [04:27<06:48,  6.81s/it]"
     ]
    },
    {
     "name": "stdout",
     "output_type": "stream",
     "text": [
      "0.9690332933259178\n"
     ]
    },
    {
     "name": "stderr",
     "output_type": "stream",
     "text": [
      "\r",
      " 41%|████████████████████████████████████████████████████████████████████████████████▎                                                                                                                   | 41/100 [04:35<06:57,  7.08s/it]"
     ]
    },
    {
     "name": "stdout",
     "output_type": "stream",
     "text": [
      "0.6361750180372809\n"
     ]
    },
    {
     "name": "stderr",
     "output_type": "stream",
     "text": [
      "\r",
      " 42%|██████████████████████████████████████████████████████████████████████████████████▎                                                                                                                 | 42/100 [04:42<06:42,  6.93s/it]"
     ]
    },
    {
     "name": "stdout",
     "output_type": "stream",
     "text": [
      "0.0\n"
     ]
    },
    {
     "name": "stderr",
     "output_type": "stream",
     "text": [
      "\r",
      " 43%|████████████████████████████████████████████████████████████████████████████████████▎                                                                                                               | 43/100 [04:49<06:35,  6.94s/it]"
     ]
    },
    {
     "name": "stdout",
     "output_type": "stream",
     "text": [
      "0.0\n"
     ]
    },
    {
     "name": "stderr",
     "output_type": "stream",
     "text": [
      "\r",
      " 44%|██████████████████████████████████████████████████████████████████████████████████████▏                                                                                                             | 44/100 [04:56<06:38,  7.12s/it]"
     ]
    },
    {
     "name": "stdout",
     "output_type": "stream",
     "text": [
      "0.0\n"
     ]
    },
    {
     "name": "stderr",
     "output_type": "stream",
     "text": [
      "\r",
      " 45%|████████████████████████████████████████████████████████████████████████████████████████▏                                                                                                           | 45/100 [05:03<06:24,  6.99s/it]"
     ]
    },
    {
     "name": "stdout",
     "output_type": "stream",
     "text": [
      "0.0\n"
     ]
    },
    {
     "name": "stderr",
     "output_type": "stream",
     "text": [
      "\r",
      " 46%|██████████████████████████████████████████████████████████████████████████████████████████▏                                                                                                         | 46/100 [05:10<06:17,  6.99s/it]"
     ]
    },
    {
     "name": "stdout",
     "output_type": "stream",
     "text": [
      "0.0\n"
     ]
    },
    {
     "name": "stderr",
     "output_type": "stream",
     "text": [
      "\r",
      " 47%|████████████████████████████████████████████████████████████████████████████████████████████                                                                                                        | 47/100 [05:17<06:10,  6.99s/it]"
     ]
    },
    {
     "name": "stdout",
     "output_type": "stream",
     "text": [
      "0.9461675199429525\n"
     ]
    },
    {
     "name": "stderr",
     "output_type": "stream",
     "text": [
      "\r",
      " 48%|██████████████████████████████████████████████████████████████████████████████████████████████                                                                                                      | 48/100 [05:24<06:03,  6.99s/it]"
     ]
    },
    {
     "name": "stdout",
     "output_type": "stream",
     "text": [
      "0.06610986102980573\n"
     ]
    },
    {
     "name": "stderr",
     "output_type": "stream",
     "text": [
      "\r",
      " 49%|████████████████████████████████████████████████████████████████████████████████████████████████                                                                                                    | 49/100 [05:31<05:57,  7.00s/it]"
     ]
    },
    {
     "name": "stdout",
     "output_type": "stream",
     "text": [
      "0.0\n"
     ]
    },
    {
     "name": "stderr",
     "output_type": "stream",
     "text": [
      "\r",
      " 50%|██████████████████████████████████████████████████████████████████████████████████████████████████                                                                                                  | 50/100 [05:38<05:55,  7.12s/it]"
     ]
    },
    {
     "name": "stdout",
     "output_type": "stream",
     "text": [
      "0.0\n"
     ]
    },
    {
     "name": "stderr",
     "output_type": "stream",
     "text": [
      "\r",
      " 51%|███████████████████████████████████████████████████████████████████████████████████████████████████▉                                                                                                | 51/100 [05:46<06:02,  7.41s/it]"
     ]
    },
    {
     "name": "stdout",
     "output_type": "stream",
     "text": [
      "0.0\n"
     ]
    },
    {
     "name": "stderr",
     "output_type": "stream",
     "text": [
      "\r",
      " 52%|█████████████████████████████████████████████████████████████████████████████████████████████████████▉                                                                                              | 52/100 [05:53<05:48,  7.25s/it]"
     ]
    },
    {
     "name": "stdout",
     "output_type": "stream",
     "text": [
      "0.0\n"
     ]
    },
    {
     "name": "stderr",
     "output_type": "stream",
     "text": [
      "\r",
      " 53%|███████████████████████████████████████████████████████████████████████████████████████████████████████▉                                                                                            | 53/100 [06:01<05:50,  7.46s/it]"
     ]
    },
    {
     "name": "stdout",
     "output_type": "stream",
     "text": [
      "0.013566858469844371\n"
     ]
    },
    {
     "name": "stderr",
     "output_type": "stream",
     "text": [
      "\r",
      " 54%|█████████████████████████████████████████████████████████████████████████████████████████████████████████▊                                                                                          | 54/100 [06:09<05:42,  7.45s/it]"
     ]
    },
    {
     "name": "stdout",
     "output_type": "stream",
     "text": [
      "0.0\n"
     ]
    },
    {
     "name": "stderr",
     "output_type": "stream",
     "text": [
      "\r",
      " 55%|███████████████████████████████████████████████████████████████████████████████████████████████████████████▊                                                                                        | 55/100 [06:16<05:27,  7.29s/it]"
     ]
    },
    {
     "name": "stdout",
     "output_type": "stream",
     "text": [
      "0.0\n"
     ]
    },
    {
     "name": "stderr",
     "output_type": "stream",
     "text": [
      "\r",
      " 56%|█████████████████████████████████████████████████████████████████████████████████████████████████████████████▊                                                                                      | 56/100 [06:23<05:26,  7.43s/it]"
     ]
    },
    {
     "name": "stdout",
     "output_type": "stream",
     "text": [
      "0.9364484273502869\n"
     ]
    },
    {
     "name": "stderr",
     "output_type": "stream",
     "text": [
      "\r",
      " 57%|███████████████████████████████████████████████████████████████████████████████████████████████████████████████▋                                                                                    | 57/100 [06:30<05:08,  7.17s/it]"
     ]
    },
    {
     "name": "stdout",
     "output_type": "stream",
     "text": [
      "0.0\n"
     ]
    },
    {
     "name": "stderr",
     "output_type": "stream",
     "text": [
      "\r",
      " 58%|█████████████████████████████████████████████████████████████████████████████████████████████████████████████████▋                                                                                  | 58/100 [06:38<05:09,  7.37s/it]"
     ]
    },
    {
     "name": "stdout",
     "output_type": "stream",
     "text": [
      "0.0\n"
     ]
    },
    {
     "name": "stderr",
     "output_type": "stream",
     "text": [
      "\r",
      " 59%|███████████████████████████████████████████████████████████████████████████████████████████████████████████████████▋                                                                                | 59/100 [06:45<05:02,  7.37s/it]"
     ]
    },
    {
     "name": "stdout",
     "output_type": "stream",
     "text": [
      "0.0\n"
     ]
    },
    {
     "name": "stderr",
     "output_type": "stream",
     "text": [
      "\r",
      " 60%|█████████████████████████████████████████████████████████████████████████████████████████████████████████████████████▌                                                                              | 60/100 [06:52<04:45,  7.15s/it]"
     ]
    },
    {
     "name": "stdout",
     "output_type": "stream",
     "text": [
      "0.5594038837789185\n"
     ]
    },
    {
     "name": "stderr",
     "output_type": "stream",
     "text": [
      "\r",
      " 61%|███████████████████████████████████████████████████████████████████████████████████████████████████████████████████████▌                                                                            | 61/100 [06:59<04:36,  7.10s/it]"
     ]
    },
    {
     "name": "stdout",
     "output_type": "stream",
     "text": [
      "0.0\n"
     ]
    },
    {
     "name": "stderr",
     "output_type": "stream",
     "text": [
      "\r",
      " 62%|█████████████████████████████████████████████████████████████████████████████████████████████████████████████████████████▌                                                                          | 62/100 [07:05<04:22,  6.90s/it]"
     ]
    },
    {
     "name": "stdout",
     "output_type": "stream",
     "text": [
      "0.0\n"
     ]
    },
    {
     "name": "stderr",
     "output_type": "stream",
     "text": [
      "\r",
      " 63%|███████████████████████████████████████████████████████████████████████████████████████████████████████████████████████████▍                                                                        | 63/100 [07:13<04:21,  7.07s/it]"
     ]
    },
    {
     "name": "stdout",
     "output_type": "stream",
     "text": [
      "1.0\n"
     ]
    },
    {
     "name": "stderr",
     "output_type": "stream",
     "text": [
      "\r",
      " 64%|█████████████████████████████████████████████████████████████████████████████████████████████████████████████████████████████▍                                                                      | 64/100 [07:20<04:12,  7.03s/it]"
     ]
    },
    {
     "name": "stdout",
     "output_type": "stream",
     "text": [
      "0.0\n"
     ]
    },
    {
     "name": "stderr",
     "output_type": "stream",
     "text": [
      "\r",
      " 65%|███████████████████████████████████████████████████████████████████████████████████████████████████████████████████████████████▍                                                                    | 65/100 [07:27<04:11,  7.19s/it]"
     ]
    },
    {
     "name": "stdout",
     "output_type": "stream",
     "text": [
      "0.9055196754338831\n"
     ]
    },
    {
     "name": "stderr",
     "output_type": "stream",
     "text": [
      "\r",
      " 66%|█████████████████████████████████████████████████████████████████████████████████████████████████████████████████████████████████▎                                                                  | 66/100 [07:35<04:06,  7.25s/it]"
     ]
    },
    {
     "name": "stdout",
     "output_type": "stream",
     "text": [
      "1.0\n"
     ]
    },
    {
     "name": "stderr",
     "output_type": "stream",
     "text": [
      "\r",
      " 67%|███████████████████████████████████████████████████████████████████████████████████████████████████████████████████████████████████▎                                                                | 67/100 [07:42<03:57,  7.20s/it]"
     ]
    },
    {
     "name": "stdout",
     "output_type": "stream",
     "text": [
      "0.0\n"
     ]
    },
    {
     "name": "stderr",
     "output_type": "stream",
     "text": [
      "\r",
      " 68%|█████████████████████████████████████████████████████████████████████████████████████████████████████████████████████████████████████▎                                                              | 68/100 [07:49<03:54,  7.34s/it]"
     ]
    },
    {
     "name": "stdout",
     "output_type": "stream",
     "text": [
      "0.012481982821818845\n"
     ]
    },
    {
     "name": "stderr",
     "output_type": "stream",
     "text": [
      "\r",
      " 69%|███████████████████████████████████████████████████████████████████████████████████████████████████████████████████████████████████████▏                                                            | 69/100 [07:56<03:45,  7.29s/it]"
     ]
    },
    {
     "name": "stdout",
     "output_type": "stream",
     "text": [
      "0.0\n"
     ]
    },
    {
     "name": "stderr",
     "output_type": "stream",
     "text": [
      "\r",
      " 70%|█████████████████████████████████████████████████████████████████████████████████████████████████████████████████████████████████████████▏                                                          | 70/100 [08:04<03:41,  7.39s/it]"
     ]
    },
    {
     "name": "stdout",
     "output_type": "stream",
     "text": [
      "0.1891487241108566\n"
     ]
    },
    {
     "name": "stderr",
     "output_type": "stream",
     "text": [
      "\r",
      " 71%|███████████████████████████████████████████████████████████████████████████████████████████████████████████████████████████████████████████▏                                                        | 71/100 [08:12<03:38,  7.55s/it]"
     ]
    },
    {
     "name": "stdout",
     "output_type": "stream",
     "text": [
      "0.8355841828030847\n"
     ]
    },
    {
     "name": "stderr",
     "output_type": "stream",
     "text": [
      "\r",
      " 72%|█████████████████████████████████████████████████████████████████████████████████████████████████████████████████████████████████████████████                                                       | 72/100 [08:19<03:26,  7.36s/it]"
     ]
    },
    {
     "name": "stdout",
     "output_type": "stream",
     "text": [
      "0.0\n"
     ]
    },
    {
     "name": "stderr",
     "output_type": "stream",
     "text": [
      "\r",
      " 73%|███████████████████████████████████████████████████████████████████████████████████████████████████████████████████████████████████████████████                                                     | 73/100 [08:27<03:21,  7.47s/it]"
     ]
    },
    {
     "name": "stdout",
     "output_type": "stream",
     "text": [
      "0.0\n"
     ]
    },
    {
     "name": "stderr",
     "output_type": "stream",
     "text": [
      "\r",
      " 74%|█████████████████████████████████████████████████████████████████████████████████████████████████████████████████████████████████████████████████                                                   | 74/100 [08:34<03:12,  7.40s/it]"
     ]
    },
    {
     "name": "stdout",
     "output_type": "stream",
     "text": [
      "0.03188684652481743\n"
     ]
    },
    {
     "name": "stderr",
     "output_type": "stream",
     "text": [
      "\r",
      " 75%|███████████████████████████████████████████████████████████████████████████████████████████████████████████████████████████████████████████████████                                                 | 75/100 [08:41<03:03,  7.35s/it]"
     ]
    },
    {
     "name": "stdout",
     "output_type": "stream",
     "text": [
      "0.0\n"
     ]
    },
    {
     "name": "stderr",
     "output_type": "stream",
     "text": [
      "\r",
      " 76%|████████████████████████████████████████████████████████████████████████████████████████████████████████████████████████████████████████████████████▉                                               | 76/100 [08:49<02:58,  7.42s/it]"
     ]
    },
    {
     "name": "stdout",
     "output_type": "stream",
     "text": [
      "0.0\n"
     ]
    },
    {
     "name": "stderr",
     "output_type": "stream",
     "text": [
      "\r",
      " 77%|██████████████████████████████████████████████████████████████████████████████████████████████████████████████████████████████████████████████████████▉                                             | 77/100 [08:56<02:49,  7.39s/it]"
     ]
    },
    {
     "name": "stdout",
     "output_type": "stream",
     "text": [
      "0.0\n"
     ]
    },
    {
     "name": "stderr",
     "output_type": "stream",
     "text": [
      "\r",
      " 78%|████████████████████████████████████████████████████████████████████████████████████████████████████████████████████████████████████████████████████████▉                                           | 78/100 [09:03<02:42,  7.38s/it]"
     ]
    },
    {
     "name": "stdout",
     "output_type": "stream",
     "text": [
      "0.0\n"
     ]
    },
    {
     "name": "stderr",
     "output_type": "stream",
     "text": [
      "\r",
      " 79%|██████████████████████████████████████████████████████████████████████████████████████████████████████████████████████████████████████████████████████████▊                                         | 79/100 [09:11<02:35,  7.39s/it]"
     ]
    },
    {
     "name": "stdout",
     "output_type": "stream",
     "text": [
      "0.0\n"
     ]
    },
    {
     "name": "stderr",
     "output_type": "stream",
     "text": [
      "\r",
      " 80%|████████████████████████████████████████████████████████████████████████████████████████████████████████████████████████████████████████████████████████████▊                                       | 80/100 [09:18<02:27,  7.36s/it]"
     ]
    },
    {
     "name": "stdout",
     "output_type": "stream",
     "text": [
      "0.9984967040661042\n"
     ]
    },
    {
     "name": "stderr",
     "output_type": "stream",
     "text": [
      "\r",
      " 81%|██████████████████████████████████████████████████████████████████████████████████████████████████████████████████████████████████████████████████████████████▊                                     | 81/100 [09:26<02:22,  7.52s/it]"
     ]
    },
    {
     "name": "stdout",
     "output_type": "stream",
     "text": [
      "0.03766012138746481\n"
     ]
    },
    {
     "name": "stderr",
     "output_type": "stream",
     "text": [
      "\r",
      " 82%|████████████████████████████████████████████████████████████████████████████████████████████████████████████████████████████████████████████████████████████████▋                                   | 82/100 [09:34<02:15,  7.53s/it]"
     ]
    },
    {
     "name": "stdout",
     "output_type": "stream",
     "text": [
      "1.0\n"
     ]
    },
    {
     "name": "stderr",
     "output_type": "stream",
     "text": [
      "\r",
      " 83%|██████████████████████████████████████████████████████████████████████████████████████████████████████████████████████████████████████████████████████████████████▋                                 | 83/100 [09:41<02:09,  7.60s/it]"
     ]
    },
    {
     "name": "stdout",
     "output_type": "stream",
     "text": [
      "0.0\n"
     ]
    },
    {
     "name": "stderr",
     "output_type": "stream",
     "text": [
      "\r",
      " 84%|████████████████████████████████████████████████████████████████████████████████████████████████████████████████████████████████████████████████████████████████████▋                               | 84/100 [09:49<02:02,  7.67s/it]"
     ]
    },
    {
     "name": "stdout",
     "output_type": "stream",
     "text": [
      "0.0\n"
     ]
    },
    {
     "name": "stderr",
     "output_type": "stream",
     "text": [
      "\r",
      " 85%|██████████████████████████████████████████████████████████████████████████████████████████████████████████████████████████████████████████████████████████████████████▌                             | 85/100 [09:56<01:52,  7.49s/it]"
     ]
    },
    {
     "name": "stdout",
     "output_type": "stream",
     "text": [
      "0.7976843018808858\n"
     ]
    },
    {
     "name": "stderr",
     "output_type": "stream",
     "text": [
      "\r",
      " 86%|████████████████████████████████████████████████████████████████████████████████████████████████████████████████████████████████████████████████████████████████████████▌                           | 86/100 [10:05<01:48,  7.74s/it]"
     ]
    },
    {
     "name": "stdout",
     "output_type": "stream",
     "text": [
      "0.0\n"
     ]
    },
    {
     "name": "stderr",
     "output_type": "stream",
     "text": [
      "\r",
      " 87%|██████████████████████████████████████████████████████████████████████████████████████████████████████████████████████████████████████████████████████████████████████████▌                         | 87/100 [10:12<01:39,  7.63s/it]"
     ]
    },
    {
     "name": "stdout",
     "output_type": "stream",
     "text": [
      "0.0\n"
     ]
    },
    {
     "name": "stderr",
     "output_type": "stream",
     "text": [
      "\r",
      " 88%|████████████████████████████████████████████████████████████████████████████████████████████████████████████████████████████████████████████████████████████████████████████▍                       | 88/100 [10:19<01:30,  7.58s/it]"
     ]
    },
    {
     "name": "stdout",
     "output_type": "stream",
     "text": [
      "0.0\n"
     ]
    },
    {
     "name": "stderr",
     "output_type": "stream",
     "text": [
      "\r",
      " 89%|██████████████████████████████████████████████████████████████████████████████████████████████████████████████████████████████████████████████████████████████████████████████▍                     | 89/100 [10:27<01:24,  7.66s/it]"
     ]
    },
    {
     "name": "stdout",
     "output_type": "stream",
     "text": [
      "0.0\n"
     ]
    },
    {
     "name": "stderr",
     "output_type": "stream",
     "text": [
      "\r",
      " 90%|████████████████████████████████████████████████████████████████████████████████████████████████████████████████████████████████████████████████████████████████████████████████▍                   | 90/100 [10:35<01:15,  7.54s/it]"
     ]
    },
    {
     "name": "stdout",
     "output_type": "stream",
     "text": [
      "0.0\n"
     ]
    },
    {
     "name": "stderr",
     "output_type": "stream",
     "text": [
      "\r",
      " 91%|██████████████████████████████████████████████████████████████████████████████████████████████████████████████████████████████████████████████████████████████████████████████████▎                 | 91/100 [10:42<01:08,  7.65s/it]"
     ]
    },
    {
     "name": "stdout",
     "output_type": "stream",
     "text": [
      "0.0\n"
     ]
    },
    {
     "name": "stderr",
     "output_type": "stream",
     "text": [
      "\r",
      " 92%|████████████████████████████████████████████████████████████████████████████████████████████████████████████████████████████████████████████████████████████████████████████████████▎               | 92/100 [10:50<01:01,  7.72s/it]"
     ]
    },
    {
     "name": "stdout",
     "output_type": "stream",
     "text": [
      "0.0\n"
     ]
    },
    {
     "name": "stderr",
     "output_type": "stream",
     "text": [
      "\r",
      " 93%|██████████████████████████████████████████████████████████████████████████████████████████████████████████████████████████████████████████████████████████████████████████████████████▎             | 93/100 [10:58<00:53,  7.66s/it]"
     ]
    },
    {
     "name": "stdout",
     "output_type": "stream",
     "text": [
      "0.0\n"
     ]
    },
    {
     "name": "stderr",
     "output_type": "stream",
     "text": [
      "\r",
      " 94%|████████████████████████████████████████████████████████████████████████████████████████████████████████████████████████████████████████████████████████████████████████████████████████▏           | 94/100 [11:06<00:46,  7.73s/it]"
     ]
    },
    {
     "name": "stdout",
     "output_type": "stream",
     "text": [
      "0.9928595822807449\n"
     ]
    },
    {
     "name": "stderr",
     "output_type": "stream",
     "text": [
      "\r",
      " 95%|██████████████████████████████████████████████████████████████████████████████████████████████████████████████████████████████████████████████████████████████████████████████████████████▏         | 95/100 [11:13<00:38,  7.63s/it]"
     ]
    },
    {
     "name": "stdout",
     "output_type": "stream",
     "text": [
      "0.08360430132924453\n"
     ]
    },
    {
     "name": "stderr",
     "output_type": "stream",
     "text": [
      "\r",
      " 96%|████████████████████████████████████████████████████████████████████████████████████████████████████████████████████████████████████████████████████████████████████████████████████████████▏       | 96/100 [11:20<00:30,  7.53s/it]"
     ]
    },
    {
     "name": "stdout",
     "output_type": "stream",
     "text": [
      "0.0\n"
     ]
    },
    {
     "name": "stderr",
     "output_type": "stream",
     "text": [
      "\r",
      " 97%|██████████████████████████████████████████████████████████████████████████████████████████████████████████████████████████████████████████████████████████████████████████████████████████████      | 97/100 [11:28<00:22,  7.51s/it]"
     ]
    },
    {
     "name": "stdout",
     "output_type": "stream",
     "text": [
      "0.0\n"
     ]
    },
    {
     "name": "stderr",
     "output_type": "stream",
     "text": [
      "\r",
      " 98%|████████████████████████████████████████████████████████████████████████████████████████████████████████████████████████████████████████████████████████████████████████████████████████████████    | 98/100 [11:35<00:15,  7.51s/it]"
     ]
    },
    {
     "name": "stdout",
     "output_type": "stream",
     "text": [
      "0.0\n"
     ]
    },
    {
     "name": "stderr",
     "output_type": "stream",
     "text": [
      "\r",
      " 99%|██████████████████████████████████████████████████████████████████████████████████████████████████████████████████████████████████████████████████████████████████████████████████████████████████  | 99/100 [11:43<00:07,  7.64s/it]"
     ]
    },
    {
     "name": "stdout",
     "output_type": "stream",
     "text": [
      "0.0\n"
     ]
    },
    {
     "name": "stderr",
     "output_type": "stream",
     "text": [
      "\r",
      "100%|███████████████████████████████████████████████████████████████████████████████████████████████████████████████████████████████████████████████████████████████████████████████████████████████████| 100/100 [11:52<00:00,  7.91s/it]"
     ]
    },
    {
     "name": "stderr",
     "output_type": "stream",
     "text": [
      "\r",
      "100%|███████████████████████████████████████████████████████████████████████████████████████████████████████████████████████████████████████████████████████████████████████████████████████████████████| 100/100 [11:52<00:00,  7.12s/it]"
     ]
    },
    {
     "name": "stdout",
     "output_type": "stream",
     "text": [
      "0.0\n"
     ]
    },
    {
     "name": "stderr",
     "output_type": "stream",
     "text": [
      "\n"
     ]
    }
   ],
   "source": [
    "recalls = []\n",
    "precisions = []\n",
    "\n",
    "for _ in tqdm(range(100)):\n",
    "    cal_inx = np.random.choice(range(len(all_pred_probas)), len(all_pred_probas) // 2 , replace=False)\n",
    "    test_inx = np.array([i for i in range(len(all_pred_probas)) if i not in cal_inx])\n",
    "    temp_cal_pred_probas = all_pred_probas[cal_inx]\n",
    "    temp_cal_res_emb = all_res_emb[cal_inx]\n",
    "    temp_cal_labels = all_labels[cal_inx]\n",
    "    temp_test_pred_probas = all_pred_probas[test_inx]\n",
    "    temp_test_res_emb = all_res_emb[test_inx]\n",
    "    temp_test_labels = all_labels[test_inx]\n",
    "\n",
    "    n = len(temp_cal_pred_probas)\n",
    "\n",
    "    result = minimize(\n",
    "        J, np.random.uniform(0, 1, EMBEDDING_SIZE),\n",
    "        method=\"SLSQP\",\n",
    "        args=(temp_cal_labels, temp_cal_pred_probas, temp_cal_res_emb, ALPHA, n), jac=J_prime,\n",
    "        options={\"disp\": False, \"maxiter\": 10000}\n",
    "    )\n",
    "\n",
    "    ths = np.maximum((temp_test_res_emb @ result.x).reshape(-1, 1, 1), -np.inf)\n",
    "    y_pred_test_th = (temp_test_pred_probas >= ths).astype(int)\n",
    "    recall_test = (y_pred_test_th * temp_test_labels).sum(axis=(1, 2)) / temp_test_labels.sum(axis=(1, 2))\n",
    "    precision_test = np.nan_to_num((y_pred_test_th * temp_test_labels).sum(axis=(1, 2)) / y_pred_test_th.sum(axis=(1, 2)), nan=1)\n",
    "    recalls.append(np.nanmean(recall_test))\n",
    "    precisions.append(np.nanmean(precision_test))\n",
    "    print(np.nanmean(recall_test))\n",
    "\n",
    "    \n"
   ]
  },
  {
   "cell_type": "code",
   "execution_count": 14,
   "metadata": {
    "execution": {
     "iopub.execute_input": "2024-04-09T08:14:40.151408Z",
     "iopub.status.busy": "2024-04-09T08:14:40.151186Z",
     "iopub.status.idle": "2024-04-09T08:14:40.588575Z",
     "shell.execute_reply": "2024-04-09T08:14:40.587748Z"
    }
   },
   "outputs": [
    {
     "data": {
      "text/plain": [
       "(array([72.,  2.,  0.,  3.,  0.,  2.,  2.,  3.,  1., 15.]),\n",
       " array([0. , 0.1, 0.2, 0.3, 0.4, 0.5, 0.6, 0.7, 0.8, 0.9, 1. ]),\n",
       " <BarContainer object of 10 artists>)"
      ]
     },
     "execution_count": 14,
     "metadata": {},
     "output_type": "execute_result"
    },
    {
     "data": {
      "image/png": "[encoded data removed]",
      "text/plain": [
       "<Figure size 640x480 with 1 Axes>"
      ]
     },
     "metadata": {},
     "output_type": "display_data"
    }
   ],
   "source": [
    "plt.hist(recalls)"
   ]
  },
  {
   "cell_type": "code",
   "execution_count": 15,
   "metadata": {
    "execution": {
     "iopub.execute_input": "2024-04-09T08:14:40.593614Z",
     "iopub.status.busy": "2024-04-09T08:14:40.593034Z",
     "iopub.status.idle": "2024-04-09T08:14:40.612184Z",
     "shell.execute_reply": "2024-04-09T08:14:40.611527Z"
    }
   },
   "outputs": [
    {
     "data": {
      "text/plain": [
       "0.21898686465686595"
      ]
     },
     "execution_count": 15,
     "metadata": {},
     "output_type": "execute_result"
    }
   ],
   "source": [
    "np.mean(recalls)"
   ]
  },
  {
   "cell_type": "code",
   "execution_count": 16,
   "metadata": {
    "execution": {
     "iopub.execute_input": "2024-04-09T08:14:40.616101Z",
     "iopub.status.busy": "2024-04-09T08:14:40.615710Z",
     "iopub.status.idle": "2024-04-09T08:14:40.716033Z",
     "shell.execute_reply": "2024-04-09T08:14:40.715660Z"
    }
   },
   "outputs": [
    {
     "data": {
      "text/plain": [
       "(array([ 9.,  2.,  3.,  1.,  0.,  1.,  2.,  1.,  2., 79.]),\n",
       " array([0.06969653, 0.16272688, 0.25575723, 0.34878757, 0.44181792,\n",
       "        0.53484827, 0.62787861, 0.72090896, 0.81393931, 0.90696965,\n",
       "        1.        ]),\n",
       " <BarContainer object of 10 artists>)"
      ]
     },
     "execution_count": 16,
     "metadata": {},
     "output_type": "execute_result"
    },
    {
     "data": {
      "image/png": "[encoded data removed]",
      "text/plain": [
       "<Figure size 640x480 with 1 Axes>"
      ]
     },
     "metadata": {},
     "output_type": "display_data"
    }
   ],
   "source": [
    "plt.hist(precisions)"
   ]
  },
  {
   "cell_type": "code",
   "execution_count": 17,
   "metadata": {
    "execution": {
     "iopub.execute_input": "2024-04-09T08:14:40.717519Z",
     "iopub.status.busy": "2024-04-09T08:14:40.717367Z",
     "iopub.status.idle": "2024-04-09T08:14:40.727540Z",
     "shell.execute_reply": "2024-04-09T08:14:40.727151Z"
    }
   },
   "outputs": [
    {
     "data": {
      "text/plain": [
       "array([3.64873971, 3.72237281, 3.74178498, 3.76745905, 3.77835023,\n",
       "       3.78855873, 3.79156282, 3.81264057, 3.83434597, 3.85067866,\n",
       "       3.86510826, 3.88305482, 3.88937366, 3.89056724, 3.91053636,\n",
       "       3.91614882, 3.92388536, 3.92664456, 3.94600224, 3.94757141,\n",
       "       3.95034643, 3.95437578, 3.9586276 , 3.95997832, 3.96462071,\n",
       "       3.96639466, 3.96753457, 3.97198696, 3.9720411 , 3.99007354,\n",
       "       3.99582109, 3.9994429 , 4.00126652, 4.01741268, 4.02796766,\n",
       "       4.02824417, 4.03661266, 4.04268995, 4.04833171, 4.0484536 ,\n",
       "       4.0530089 , 4.05756003, 4.0578852 , 4.05799175, 4.06586718,\n",
       "       4.07084219, 4.07303906, 4.07993764, 4.08443496, 4.08714316,\n",
       "       4.08839015, 4.09467624, 4.10060769, 4.10503854, 4.11130484,\n",
       "       4.11737868, 4.12105521, 4.12195841, 4.1228434 , 4.12874434,\n",
       "       4.13212856, 4.13296407, 4.13490266, 4.13579456, 4.13932395,\n",
       "       4.13958488, 4.14033834, 4.14329662, 4.14643447, 4.15399187,\n",
       "       4.15667781, 4.15896194, 4.1596162 , 4.16201429, 4.16201429,\n",
       "       4.17071951, 4.1731451 , 4.17570663, 4.17659789, 4.18613168,\n",
       "       4.18771301, 4.18827159, 4.1910883 , 4.19454134, 4.19574053,\n",
       "       4.19654574, 4.19898729, 4.20162644, 4.20729004, 4.212214  ,\n",
       "       4.21698163, 4.2170411 , 4.22478965, 4.22528861, 4.22695302,\n",
       "       4.23097334, 4.2316425 , 4.23164829, 4.23205017, 4.23656001,\n",
       "       4.24176707, 4.24810152, 4.25058675, 4.25137351, 4.2518036 ,\n",
       "       4.25897739, 4.27690574, 4.27843715, 4.28127426, 4.28266271,\n",
       "       4.29092537, 4.29468251, 4.29917816, 4.30145917, 4.30813962,\n",
       "       4.30827349, 4.31096438, 4.3119914 , 4.31343001, 4.31515525,\n",
       "       4.31567501, 4.32072157, 4.32073341, 4.32135143, 4.32686941,\n",
       "       4.33102386, 4.3312899 , 4.33416592, 4.34313146, 4.34346036,\n",
       "       4.34425678, 4.34546024, 4.34958866, 4.35817976, 4.35901902,\n",
       "       4.35973399, 4.36219428, 4.36336348, 4.36628229, 4.36683654,\n",
       "       4.36792278, 4.3680655 , 4.36821962, 4.36821962, 4.37487787,\n",
       "       4.37720464, 4.37800972, 4.38192808, 4.38226815, 4.38389402,\n",
       "       4.38526806, 4.38773764, 4.38846597, 4.38983732, 4.39707494,\n",
       "       4.39795424, 4.40006838, 4.40038964, 4.4021727 , 4.40435735,\n",
       "       4.40487692, 4.40584682, 4.40654317, 4.40736029, 4.40753376,\n",
       "       4.40763653, 4.40934679, 4.41120862, 4.41147224, 4.41602765,\n",
       "       4.41665815, 4.41677713, 4.42028908, 4.42597642, 4.42940746,\n",
       "       4.43110856, 4.43355046, 4.43433143, 4.43927247, 4.43943245,\n",
       "       4.44034357, 4.44582483, 4.44622771, 4.44630694, 4.44818527,\n",
       "       4.45085054, 4.45159291, 4.45377707, 4.46085031, 4.46344911,\n",
       "       4.46615486, 4.46935857, 4.46954651, 4.47030305, 4.47208509,\n",
       "       4.47434198, 4.47855402, 4.48195376, 4.48212784, 4.49464002,\n",
       "       4.49514981, 4.4971639 , 4.49722167, 4.50071273, 4.51016093,\n",
       "       4.51040535, 4.51233243, 4.51791748, 4.52544217, 4.52876876,\n",
       "       4.52950013, 4.54143728, 4.54928882, 4.54969457, 4.55030774,\n",
       "       4.55059223, 4.55380492, 4.55782014, 4.55904357, 4.56880756,\n",
       "       4.57124759, 4.57378268, 4.57531007, 4.57558158, 4.57637108,\n",
       "       4.57848228, 4.58625614, 4.58875777, 4.59883351, 4.59972183,\n",
       "       4.60037447, 4.60169741, 4.60408987, 4.60484555, 4.60642711,\n",
       "       4.60900056, 4.60918207, 4.61146258, 4.61325697, 4.61539183,\n",
       "       4.6283482 , 4.62883329, 4.62956391, 4.63179497, 4.63369042,\n",
       "       4.64011374, 4.64306261, 4.64591735, 4.64603479, 4.64645712,\n",
       "       4.64827099, 4.64868129, 4.64962065, 4.65057012, 4.65165147,\n",
       "       4.65212935, 4.65428554, 4.65473256, 4.65696734, 4.65714187,\n",
       "       4.6590605 , 4.66005401, 4.66258023, 4.66275689, 4.66465013,\n",
       "       4.66498933, 4.66839642, 4.6718787 , 4.67761453, 4.67837698,\n",
       "       4.67845343, 4.68010485, 4.6807435 , 4.6867299 , 4.68702503,\n",
       "       4.68749036, 4.69109964, 4.70049146, 4.70585169, 4.70797738,\n",
       "       4.71318122, 4.71671662, 4.71829338, 4.72117134, 4.72915037,\n",
       "       4.74079442, 4.74269812, 4.75629107, 4.7590395 , 4.76032469,\n",
       "       4.76557404, 4.76578924, 4.76975038, 4.76997046, 4.77218391,\n",
       "       4.77622905, 4.77636747, 4.78152221, 4.78374939, 4.78820907,\n",
       "       4.78966999, 4.79138637, 4.79177611, 4.79456356, 4.79457872,\n",
       "       4.80365005, 4.80959065, 4.80983952, 4.81427816, 4.81621274,\n",
       "       4.82273368, 4.83582799, 4.83802929, 4.84551462, 4.84630069,\n",
       "       4.85107482, 4.85600503, 4.85981128, 4.86280143, 4.86311691,\n",
       "       4.86564598, 4.8693779 , 4.87163455, 4.87236203, 4.8750198 ,\n",
       "       4.87509508, 4.87844937, 4.89942068, 4.90513665, 4.91022212,\n",
       "       4.91125004, 4.91370572, 4.91586996, 4.91912165, 4.92262272,\n",
       "       4.94047179, 4.95316065, 4.96108799, 4.96312974, 4.96670026,\n",
       "       4.97073414, 4.98909495, 4.99736818, 5.00587531, 5.01084001,\n",
       "       5.01102031, 5.01993565, 5.03636383, 5.03798385, 5.08817852,\n",
       "       5.09912576, 5.11790761, 5.15097032, 5.16225251, 5.17558644,\n",
       "       5.19449091, 5.19718966, 5.22299454, 5.2353867 , 5.24564725,\n",
       "       5.26282453, 5.29908518, 5.62279179, 5.75267187, 5.7978889 ,\n",
       "       5.89533342, 5.92158229, 6.00081041, 6.20711775, 6.30608778,\n",
       "       6.6891228 ])"
      ]
     },
     "execution_count": 17,
     "metadata": {},
     "output_type": "execute_result"
    }
   ],
   "source": [
    "np.unique(ths)"
   ]
  },
  {
   "cell_type": "code",
   "execution_count": 18,
   "metadata": {
    "execution": {
     "iopub.execute_input": "2024-04-09T08:14:40.728962Z",
     "iopub.status.busy": "2024-04-09T08:14:40.728692Z",
     "iopub.status.idle": "2024-04-09T08:14:40.739842Z",
     "shell.execute_reply": "2024-04-09T08:14:40.739551Z"
    }
   },
   "outputs": [
    {
     "data": {
      "text/plain": [
       "array([[[4.13490266]],\n",
       "\n",
       "       [[4.54969457]],\n",
       "\n",
       "       [[4.36219428]],\n",
       "\n",
       "       [[4.43110856]],\n",
       "\n",
       "       [[4.00126652]],\n",
       "\n",
       "       [[4.00126652]],\n",
       "\n",
       "       [[4.41677713]],\n",
       "\n",
       "       [[4.03661266]],\n",
       "\n",
       "       [[4.36628229]],\n",
       "\n",
       "       [[4.31515525]],\n",
       "\n",
       "       [[4.22695302]],\n",
       "\n",
       "       [[4.1731451 ]],\n",
       "\n",
       "       [[3.97198696]],\n",
       "\n",
       "       [[4.60037447]],\n",
       "\n",
       "       [[4.86280143]],\n",
       "\n",
       "       [[4.44630694]],\n",
       "\n",
       "       [[4.36821962]],\n",
       "\n",
       "       [[4.85981128]],\n",
       "\n",
       "       [[4.15896194]],\n",
       "\n",
       "       [[4.06586718]],\n",
       "\n",
       "       [[4.30827349]],\n",
       "\n",
       "       [[4.65165147]],\n",
       "\n",
       "       [[4.19574053]],\n",
       "\n",
       "       [[4.59972183]],\n",
       "\n",
       "       [[4.05799175]],\n",
       "\n",
       "       [[4.57124759]],\n",
       "\n",
       "       [[4.33416592]],\n",
       "\n",
       "       [[4.29917816]],\n",
       "\n",
       "       [[4.28266271]],\n",
       "\n",
       "       [[4.56880756]],\n",
       "\n",
       "       [[3.9720411 ]],\n",
       "\n",
       "       [[4.18771301]],\n",
       "\n",
       "       [[4.64011374]],\n",
       "\n",
       "       [[4.55030774]],\n",
       "\n",
       "       [[4.14033834]],\n",
       "\n",
       "       [[4.43433143]],\n",
       "\n",
       "       [[4.00126652]],\n",
       "\n",
       "       [[5.17558644]],\n",
       "\n",
       "       [[4.19654574]],\n",
       "\n",
       "       [[4.32686941]],\n",
       "\n",
       "       [[4.28127426]],\n",
       "\n",
       "       [[4.41602765]],\n",
       "\n",
       "       [[4.57637108]],\n",
       "\n",
       "       [[4.37487787]],\n",
       "\n",
       "       [[4.61539183]],\n",
       "\n",
       "       [[4.76578924]],\n",
       "\n",
       "       [[4.23205017]],\n",
       "\n",
       "       [[4.23205017]],\n",
       "\n",
       "       [[4.15399187]],\n",
       "\n",
       "       [[4.15399187]],\n",
       "\n",
       "       [[4.16201429]],\n",
       "\n",
       "       [[4.23205017]],\n",
       "\n",
       "       [[4.07303906]],\n",
       "\n",
       "       [[4.19454134]],\n",
       "\n",
       "       [[4.86564598]],\n",
       "\n",
       "       [[4.86311691]],\n",
       "\n",
       "       [[4.12195841]],\n",
       "\n",
       "       [[4.30813962]],\n",
       "\n",
       "       [[4.25897739]],\n",
       "\n",
       "       [[4.14329662]],\n",
       "\n",
       "       [[4.52544217]],\n",
       "\n",
       "       [[4.13932395]],\n",
       "\n",
       "       [[4.40584682]],\n",
       "\n",
       "       [[4.66005401]],\n",
       "\n",
       "       [[4.40736029]],\n",
       "\n",
       "       [[4.65057012]],\n",
       "\n",
       "       [[4.07993764]],\n",
       "\n",
       "       [[3.99007354]],\n",
       "\n",
       "       [[4.39795424]],\n",
       "\n",
       "       [[4.20729004]],\n",
       "\n",
       "       [[3.83434597]],\n",
       "\n",
       "       [[3.95034643]],\n",
       "\n",
       "       [[4.25058675]],\n",
       "\n",
       "       [[4.60484555]],\n",
       "\n",
       "       [[4.59883351]],\n",
       "\n",
       "       [[4.1910883 ]],\n",
       "\n",
       "       [[4.96108799]],\n",
       "\n",
       "       [[4.60169741]],\n",
       "\n",
       "       [[4.1228434 ]],\n",
       "\n",
       "       [[4.38983732]],\n",
       "\n",
       "       [[4.40934679]],\n",
       "\n",
       "       [[4.18613168]],\n",
       "\n",
       "       [[3.89056724]],\n",
       "\n",
       "       [[3.88305482]],\n",
       "\n",
       "       [[4.08839015]],\n",
       "\n",
       "       [[3.91614882]],\n",
       "\n",
       "       [[3.96753457]],\n",
       "\n",
       "       [[3.74178498]],\n",
       "\n",
       "       [[3.96462071]],\n",
       "\n",
       "       [[4.50071273]],\n",
       "\n",
       "       [[4.76975038]],\n",
       "\n",
       "       [[4.77218391]],\n",
       "\n",
       "       [[4.67761453]],\n",
       "\n",
       "       [[4.34346036]],\n",
       "\n",
       "       [[4.71829338]],\n",
       "\n",
       "       [[4.70797738]],\n",
       "\n",
       "       [[4.54928882]],\n",
       "\n",
       "       [[4.37720464]],\n",
       "\n",
       "       [[4.48212784]],\n",
       "\n",
       "       [[4.8750198 ]],\n",
       "\n",
       "       [[5.29908518]],\n",
       "\n",
       "       [[5.7978889 ]],\n",
       "\n",
       "       [[6.30608778]],\n",
       "\n",
       "       [[5.89533342]],\n",
       "\n",
       "       [[5.92158229]],\n",
       "\n",
       "       [[4.76557404]],\n",
       "\n",
       "       [[4.47030305]],\n",
       "\n",
       "       [[4.11737868]],\n",
       "\n",
       "       [[4.74079442]],\n",
       "\n",
       "       [[4.51791748]],\n",
       "\n",
       "       [[4.98909495]],\n",
       "\n",
       "       [[5.19449091]],\n",
       "\n",
       "       [[4.6807435 ]],\n",
       "\n",
       "       [[4.83802929]],\n",
       "\n",
       "       [[4.67837698]],\n",
       "\n",
       "       [[4.69109964]],\n",
       "\n",
       "       [[4.60642711]],\n",
       "\n",
       "       [[4.17071951]],\n",
       "\n",
       "       [[4.09467624]],\n",
       "\n",
       "       [[4.70585169]],\n",
       "\n",
       "       [[4.01741268]],\n",
       "\n",
       "       [[4.64645712]],\n",
       "\n",
       "       [[4.08714316]],\n",
       "\n",
       "       [[6.20711775]],\n",
       "\n",
       "       [[4.63369042]],\n",
       "\n",
       "       [[4.58625614]],\n",
       "\n",
       "       [[4.13296407]],\n",
       "\n",
       "       [[4.71671662]],\n",
       "\n",
       "       [[4.52876876]],\n",
       "\n",
       "       [[4.42940746]],\n",
       "\n",
       "       [[5.03798385]],\n",
       "\n",
       "       [[4.65714187]],\n",
       "\n",
       "       [[4.10060769]],\n",
       "\n",
       "       [[4.68010485]],\n",
       "\n",
       "       [[4.49514981]],\n",
       "\n",
       "       [[4.46615486]],\n",
       "\n",
       "       [[4.46954651]],\n",
       "\n",
       "       [[4.28266271]],\n",
       "\n",
       "       [[4.32135143]],\n",
       "\n",
       "       [[4.36792278]],\n",
       "\n",
       "       [[4.34313146]],\n",
       "\n",
       "       [[4.18771301]],\n",
       "\n",
       "       [[4.40006838]],\n",
       "\n",
       "       [[4.47855402]],\n",
       "\n",
       "       [[4.65696734]],\n",
       "\n",
       "       [[4.02824417]],\n",
       "\n",
       "       [[4.04268995]],\n",
       "\n",
       "       [[4.43355046]],\n",
       "\n",
       "       [[4.31343001]],\n",
       "\n",
       "       [[4.7590395 ]],\n",
       "\n",
       "       [[4.30145917]],\n",
       "\n",
       "       [[4.60918207]],\n",
       "\n",
       "       [[4.41147224]],\n",
       "\n",
       "       [[4.49722167]],\n",
       "\n",
       "       [[4.19654574]],\n",
       "\n",
       "       [[4.80365005]],\n",
       "\n",
       "       [[6.00081041]],\n",
       "\n",
       "       [[4.42597642]],\n",
       "\n",
       "       [[3.88937366]],\n",
       "\n",
       "       [[4.22478965]],\n",
       "\n",
       "       [[4.64868129]],\n",
       "\n",
       "       [[4.3119914 ]],\n",
       "\n",
       "       [[4.55380492]],\n",
       "\n",
       "       [[4.6718787 ]],\n",
       "\n",
       "       [[4.51016093]],\n",
       "\n",
       "       [[4.12874434]],\n",
       "\n",
       "       [[4.68702503]],\n",
       "\n",
       "       [[5.2353867 ]],\n",
       "\n",
       "       [[4.64306261]],\n",
       "\n",
       "       [[4.66465013]],\n",
       "\n",
       "       [[4.61325697]],\n",
       "\n",
       "       [[3.96639466]],\n",
       "\n",
       "       [[4.0484536 ]],\n",
       "\n",
       "       [[4.02796766]],\n",
       "\n",
       "       [[4.13958488]],\n",
       "\n",
       "       [[4.46085031]],\n",
       "\n",
       "       [[5.08817852]],\n",
       "\n",
       "       [[5.26282453]],\n",
       "\n",
       "       [[4.40763653]],\n",
       "\n",
       "       [[4.62883329]],\n",
       "\n",
       "       [[4.2518036 ]],\n",
       "\n",
       "       [[4.1596162 ]],\n",
       "\n",
       "       [[3.79156282]],\n",
       "\n",
       "       [[5.00587531]],\n",
       "\n",
       "       [[4.4971639 ]],\n",
       "\n",
       "       [[4.42028908]],\n",
       "\n",
       "       [[4.89942068]],\n",
       "\n",
       "       [[4.36821962]],\n",
       "\n",
       "       [[4.79457872]],\n",
       "\n",
       "       [[4.57531007]],\n",
       "\n",
       "       [[4.78966999]],\n",
       "\n",
       "       [[4.66839642]],\n",
       "\n",
       "       [[4.38773764]],\n",
       "\n",
       "       [[4.47434198]],\n",
       "\n",
       "       [[4.39707494]],\n",
       "\n",
       "       [[4.04833171]],\n",
       "\n",
       "       [[4.32135143]],\n",
       "\n",
       "       [[4.37800972]],\n",
       "\n",
       "       [[4.38389402]],\n",
       "\n",
       "       [[4.2316425 ]],\n",
       "\n",
       "       [[4.40006838]],\n",
       "\n",
       "       [[4.43110856]],\n",
       "\n",
       "       [[4.65696734]],\n",
       "\n",
       "       [[4.78820907]],\n",
       "\n",
       "       [[4.17570663]],\n",
       "\n",
       "       [[4.00126652]],\n",
       "\n",
       "       [[4.02824417]],\n",
       "\n",
       "       [[4.43355046]],\n",
       "\n",
       "       [[4.0578852 ]],\n",
       "\n",
       "       [[4.31343001]],\n",
       "\n",
       "       [[4.6590605 ]],\n",
       "\n",
       "       [[4.7590395 ]],\n",
       "\n",
       "       [[4.40654317]],\n",
       "\n",
       "       [[4.49722167]],\n",
       "\n",
       "       [[4.80365005]],\n",
       "\n",
       "       [[4.22528861]],\n",
       "\n",
       "       [[3.95997832]],\n",
       "\n",
       "       [[4.58875777]],\n",
       "\n",
       "       [[4.91586996]],\n",
       "\n",
       "       [[4.3312899 ]],\n",
       "\n",
       "       [[4.60900056]],\n",
       "\n",
       "       [[4.78152221]],\n",
       "\n",
       "       [[4.64827099]],\n",
       "\n",
       "       [[4.3680655 ]],\n",
       "\n",
       "       [[4.4021727 ]],\n",
       "\n",
       "       [[4.77636747]],\n",
       "\n",
       "       [[4.212214  ]],\n",
       "\n",
       "       [[4.57378268]],\n",
       "\n",
       "       [[4.78374939]],\n",
       "\n",
       "       [[4.63179497]],\n",
       "\n",
       "       [[4.15399187]],\n",
       "\n",
       "       [[4.15399187]],\n",
       "\n",
       "       [[4.05756003]],\n",
       "\n",
       "       [[4.16201429]],\n",
       "\n",
       "       [[4.23205017]],\n",
       "\n",
       "       [[4.16201429]],\n",
       "\n",
       "       [[4.23205017]],\n",
       "\n",
       "       [[4.16201429]],\n",
       "\n",
       "       [[4.87163455]],\n",
       "\n",
       "       [[4.86564598]],\n",
       "\n",
       "       [[5.01084001]],\n",
       "\n",
       "       [[4.34425678]],\n",
       "\n",
       "       [[4.76032469]],\n",
       "\n",
       "       [[4.66498933]],\n",
       "\n",
       "       [[4.65212935]],\n",
       "\n",
       "       [[4.75629107]],\n",
       "\n",
       "       [[4.87844937]],\n",
       "\n",
       "       [[3.86510826]],\n",
       "\n",
       "       [[4.80959065]],\n",
       "\n",
       "       [[4.67845343]],\n",
       "\n",
       "       [[4.44034357]],\n",
       "\n",
       "       [[5.01084001]],\n",
       "\n",
       "       [[4.44622771]],\n",
       "\n",
       "       [[4.80983952]],\n",
       "\n",
       "       [[4.44582483]],\n",
       "\n",
       "       [[4.31567501]],\n",
       "\n",
       "       [[4.38226815]],\n",
       "\n",
       "       [[4.23097334]],\n",
       "\n",
       "       [[4.99736818]],\n",
       "\n",
       "       [[3.91053636]],\n",
       "\n",
       "       [[4.64591735]],\n",
       "\n",
       "       [[4.91912165]],\n",
       "\n",
       "       [[4.79138637]],\n",
       "\n",
       "       [[5.03636383]],\n",
       "\n",
       "       [[4.96670026]],\n",
       "\n",
       "       [[4.91022212]],\n",
       "\n",
       "       [[4.79177611]],\n",
       "\n",
       "       [[4.38846597]],\n",
       "\n",
       "       [[4.23656001]],\n",
       "\n",
       "       [[4.45159291]],\n",
       "\n",
       "       [[4.08443496]],\n",
       "\n",
       "       [[3.94757141]],\n",
       "\n",
       "       [[4.07084219]],\n",
       "\n",
       "       [[4.10503854]],\n",
       "\n",
       "       [[4.27690574]],\n",
       "\n",
       "       [[4.35973399]],\n",
       "\n",
       "       [[3.94600224]],\n",
       "\n",
       "       [[3.76745905]],\n",
       "\n",
       "       [[3.78855873]],\n",
       "\n",
       "       [[3.81264057]],\n",
       "\n",
       "       [[3.72237281]],\n",
       "\n",
       "       [[4.35817976]],\n",
       "\n",
       "       [[3.95437578]],\n",
       "\n",
       "       [[3.9994429 ]],\n",
       "\n",
       "       [[4.15667781]],\n",
       "\n",
       "       [[4.87236203]],\n",
       "\n",
       "       [[4.51040535]],\n",
       "\n",
       "       [[4.52950013]],\n",
       "\n",
       "       [[4.51233243]],\n",
       "\n",
       "       [[3.99582109]],\n",
       "\n",
       "       [[4.20162644]],\n",
       "\n",
       "       [[4.24810152]],\n",
       "\n",
       "       [[4.62956391]],\n",
       "\n",
       "       [[4.85107482]],\n",
       "\n",
       "       [[4.44818527]],\n",
       "\n",
       "       [[4.45377707]],\n",
       "\n",
       "       [[4.40487692]],\n",
       "\n",
       "       [[3.92388536]],\n",
       "\n",
       "       [[4.46935857]],\n",
       "\n",
       "       [[4.0530089 ]],\n",
       "\n",
       "       [[3.92664456]],\n",
       "\n",
       "       [[3.9586276 ]],\n",
       "\n",
       "       [[3.85067866]],\n",
       "\n",
       "       [[3.64873971]],\n",
       "\n",
       "       [[3.77835023]],\n",
       "\n",
       "       [[4.47434198]],\n",
       "\n",
       "       [[4.55904357]],\n",
       "\n",
       "       [[4.41120862]],\n",
       "\n",
       "       [[4.72117134]],\n",
       "\n",
       "       [[4.74269812]],\n",
       "\n",
       "       [[5.09912576]],\n",
       "\n",
       "       [[4.96312974]],\n",
       "\n",
       "       [[4.24176707]],\n",
       "\n",
       "       [[4.90513665]],\n",
       "\n",
       "       [[4.72915037]],\n",
       "\n",
       "       [[4.81427816]],\n",
       "\n",
       "       [[4.81621274]],\n",
       "\n",
       "       [[4.32072157]],\n",
       "\n",
       "       [[4.61146258]],\n",
       "\n",
       "       [[4.38192808]],\n",
       "\n",
       "       [[4.8693779 ]],\n",
       "\n",
       "       [[4.65473256]],\n",
       "\n",
       "       [[4.34546024]],\n",
       "\n",
       "       [[4.97073414]],\n",
       "\n",
       "       [[4.84551462]],\n",
       "\n",
       "       [[4.68749036]],\n",
       "\n",
       "       [[5.19718966]],\n",
       "\n",
       "       [[4.6283482 ]],\n",
       "\n",
       "       [[4.38526806]],\n",
       "\n",
       "       [[4.47208509]],\n",
       "\n",
       "       [[4.43943245]],\n",
       "\n",
       "       [[4.91370572]],\n",
       "\n",
       "       [[4.40435735]],\n",
       "\n",
       "       [[4.48195376]],\n",
       "\n",
       "       [[4.45085054]],\n",
       "\n",
       "       [[4.54143728]],\n",
       "\n",
       "       [[4.71318122]],\n",
       "\n",
       "       [[4.83582799]],\n",
       "\n",
       "       [[4.49464002]],\n",
       "\n",
       "       [[4.33102386]],\n",
       "\n",
       "       [[4.95316065]],\n",
       "\n",
       "       [[5.01102031]],\n",
       "\n",
       "       [[4.57558158]],\n",
       "\n",
       "       [[4.34958866]],\n",
       "\n",
       "       [[5.22299454]],\n",
       "\n",
       "       [[5.75267187]],\n",
       "\n",
       "       [[4.92262272]],\n",
       "\n",
       "       [[4.94047179]],\n",
       "\n",
       "       [[5.16225251]],\n",
       "\n",
       "       [[4.55059223]],\n",
       "\n",
       "       [[4.64603479]],\n",
       "\n",
       "       [[4.46344911]],\n",
       "\n",
       "       [[4.36336348]],\n",
       "\n",
       "       [[4.55782014]],\n",
       "\n",
       "       [[4.6867299 ]],\n",
       "\n",
       "       [[4.91125004]],\n",
       "\n",
       "       [[5.01993565]],\n",
       "\n",
       "       [[4.65428554]],\n",
       "\n",
       "       [[4.41665815]],\n",
       "\n",
       "       [[4.29468251]],\n",
       "\n",
       "       [[4.60408987]],\n",
       "\n",
       "       [[4.32073341]],\n",
       "\n",
       "       [[4.43927247]],\n",
       "\n",
       "       [[4.85600503]],\n",
       "\n",
       "       [[4.82273368]],\n",
       "\n",
       "       [[4.66275689]],\n",
       "\n",
       "       [[4.76997046]],\n",
       "\n",
       "       [[4.21698163]],\n",
       "\n",
       "       [[4.40038964]],\n",
       "\n",
       "       [[4.27843715]],\n",
       "\n",
       "       [[6.6891228 ]],\n",
       "\n",
       "       [[4.18827159]],\n",
       "\n",
       "       [[4.23164829]],\n",
       "\n",
       "       [[4.64962065]],\n",
       "\n",
       "       [[4.2170411 ]],\n",
       "\n",
       "       [[4.57848228]],\n",
       "\n",
       "       [[4.40753376]],\n",
       "\n",
       "       [[5.15097032]],\n",
       "\n",
       "       [[5.62279179]],\n",
       "\n",
       "       [[4.77622905]],\n",
       "\n",
       "       [[4.19898729]],\n",
       "\n",
       "       [[4.11130484]],\n",
       "\n",
       "       [[5.11790761]],\n",
       "\n",
       "       [[4.31096438]],\n",
       "\n",
       "       [[4.17659789]],\n",
       "\n",
       "       [[4.29092537]],\n",
       "\n",
       "       [[4.66258023]],\n",
       "\n",
       "       [[5.24564725]],\n",
       "\n",
       "       [[4.70049146]],\n",
       "\n",
       "       [[4.79456356]],\n",
       "\n",
       "       [[4.35901902]],\n",
       "\n",
       "       [[4.87509508]],\n",
       "\n",
       "       [[4.36683654]],\n",
       "\n",
       "       [[4.13212856]],\n",
       "\n",
       "       [[4.12105521]],\n",
       "\n",
       "       [[4.25137351]],\n",
       "\n",
       "       [[4.13579456]],\n",
       "\n",
       "       [[4.14643447]],\n",
       "\n",
       "       [[4.84630069]]])"
      ]
     },
     "execution_count": 18,
     "metadata": {},
     "output_type": "execute_result"
    }
   ],
   "source": [
    "ths"
   ]
  },
  {
   "cell_type": "code",
   "execution_count": null,
   "metadata": {},
   "outputs": [],
   "source": []
  }
 ],
 "metadata": {
  "kernelspec": {
   "display_name": "Python 3",
   "language": "python",
   "name": "python3"
  },
  "language_info": {
   "codemirror_mode": {
    "name": "ipython",
    "version": 3
   },
   "file_extension": ".py",
   "mimetype": "text/x-python",
   "name": "python",
   "nbconvert_exporter": "python",
   "pygments_lexer": "ipython3",
   "version": "3.10.12"
  }
 },
 "nbformat": 4,
 "nbformat_minor": 2
}
