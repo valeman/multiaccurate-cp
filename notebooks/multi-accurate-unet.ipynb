{
 "cells": [
  {
   "cell_type": "code",
   "execution_count": 1,
   "metadata": {},
   "outputs": [],
   "source": [
    "import os\n",
    "import yaml\n",
    "\n",
    "import cv2\n",
    "import numpy as np\n",
    "import matplotlib.pyplot as plt\n",
    "from scipy import integrate\n",
    "from scipy.optimize import minimize\n",
    "from tqdm import tqdm\n"
   ]
  },
  {
   "cell_type": "code",
   "execution_count": 2,
   "metadata": {},
   "outputs": [],
   "source": [
    "BASE_DIR = \"/home/vblot/multiaccurate_cp/data\"\n",
    "MODELS_PATH = \"/home/vblot/multiaccurate_cp/data/03_model_weights/resnet\"\n",
    "MODEL_NAME = \"20240322_1039\""
   ]
  },
  {
   "cell_type": "code",
   "execution_count": 3,
   "metadata": {},
   "outputs": [],
   "source": [
    "IMG_SIZE = 128\n",
    "EMBEDDING_SIZE = 512 "
   ]
  },
  {
   "cell_type": "code",
   "execution_count": 4,
   "metadata": {},
   "outputs": [],
   "source": [
    "DIR_CAL_PRED_PROBAS = os.path.join(BASE_DIR, \"04_predictions/cal/pred_probas\")\n",
    "DIR_CAL_RES_EMB = os.path.join(BASE_DIR, \"04_predictions/cal/embeddings\")\n",
    "DIR_CAL_LABELS = os.path.join(BASE_DIR, \"02_prepared_data/cal/labels\")\n",
    "DIR_TEST_PRED_PROBAS = DIR_CAL_PRED_PROBAS.replace(\"cal\", \"test\")\n",
    "DIR_TEST_RES_EMB = DIR_CAL_RES_EMB.replace(\"cal\", \"test\")\n",
    "DIR_TEST_LABELS = DIR_CAL_LABELS.replace(\"cal\", \"test\")\n"
   ]
  },
  {
   "cell_type": "code",
   "execution_count": 5,
   "metadata": {},
   "outputs": [],
   "source": [
    "def load_data(pred_probas_dir, res_emb_dir, labels_dir):\n",
    "    pred_probas = np.zeros((len(os.listdir(pred_probas_dir)), IMG_SIZE, IMG_SIZE))\n",
    "    res_emb = np.zeros((len(os.listdir(res_emb_dir)), EMBEDDING_SIZE))\n",
    "    labels = np.zeros((len(os.listdir(labels_dir)), IMG_SIZE, IMG_SIZE))\n",
    "\n",
    "    for i, (pred_proba_file, res_emb_file, label_file) in enumerate(tqdm(zip(sorted(os.listdir(pred_probas_dir)),\n",
    "                                                                       sorted(os.listdir(res_emb_dir)),\n",
    "                                                                       sorted(os.listdir(labels_dir))))):\n",
    "        pred_proba = np.load(os.path.join(pred_probas_dir, pred_proba_file))\n",
    "        pred_probas[i] = cv2.resize(pred_proba, (IMG_SIZE, IMG_SIZE))\n",
    "        res_emb[i] = np.load(os.path.join(res_emb_dir, res_emb_file))\n",
    "        label = cv2.imread(os.path.join(labels_dir, label_file), cv2.IMREAD_GRAYSCALE) / 255\n",
    "        labels[i] = cv2.resize(label, (IMG_SIZE, IMG_SIZE)) > .5    \n",
    "    return pred_probas, res_emb, labels\n"
   ]
  },
  {
   "cell_type": "code",
   "execution_count": 6,
   "metadata": {},
   "outputs": [
    {
     "ename": "FileNotFoundError",
     "evalue": "[Errno 2] No such file or directory: '/home/vblot/multiaccurate_cp/data/04_predictions/cal/pred_probas'",
     "output_type": "error",
     "traceback": [
      "\u001b[0;31m---------------------------------------------------------------------------\u001b[0m",
      "\u001b[0;31mFileNotFoundError\u001b[0m                         Traceback (most recent call last)",
      "Cell \u001b[0;32mIn[6], line 1\u001b[0m\n\u001b[0;32m----> 1\u001b[0m cal_pred_probas, cal_res_emb, cal_labels \u001b[38;5;241m=\u001b[39m \u001b[43mload_data\u001b[49m\u001b[43m(\u001b[49m\u001b[43mDIR_CAL_PRED_PROBAS\u001b[49m\u001b[43m,\u001b[49m\u001b[43m \u001b[49m\u001b[43mDIR_CAL_RES_EMB\u001b[49m\u001b[43m,\u001b[49m\u001b[43m \u001b[49m\u001b[43mDIR_CAL_LABELS\u001b[49m\u001b[43m)\u001b[49m\n",
      "Cell \u001b[0;32mIn[5], line 2\u001b[0m, in \u001b[0;36mload_data\u001b[0;34m(pred_probas_dir, res_emb_dir, labels_dir)\u001b[0m\n\u001b[1;32m      1\u001b[0m \u001b[38;5;28;01mdef\u001b[39;00m \u001b[38;5;21mload_data\u001b[39m(pred_probas_dir, res_emb_dir, labels_dir):\n\u001b[0;32m----> 2\u001b[0m     pred_probas \u001b[38;5;241m=\u001b[39m np\u001b[38;5;241m.\u001b[39mzeros((\u001b[38;5;28mlen\u001b[39m(\u001b[43mos\u001b[49m\u001b[38;5;241;43m.\u001b[39;49m\u001b[43mlistdir\u001b[49m\u001b[43m(\u001b[49m\u001b[43mpred_probas_dir\u001b[49m\u001b[43m)\u001b[49m), IMG_SIZE, IMG_SIZE))\n\u001b[1;32m      3\u001b[0m     res_emb \u001b[38;5;241m=\u001b[39m np\u001b[38;5;241m.\u001b[39mzeros((\u001b[38;5;28mlen\u001b[39m(os\u001b[38;5;241m.\u001b[39mlistdir(res_emb_dir)), EMBEDDING_SIZE))\n\u001b[1;32m      4\u001b[0m     labels \u001b[38;5;241m=\u001b[39m np\u001b[38;5;241m.\u001b[39mzeros((\u001b[38;5;28mlen\u001b[39m(os\u001b[38;5;241m.\u001b[39mlistdir(labels_dir)), IMG_SIZE, IMG_SIZE))\n",
      "\u001b[0;31mFileNotFoundError\u001b[0m: [Errno 2] No such file or directory: '/home/vblot/multiaccurate_cp/data/04_predictions/cal/pred_probas'"
     ]
    }
   ],
   "source": [
    "cal_pred_probas, cal_res_emb, cal_labels = load_data(DIR_CAL_PRED_PROBAS, DIR_CAL_RES_EMB, DIR_CAL_LABELS)\n"
   ]
  },
  {
   "cell_type": "code",
   "execution_count": 7,
   "metadata": {},
   "outputs": [
    {
     "ename": "FileNotFoundError",
     "evalue": "[Errno 2] No such file or directory: '/home/vblot/multiaccurate_cp/data/04_predictions/test/pred_probas'",
     "output_type": "error",
     "traceback": [
      "\u001b[0;31m---------------------------------------------------------------------------\u001b[0m",
      "\u001b[0;31mFileNotFoundError\u001b[0m                         Traceback (most recent call last)",
      "Cell \u001b[0;32mIn[7], line 1\u001b[0m\n\u001b[0;32m----> 1\u001b[0m test_pred_probas, test_res_emb, test_labels \u001b[38;5;241m=\u001b[39m \u001b[43mload_data\u001b[49m\u001b[43m(\u001b[49m\u001b[43mDIR_TEST_PRED_PROBAS\u001b[49m\u001b[43m,\u001b[49m\u001b[43m \u001b[49m\u001b[43mDIR_TEST_RES_EMB\u001b[49m\u001b[43m,\u001b[49m\u001b[43m \u001b[49m\u001b[43mDIR_TEST_LABELS\u001b[49m\u001b[43m)\u001b[49m\n",
      "Cell \u001b[0;32mIn[5], line 2\u001b[0m, in \u001b[0;36mload_data\u001b[0;34m(pred_probas_dir, res_emb_dir, labels_dir)\u001b[0m\n\u001b[1;32m      1\u001b[0m \u001b[38;5;28;01mdef\u001b[39;00m \u001b[38;5;21mload_data\u001b[39m(pred_probas_dir, res_emb_dir, labels_dir):\n\u001b[0;32m----> 2\u001b[0m     pred_probas \u001b[38;5;241m=\u001b[39m np\u001b[38;5;241m.\u001b[39mzeros((\u001b[38;5;28mlen\u001b[39m(\u001b[43mos\u001b[49m\u001b[38;5;241;43m.\u001b[39;49m\u001b[43mlistdir\u001b[49m\u001b[43m(\u001b[49m\u001b[43mpred_probas_dir\u001b[49m\u001b[43m)\u001b[49m), IMG_SIZE, IMG_SIZE))\n\u001b[1;32m      3\u001b[0m     res_emb \u001b[38;5;241m=\u001b[39m np\u001b[38;5;241m.\u001b[39mzeros((\u001b[38;5;28mlen\u001b[39m(os\u001b[38;5;241m.\u001b[39mlistdir(res_emb_dir)), EMBEDDING_SIZE))\n\u001b[1;32m      4\u001b[0m     labels \u001b[38;5;241m=\u001b[39m np\u001b[38;5;241m.\u001b[39mzeros((\u001b[38;5;28mlen\u001b[39m(os\u001b[38;5;241m.\u001b[39mlistdir(labels_dir)), IMG_SIZE, IMG_SIZE))\n",
      "\u001b[0;31mFileNotFoundError\u001b[0m: [Errno 2] No such file or directory: '/home/vblot/multiaccurate_cp/data/04_predictions/test/pred_probas'"
     ]
    }
   ],
   "source": [
    "test_pred_probas, test_res_emb, test_labels = load_data(DIR_TEST_PRED_PROBAS, DIR_TEST_RES_EMB, DIR_TEST_LABELS)"
   ]
  },
  {
   "cell_type": "code",
   "execution_count": 9,
   "metadata": {},
   "outputs": [
    {
     "data": {
      "text/plain": [
       "(2300, 512)"
      ]
     },
     "execution_count": 9,
     "metadata": {},
     "output_type": "execute_result"
    }
   ],
   "source": [
    "test_res_emb.shape"
   ]
  },
  {
   "cell_type": "code",
   "execution_count": 10,
   "metadata": {},
   "outputs": [],
   "source": [
    "index_not_empy = np.where(cal_labels.sum(axis=(1, 2)) > 0)[0]\n",
    "cal_labels = cal_labels[index_not_empy]\n",
    "cal_res_emb = cal_res_emb[index_not_empy]\n",
    "cal_pred_probas = cal_pred_probas[index_not_empy]"
   ]
  },
  {
   "cell_type": "code",
   "execution_count": 11,
   "metadata": {},
   "outputs": [
    {
     "data": {
      "text/plain": [
       "((1225, 128, 128), (1225, 512), (1225, 128, 128))"
      ]
     },
     "execution_count": 11,
     "metadata": {},
     "output_type": "execute_result"
    }
   ],
   "source": [
    "cal_labels.shape, cal_res_emb.shape, cal_pred_probas.shape"
   ]
  },
  {
   "cell_type": "code",
   "execution_count": 12,
   "metadata": {},
   "outputs": [
    {
     "data": {
      "text/plain": [
       "(1.0, 0.999923586845398)"
      ]
     },
     "execution_count": 12,
     "metadata": {},
     "output_type": "execute_result"
    }
   ],
   "source": [
    "cal_labels.max(), cal_pred_probas.max()"
   ]
  },
  {
   "cell_type": "code",
   "execution_count": 13,
   "metadata": {},
   "outputs": [],
   "source": [
    "ALPHA = .1\n",
    "N = len(cal_labels)\n",
    "\n",
    "\n",
    "def I_prime(y, y_pred, u):\n",
    "    if y_pred.ndim == 2:\n",
    "        y_pred_th = (y_pred[:, :, np.newaxis] > u).astype(int)\n",
    "        loss = 1 - (y_pred_th * y[:, :, np.newaxis]).sum(axis=(0, 1)) / y.sum()\n",
    "    else:\n",
    "        y_pred_th = (y_pred > u[:, np.newaxis, np.newaxis]).astype(int)\n",
    "        loss = 1 - (y_pred_th * y).sum(axis=(1, 2)) / y.sum(axis=(1, 2))\n",
    "    return loss - (ALPHA - 1/N)\n",
    "\n",
    "def I_prime_vec(y, y_pred, u, batch_size=100):\n",
    "    n = y.shape[0]\n",
    "    n_batch = n // batch_size\n",
    "    i_primes = np.zeros((n, len(u)))\n",
    "    for i in tqdm(range(n_batch)):\n",
    "        u_batch = u[i*batch_size:(i+1)*batch_size]\n",
    "        y_batch = y[i*batch_size:(i+1)*batch_size]\n",
    "        y_pred_batch = y_pred[i*batch_size:(i+1)*batch_size]\n",
    "        y_pred_batch = y_pred_batch[:, :, :, np.newaxis]\n",
    "        y_pred_batch = np.repeat(y_pred_batch, len(u_batch), axis=3)\n",
    "        y_pred_batch_th = (y_pred_batch > u_batch[:, np.newaxis, np.newaxis, :]).astype(int)\n",
    "        loss = 1 - (y_pred_batch_th * y_batch[:, :, :, np.newaxis]).sum(axis=1) / y_batch[:, :, :, np.newaxis].sum(axis=1)\n",
    "        i_primes[i*batch_size:(i+1)*batch_size] = loss - (ALPHA - 1/N)\n",
    "    return i_primes\n",
    "\n",
    "\n",
    "def I_prime_vec_fixed_quad(y, y_pred, u):\n",
    "    \n",
    "    y_pred_th = (y_pred[:, :, :, np.newaxis] > u).astype(int)\n",
    "    loss = 1 - (y_pred_th * y[:, :, :, np.newaxis]).sum(axis=1) / y[:, :, :, np.newaxis].sum(axis=1)\n",
    "    return loss - (ALPHA - 1/N)\n",
    "\n",
    "def I_prime_vec_fixed_quad_batch(y, y_pred, u, batch_size=100):\n",
    "    n = y.shape[0]\n",
    "    n_batch = n // batch_size\n",
    "    res = np.zeros((n, len(u)))\n",
    "    for i in range(n_batch):\n",
    "        res[i*batch_size:(i+1)*batch_size] = I_prime_vec_fixed_quad(y[i*batch_size:(i+1)*batch_size], y_pred[i*batch_size:(i+1)*batch_size], u)\n",
    "    if n_batch * batch_size < n:\n",
    "        res[n_batch * batch_size:] = I_prime_vec_fixed_quad(y[n_batch * batch_size:], y_pred[n_batch * batch_size:], u)\n",
    "    return res"
   ]
  },
  {
   "cell_type": "code",
   "execution_count": 14,
   "metadata": {},
   "outputs": [],
   "source": [
    "from multiprocessing import Pool\n"
   ]
  },
  {
   "cell_type": "code",
   "execution_count": 15,
   "metadata": {},
   "outputs": [
    {
     "data": {
      "text/plain": [
       "range(10, 1225)"
      ]
     },
     "execution_count": 15,
     "metadata": {},
     "output_type": "execute_result"
    }
   ],
   "source": [
    "range(10, N)"
   ]
  },
  {
   "cell_type": "code",
   "execution_count": 16,
   "metadata": {},
   "outputs": [],
   "source": [
    "def integrate_i(y_i, y_pred_i, us_i):\n",
    "    return integrate.fixed_quad(\n",
    "            lambda theta_prime: I_prime(y_i, y_pred_i, theta_prime),\n",
    "            0, us_i, n=100\n",
    "        )[0]"
   ]
  },
  {
   "cell_type": "code",
   "execution_count": 17,
   "metadata": {},
   "outputs": [],
   "source": [
    "def I_vec_uni(y, y_pred, emb, theta):\n",
    "    us = emb @ theta\n",
    "    integrals = np.zeros(len(y))\n",
    "    for index in tqdm(range(len(y))):\n",
    "        integrals[index] = integrate.fixed_quad(\n",
    "            lambda theta_prime: I_prime(y[index], y_pred[index], theta_prime),\n",
    "            0, us[index], n=100\n",
    "        )[0]\n",
    "    return integrals\n",
    "\n",
    "def I_vec_multi_proc(y, y_pred, emb, theta):\n",
    "    us = emb @ theta\n",
    "    \n",
    "    with Pool(20) as p:\n",
    "        data = [(y[i], y_pred[i], us[i]) for i in range(len(y))]\n",
    "        integrals = p.starmap(integrate_i, data)\n",
    "    return integrals\n"
   ]
  },
  {
   "cell_type": "code",
   "execution_count": 18,
   "metadata": {},
   "outputs": [],
   "source": [
    "def J2(theta, y, y_pred, emb):\n",
    "    integral = I_vec_multi_proc(y, y_pred, emb, theta)\n",
    "    return  np.mean(integral)\n",
    "def J(theta, y, y_pred, emb):\n",
    "    integral = I_vec_uni(y, y_pred, emb, theta)\n",
    "    return  np.mean(integral)"
   ]
  },
  {
   "cell_type": "code",
   "execution_count": 19,
   "metadata": {},
   "outputs": [
    {
     "data": {
      "text/plain": [
       "(100, 3)"
      ]
     },
     "execution_count": 19,
     "metadata": {},
     "output_type": "execute_result"
    }
   ],
   "source": [
    "np.linspace(0, [1, 2, 3], 100).shape"
   ]
  },
  {
   "cell_type": "code",
   "execution_count": 20,
   "metadata": {},
   "outputs": [],
   "source": [
    "init_test = np.random.uniform(0, 1, EMBEDDING_SIZE)\n"
   ]
  },
  {
   "cell_type": "code",
   "execution_count": 21,
   "metadata": {},
   "outputs": [
    {
     "data": {
      "text/plain": [
       "38.79873487413564"
      ]
     },
     "execution_count": 21,
     "metadata": {},
     "output_type": "execute_result"
    }
   ],
   "source": [
    "J2(init_test, cal_labels, cal_pred_probas, cal_res_emb)"
   ]
  },
  {
   "cell_type": "code",
   "execution_count": 22,
   "metadata": {},
   "outputs": [
    {
     "name": "stderr",
     "output_type": "stream",
     "text": [
      "  0%|          | 0/1225 [00:00<?, ?it/s]"
     ]
    },
    {
     "name": "stderr",
     "output_type": "stream",
     "text": [
      " 95%|█████████▍| 1159/1225 [00:05<00:00, 225.79it/s]"
     ]
    },
    {
     "name": "stdout",
     "output_type": "stream",
     "text": [
      "The history saving thread hit an unexpected error (OperationalError('database is locked')).History will not be written to the database.\n"
     ]
    },
    {
     "name": "stderr",
     "output_type": "stream",
     "text": [
      "100%|██████████| 1225/1225 [00:05<00:00, 224.31it/s]\n"
     ]
    },
    {
     "data": {
      "text/plain": [
       "38.79873487413564"
      ]
     },
     "execution_count": 22,
     "metadata": {},
     "output_type": "execute_result"
    }
   ],
   "source": [
    "J(init_test, cal_labels, cal_pred_probas, cal_res_emb)"
   ]
  },
  {
   "cell_type": "code",
   "execution_count": 23,
   "metadata": {},
   "outputs": [],
   "source": [
    "def J_prime(theta, y, y_pred, emb):\n",
    "    return  np.mean(emb * np.array(I_prime(y, y_pred,emb @ theta)).reshape(-1, 1), axis=0)"
   ]
  },
  {
   "cell_type": "code",
   "execution_count": 24,
   "metadata": {},
   "outputs": [
    {
     "data": {
      "text/plain": [
       "(512,)"
      ]
     },
     "execution_count": 24,
     "metadata": {},
     "output_type": "execute_result"
    }
   ],
   "source": [
    "J_prime(np.random.uniform(0, 1, EMBEDDING_SIZE), cal_labels, cal_pred_probas, cal_res_emb).shape"
   ]
  },
  {
   "cell_type": "code",
   "execution_count": 25,
   "metadata": {},
   "outputs": [],
   "source": [
    "result = minimize(\n",
    "    J2, np.random.uniform(0, 1, EMBEDDING_SIZE),\n",
    "    # bounds=[(0, 1)] * N_GROUPS,\n",
    "    args=(cal_labels, cal_pred_probas, cal_res_emb), jac=J_prime,\n",
    ")"
   ]
  },
  {
   "cell_type": "code",
   "execution_count": 26,
   "metadata": {},
   "outputs": [
    {
     "data": {
      "text/plain": [
       "  message: Desired error not necessarily achieved due to precision loss.\n",
       "  success: False\n",
       "   status: 2\n",
       "      fun: -0.010664881391997083\n",
       "        x: [-5.805e-01 -1.479e-01 ... -3.227e-01 -3.023e-01]\n",
       "      nit: 166\n",
       "      jac: [-1.414e-04 -4.815e-05 ... -8.892e-05 -6.228e-05]\n",
       " hess_inv: [[ 1.414e+01  1.139e+01 ...  2.452e+00 -5.231e+00]\n",
       "            [ 1.139e+01  1.317e+01 ...  3.078e+00 -3.806e+00]\n",
       "            ...\n",
       "            [ 2.452e+00  3.078e+00 ...  2.941e+00 -2.109e+00]\n",
       "            [-5.231e+00 -3.806e+00 ... -2.109e+00  7.849e+00]]\n",
       "     nfev: 261\n",
       "     njev: 253"
      ]
     },
     "execution_count": 26,
     "metadata": {},
     "output_type": "execute_result"
    }
   ],
   "source": [
    "result"
   ]
  },
  {
   "cell_type": "code",
   "execution_count": 27,
   "metadata": {},
   "outputs": [],
   "source": [
    "ths = (test_res_emb @ result.x).reshape(-1, 1, 1)"
   ]
  },
  {
   "cell_type": "code",
   "execution_count": 28,
   "metadata": {},
   "outputs": [
    {
     "data": {
      "text/plain": [
       "(2300, 512)"
      ]
     },
     "execution_count": 28,
     "metadata": {},
     "output_type": "execute_result"
    }
   ],
   "source": [
    "test_res_emb.shape"
   ]
  },
  {
   "cell_type": "code",
   "execution_count": 29,
   "metadata": {},
   "outputs": [
    {
     "name": "stderr",
     "output_type": "stream",
     "text": [
      "/tmp/ipykernel_18660/1774683259.py:2: RuntimeWarning: invalid value encountered in divide\n",
      "  recall_test = (y_pred_test_th * test_labels).sum(axis=1) / test_labels.sum(axis=1)\n"
     ]
    }
   ],
   "source": [
    "y_pred_test_th = (test_pred_probas >= ths).astype(int)\n",
    "recall_test = (y_pred_test_th * test_labels).sum(axis=1) / test_labels.sum(axis=1)"
   ]
  },
  {
   "cell_type": "code",
   "execution_count": 30,
   "metadata": {},
   "outputs": [
    {
     "data": {
      "text/plain": [
       "(0.8909607964454872, 0.9008163265306123)"
      ]
     },
     "execution_count": 30,
     "metadata": {},
     "output_type": "execute_result"
    }
   ],
   "source": [
    "np.nanmean(recall_test), 1 - ALPHA + 1/N"
   ]
  },
  {
   "cell_type": "code",
   "execution_count": 31,
   "metadata": {},
   "outputs": [
    {
     "name": "stderr",
     "output_type": "stream",
     "text": [
      "/tmp/ipykernel_18660/3317103724.py:1: RuntimeWarning: invalid value encountered in divide\n",
      "  precision_test = np.nan_to_num((y_pred_test_th * test_labels).sum(axis=(1, 2)) / y_pred_test_th.sum(axis=(1, 2)), nan=1)\n"
     ]
    },
    {
     "data": {
      "text/plain": [
       "0.6778373112805691"
      ]
     },
     "execution_count": 31,
     "metadata": {},
     "output_type": "execute_result"
    }
   ],
   "source": [
    "precision_test = np.nan_to_num((y_pred_test_th * test_labels).sum(axis=(1, 2)) / y_pred_test_th.sum(axis=(1, 2)), nan=1)\n",
    "np.mean(precision_test)"
   ]
  },
  {
   "cell_type": "code",
   "execution_count": 32,
   "metadata": {},
   "outputs": [
    {
     "data": {
      "text/plain": [
       "(array([  2.,   4.,   4.,   6.,  25.,  20.,  46.,  86.,  77.,  33.,  22.,\n",
       "         18.,  18.,  12.,  10.,  23.,  21.,  12.,  17.,  18.,  32.,  41.,\n",
       "         30.,  38.,  53.,  30.,  31.,  29.,  24.,  27.,  26.,  22.,  30.,\n",
       "         37.,  37.,  38.,  26.,  28.,  30.,  46.,  92., 142.,  70.,  19.,\n",
       "         17.,  16.,  13.,  16.,  16.,  15.,  17.,  14.,  17.,  21.,  12.,\n",
       "         15.,  23.,  16.,  20.,  15.,  28.,  18.,  18.,  21.,  28.,  23.,\n",
       "         21.,  19.,  24.,  25.,  20.,  25.,  25.,  19.,  23.,  17.,  22.,\n",
       "         26.,  22.,  39.,  35.,  40.,  21.,  12.,   6.,   7.,   0.,   0.,\n",
       "          0.,   0.,   0.,   0.,   0.,   0.,   0.,   0.,   0.,   0.,   0.,\n",
       "          1.]),\n",
       " array([-0.0533695 , -0.04528255, -0.0371956 , -0.02910865, -0.0210217 ,\n",
       "        -0.01293475, -0.0048478 ,  0.00323915,  0.0113261 ,  0.01941305,\n",
       "         0.0275    ,  0.03558695,  0.0436739 ,  0.05176085,  0.0598478 ,\n",
       "         0.06793475,  0.0760217 ,  0.08410865,  0.09219561,  0.10028256,\n",
       "         0.10836951,  0.11645646,  0.12454341,  0.13263036,  0.14071731,\n",
       "         0.14880426,  0.15689121,  0.16497816,  0.17306511,  0.18115206,\n",
       "         0.18923901,  0.19732596,  0.20541291,  0.21349986,  0.22158681,\n",
       "         0.22967376,  0.23776071,  0.24584766,  0.25393461,  0.26202156,\n",
       "         0.27010851,  0.27819546,  0.28628241,  0.29436936,  0.30245632,\n",
       "         0.31054327,  0.31863022,  0.32671717,  0.33480412,  0.34289107,\n",
       "         0.35097802,  0.35906497,  0.36715192,  0.37523887,  0.38332582,\n",
       "         0.39141277,  0.39949972,  0.40758667,  0.41567362,  0.42376057,\n",
       "         0.43184752,  0.43993447,  0.44802142,  0.45610837,  0.46419532,\n",
       "         0.47228227,  0.48036922,  0.48845617,  0.49654312,  0.50463008,\n",
       "         0.51271703,  0.52080398,  0.52889093,  0.53697788,  0.54506483,\n",
       "         0.55315178,  0.56123873,  0.56932568,  0.57741263,  0.58549958,\n",
       "         0.59358653,  0.60167348,  0.60976043,  0.61784738,  0.62593433,\n",
       "         0.63402128,  0.64210823,  0.65019518,  0.65828213,  0.66636908,\n",
       "         0.67445603,  0.68254298,  0.69062993,  0.69871688,  0.70680384,\n",
       "         0.71489079,  0.72297774,  0.73106469,  0.73915164,  0.74723859,\n",
       "         0.75532554]),\n",
       " <BarContainer object of 100 artists>)"
      ]
     },
     "execution_count": 32,
     "metadata": {},
     "output_type": "execute_result"
    },
    {
     "data": {
      "image/png": "[encoded data removed]",
      "text/plain": [
       "<Figure size 640x480 with 1 Axes>"
      ]
     },
     "metadata": {},
     "output_type": "display_data"
    }
   ],
   "source": [
    "plt.hist(ths[:, 0, 0], bins=100)"
   ]
  },
  {
   "cell_type": "code",
   "execution_count": 33,
   "metadata": {},
   "outputs": [
    {
     "data": {
      "text/plain": [
       "(array([287.,  19.,  21.,  47.,  49.,  90., 241., 606., 508., 432.]),\n",
       " array([0. , 0.1, 0.2, 0.3, 0.4, 0.5, 0.6, 0.7, 0.8, 0.9, 1. ]),\n",
       " <BarContainer object of 10 artists>)"
      ]
     },
     "execution_count": 33,
     "metadata": {},
     "output_type": "execute_result"
    },
    {
     "data": {
      "image/png": "[encoded data removed]",
      "text/plain": [
       "<Figure size 640x480 with 1 Axes>"
      ]
     },
     "metadata": {},
     "output_type": "display_data"
    }
   ],
   "source": [
    "plt.hist(precision_test)"
   ]
  },
  {
   "cell_type": "code",
   "execution_count": 34,
   "metadata": {},
   "outputs": [
    {
     "data": {
      "text/plain": [
       "(2300,)"
      ]
     },
     "execution_count": 34,
     "metadata": {},
     "output_type": "execute_result"
    }
   ],
   "source": [
    "precision_test.shape"
   ]
  },
  {
   "cell_type": "code",
   "execution_count": 35,
   "metadata": {},
   "outputs": [
    {
     "data": {
      "text/plain": [
       "0.7716185878267516"
      ]
     },
     "execution_count": 35,
     "metadata": {},
     "output_type": "execute_result"
    }
   ],
   "source": [
    "np.median(precision_test)"
   ]
  },
  {
   "cell_type": "code",
   "execution_count": null,
   "metadata": {},
   "outputs": [],
   "source": []
  }
 ],
 "metadata": {
  "kernelspec": {
   "display_name": "Python 3",
   "language": "python",
   "name": "python3"
  },
  "language_info": {
   "codemirror_mode": {
    "name": "ipython",
    "version": 3
   },
   "file_extension": ".py",
   "mimetype": "text/x-python",
   "name": "python",
   "nbconvert_exporter": "python",
   "pygments_lexer": "ipython3",
   "version": "3.10.12"
  }
 },
 "nbformat": 4,
 "nbformat_minor": 2
}
