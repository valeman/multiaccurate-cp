{
 "cells": [
  {
   "cell_type": "code",
   "execution_count": 1,
   "metadata": {},
   "outputs": [],
   "source": [
    "import os\n",
    "import shutil\n",
    "\n",
    "import numpy as np"
   ]
  },
  {
   "cell_type": "code",
   "execution_count": 2,
   "metadata": {},
   "outputs": [],
   "source": [
    "PATH = \"/home/vblot/multiaccurate_cp/train\"\n",
    "OUTPUT_PATH = \"/home/vblot/multiaccurate_cp/data/salt/02_prepared_data\"\n"
   ]
  },
  {
   "cell_type": "code",
   "execution_count": 3,
   "metadata": {},
   "outputs": [
    {
     "data": {
      "text/plain": [
       "(0.3, 0.2, 0.25, 0.12499999999999997, 0.12499999999999997)"
      ]
     },
     "execution_count": 3,
     "metadata": {},
     "output_type": "execute_result"
    }
   ],
   "source": [
    "TRAIN = .3\n",
    "VAL = .2\n",
    "TEST = .25\n",
    "CAL = (1 - TRAIN - VAL - TEST) / 2\n",
    "RES = 1 - TRAIN - VAL - TEST - CAL\n",
    "\n",
    "TRAIN,  VAL, TEST, CAL, RES"
   ]
  },
  {
   "cell_type": "code",
   "execution_count": 4,
   "metadata": {},
   "outputs": [
    {
     "data": {
      "text/plain": [
       "4000"
      ]
     },
     "execution_count": 4,
     "metadata": {},
     "output_type": "execute_result"
    }
   ],
   "source": [
    "len(os.listdir(os.path.join(PATH, \"images\")))"
   ]
  },
  {
   "cell_type": "code",
   "execution_count": 15,
   "metadata": {},
   "outputs": [
    {
     "data": {
      "text/plain": [
       "(1200, 800, 1000, 499)"
      ]
     },
     "execution_count": 15,
     "metadata": {},
     "output_type": "execute_result"
    }
   ],
   "source": [
    "all_images = os.listdir(os.path.join(PATH, \"images\"))\n",
    "\n",
    "\n",
    "n_train = int(len(all_images) * TRAIN)\n",
    "n_val = int(len(all_images) * VAL)\n",
    "n_test = int(len(all_images) * TEST)\n",
    "n_cal = int(len(all_images) * CAL)\n",
    "\n",
    "n_train, n_val, n_test, n_cal"
   ]
  },
  {
   "cell_type": "code",
   "execution_count": 16,
   "metadata": {},
   "outputs": [],
   "source": [
    "\n",
    "\n",
    "np.random.seed(42)\n",
    "train_images = np.random.choice(all_images, n_train, replace=False)\n",
    "all_images = list(set(all_images) - set(train_images))\n",
    "val_images = np.random.choice(all_images, n_val, replace=False)\n",
    "all_images = list(set(all_images) - set(val_images))\n",
    "test_images = np.random.choice(all_images, n_test, replace=False)\n",
    "all_images = list(set(all_images) - set(test_images))\n",
    "cal_images = np.random.choice(all_images, n_cal, replace=False)\n",
    "res_images = list(set(all_images) - set(cal_images))"
   ]
  },
  {
   "cell_type": "code",
   "execution_count": 17,
   "metadata": {},
   "outputs": [
    {
     "data": {
      "text/plain": [
       "(1200, 800, 1000, 499, 501)"
      ]
     },
     "execution_count": 17,
     "metadata": {},
     "output_type": "execute_result"
    }
   ],
   "source": [
    "len(train_images), len(val_images), len(test_images), len(cal_images), len(res_images)"
   ]
  },
  {
   "cell_type": "code",
   "execution_count": 18,
   "metadata": {},
   "outputs": [],
   "source": [
    "# check that all images in a set are unique and are not in an other set\n",
    "\n",
    "assert len(set(train_images) & set(test_images)) == 0\n",
    "assert len(set(train_images) & set(cal_images)) == 0\n",
    "assert len(set(train_images) & set(res_images)) == 0\n",
    "assert len(set(test_images) & set(cal_images)) == 0\n",
    "assert len(set(test_images) & set(res_images)) == 0\n",
    "assert len(set(cal_images) & set(res_images)) == 0\n"
   ]
  },
  {
   "cell_type": "code",
   "execution_count": 20,
   "metadata": {},
   "outputs": [],
   "source": [
    "for img_name in train_images:\n",
    "    if not os.path.exists(os.path.join(OUTPUT_PATH, \"train\", \"images\", img_name)):\n",
    "        os.makedirs(os.path.join(OUTPUT_PATH, \"train\", \"images\"), exist_ok=True)\n",
    "        os.makedirs(os.path.join(OUTPUT_PATH, \"train\", \"labels\"), exist_ok=True)\n",
    "    shutil.copy(os.path.join(PATH, \"images\", img_name), os.path.join(OUTPUT_PATH, \"train\", \"images\", img_name))\n",
    "    shutil.copy(os.path.join(PATH, \"masks\", img_name), os.path.join(OUTPUT_PATH, \"train\", \"labels\", img_name))"
   ]
  },
  {
   "cell_type": "code",
   "execution_count": 21,
   "metadata": {},
   "outputs": [],
   "source": [
    "for img_name in test_images:\n",
    "    if not os.path.exists(os.path.join(OUTPUT_PATH, \"test\", \"images\", img_name)):\n",
    "        os.makedirs(os.path.join(OUTPUT_PATH, \"test\", \"images\"), exist_ok=True)\n",
    "        os.makedirs(os.path.join(OUTPUT_PATH, \"test\", \"labels\"), exist_ok=True)\n",
    "    shutil.copy(os.path.join(PATH, \"images\", img_name), os.path.join(OUTPUT_PATH, \"test\", \"images\", img_name))\n",
    "    shutil.copy(os.path.join(PATH, \"masks\", img_name), os.path.join(OUTPUT_PATH, \"test\", \"labels\", img_name))"
   ]
  },
  {
   "cell_type": "code",
   "execution_count": 22,
   "metadata": {},
   "outputs": [],
   "source": [
    "for img_name in cal_images:\n",
    "    if not os.path.exists(os.path.join(OUTPUT_PATH, \"cal\", \"images\", img_name)):\n",
    "        os.makedirs(os.path.join(OUTPUT_PATH, \"cal\", \"images\"), exist_ok=True)\n",
    "        os.makedirs(os.path.join(OUTPUT_PATH, \"cal\", \"labels\"), exist_ok=True)\n",
    "    shutil.copy(os.path.join(PATH, \"images\", img_name), os.path.join(OUTPUT_PATH, \"cal\", \"images\", img_name))\n",
    "    shutil.copy(os.path.join(PATH, \"masks\", img_name), os.path.join(OUTPUT_PATH, \"cal\", \"labels\", img_name))"
   ]
  },
  {
   "cell_type": "code",
   "execution_count": 12,
   "metadata": {},
   "outputs": [],
   "source": [
    "for img_name in "
   ]
  },
  {
   "cell_type": "code",
   "execution_count": 23,
   "metadata": {},
   "outputs": [],
   "source": [
    "for img_name in val_images:\n",
    "    if not os.path.exists(os.path.join(OUTPUT_PATH, \"val\", \"images\", img_name)):\n",
    "        os.makedirs(os.path.join(OUTPUT_PATH, \"val\", \"images\"), exist_ok=True)\n",
    "        os.makedirs(os.path.join(OUTPUT_PATH, \"val\", \"labels\"), exist_ok=True)\n",
    "    shutil.copy(os.path.join(PATH, \"images\", img_name), os.path.join(OUTPUT_PATH, \"val\", \"images\", img_name))\n",
    "    shutil.copy(os.path.join(PATH, \"masks\", img_name), os.path.join(OUTPUT_PATH, \"val\", \"labels\", img_name))"
   ]
  },
  {
   "cell_type": "code",
   "execution_count": 24,
   "metadata": {},
   "outputs": [],
   "source": [
    "for img_name in res_images:\n",
    "    if not os.path.exists(os.path.join(OUTPUT_PATH, \"res\", \"images\", img_name)):\n",
    "        os.makedirs(os.path.join(OUTPUT_PATH, \"res\", \"images\"), exist_ok=True)\n",
    "        os.makedirs(os.path.join(OUTPUT_PATH, \"res\", \"labels\"), exist_ok=True)\n",
    "    shutil.copy(os.path.join(PATH, \"images\", img_name), os.path.join(OUTPUT_PATH, \"res\", \"images\", img_name))\n",
    "    shutil.copy(os.path.join(PATH, \"masks\", img_name), os.path.join(OUTPUT_PATH, \"res\", \"labels\", img_name))"
   ]
  },
  {
   "cell_type": "code",
   "execution_count": 3,
   "metadata": {},
   "outputs": [],
   "source": [
    "# read train images to compute mean and std by channel of all the training set\n",
    "\n",
    "import cv2\n",
    "means = []\n",
    "stds = []\n",
    "for img_name in os.listdir(os.path.join(OUTPUT_PATH, \"train\", \"images\")):\n",
    "    img = cv2.imread(os.path.join(OUTPUT_PATH, \"train\", \"images\", img_name))\n",
    "    img = img[:, :, 0]\n",
    "    means.append(np.mean(img))\n",
    "    stds.append(np.std(img))\n",
    "\n",
    "np.mean(means), np.mean(stds)\n",
    "\n",
    "np.save(os.path.join(OUTPUT_PATH, \"mean.npy\"), np.array([np.mean(means)]))"
   ]
  },
  {
   "cell_type": "code",
   "execution_count": null,
   "metadata": {},
   "outputs": [],
   "source": []
  },
  {
   "cell_type": "code",
   "execution_count": 29,
   "metadata": {},
   "outputs": [
    {
     "data": {
      "text/plain": [
       "True"
      ]
     },
     "execution_count": 29,
     "metadata": {},
     "output_type": "execute_result"
    }
   ],
   "source": [
    "(img[:, :, 0] == img[:, :, 2]).all()"
   ]
  },
  {
   "cell_type": "code",
   "execution_count": 30,
   "metadata": {},
   "outputs": [
    {
     "data": {
      "text/plain": [
       "255"
      ]
     },
     "execution_count": 30,
     "metadata": {},
     "output_type": "execute_result"
    }
   ],
   "source": [
    "img.max()"
   ]
  },
  {
   "cell_type": "code",
   "execution_count": null,
   "metadata": {},
   "outputs": [],
   "source": []
  }
 ],
 "metadata": {
  "kernelspec": {
   "display_name": ".venv",
   "language": "python",
   "name": "python3"
  },
  "language_info": {
   "codemirror_mode": {
    "name": "ipython",
    "version": 3
   },
   "file_extension": ".py",
   "mimetype": "text/x-python",
   "name": "python",
   "nbconvert_exporter": "python",
   "pygments_lexer": "ipython3",
   "version": "3.10.12"
  }
 },
 "nbformat": 4,
 "nbformat_minor": 2
}
