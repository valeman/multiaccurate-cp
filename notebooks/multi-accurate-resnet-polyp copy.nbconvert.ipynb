{
 "cells": [
  {
   "cell_type": "code",
   "execution_count": 1,
   "metadata": {
    "execution": {
     "iopub.execute_input": "2024-04-29T16:27:23.974226Z",
     "iopub.status.busy": "2024-04-29T16:27:23.973984Z",
     "iopub.status.idle": "2024-04-29T16:27:23.980806Z",
     "shell.execute_reply": "2024-04-29T16:27:23.980197Z"
    }
   },
   "outputs": [],
   "source": [
    "import sys\n",
    "sys.path.append(\"/home/vblot/multiaccurate_cp/\")"
   ]
  },
  {
   "cell_type": "code",
   "execution_count": 2,
   "metadata": {
    "execution": {
     "iopub.execute_input": "2024-04-29T16:27:23.983894Z",
     "iopub.status.busy": "2024-04-29T16:27:23.983381Z",
     "iopub.status.idle": "2024-04-29T16:27:26.085791Z",
     "shell.execute_reply": "2024-04-29T16:27:26.085311Z"
    }
   },
   "outputs": [],
   "source": [
    "import os\n",
    "import yaml\n",
    "\n",
    "import cv2\n",
    "import numpy as np\n",
    "import matplotlib.pyplot as plt\n",
    "from scipy import integrate\n",
    "from scipy.optimize import minimize\n",
    "from tqdm import tqdm\n",
    "\n",
    "from multiaccurate_cp.utils.multiaccurate import J, J_prime\n"
   ]
  },
  {
   "cell_type": "code",
   "execution_count": 3,
   "metadata": {
    "execution": {
     "iopub.execute_input": "2024-04-29T16:27:26.088243Z",
     "iopub.status.busy": "2024-04-29T16:27:26.087981Z",
     "iopub.status.idle": "2024-04-29T16:27:26.090369Z",
     "shell.execute_reply": "2024-04-29T16:27:26.089999Z"
    }
   },
   "outputs": [],
   "source": [
    "BASE_DIR = \"/home/vblot/multiaccurate_cp/data/polyp\"\n",
    "MODELS_PATH = \"/home/vblot/multiaccurate_cp/data/polyp/03_model_weights/resnet\"\n",
    "MODEL_NAME = \"20240325_1446\""
   ]
  },
  {
   "cell_type": "code",
   "execution_count": 4,
   "metadata": {
    "execution": {
     "iopub.execute_input": "2024-04-29T16:27:26.092216Z",
     "iopub.status.busy": "2024-04-29T16:27:26.091918Z",
     "iopub.status.idle": "2024-04-29T16:27:26.095425Z",
     "shell.execute_reply": "2024-04-29T16:27:26.095044Z"
    }
   },
   "outputs": [],
   "source": [
    "import yaml\n",
    "\n",
    "# Specify the path to the YAML file\n",
    "file_path = os.path.join(MODELS_PATH, MODEL_NAME, \"config.yaml\")\n",
    "\n",
    "# Read the YAML file\n",
    "with open(file_path, \"r\") as file:\n",
    "    config = yaml.safe_load(file)\n"
   ]
  },
  {
   "cell_type": "code",
   "execution_count": 5,
   "metadata": {
    "execution": {
     "iopub.execute_input": "2024-04-29T16:27:26.097289Z",
     "iopub.status.busy": "2024-04-29T16:27:26.096937Z",
     "iopub.status.idle": "2024-04-29T16:27:26.101208Z",
     "shell.execute_reply": "2024-04-29T16:27:26.100834Z"
    }
   },
   "outputs": [
    {
     "data": {
      "text/plain": [
       "{'mean_RGB_values_path': None,\n",
       " 'ml_data_dir': 'data/polyp/02_prepared_data',\n",
       " 'model': {'batch_size': 40,\n",
       "  'embedding_size': 1024,\n",
       "  'epochs': 100,\n",
       "  'lr': 0.0001,\n",
       "  'model_input': 'image_and_probas',\n",
       "  'num_workers': 8,\n",
       "  'patience': 20,\n",
       "  'resnet': 'resnet50',\n",
       "  'target_recall': 0.9},\n",
       " 'output_dir': 'data/polyp/03_model_weights/resnet',\n",
       " 'polyp': True,\n",
       " 'probas_dir': 'data/polyp/04_predictions'}"
      ]
     },
     "execution_count": 5,
     "metadata": {},
     "output_type": "execute_result"
    }
   ],
   "source": [
    "config"
   ]
  },
  {
   "cell_type": "code",
   "execution_count": 6,
   "metadata": {
    "execution": {
     "iopub.execute_input": "2024-04-29T16:27:26.137593Z",
     "iopub.status.busy": "2024-04-29T16:27:26.137368Z",
     "iopub.status.idle": "2024-04-29T16:27:26.139869Z",
     "shell.execute_reply": "2024-04-29T16:27:26.139420Z"
    }
   },
   "outputs": [],
   "source": [
    "IMG_SIZE = 500\n",
    "EMBEDDING_SIZE = config[\"model\"][\"embedding_size\"]"
   ]
  },
  {
   "cell_type": "code",
   "execution_count": 7,
   "metadata": {
    "execution": {
     "iopub.execute_input": "2024-04-29T16:27:26.142159Z",
     "iopub.status.busy": "2024-04-29T16:27:26.141918Z",
     "iopub.status.idle": "2024-04-29T16:27:26.145351Z",
     "shell.execute_reply": "2024-04-29T16:27:26.144829Z"
    }
   },
   "outputs": [],
   "source": [
    "DIR_CAL_PRED_PROBAS = os.path.join(BASE_DIR, \"04_predictions/cal/pred_probas\")\n",
    "DIR_CAL_RES_EMB = os.path.join(BASE_DIR, \"04_predictions/cal/res_embeddings\", MODEL_NAME)\n",
    "DIR_CAL_LABELS = os.path.join(BASE_DIR, \"02_prepared_data/cal/labels\")\n",
    "DIR_TEST_PRED_PROBAS = DIR_CAL_PRED_PROBAS.replace(\"cal\", \"test\")\n",
    "DIR_TEST_RES_EMB = DIR_CAL_RES_EMB.replace(\"cal\", \"test\")\n",
    "DIR_TEST_LABELS = DIR_CAL_LABELS.replace(\"cal\", \"test\")\n"
   ]
  },
  {
   "cell_type": "code",
   "execution_count": 8,
   "metadata": {
    "execution": {
     "iopub.execute_input": "2024-04-29T16:27:26.147899Z",
     "iopub.status.busy": "2024-04-29T16:27:26.147514Z",
     "iopub.status.idle": "2024-04-29T16:27:26.152526Z",
     "shell.execute_reply": "2024-04-29T16:27:26.151998Z"
    }
   },
   "outputs": [],
   "source": [
    "def load_data(pred_probas_dir, res_emb_dir, labels_dir):\n",
    "    pred_probas = np.zeros((len(os.listdir(pred_probas_dir)), IMG_SIZE, IMG_SIZE))\n",
    "    res_emb = np.zeros((len(os.listdir(res_emb_dir)), EMBEDDING_SIZE))\n",
    "    labels = np.zeros((len(os.listdir(labels_dir)), IMG_SIZE, IMG_SIZE))\n",
    "\n",
    "    for i, (pred_proba_file, res_emb_file, label_file) in enumerate(tqdm(zip(sorted(os.listdir(pred_probas_dir)),\n",
    "                                                                       sorted(os.listdir(res_emb_dir)),\n",
    "                                                                       sorted(os.listdir(labels_dir))))):\n",
    "        pred_proba = np.load(os.path.join(pred_probas_dir, pred_proba_file))\n",
    "        # print(pred_proba.shape)\n",
    "        pred_probas[i] = cv2.resize(pred_proba, (IMG_SIZE, IMG_SIZE))\n",
    "        res_emb[i] = np.load(os.path.join(res_emb_dir, res_emb_file))\n",
    "        label = cv2.imread(os.path.join(labels_dir, label_file), cv2.IMREAD_GRAYSCALE) / 255\n",
    "        labels[i] = cv2.resize(label, (IMG_SIZE, IMG_SIZE)) > .5    \n",
    "    return pred_probas, res_emb, labels\n"
   ]
  },
  {
   "cell_type": "code",
   "execution_count": 9,
   "metadata": {
    "execution": {
     "iopub.execute_input": "2024-04-29T16:27:26.154896Z",
     "iopub.status.busy": "2024-04-29T16:27:26.154652Z",
     "iopub.status.idle": "2024-04-29T16:27:26.718361Z",
     "shell.execute_reply": "2024-04-29T16:27:26.717724Z"
    }
   },
   "outputs": [
    {
     "name": "stderr",
     "output_type": "stream",
     "text": [
      "\r",
      "0it [00:00, ?it/s]"
     ]
    },
    {
     "name": "stderr",
     "output_type": "stream",
     "text": [
      "\r",
      "54it [00:00, 533.41it/s]"
     ]
    },
    {
     "name": "stderr",
     "output_type": "stream",
     "text": [
      "\r",
      "114it [00:00, 569.06it/s]"
     ]
    },
    {
     "name": "stderr",
     "output_type": "stream",
     "text": [
      "\r",
      "171it [00:00, 517.71it/s]"
     ]
    },
    {
     "name": "stderr",
     "output_type": "stream",
     "text": [
      "\r",
      "224it [00:00, 400.14it/s]"
     ]
    },
    {
     "name": "stderr",
     "output_type": "stream",
     "text": [
      "\r",
      "252it [00:00, 452.65it/s]"
     ]
    },
    {
     "name": "stderr",
     "output_type": "stream",
     "text": [
      "\n"
     ]
    }
   ],
   "source": [
    "cal_pred_probas, cal_res_emb, cal_labels = load_data(DIR_CAL_PRED_PROBAS, DIR_CAL_RES_EMB, DIR_CAL_LABELS)\n"
   ]
  },
  {
   "cell_type": "code",
   "execution_count": 10,
   "metadata": {
    "execution": {
     "iopub.execute_input": "2024-04-29T16:27:26.720590Z",
     "iopub.status.busy": "2024-04-29T16:27:26.720363Z",
     "iopub.status.idle": "2024-04-29T16:27:27.895489Z",
     "shell.execute_reply": "2024-04-29T16:27:27.894884Z"
    }
   },
   "outputs": [
    {
     "name": "stderr",
     "output_type": "stream",
     "text": [
      "\r",
      "0it [00:00, ?it/s]"
     ]
    },
    {
     "name": "stderr",
     "output_type": "stream",
     "text": [
      "\r",
      "62it [00:00, 611.87it/s]"
     ]
    },
    {
     "name": "stderr",
     "output_type": "stream",
     "text": [
      "\r",
      "126it [00:00, 623.64it/s]"
     ]
    },
    {
     "name": "stderr",
     "output_type": "stream",
     "text": [
      "\r",
      "189it [00:00, 609.78it/s]"
     ]
    },
    {
     "name": "stderr",
     "output_type": "stream",
     "text": [
      "\r",
      "251it [00:00, 603.17it/s]"
     ]
    },
    {
     "name": "stderr",
     "output_type": "stream",
     "text": [
      "\r",
      "312it [00:00, 598.73it/s]"
     ]
    },
    {
     "name": "stderr",
     "output_type": "stream",
     "text": [
      "\r",
      "372it [00:00, 499.81it/s]"
     ]
    },
    {
     "name": "stderr",
     "output_type": "stream",
     "text": [
      "\r",
      "425it [00:00, 409.05it/s]"
     ]
    },
    {
     "name": "stderr",
     "output_type": "stream",
     "text": [
      "\r",
      "470it [00:01, 368.33it/s]"
     ]
    },
    {
     "name": "stderr",
     "output_type": "stream",
     "text": [
      "\r",
      "521it [00:01, 400.77it/s]"
     ]
    },
    {
     "name": "stderr",
     "output_type": "stream",
     "text": [
      "\r",
      "546it [00:01, 466.96it/s]"
     ]
    },
    {
     "name": "stderr",
     "output_type": "stream",
     "text": [
      "\n"
     ]
    }
   ],
   "source": [
    "test_pred_probas, test_res_emb, test_labels = load_data(DIR_TEST_PRED_PROBAS, DIR_TEST_RES_EMB, DIR_TEST_LABELS)"
   ]
  },
  {
   "cell_type": "code",
   "execution_count": 11,
   "metadata": {
    "execution": {
     "iopub.execute_input": "2024-04-29T16:27:27.897957Z",
     "iopub.status.busy": "2024-04-29T16:27:27.897715Z",
     "iopub.status.idle": "2024-04-29T16:27:28.082598Z",
     "shell.execute_reply": "2024-04-29T16:27:28.081979Z"
    }
   },
   "outputs": [],
   "source": [
    "index_not_empy = np.where(cal_labels.sum(axis=(1, 2)) > 0)[0]\n",
    "cal_labels = cal_labels[index_not_empy]\n",
    "cal_res_emb = cal_res_emb[index_not_empy]\n",
    "cal_pred_probas = cal_pred_probas[index_not_empy]"
   ]
  },
  {
   "cell_type": "code",
   "execution_count": 12,
   "metadata": {
    "execution": {
     "iopub.execute_input": "2024-04-29T16:27:28.085061Z",
     "iopub.status.busy": "2024-04-29T16:27:28.084879Z",
     "iopub.status.idle": "2024-04-29T16:27:28.088545Z",
     "shell.execute_reply": "2024-04-29T16:27:28.088094Z"
    }
   },
   "outputs": [
    {
     "data": {
      "text/plain": [
       "((252, 500, 500), (252, 1024), (252, 500, 500))"
      ]
     },
     "execution_count": 12,
     "metadata": {},
     "output_type": "execute_result"
    }
   ],
   "source": [
    "cal_labels.shape, cal_res_emb.shape, cal_pred_probas.shape"
   ]
  },
  {
   "cell_type": "code",
   "execution_count": 13,
   "metadata": {
    "execution": {
     "iopub.execute_input": "2024-04-29T16:27:28.090651Z",
     "iopub.status.busy": "2024-04-29T16:27:28.090483Z",
     "iopub.status.idle": "2024-04-29T16:27:28.129660Z",
     "shell.execute_reply": "2024-04-29T16:27:28.129046Z"
    }
   },
   "outputs": [
    {
     "data": {
      "text/plain": [
       "(1.0, 0.9997115135192871)"
      ]
     },
     "execution_count": 13,
     "metadata": {},
     "output_type": "execute_result"
    }
   ],
   "source": [
    "cal_labels.max(), cal_pred_probas.max()"
   ]
  },
  {
   "cell_type": "code",
   "execution_count": 14,
   "metadata": {
    "execution": {
     "iopub.execute_input": "2024-04-29T16:27:28.131891Z",
     "iopub.status.busy": "2024-04-29T16:27:28.131750Z",
     "iopub.status.idle": "2024-04-29T16:27:28.135013Z",
     "shell.execute_reply": "2024-04-29T16:27:28.134527Z"
    }
   },
   "outputs": [
    {
     "data": {
      "text/plain": [
       "252"
      ]
     },
     "execution_count": 14,
     "metadata": {},
     "output_type": "execute_result"
    }
   ],
   "source": [
    "ALPHA = .1\n",
    "N = len(cal_labels)\n",
    "N\n"
   ]
  },
  {
   "cell_type": "code",
   "execution_count": 15,
   "metadata": {
    "execution": {
     "iopub.execute_input": "2024-04-29T16:27:28.137406Z",
     "iopub.status.busy": "2024-04-29T16:27:28.137020Z",
     "iopub.status.idle": "2024-04-29T23:37:32.682198Z",
     "shell.execute_reply": "2024-04-29T23:37:32.681757Z"
    }
   },
   "outputs": [
    {
     "name": "stdout",
     "output_type": "stream",
     "text": [
      "=============== BFGS ===============\n",
      "  message: Desired error not necessarily achieved due to precision loss.\n",
      "  success: False\n",
      "   status: 2\n",
      "      fun: -9.644469039460187\n",
      "        x: [ 9.092e-02  1.990e-01 ...  1.010e+00  5.800e-02]\n",
      "      nit: 262\n",
      "      jac: [-1.713e-05 -1.041e-05 ...  8.109e-06 -2.404e-05]\n",
      " hess_inv: [[ 8.055e+00  1.151e+00 ...  7.020e+00  2.054e+00]\n",
      "            [ 1.151e+00  1.413e+01 ... -7.004e+00  5.216e+00]\n",
      "            ...\n",
      "            [ 7.020e+00 -7.004e+00 ...  2.182e+01 -6.568e-01]\n",
      "            [ 2.054e+00  5.216e+00 ... -6.568e-01  6.934e+00]]\n",
      "     nfev: 338\n",
      "     njev: 329\n",
      "Recall test: 0.8110896164373546\n"
     ]
    },
    {
     "name": "stdout",
     "output_type": "stream",
     "text": [
      "=============== Newton-CG ===============\n",
      " message: Optimization terminated successfully.\n",
      " success: True\n",
      "  status: 0\n",
      "     fun: -8.065318752041561\n",
      "       x: [ 7.141e-01  1.216e-01 ...  6.667e-01  5.235e-01]\n",
      "     nit: 1\n",
      "     jac: [ 3.110e-01  2.130e-01 ... -1.321e-02  1.170e-01]\n",
      "    nfev: 2\n",
      "    njev: 3\n",
      "    nhev: 0\n",
      "Recall test: 0.0\n"
     ]
    },
    {
     "name": "stdout",
     "output_type": "stream",
     "text": [
      "=============== L-BFGS-B ===============\n",
      "  message: CONVERGENCE: REL_REDUCTION_OF_F_<=_FACTR*EPSMCH\n",
      "  success: True\n",
      "   status: 0\n",
      "      fun: -9.644466526399244\n",
      "        x: [ 1.469e-01  3.801e-01 ...  5.586e-01 -3.498e-01]\n",
      "      nit: 472\n",
      "      jac: [-1.425e-05 -1.246e-05 ...  6.785e-06 -2.563e-05]\n",
      "     nfev: 690\n",
      "     njev: 690\n",
      " hess_inv: <1024x1024 LbfgsInvHessProduct with dtype=float64>\n",
      "Recall test: 0.8082763069232721\n"
     ]
    },
    {
     "name": "stderr",
     "output_type": "stream",
     "text": [
      "/tmp/ipykernel_2499689/4286393371.py:5: OptimizeWarning: Unknown solver options: maxiter\n",
      "  result = minimize(\n"
     ]
    },
    {
     "name": "stdout",
     "output_type": "stream",
     "text": [
      "=============== TNC ===============\n",
      " message: Linear search failed\n",
      " success: False\n",
      "  status: 4\n",
      "     fun: -9.642299702079647\n",
      "       x: [ 8.212e-01  1.135e-01 ...  6.028e-01  7.388e-01]\n",
      "     nit: 102\n",
      "     jac: [ 1.343e-04  1.530e-04 ... -2.442e-05  1.422e-04]\n",
      "    nfev: 699\n",
      "Recall test: 0.8032193750056728\n"
     ]
    },
    {
     "name": "stdout",
     "output_type": "stream",
     "text": [
      "=============== SLSQP ===============\n",
      " message: Optimization terminated successfully\n",
      " success: True\n",
      "  status: 0\n",
      "     fun: -9.644582492104584\n",
      "       x: [ 3.890e-01 -2.717e-02 ...  2.261e-01 -5.757e-02]\n",
      "     nit: 311\n",
      "     jac: [-6.573e-06  3.212e-06 ... -9.901e-06  7.229e-06]\n",
      "    nfev: 345\n",
      "    njev: 311\n",
      "Recall test: 0.8085064367853833\n",
      "=============== dogleg ===============\n",
      "Hessian is required for dogleg minimization\n",
      "\n",
      "=============== trust-ncg ===============\n",
      "Either the Hessian or the Hessian-vector product is required for Newton-CG trust-region minimization\n",
      "\n",
      "=============== trust-krylov ===============\n",
      "Either the Hessian or the Hessian-vector product is required for Krylov trust-region minimization\n",
      "\n",
      "=============== trust-exact ===============\n",
      "Hessian matrix is required for trust region exact minimization.\n",
      "\n"
     ]
    },
    {
     "name": "stderr",
     "output_type": "stream",
     "text": [
      "/home/vblot/.local/lib/python3.10/site-packages/scipy/optimize/_differentiable_functions.py:231: UserWarning: delta_grad == 0.0. Check if the approximated function is linear. If the function is linear better results can be obtained by defining the Hessian as zero instead of using quasi-Newton approximations.\n",
      "  self.H.update(self.x - self.x_prev, self.g - self.g_prev)\n"
     ]
    },
    {
     "name": "stdout",
     "output_type": "stream",
     "text": [
      "=============== trust-constr ===============\n",
      "          message: `xtol` termination condition is satisfied.\n",
      "          success: True\n",
      "           status: 2\n",
      "              fun: -9.64156992006667\n",
      "                x: [ 4.144e-01  9.920e-02 ...  9.052e-01  3.599e-02]\n",
      "              nit: 123\n",
      "             nfev: 123\n",
      "             njev: 123\n",
      "             nhev: 0\n",
      "         cg_niter: 285\n",
      "     cg_stop_cond: 2\n",
      "             grad: [ 5.688e-04  4.751e-04 ... -3.187e-05  1.907e-04]\n",
      "  lagrangian_grad: [ 5.688e-04  4.751e-04 ... -3.187e-05  1.907e-04]\n",
      "           constr: []\n",
      "              jac: []\n",
      "      constr_nfev: []\n",
      "      constr_njev: []\n",
      "      constr_nhev: []\n",
      "                v: []\n",
      "           method: equality_constrained_sqp\n",
      "       optimality: 0.0007014044838549668\n",
      " constr_violation: 0\n",
      "   execution_time: 1402.2270085811615\n",
      "        tr_radius: 6.178384732711669e-11\n",
      "   constr_penalty: 1.0\n",
      "            niter: 123\n",
      "Recall test: 0.8407195035386851\n"
     ]
    }
   ],
   "source": [
    "minimization_methods = [\"BFGS\", \"Newton-CG\", \"L-BFGS-B\", \"TNC\", \"SLSQP\", \"dogleg\", \"trust-ncg\", \"trust-krylov\", \"trust-exact\", \"trust-constr\"]\n",
    "\n",
    "for method in minimization_methods:\n",
    "    try:\n",
    "        result = minimize(\n",
    "            J, np.random.uniform(0, 1, EMBEDDING_SIZE),\n",
    "            method=method,\n",
    "            args=(cal_labels, cal_pred_probas, cal_res_emb, ALPHA, N), jac=J_prime,\n",
    "            options={\"disp\": False, \"maxiter\": 1000}, tol=1e-10\n",
    "        )\n",
    "        \n",
    "        ths = (test_res_emb @ result.x).reshape(-1, 1, 1)\n",
    "        y_pred_test_th = (test_pred_probas >= ths).astype(int)\n",
    "        recall_test = (y_pred_test_th * test_labels).sum(axis=(1, 2)) / test_labels.sum(axis=(1, 2))\n",
    "        print(f\"=============== {method} ===============\")\n",
    "        print(result)\n",
    "        print(f\"Recall test: {np.nanmean(recall_test)}\")\n",
    "    except Exception as e:\n",
    "        print(f\"=============== {method} ===============\")\n",
    "        print(e)\n",
    "        print(\"\")"
   ]
  },
  {
   "cell_type": "code",
   "execution_count": 16,
   "metadata": {
    "execution": {
     "iopub.execute_input": "2024-04-29T23:37:32.683946Z",
     "iopub.status.busy": "2024-04-29T23:37:32.683716Z",
     "iopub.status.idle": "2024-04-30T00:14:22.870353Z",
     "shell.execute_reply": "2024-04-30T00:14:22.869985Z"
    }
   },
   "outputs": [
    {
     "name": "stdout",
     "output_type": "stream",
     "text": [
      "Optimization terminated successfully    (Exit mode 0)\n",
      "            Current function value: -9.644145649408658\n",
      "            Iterations: 175\n",
      "            Function evaluations: 186\n",
      "            Gradient evaluations: 175\n"
     ]
    }
   ],
   "source": [
    "result = minimize(\n",
    "    J, np.random.uniform(0, 1, EMBEDDING_SIZE),\n",
    "    method=\"SLSQP\",\n",
    "    args=(cal_labels, cal_pred_probas, cal_res_emb, ALPHA, N), jac=J_prime,\n",
    "    options={\"disp\": True, \"maxiter\": 10000}\n",
    "    \n",
    ")"
   ]
  },
  {
   "cell_type": "code",
   "execution_count": 17,
   "metadata": {
    "execution": {
     "iopub.execute_input": "2024-04-30T00:14:22.872127Z",
     "iopub.status.busy": "2024-04-30T00:14:22.871880Z",
     "iopub.status.idle": "2024-04-30T00:14:22.875164Z",
     "shell.execute_reply": "2024-04-30T00:14:22.874889Z"
    }
   },
   "outputs": [
    {
     "data": {
      "text/plain": [
       " message: Optimization terminated successfully\n",
       " success: True\n",
       "  status: 0\n",
       "     fun: -9.644145649408658\n",
       "       x: [ 6.572e-01 -3.747e-02 ...  1.040e+00  4.951e-02]\n",
       "     nit: 175\n",
       "     jac: [-6.464e-05 -3.604e-05 ...  1.549e-06 -8.254e-06]\n",
       "    nfev: 186\n",
       "    njev: 175"
      ]
     },
     "execution_count": 17,
     "metadata": {},
     "output_type": "execute_result"
    }
   ],
   "source": [
    "result"
   ]
  },
  {
   "cell_type": "code",
   "execution_count": 18,
   "metadata": {
    "execution": {
     "iopub.execute_input": "2024-04-30T00:14:22.876536Z",
     "iopub.status.busy": "2024-04-30T00:14:22.876304Z",
     "iopub.status.idle": "2024-04-30T00:14:22.888518Z",
     "shell.execute_reply": "2024-04-30T00:14:22.888153Z"
    }
   },
   "outputs": [],
   "source": [
    "ths = np.maximum((test_res_emb @ result.x).reshape(-1, 1, 1), 0.01)\n",
    "ths = (test_res_emb @ result.x).reshape(-1, 1, 1)"
   ]
  },
  {
   "cell_type": "code",
   "execution_count": 19,
   "metadata": {
    "execution": {
     "iopub.execute_input": "2024-04-30T00:14:22.890439Z",
     "iopub.status.busy": "2024-04-30T00:14:22.890046Z",
     "iopub.status.idle": "2024-04-30T00:14:22.893156Z",
     "shell.execute_reply": "2024-04-30T00:14:22.892783Z"
    }
   },
   "outputs": [
    {
     "data": {
      "text/plain": [
       "(546, 1024)"
      ]
     },
     "execution_count": 19,
     "metadata": {},
     "output_type": "execute_result"
    }
   ],
   "source": [
    "test_res_emb.shape"
   ]
  },
  {
   "cell_type": "code",
   "execution_count": 20,
   "metadata": {
    "execution": {
     "iopub.execute_input": "2024-04-30T00:14:22.894958Z",
     "iopub.status.busy": "2024-04-30T00:14:22.894615Z",
     "iopub.status.idle": "2024-04-30T00:14:23.351248Z",
     "shell.execute_reply": "2024-04-30T00:14:23.350809Z"
    }
   },
   "outputs": [
    {
     "name": "stderr",
     "output_type": "stream",
     "text": [
      "/tmp/ipykernel_2499689/1774683259.py:2: RuntimeWarning: invalid value encountered in divide\n",
      "  recall_test = (y_pred_test_th * test_labels).sum(axis=1) / test_labels.sum(axis=1)\n"
     ]
    }
   ],
   "source": [
    "y_pred_test_th = (test_pred_probas >= ths).astype(int)\n",
    "recall_test = (y_pred_test_th * test_labels).sum(axis=1) / test_labels.sum(axis=1)"
   ]
  },
  {
   "cell_type": "code",
   "execution_count": 21,
   "metadata": {
    "execution": {
     "iopub.execute_input": "2024-04-30T00:14:23.353011Z",
     "iopub.status.busy": "2024-04-30T00:14:23.352871Z",
     "iopub.status.idle": "2024-04-30T00:14:23.356386Z",
     "shell.execute_reply": "2024-04-30T00:14:23.356061Z"
    }
   },
   "outputs": [
    {
     "data": {
      "text/plain": [
       "(0.7699191119618036, 0.903968253968254)"
      ]
     },
     "execution_count": 21,
     "metadata": {},
     "output_type": "execute_result"
    }
   ],
   "source": [
    "np.nanmean(recall_test), 1 - ALPHA + 1/N"
   ]
  },
  {
   "cell_type": "code",
   "execution_count": 22,
   "metadata": {
    "execution": {
     "iopub.execute_input": "2024-04-30T00:14:23.357973Z",
     "iopub.status.busy": "2024-04-30T00:14:23.357756Z",
     "iopub.status.idle": "2024-04-30T00:14:23.619825Z",
     "shell.execute_reply": "2024-04-30T00:14:23.619373Z"
    }
   },
   "outputs": [
    {
     "name": "stderr",
     "output_type": "stream",
     "text": [
      "/tmp/ipykernel_2499689/3317103724.py:1: RuntimeWarning: invalid value encountered in divide\n",
      "  precision_test = np.nan_to_num((y_pred_test_th * test_labels).sum(axis=(1, 2)) / y_pred_test_th.sum(axis=(1, 2)), nan=1)\n"
     ]
    },
    {
     "data": {
      "text/plain": [
       "0.7747639620457374"
      ]
     },
     "execution_count": 22,
     "metadata": {},
     "output_type": "execute_result"
    }
   ],
   "source": [
    "precision_test = np.nan_to_num((y_pred_test_th * test_labels).sum(axis=(1, 2)) / y_pred_test_th.sum(axis=(1, 2)), nan=1)\n",
    "np.mean(precision_test)"
   ]
  },
  {
   "cell_type": "code",
   "execution_count": 23,
   "metadata": {
    "execution": {
     "iopub.execute_input": "2024-04-30T00:14:23.621781Z",
     "iopub.status.busy": "2024-04-30T00:14:23.621618Z",
     "iopub.status.idle": "2024-04-30T00:14:23.742528Z",
     "shell.execute_reply": "2024-04-30T00:14:23.742192Z"
    }
   },
   "outputs": [
    {
     "data": {
      "image/png": "[encoded data removed]",
      "text/plain": [
       "<Figure size 640x480 with 1 Axes>"
      ]
     },
     "metadata": {},
     "output_type": "display_data"
    }
   ],
   "source": [
    "plt.hist(ths[:, 0, 0], bins=100)\n",
    "plt.show()"
   ]
  },
  {
   "cell_type": "code",
   "execution_count": 24,
   "metadata": {
    "execution": {
     "iopub.execute_input": "2024-04-30T00:14:23.744106Z",
     "iopub.status.busy": "2024-04-30T00:14:23.743937Z",
     "iopub.status.idle": "2024-04-30T00:14:23.816747Z",
     "shell.execute_reply": "2024-04-30T00:14:23.816414Z"
    }
   },
   "outputs": [
    {
     "data": {
      "text/plain": [
       "(array([ 72.,  10.,   3.,   8.,  10.,   9.,  12.,  21.,  55., 346.]),\n",
       " array([0. , 0.1, 0.2, 0.3, 0.4, 0.5, 0.6, 0.7, 0.8, 0.9, 1. ]),\n",
       " <BarContainer object of 10 artists>)"
      ]
     },
     "execution_count": 24,
     "metadata": {},
     "output_type": "execute_result"
    },
    {
     "data": {
      "image/png": "[encoded data removed]",
      "text/plain": [
       "<Figure size 640x480 with 1 Axes>"
      ]
     },
     "metadata": {},
     "output_type": "display_data"
    }
   ],
   "source": [
    "plt.hist(precision_test)"
   ]
  },
  {
   "cell_type": "code",
   "execution_count": null,
   "metadata": {},
   "outputs": [],
   "source": []
  }
 ],
 "metadata": {
  "kernelspec": {
   "display_name": "Python 3",
   "language": "python",
   "name": "python3"
  },
  "language_info": {
   "codemirror_mode": {
    "name": "ipython",
    "version": 3
   },
   "file_extension": ".py",
   "mimetype": "text/x-python",
   "name": "python",
   "nbconvert_exporter": "python",
   "pygments_lexer": "ipython3",
   "version": "3.10.12"
  }
 },
 "nbformat": 4,
 "nbformat_minor": 2
}
