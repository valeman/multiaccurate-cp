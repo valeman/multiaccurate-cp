{
 "cells": [
  {
   "cell_type": "code",
   "execution_count": 1,
   "metadata": {},
   "outputs": [],
   "source": [
    "import sys\n",
    "sys.path.append(\"/home/vblot/multiaccurate_cp/\")"
   ]
  },
  {
   "cell_type": "code",
   "execution_count": 2,
   "metadata": {},
   "outputs": [
    {
     "data": {
      "text/plain": [
       "['/usr/lib/python310.zip',\n",
       " '/usr/lib/python3.10',\n",
       " '/usr/lib/python3.10/lib-dynload',\n",
       " '',\n",
       " '/home/vblot/multiaccurate_cp/.venv/lib/python3.10/site-packages',\n",
       " '/home/vblot/multiaccurate_cp/']"
      ]
     },
     "execution_count": 2,
     "metadata": {},
     "output_type": "execute_result"
    }
   ],
   "source": [
    "sys.path"
   ]
  },
  {
   "cell_type": "code",
   "execution_count": 3,
   "metadata": {},
   "outputs": [],
   "source": [
    "import os\n",
    "import yaml\n",
    "\n",
    "import cv2\n",
    "import numpy as np\n",
    "import matplotlib.pyplot as plt\n",
    "from mapie.multi_label_classification import MapieMultiLabelClassifier\n",
    "from scipy import integrate\n",
    "from scipy.optimize import minimize\n",
    "from tqdm import tqdm\n",
    "\n",
    "from multiaccurate_cp.utils.multiaccurate import J, J_prime\n",
    "\n",
    "%load_ext autoreload\n",
    "%autoreload 2"
   ]
  },
  {
   "cell_type": "code",
   "execution_count": 4,
   "metadata": {},
   "outputs": [],
   "source": [
    "BASE_DIR = \"/home/vblot/multiaccurate_cp/data/polyp\"\n",
    "MODELS_PATH = \"/home/vblot/multiaccurate_cp/data/polyp/03_model_weights/resnet\"\n",
    "MODEL_NAME = \"20240325_1446\""
   ]
  },
  {
   "cell_type": "code",
   "execution_count": 5,
   "metadata": {},
   "outputs": [],
   "source": [
    "# Specify the path to the YAML file\n",
    "file_path = os.path.join(MODELS_PATH, MODEL_NAME, \"config.yaml\")\n",
    "\n",
    "# Read the YAML file\n",
    "with open(file_path, \"r\") as file:\n",
    "    config = yaml.safe_load(file)\n"
   ]
  },
  {
   "cell_type": "code",
   "execution_count": 6,
   "metadata": {},
   "outputs": [],
   "source": [
    "IMG_SIZE = 64\n",
    "RESNET_EMBEDDING_SIZE = config[\"model\"][\"embedding_size\"]\n"
   ]
  },
  {
   "cell_type": "code",
   "execution_count": 7,
   "metadata": {},
   "outputs": [],
   "source": [
    "DIR_CAL_PRED_PROBAS = os.path.join(BASE_DIR, \"04_predictions/cal/pred_probas\")\n",
    "DIR_CAL_LABELS = os.path.join(BASE_DIR, \"02_prepared_data/cal/labels\")\n",
    "DIR_TEST_PRED_PROBAS = DIR_CAL_PRED_PROBAS.replace(\"cal\", \"test\")\n",
    "DIR_TEST_LABELS = DIR_CAL_LABELS.replace(\"cal\", \"test\")\n",
    "\n",
    "DIR_CAL_RES_EMB = os.path.join(BASE_DIR, \"04_predictions/cal/res_embeddings\", MODEL_NAME)\n",
    "DIR_TEST_RES_EMB = DIR_CAL_RES_EMB.replace(\"cal\", \"test\")\n",
    "\n",
    "\n"
   ]
  },
  {
   "cell_type": "code",
   "execution_count": 8,
   "metadata": {},
   "outputs": [],
   "source": [
    "def load_data(pred_probas_dir, res_emb_dir, labels_dir):\n",
    "    pred_probas = np.zeros((len(os.listdir(pred_probas_dir)), IMG_SIZE, IMG_SIZE))\n",
    "    res_emb = np.zeros((len(os.listdir(res_emb_dir)), RESNET_EMBEDDING_SIZE))\n",
    "    labels = np.zeros((len(os.listdir(labels_dir)), IMG_SIZE, IMG_SIZE))\n",
    "\n",
    "    for i, (pred_proba_file, res_emb_file, label_file) in enumerate(\n",
    "        tqdm(zip(\n",
    "            sorted(os.listdir(pred_probas_dir)),\n",
    "            sorted(os.listdir(res_emb_dir)),\n",
    "            sorted(os.listdir(labels_dir))\n",
    "        ))\n",
    "    ):\n",
    "        pred_proba = np.load(os.path.join(pred_probas_dir, pred_proba_file))\n",
    "        pred_probas[i] = cv2.resize(pred_proba, (IMG_SIZE, IMG_SIZE))\n",
    "        res_emb[i] = np.load(os.path.join(res_emb_dir, res_emb_file))\n",
    "        label = cv2.imread(os.path.join(labels_dir, label_file), cv2.IMREAD_GRAYSCALE) / 255\n",
    "        labels[i] = cv2.resize(label, (IMG_SIZE, IMG_SIZE)) > .5    \n",
    "    return pred_probas, res_emb, labels\n"
   ]
  },
  {
   "cell_type": "code",
   "execution_count": 9,
   "metadata": {},
   "outputs": [
    {
     "name": "stderr",
     "output_type": "stream",
     "text": [
      "252it [00:00, 281.09it/s]\n"
     ]
    }
   ],
   "source": [
    "load_cal_pred_probas, load_cal_res_emb, load_cal_labels = load_data(\n",
    "    DIR_CAL_PRED_PROBAS, DIR_CAL_RES_EMB, DIR_CAL_LABELS\n",
    ")\n"
   ]
  },
  {
   "cell_type": "code",
   "execution_count": 10,
   "metadata": {},
   "outputs": [
    {
     "name": "stderr",
     "output_type": "stream",
     "text": [
      "546it [00:01, 300.46it/s]\n"
     ]
    }
   ],
   "source": [
    "load_test_pred_probas, load_test_res_emb, load_test_labels = load_data(\n",
    "    DIR_TEST_PRED_PROBAS, DIR_TEST_RES_EMB, DIR_TEST_LABELS\n",
    ")"
   ]
  },
  {
   "cell_type": "code",
   "execution_count": 11,
   "metadata": {},
   "outputs": [],
   "source": [
    "all_pred_probas = np.concatenate([load_cal_pred_probas, load_test_pred_probas])\n",
    "all_res_emb = np.concatenate([load_cal_res_emb, load_test_res_emb])\n",
    "all_labels = np.concatenate([load_cal_labels, load_test_labels])\n"
   ]
  },
  {
   "cell_type": "code",
   "execution_count": 12,
   "metadata": {},
   "outputs": [],
   "source": [
    "ALPHA = .1\n",
    "REGULARIZATION = \"ridge\""
   ]
  },
  {
   "cell_type": "code",
   "execution_count": 13,
   "metadata": {},
   "outputs": [],
   "source": [
    "class MapieWrapper():\n",
    "    def __init__(self):\n",
    "        self.trained_ = True\n",
    "        self.classes_ = 1\n",
    "\n",
    "    def fit(self, X, y=None):\n",
    "        pass\n",
    "\n",
    "    def predict_proba(self, X):\n",
    "        return X\n",
    "\n",
    "    def predict(self, X):\n",
    "        pred_proba = self.predict_proba(X)\n",
    "        return pred_proba >= .5\n",
    "\n",
    "    def __sklearn_is_fitted__(self):\n",
    "        return True"
   ]
  },
  {
   "cell_type": "code",
   "execution_count": 14,
   "metadata": {},
   "outputs": [],
   "source": [
    "def grid_search_lambda(labels, pred_probas, embeddings, embedding_size):\n",
    "    lambdas = [0.001, 0.01, 0.1, 0.2, 0.5, 0.7, 1]\n",
    "    best_dist = np.inf\n",
    "    best_lambda = None\n",
    "    cv = len(lambdas)\n",
    "    # get cv indices\n",
    "    indices = np.arange(len(labels))\n",
    "    np.random.shuffle(indices)\n",
    "    indices = np.array_split(indices, cv)\n",
    "    for i, lambda_ in enumerate(tqdm(lambdas)):\n",
    "        test_labels = labels[indices[i]]\n",
    "        test_pred_probas = pred_probas[indices[i]]\n",
    "        test_res_emb = embeddings[indices[i]]\n",
    "        cal_labels = np.concatenate([labels[indices[j]] for j in range(cv) if j != i])\n",
    "        cal_pred_probas = np.concatenate([pred_probas[indices[j]] for j in range(cv) if j != i])\n",
    "        cal_res_emb = np.concatenate([embeddings[indices[j]] for j in range(cv) if j != i])\n",
    "        \n",
    "        result = minimize(\n",
    "            J, np.random.uniform(0, 1, embedding_size),\n",
    "            method=\"SLSQP\",\n",
    "            args=(cal_labels, cal_pred_probas, cal_res_emb, ALPHA, len(cal_labels), REGULARIZATION, lambda_), jac=J_prime,\n",
    "            options={\"disp\": False, \"maxiter\": 10000}\n",
    "        )\n",
    "        ths = np.maximum((test_res_emb @ result.x).reshape(-1, 1, 1), 0.01)\n",
    "        ths = (test_res_emb @ result.x).reshape(-1, 1, 1)\n",
    "        test_res_emb.shape\n",
    "        y_pred_test_th = (test_pred_probas >= ths).astype(int)\n",
    "        recall_test = np.nanmean((y_pred_test_th * test_labels).sum(axis=1) / test_labels.sum(axis=1))\n",
    "        if (np.abs(recall_test - (1 - ALPHA))) < best_dist:\n",
    "            best_dist = np.abs(recall_test - (1 - ALPHA))\n",
    "            best_lambda = lambda_\n",
    "        \n",
    "    return best_lambda, best_dist\n",
    "        "
   ]
  },
  {
   "cell_type": "markdown",
   "metadata": {},
   "source": [
    "# Cross validation"
   ]
  },
  {
   "cell_type": "code",
   "execution_count": 15,
   "metadata": {},
   "outputs": [
    {
     "name": "stderr",
     "output_type": "stream",
     "text": [
      "100%|██████████| 199/199 [00:01<00:00, 160.51it/s]\n",
      "/tmp/ipykernel_2769598/464758000.py:48: RuntimeWarning: invalid value encountered in divide\n",
      "  recalls_crc.append(np.nanmean((y_pred_test_th_crc * temp_test_labels).sum(axis=1) / temp_test_labels.sum(axis=1)))\n",
      "/tmp/ipykernel_2769598/464758000.py:49: RuntimeWarning: invalid value encountered in divide\n",
      "  recalls_resnet.append(np.nanmean((y_pred_test_th_res * temp_test_labels).sum(axis=1) / temp_test_labels.sum(axis=1)))\n",
      "/tmp/ipykernel_2769598/464758000.py:51: RuntimeWarning: invalid value encountered in divide\n",
      "  precisions_crc.append(np.nanmean((y_pred_test_th_crc * temp_test_labels).sum(axis=1) / y_pred_test_th_crc.sum(axis=1)))\n",
      "/tmp/ipykernel_2769598/464758000.py:52: RuntimeWarning: invalid value encountered in divide\n",
      "  precisions_resnet.append(np.nanmean((y_pred_test_th_res * temp_test_labels).sum(axis=1) / y_pred_test_th_res.sum(axis=1)))\n",
      "  1%|          | 1/100 [00:46<1:16:15, 46.22s/it]"
     ]
    },
    {
     "name": "stdout",
     "output_type": "stream",
     "text": [
      "Optimization terminated successfully    (Exit mode 0)\n",
      "            Current function value: -9.521438688519714\n",
      "            Iterations: 19\n",
      "            Function evaluations: 54\n",
      "            Gradient evaluations: 19\n",
      "recalls: CRC = 0.8988912693429654, MACP = 0.8908480318409518\n",
      "precisions: CRC = 0.22020596204687395, MACP = 0.31682155356632585\n"
     ]
    },
    {
     "name": "stderr",
     "output_type": "stream",
     "text": [
      "100%|██████████| 199/199 [00:00<00:00, 799.37it/s]\n",
      "/tmp/ipykernel_2769598/464758000.py:48: RuntimeWarning: invalid value encountered in divide\n",
      "  recalls_crc.append(np.nanmean((y_pred_test_th_crc * temp_test_labels).sum(axis=1) / temp_test_labels.sum(axis=1)))\n",
      "/tmp/ipykernel_2769598/464758000.py:49: RuntimeWarning: invalid value encountered in divide\n",
      "  recalls_resnet.append(np.nanmean((y_pred_test_th_res * temp_test_labels).sum(axis=1) / temp_test_labels.sum(axis=1)))\n",
      "/tmp/ipykernel_2769598/464758000.py:51: RuntimeWarning: invalid value encountered in divide\n",
      "  precisions_crc.append(np.nanmean((y_pred_test_th_crc * temp_test_labels).sum(axis=1) / y_pred_test_th_crc.sum(axis=1)))\n",
      "/tmp/ipykernel_2769598/464758000.py:52: RuntimeWarning: invalid value encountered in divide\n",
      "  precisions_resnet.append(np.nanmean((y_pred_test_th_res * temp_test_labels).sum(axis=1) / y_pred_test_th_res.sum(axis=1)))\n",
      "  2%|▏         | 2/100 [01:25<1:08:27, 41.92s/it]"
     ]
    },
    {
     "name": "stdout",
     "output_type": "stream",
     "text": [
      "Optimization terminated successfully    (Exit mode 0)\n",
      "            Current function value: -9.52073699663514\n",
      "            Iterations: 22\n",
      "            Function evaluations: 52\n",
      "            Gradient evaluations: 22\n",
      "recalls: CRC = 0.8958741418243567, MACP = 0.9174044785315748\n",
      "precisions: CRC = 0.22538842486042246, MACP = 0.2173088701801479\n"
     ]
    },
    {
     "name": "stderr",
     "output_type": "stream",
     "text": [
      "100%|██████████| 199/199 [00:00<00:00, 237.26it/s]\n",
      "/tmp/ipykernel_2769598/464758000.py:48: RuntimeWarning: invalid value encountered in divide\n",
      "  recalls_crc.append(np.nanmean((y_pred_test_th_crc * temp_test_labels).sum(axis=1) / temp_test_labels.sum(axis=1)))\n",
      "/tmp/ipykernel_2769598/464758000.py:49: RuntimeWarning: invalid value encountered in divide\n",
      "  recalls_resnet.append(np.nanmean((y_pred_test_th_res * temp_test_labels).sum(axis=1) / temp_test_labels.sum(axis=1)))\n",
      "/tmp/ipykernel_2769598/464758000.py:51: RuntimeWarning: invalid value encountered in divide\n",
      "  precisions_crc.append(np.nanmean((y_pred_test_th_crc * temp_test_labels).sum(axis=1) / y_pred_test_th_crc.sum(axis=1)))\n",
      "/tmp/ipykernel_2769598/464758000.py:52: RuntimeWarning: invalid value encountered in divide\n",
      "  precisions_resnet.append(np.nanmean((y_pred_test_th_res * temp_test_labels).sum(axis=1) / y_pred_test_th_res.sum(axis=1)))\n",
      "  3%|▎         | 3/100 [02:01<1:03:32, 39.31s/it]"
     ]
    },
    {
     "name": "stdout",
     "output_type": "stream",
     "text": [
      "Optimization terminated successfully    (Exit mode 0)\n",
      "            Current function value: -9.52138765953559\n",
      "            Iterations: 22\n",
      "            Function evaluations: 48\n",
      "            Gradient evaluations: 22\n",
      "recalls: CRC = 0.9062188754316536, MACP = 0.917150999787299\n",
      "precisions: CRC = 0.22476300930721485, MACP = 0.24319341646352413\n"
     ]
    },
    {
     "name": "stderr",
     "output_type": "stream",
     "text": [
      "100%|██████████| 199/199 [00:00<00:00, 330.30it/s]\n",
      "/tmp/ipykernel_2769598/464758000.py:48: RuntimeWarning: invalid value encountered in divide\n",
      "  recalls_crc.append(np.nanmean((y_pred_test_th_crc * temp_test_labels).sum(axis=1) / temp_test_labels.sum(axis=1)))\n",
      "/tmp/ipykernel_2769598/464758000.py:49: RuntimeWarning: invalid value encountered in divide\n",
      "  recalls_resnet.append(np.nanmean((y_pred_test_th_res * temp_test_labels).sum(axis=1) / temp_test_labels.sum(axis=1)))\n",
      "/tmp/ipykernel_2769598/464758000.py:51: RuntimeWarning: invalid value encountered in divide\n",
      "  precisions_crc.append(np.nanmean((y_pred_test_th_crc * temp_test_labels).sum(axis=1) / y_pred_test_th_crc.sum(axis=1)))\n",
      "/tmp/ipykernel_2769598/464758000.py:52: RuntimeWarning: invalid value encountered in divide\n",
      "  precisions_resnet.append(np.nanmean((y_pred_test_th_res * temp_test_labels).sum(axis=1) / y_pred_test_th_res.sum(axis=1)))\n",
      "  4%|▍         | 4/100 [03:22<1:29:20, 55.84s/it]"
     ]
    },
    {
     "name": "stdout",
     "output_type": "stream",
     "text": [
      "Optimization terminated successfully    (Exit mode 0)\n",
      "            Current function value: -9.52189464709533\n",
      "            Iterations: 30\n",
      "            Function evaluations: 96\n",
      "            Gradient evaluations: 30\n",
      "recalls: CRC = 0.8800230269532354, MACP = 0.8878184488899724\n",
      "precisions: CRC = 0.3213677203823741, MACP = 0.3347446666378239\n"
     ]
    },
    {
     "name": "stderr",
     "output_type": "stream",
     "text": [
      "100%|██████████| 199/199 [00:01<00:00, 117.05it/s]\n",
      "/tmp/ipykernel_2769598/464758000.py:48: RuntimeWarning: invalid value encountered in divide\n",
      "  recalls_crc.append(np.nanmean((y_pred_test_th_crc * temp_test_labels).sum(axis=1) / temp_test_labels.sum(axis=1)))\n",
      "/tmp/ipykernel_2769598/464758000.py:49: RuntimeWarning: invalid value encountered in divide\n",
      "  recalls_resnet.append(np.nanmean((y_pred_test_th_res * temp_test_labels).sum(axis=1) / temp_test_labels.sum(axis=1)))\n",
      "/tmp/ipykernel_2769598/464758000.py:51: RuntimeWarning: invalid value encountered in divide\n",
      "  precisions_crc.append(np.nanmean((y_pred_test_th_crc * temp_test_labels).sum(axis=1) / y_pred_test_th_crc.sum(axis=1)))\n",
      "/tmp/ipykernel_2769598/464758000.py:52: RuntimeWarning: invalid value encountered in divide\n",
      "  precisions_resnet.append(np.nanmean((y_pred_test_th_res * temp_test_labels).sum(axis=1) / y_pred_test_th_res.sum(axis=1)))\n",
      "  5%|▌         | 5/100 [03:49<1:12:05, 45.53s/it]"
     ]
    },
    {
     "name": "stdout",
     "output_type": "stream",
     "text": [
      "Optimization terminated successfully    (Exit mode 0)\n",
      "            Current function value: -9.521623511837085\n",
      "            Iterations: 18\n",
      "            Function evaluations: 40\n",
      "            Gradient evaluations: 18\n",
      "recalls: CRC = 0.9013036372443041, MACP = 0.8994266884185946\n",
      "precisions: CRC = 0.2246411008316709, MACP = 0.293104488950721\n"
     ]
    },
    {
     "name": "stderr",
     "output_type": "stream",
     "text": [
      "100%|██████████| 199/199 [00:00<00:00, 532.12it/s]\n",
      "/tmp/ipykernel_2769598/464758000.py:48: RuntimeWarning: invalid value encountered in divide\n",
      "  recalls_crc.append(np.nanmean((y_pred_test_th_crc * temp_test_labels).sum(axis=1) / temp_test_labels.sum(axis=1)))\n",
      "/tmp/ipykernel_2769598/464758000.py:49: RuntimeWarning: invalid value encountered in divide\n",
      "  recalls_resnet.append(np.nanmean((y_pred_test_th_res * temp_test_labels).sum(axis=1) / temp_test_labels.sum(axis=1)))\n",
      "/tmp/ipykernel_2769598/464758000.py:51: RuntimeWarning: invalid value encountered in divide\n",
      "  precisions_crc.append(np.nanmean((y_pred_test_th_crc * temp_test_labels).sum(axis=1) / y_pred_test_th_crc.sum(axis=1)))\n",
      "/tmp/ipykernel_2769598/464758000.py:52: RuntimeWarning: invalid value encountered in divide\n",
      "  precisions_resnet.append(np.nanmean((y_pred_test_th_res * temp_test_labels).sum(axis=1) / y_pred_test_th_res.sum(axis=1)))\n",
      "  6%|▌         | 6/100 [04:31<1:09:31, 44.38s/it]"
     ]
    },
    {
     "name": "stdout",
     "output_type": "stream",
     "text": [
      "Optimization terminated successfully    (Exit mode 0)\n",
      "            Current function value: -9.522406574246794\n",
      "            Iterations: 21\n",
      "            Function evaluations: 45\n",
      "            Gradient evaluations: 21\n",
      "recalls: CRC = 0.8737425271475773, MACP = 0.8849637536510164\n",
      "precisions: CRC = 0.32293372114562824, MACP = 0.33342243989589593\n"
     ]
    },
    {
     "name": "stderr",
     "output_type": "stream",
     "text": [
      "100%|██████████| 199/199 [00:00<00:00, 1272.56it/s]\n",
      "/tmp/ipykernel_2769598/464758000.py:48: RuntimeWarning: invalid value encountered in divide\n",
      "  recalls_crc.append(np.nanmean((y_pred_test_th_crc * temp_test_labels).sum(axis=1) / temp_test_labels.sum(axis=1)))\n",
      "/tmp/ipykernel_2769598/464758000.py:49: RuntimeWarning: invalid value encountered in divide\n",
      "  recalls_resnet.append(np.nanmean((y_pred_test_th_res * temp_test_labels).sum(axis=1) / temp_test_labels.sum(axis=1)))\n",
      "/tmp/ipykernel_2769598/464758000.py:51: RuntimeWarning: invalid value encountered in divide\n",
      "  precisions_crc.append(np.nanmean((y_pred_test_th_crc * temp_test_labels).sum(axis=1) / y_pred_test_th_crc.sum(axis=1)))\n",
      "/tmp/ipykernel_2769598/464758000.py:52: RuntimeWarning: invalid value encountered in divide\n",
      "  precisions_resnet.append(np.nanmean((y_pred_test_th_res * temp_test_labels).sum(axis=1) / y_pred_test_th_res.sum(axis=1)))\n",
      "  7%|▋         | 7/100 [05:06<1:03:58, 41.28s/it]"
     ]
    },
    {
     "name": "stdout",
     "output_type": "stream",
     "text": [
      "Optimization terminated successfully    (Exit mode 0)\n",
      "            Current function value: -9.521704079146188\n",
      "            Iterations: 26\n",
      "            Function evaluations: 73\n",
      "            Gradient evaluations: 26\n",
      "recalls: CRC = 0.8705089750392183, MACP = 0.8768631403650213\n",
      "precisions: CRC = 0.3130410026726057, MACP = 0.3357116792808944\n"
     ]
    },
    {
     "name": "stderr",
     "output_type": "stream",
     "text": [
      "100%|██████████| 199/199 [00:00<00:00, 1273.03it/s]\n",
      "/tmp/ipykernel_2769598/464758000.py:48: RuntimeWarning: invalid value encountered in divide\n",
      "  recalls_crc.append(np.nanmean((y_pred_test_th_crc * temp_test_labels).sum(axis=1) / temp_test_labels.sum(axis=1)))\n",
      "/tmp/ipykernel_2769598/464758000.py:49: RuntimeWarning: invalid value encountered in divide\n",
      "  recalls_resnet.append(np.nanmean((y_pred_test_th_res * temp_test_labels).sum(axis=1) / temp_test_labels.sum(axis=1)))\n",
      "/tmp/ipykernel_2769598/464758000.py:51: RuntimeWarning: invalid value encountered in divide\n",
      "  precisions_crc.append(np.nanmean((y_pred_test_th_crc * temp_test_labels).sum(axis=1) / y_pred_test_th_crc.sum(axis=1)))\n",
      "/tmp/ipykernel_2769598/464758000.py:52: RuntimeWarning: invalid value encountered in divide\n",
      "  precisions_resnet.append(np.nanmean((y_pred_test_th_res * temp_test_labels).sum(axis=1) / y_pred_test_th_res.sum(axis=1)))\n",
      "  8%|▊         | 8/100 [05:40<59:31, 38.82s/it]  "
     ]
    },
    {
     "name": "stdout",
     "output_type": "stream",
     "text": [
      "Optimization terminated successfully    (Exit mode 0)\n",
      "            Current function value: -9.521392334518124\n",
      "            Iterations: 23\n",
      "            Function evaluations: 55\n",
      "            Gradient evaluations: 23\n",
      "recalls: CRC = 0.876704035014948, MACP = 0.8873731101360304\n",
      "precisions: CRC = 0.3117911972095334, MACP = 0.31086472899684997\n"
     ]
    },
    {
     "name": "stderr",
     "output_type": "stream",
     "text": [
      "100%|██████████| 199/199 [00:00<00:00, 1251.94it/s]\n",
      "/tmp/ipykernel_2769598/464758000.py:48: RuntimeWarning: invalid value encountered in divide\n",
      "  recalls_crc.append(np.nanmean((y_pred_test_th_crc * temp_test_labels).sum(axis=1) / temp_test_labels.sum(axis=1)))\n",
      "/tmp/ipykernel_2769598/464758000.py:49: RuntimeWarning: invalid value encountered in divide\n",
      "  recalls_resnet.append(np.nanmean((y_pred_test_th_res * temp_test_labels).sum(axis=1) / temp_test_labels.sum(axis=1)))\n",
      "/tmp/ipykernel_2769598/464758000.py:51: RuntimeWarning: invalid value encountered in divide\n",
      "  precisions_crc.append(np.nanmean((y_pred_test_th_crc * temp_test_labels).sum(axis=1) / y_pred_test_th_crc.sum(axis=1)))\n",
      "/tmp/ipykernel_2769598/464758000.py:52: RuntimeWarning: invalid value encountered in divide\n",
      "  precisions_resnet.append(np.nanmean((y_pred_test_th_res * temp_test_labels).sum(axis=1) / y_pred_test_th_res.sum(axis=1)))\n",
      "  9%|▉         | 9/100 [06:02<50:44, 33.46s/it]"
     ]
    },
    {
     "name": "stdout",
     "output_type": "stream",
     "text": [
      "Optimization terminated successfully    (Exit mode 0)\n",
      "            Current function value: -9.521226019586825\n",
      "            Iterations: 15\n",
      "            Function evaluations: 35\n",
      "            Gradient evaluations: 15\n",
      "recalls: CRC = 0.8725017319120583, MACP = 0.8906315172608755\n",
      "precisions: CRC = 0.3228474822421075, MACP = 0.2979334576868893\n"
     ]
    },
    {
     "name": "stderr",
     "output_type": "stream",
     "text": [
      "100%|██████████| 199/199 [00:00<00:00, 1208.29it/s]\n",
      "/tmp/ipykernel_2769598/464758000.py:48: RuntimeWarning: invalid value encountered in divide\n",
      "  recalls_crc.append(np.nanmean((y_pred_test_th_crc * temp_test_labels).sum(axis=1) / temp_test_labels.sum(axis=1)))\n",
      "/tmp/ipykernel_2769598/464758000.py:49: RuntimeWarning: invalid value encountered in divide\n",
      "  recalls_resnet.append(np.nanmean((y_pred_test_th_res * temp_test_labels).sum(axis=1) / temp_test_labels.sum(axis=1)))\n",
      "/tmp/ipykernel_2769598/464758000.py:51: RuntimeWarning: invalid value encountered in divide\n",
      "  precisions_crc.append(np.nanmean((y_pred_test_th_crc * temp_test_labels).sum(axis=1) / y_pred_test_th_crc.sum(axis=1)))\n",
      "/tmp/ipykernel_2769598/464758000.py:52: RuntimeWarning: invalid value encountered in divide\n",
      "  precisions_resnet.append(np.nanmean((y_pred_test_th_res * temp_test_labels).sum(axis=1) / y_pred_test_th_res.sum(axis=1)))\n",
      " 10%|█         | 10/100 [06:32<48:55, 32.62s/it]"
     ]
    },
    {
     "name": "stdout",
     "output_type": "stream",
     "text": [
      "Optimization terminated successfully    (Exit mode 0)\n",
      "            Current function value: -9.521762027670292\n",
      "            Iterations: 22\n",
      "            Function evaluations: 51\n",
      "            Gradient evaluations: 22\n",
      "recalls: CRC = 0.9044279667253665, MACP = 0.9084236036480935\n",
      "precisions: CRC = 0.22439993934632782, MACP = 0.27671540423239144\n"
     ]
    },
    {
     "name": "stderr",
     "output_type": "stream",
     "text": [
      "100%|██████████| 199/199 [00:00<00:00, 969.28it/s] \n",
      "/tmp/ipykernel_2769598/464758000.py:48: RuntimeWarning: invalid value encountered in divide\n",
      "  recalls_crc.append(np.nanmean((y_pred_test_th_crc * temp_test_labels).sum(axis=1) / temp_test_labels.sum(axis=1)))\n",
      "/tmp/ipykernel_2769598/464758000.py:49: RuntimeWarning: invalid value encountered in divide\n",
      "  recalls_resnet.append(np.nanmean((y_pred_test_th_res * temp_test_labels).sum(axis=1) / temp_test_labels.sum(axis=1)))\n",
      "/tmp/ipykernel_2769598/464758000.py:51: RuntimeWarning: invalid value encountered in divide\n",
      "  precisions_crc.append(np.nanmean((y_pred_test_th_crc * temp_test_labels).sum(axis=1) / y_pred_test_th_crc.sum(axis=1)))\n",
      "/tmp/ipykernel_2769598/464758000.py:52: RuntimeWarning: invalid value encountered in divide\n",
      "  precisions_resnet.append(np.nanmean((y_pred_test_th_res * temp_test_labels).sum(axis=1) / y_pred_test_th_res.sum(axis=1)))\n",
      " 11%|█         | 11/100 [06:57<44:42, 30.14s/it]"
     ]
    },
    {
     "name": "stdout",
     "output_type": "stream",
     "text": [
      "Optimization terminated successfully    (Exit mode 0)\n",
      "            Current function value: -9.52211586207448\n",
      "            Iterations: 20\n",
      "            Function evaluations: 39\n",
      "            Gradient evaluations: 20\n",
      "recalls: CRC = 0.8731480849110819, MACP = 0.8803621858711458\n",
      "precisions: CRC = 0.3151049303454439, MACP = 0.3451915618535966\n"
     ]
    },
    {
     "name": "stderr",
     "output_type": "stream",
     "text": [
      "100%|██████████| 199/199 [00:00<00:00, 1161.20it/s]\n",
      "/tmp/ipykernel_2769598/464758000.py:48: RuntimeWarning: invalid value encountered in divide\n",
      "  recalls_crc.append(np.nanmean((y_pred_test_th_crc * temp_test_labels).sum(axis=1) / temp_test_labels.sum(axis=1)))\n",
      "/tmp/ipykernel_2769598/464758000.py:49: RuntimeWarning: invalid value encountered in divide\n",
      "  recalls_resnet.append(np.nanmean((y_pred_test_th_res * temp_test_labels).sum(axis=1) / temp_test_labels.sum(axis=1)))\n",
      "/tmp/ipykernel_2769598/464758000.py:51: RuntimeWarning: invalid value encountered in divide\n",
      "  precisions_crc.append(np.nanmean((y_pred_test_th_crc * temp_test_labels).sum(axis=1) / y_pred_test_th_crc.sum(axis=1)))\n",
      "/tmp/ipykernel_2769598/464758000.py:52: RuntimeWarning: invalid value encountered in divide\n",
      "  precisions_resnet.append(np.nanmean((y_pred_test_th_res * temp_test_labels).sum(axis=1) / y_pred_test_th_res.sum(axis=1)))\n",
      " 12%|█▏        | 12/100 [07:23<42:31, 29.00s/it]"
     ]
    },
    {
     "name": "stdout",
     "output_type": "stream",
     "text": [
      "Optimization terminated successfully    (Exit mode 0)\n",
      "            Current function value: -9.52162176396195\n",
      "            Iterations: 19\n",
      "            Function evaluations: 46\n",
      "            Gradient evaluations: 19\n",
      "recalls: CRC = 0.8956338164459545, MACP = 0.8779614027600138\n",
      "precisions: CRC = 0.221036288554246, MACP = 0.34548322392238584\n"
     ]
    },
    {
     "name": "stderr",
     "output_type": "stream",
     "text": [
      "100%|██████████| 199/199 [00:00<00:00, 1180.32it/s]\n",
      "/tmp/ipykernel_2769598/464758000.py:48: RuntimeWarning: invalid value encountered in divide\n",
      "  recalls_crc.append(np.nanmean((y_pred_test_th_crc * temp_test_labels).sum(axis=1) / temp_test_labels.sum(axis=1)))\n",
      "/tmp/ipykernel_2769598/464758000.py:49: RuntimeWarning: invalid value encountered in divide\n",
      "  recalls_resnet.append(np.nanmean((y_pred_test_th_res * temp_test_labels).sum(axis=1) / temp_test_labels.sum(axis=1)))\n",
      "/tmp/ipykernel_2769598/464758000.py:51: RuntimeWarning: invalid value encountered in divide\n",
      "  precisions_crc.append(np.nanmean((y_pred_test_th_crc * temp_test_labels).sum(axis=1) / y_pred_test_th_crc.sum(axis=1)))\n",
      "/tmp/ipykernel_2769598/464758000.py:52: RuntimeWarning: invalid value encountered in divide\n",
      "  precisions_resnet.append(np.nanmean((y_pred_test_th_res * temp_test_labels).sum(axis=1) / y_pred_test_th_res.sum(axis=1)))\n",
      " 13%|█▎        | 13/100 [08:01<46:03, 31.77s/it]"
     ]
    },
    {
     "name": "stdout",
     "output_type": "stream",
     "text": [
      "Optimization terminated successfully    (Exit mode 0)\n",
      "            Current function value: -9.521830601743307\n",
      "            Iterations: 28\n",
      "            Function evaluations: 56\n",
      "            Gradient evaluations: 28\n",
      "recalls: CRC = 0.9052239985647755, MACP = 0.9147029882339603\n",
      "precisions: CRC = 0.22604038177000818, MACP = 0.2476848635458832\n"
     ]
    },
    {
     "name": "stderr",
     "output_type": "stream",
     "text": [
      "100%|██████████| 199/199 [00:00<00:00, 497.51it/s] \n",
      "/tmp/ipykernel_2769598/464758000.py:48: RuntimeWarning: invalid value encountered in divide\n",
      "  recalls_crc.append(np.nanmean((y_pred_test_th_crc * temp_test_labels).sum(axis=1) / temp_test_labels.sum(axis=1)))\n",
      "/tmp/ipykernel_2769598/464758000.py:49: RuntimeWarning: invalid value encountered in divide\n",
      "  recalls_resnet.append(np.nanmean((y_pred_test_th_res * temp_test_labels).sum(axis=1) / temp_test_labels.sum(axis=1)))\n",
      "/tmp/ipykernel_2769598/464758000.py:51: RuntimeWarning: invalid value encountered in divide\n",
      "  precisions_crc.append(np.nanmean((y_pred_test_th_crc * temp_test_labels).sum(axis=1) / y_pred_test_th_crc.sum(axis=1)))\n",
      "/tmp/ipykernel_2769598/464758000.py:52: RuntimeWarning: invalid value encountered in divide\n",
      "  precisions_resnet.append(np.nanmean((y_pred_test_th_res * temp_test_labels).sum(axis=1) / y_pred_test_th_res.sum(axis=1)))\n",
      " 14%|█▍        | 14/100 [08:25<41:56, 29.27s/it]"
     ]
    },
    {
     "name": "stdout",
     "output_type": "stream",
     "text": [
      "Optimization terminated successfully    (Exit mode 0)\n",
      "            Current function value: -9.522006236956342\n",
      "            Iterations: 22\n",
      "            Function evaluations: 48\n",
      "            Gradient evaluations: 22\n",
      "recalls: CRC = 0.8971425615093385, MACP = 0.8908622134089307\n",
      "precisions: CRC = 0.22197570615311632, MACP = 0.3145626476366815\n"
     ]
    },
    {
     "name": "stderr",
     "output_type": "stream",
     "text": [
      "100%|██████████| 199/199 [00:00<00:00, 958.89it/s] \n",
      "/tmp/ipykernel_2769598/464758000.py:48: RuntimeWarning: invalid value encountered in divide\n",
      "  recalls_crc.append(np.nanmean((y_pred_test_th_crc * temp_test_labels).sum(axis=1) / temp_test_labels.sum(axis=1)))\n",
      "/tmp/ipykernel_2769598/464758000.py:49: RuntimeWarning: invalid value encountered in divide\n",
      "  recalls_resnet.append(np.nanmean((y_pred_test_th_res * temp_test_labels).sum(axis=1) / temp_test_labels.sum(axis=1)))\n",
      "/tmp/ipykernel_2769598/464758000.py:51: RuntimeWarning: invalid value encountered in divide\n",
      "  precisions_crc.append(np.nanmean((y_pred_test_th_crc * temp_test_labels).sum(axis=1) / y_pred_test_th_crc.sum(axis=1)))\n",
      "/tmp/ipykernel_2769598/464758000.py:52: RuntimeWarning: invalid value encountered in divide\n",
      "  precisions_resnet.append(np.nanmean((y_pred_test_th_res * temp_test_labels).sum(axis=1) / y_pred_test_th_res.sum(axis=1)))\n",
      " 15%|█▌        | 15/100 [08:58<43:14, 30.52s/it]"
     ]
    },
    {
     "name": "stdout",
     "output_type": "stream",
     "text": [
      "Optimization terminated successfully    (Exit mode 0)\n",
      "            Current function value: -9.522975586216917\n",
      "            Iterations: 21\n",
      "            Function evaluations: 47\n",
      "            Gradient evaluations: 21\n",
      "recalls: CRC = 0.8453697906948231, MACP = 0.8515798989378657\n",
      "precisions: CRC = 0.4075548621020211, MACP = 0.43211081085849096\n"
     ]
    },
    {
     "name": "stderr",
     "output_type": "stream",
     "text": [
      "100%|██████████| 199/199 [00:01<00:00, 144.37it/s]\n",
      "/tmp/ipykernel_2769598/464758000.py:48: RuntimeWarning: invalid value encountered in divide\n",
      "  recalls_crc.append(np.nanmean((y_pred_test_th_crc * temp_test_labels).sum(axis=1) / temp_test_labels.sum(axis=1)))\n",
      "/tmp/ipykernel_2769598/464758000.py:49: RuntimeWarning: invalid value encountered in divide\n",
      "  recalls_resnet.append(np.nanmean((y_pred_test_th_res * temp_test_labels).sum(axis=1) / temp_test_labels.sum(axis=1)))\n",
      "/tmp/ipykernel_2769598/464758000.py:51: RuntimeWarning: invalid value encountered in divide\n",
      "  precisions_crc.append(np.nanmean((y_pred_test_th_crc * temp_test_labels).sum(axis=1) / y_pred_test_th_crc.sum(axis=1)))\n",
      "/tmp/ipykernel_2769598/464758000.py:52: RuntimeWarning: invalid value encountered in divide\n",
      "  precisions_resnet.append(np.nanmean((y_pred_test_th_res * temp_test_labels).sum(axis=1) / y_pred_test_th_res.sum(axis=1)))\n",
      " 16%|█▌        | 16/100 [09:41<47:48, 34.14s/it]"
     ]
    },
    {
     "name": "stdout",
     "output_type": "stream",
     "text": [
      "Optimization terminated successfully    (Exit mode 0)\n",
      "            Current function value: -9.522057860353518\n",
      "            Iterations: 20\n",
      "            Function evaluations: 41\n",
      "            Gradient evaluations: 20\n",
      "recalls: CRC = 0.8732278868210267, MACP = 0.8736698426824775\n",
      "precisions: CRC = 0.3166212190320352, MACP = 0.3725174682180382\n"
     ]
    },
    {
     "name": "stderr",
     "output_type": "stream",
     "text": [
      "100%|██████████| 199/199 [00:00<00:00, 1195.29it/s]\n",
      "/tmp/ipykernel_2769598/464758000.py:48: RuntimeWarning: invalid value encountered in divide\n",
      "  recalls_crc.append(np.nanmean((y_pred_test_th_crc * temp_test_labels).sum(axis=1) / temp_test_labels.sum(axis=1)))\n",
      "/tmp/ipykernel_2769598/464758000.py:49: RuntimeWarning: invalid value encountered in divide\n",
      "  recalls_resnet.append(np.nanmean((y_pred_test_th_res * temp_test_labels).sum(axis=1) / temp_test_labels.sum(axis=1)))\n",
      "/tmp/ipykernel_2769598/464758000.py:51: RuntimeWarning: invalid value encountered in divide\n",
      "  precisions_crc.append(np.nanmean((y_pred_test_th_crc * temp_test_labels).sum(axis=1) / y_pred_test_th_crc.sum(axis=1)))\n",
      "/tmp/ipykernel_2769598/464758000.py:52: RuntimeWarning: invalid value encountered in divide\n",
      "  precisions_resnet.append(np.nanmean((y_pred_test_th_res * temp_test_labels).sum(axis=1) / y_pred_test_th_res.sum(axis=1)))\n",
      " 17%|█▋        | 17/100 [10:21<49:47, 36.00s/it]"
     ]
    },
    {
     "name": "stdout",
     "output_type": "stream",
     "text": [
      "Optimization terminated successfully    (Exit mode 0)\n",
      "            Current function value: -9.5209430899602\n",
      "            Iterations: 20\n",
      "            Function evaluations: 42\n",
      "            Gradient evaluations: 20\n",
      "recalls: CRC = 0.9076679012691682, MACP = 0.9184068049191101\n",
      "precisions: CRC = 0.22182954410702116, MACP = 0.24105923106048963\n"
     ]
    },
    {
     "name": "stderr",
     "output_type": "stream",
     "text": [
      "100%|██████████| 199/199 [00:00<00:00, 325.57it/s]\n",
      "/tmp/ipykernel_2769598/464758000.py:48: RuntimeWarning: invalid value encountered in divide\n",
      "  recalls_crc.append(np.nanmean((y_pred_test_th_crc * temp_test_labels).sum(axis=1) / temp_test_labels.sum(axis=1)))\n",
      "/tmp/ipykernel_2769598/464758000.py:49: RuntimeWarning: invalid value encountered in divide\n",
      "  recalls_resnet.append(np.nanmean((y_pred_test_th_res * temp_test_labels).sum(axis=1) / temp_test_labels.sum(axis=1)))\n",
      "/tmp/ipykernel_2769598/464758000.py:51: RuntimeWarning: invalid value encountered in divide\n",
      "  precisions_crc.append(np.nanmean((y_pred_test_th_crc * temp_test_labels).sum(axis=1) / y_pred_test_th_crc.sum(axis=1)))\n",
      "/tmp/ipykernel_2769598/464758000.py:52: RuntimeWarning: invalid value encountered in divide\n",
      "  precisions_resnet.append(np.nanmean((y_pred_test_th_res * temp_test_labels).sum(axis=1) / y_pred_test_th_res.sum(axis=1)))\n",
      " 18%|█▊        | 18/100 [10:49<45:59, 33.65s/it]"
     ]
    },
    {
     "name": "stdout",
     "output_type": "stream",
     "text": [
      "Optimization terminated successfully    (Exit mode 0)\n",
      "            Current function value: -9.521699528160806\n",
      "            Iterations: 19\n",
      "            Function evaluations: 36\n",
      "            Gradient evaluations: 19\n",
      "recalls: CRC = 0.8727109628976342, MACP = 0.8863997295640857\n",
      "precisions: CRC = 0.3189799105787923, MACP = 0.3034275744015558\n"
     ]
    },
    {
     "name": "stderr",
     "output_type": "stream",
     "text": [
      "100%|██████████| 199/199 [00:00<00:00, 706.34it/s]\n",
      "/tmp/ipykernel_2769598/464758000.py:48: RuntimeWarning: invalid value encountered in divide\n",
      "  recalls_crc.append(np.nanmean((y_pred_test_th_crc * temp_test_labels).sum(axis=1) / temp_test_labels.sum(axis=1)))\n",
      "/tmp/ipykernel_2769598/464758000.py:49: RuntimeWarning: invalid value encountered in divide\n",
      "  recalls_resnet.append(np.nanmean((y_pred_test_th_res * temp_test_labels).sum(axis=1) / temp_test_labels.sum(axis=1)))\n",
      "/tmp/ipykernel_2769598/464758000.py:51: RuntimeWarning: invalid value encountered in divide\n",
      "  precisions_crc.append(np.nanmean((y_pred_test_th_crc * temp_test_labels).sum(axis=1) / y_pred_test_th_crc.sum(axis=1)))\n",
      "/tmp/ipykernel_2769598/464758000.py:52: RuntimeWarning: invalid value encountered in divide\n",
      "  precisions_resnet.append(np.nanmean((y_pred_test_th_res * temp_test_labels).sum(axis=1) / y_pred_test_th_res.sum(axis=1)))\n",
      " 19%|█▉        | 19/100 [11:42<53:16, 39.46s/it]"
     ]
    },
    {
     "name": "stdout",
     "output_type": "stream",
     "text": [
      "Optimization terminated successfully    (Exit mode 0)\n",
      "            Current function value: -9.521253515172868\n",
      "            Iterations: 30\n",
      "            Function evaluations: 105\n",
      "            Gradient evaluations: 30\n",
      "recalls: CRC = 0.906076251037447, MACP = 0.9133275490556085\n",
      "precisions: CRC = 0.22480662781156086, MACP = 0.2607236032412212\n"
     ]
    },
    {
     "name": "stderr",
     "output_type": "stream",
     "text": [
      "100%|██████████| 199/199 [00:00<00:00, 1083.13it/s]\n",
      "/tmp/ipykernel_2769598/464758000.py:48: RuntimeWarning: invalid value encountered in divide\n",
      "  recalls_crc.append(np.nanmean((y_pred_test_th_crc * temp_test_labels).sum(axis=1) / temp_test_labels.sum(axis=1)))\n",
      "/tmp/ipykernel_2769598/464758000.py:49: RuntimeWarning: invalid value encountered in divide\n",
      "  recalls_resnet.append(np.nanmean((y_pred_test_th_res * temp_test_labels).sum(axis=1) / temp_test_labels.sum(axis=1)))\n",
      "/tmp/ipykernel_2769598/464758000.py:51: RuntimeWarning: invalid value encountered in divide\n",
      "  precisions_crc.append(np.nanmean((y_pred_test_th_crc * temp_test_labels).sum(axis=1) / y_pred_test_th_crc.sum(axis=1)))\n",
      "/tmp/ipykernel_2769598/464758000.py:52: RuntimeWarning: invalid value encountered in divide\n",
      "  precisions_resnet.append(np.nanmean((y_pred_test_th_res * temp_test_labels).sum(axis=1) / y_pred_test_th_res.sum(axis=1)))\n",
      " 20%|██        | 20/100 [12:07<46:48, 35.11s/it]"
     ]
    },
    {
     "name": "stdout",
     "output_type": "stream",
     "text": [
      "Optimization terminated successfully    (Exit mode 0)\n",
      "            Current function value: -9.521760885383337\n",
      "            Iterations: 19\n",
      "            Function evaluations: 42\n",
      "            Gradient evaluations: 19\n",
      "recalls: CRC = 0.8779798868532572, MACP = 0.8832972627719394\n",
      "precisions: CRC = 0.3217434249341929, MACP = 0.34838160980343397\n"
     ]
    },
    {
     "name": "stderr",
     "output_type": "stream",
     "text": [
      "100%|██████████| 199/199 [00:01<00:00, 171.24it/s]\n",
      "/tmp/ipykernel_2769598/464758000.py:48: RuntimeWarning: invalid value encountered in divide\n",
      "  recalls_crc.append(np.nanmean((y_pred_test_th_crc * temp_test_labels).sum(axis=1) / temp_test_labels.sum(axis=1)))\n",
      "/tmp/ipykernel_2769598/464758000.py:49: RuntimeWarning: invalid value encountered in divide\n",
      "  recalls_resnet.append(np.nanmean((y_pred_test_th_res * temp_test_labels).sum(axis=1) / temp_test_labels.sum(axis=1)))\n",
      "/tmp/ipykernel_2769598/464758000.py:51: RuntimeWarning: invalid value encountered in divide\n",
      "  precisions_crc.append(np.nanmean((y_pred_test_th_crc * temp_test_labels).sum(axis=1) / y_pred_test_th_crc.sum(axis=1)))\n",
      "/tmp/ipykernel_2769598/464758000.py:52: RuntimeWarning: invalid value encountered in divide\n",
      "  precisions_resnet.append(np.nanmean((y_pred_test_th_res * temp_test_labels).sum(axis=1) / y_pred_test_th_res.sum(axis=1)))\n",
      " 21%|██        | 21/100 [13:01<53:26, 40.58s/it]"
     ]
    },
    {
     "name": "stdout",
     "output_type": "stream",
     "text": [
      "Optimization terminated successfully    (Exit mode 0)\n",
      "            Current function value: -9.52257306235021\n",
      "            Iterations: 32\n",
      "            Function evaluations: 81\n",
      "            Gradient evaluations: 32\n",
      "recalls: CRC = 0.8990414346954513, MACP = 0.8895702703284311\n",
      "precisions: CRC = 0.22836482852019238, MACP = 0.3396707333251709\n"
     ]
    },
    {
     "name": "stderr",
     "output_type": "stream",
     "text": [
      "100%|██████████| 199/199 [00:00<00:00, 1135.50it/s]\n",
      "/tmp/ipykernel_2769598/464758000.py:48: RuntimeWarning: invalid value encountered in divide\n",
      "  recalls_crc.append(np.nanmean((y_pred_test_th_crc * temp_test_labels).sum(axis=1) / temp_test_labels.sum(axis=1)))\n",
      "/tmp/ipykernel_2769598/464758000.py:49: RuntimeWarning: invalid value encountered in divide\n",
      "  recalls_resnet.append(np.nanmean((y_pred_test_th_res * temp_test_labels).sum(axis=1) / temp_test_labels.sum(axis=1)))\n",
      "/tmp/ipykernel_2769598/464758000.py:51: RuntimeWarning: invalid value encountered in divide\n",
      "  precisions_crc.append(np.nanmean((y_pred_test_th_crc * temp_test_labels).sum(axis=1) / y_pred_test_th_crc.sum(axis=1)))\n",
      "/tmp/ipykernel_2769598/464758000.py:52: RuntimeWarning: invalid value encountered in divide\n",
      "  precisions_resnet.append(np.nanmean((y_pred_test_th_res * temp_test_labels).sum(axis=1) / y_pred_test_th_res.sum(axis=1)))\n",
      " 22%|██▏       | 22/100 [13:44<53:59, 41.53s/it]"
     ]
    },
    {
     "name": "stdout",
     "output_type": "stream",
     "text": [
      "Optimization terminated successfully    (Exit mode 0)\n",
      "            Current function value: -9.521522249066095\n",
      "            Iterations: 27\n",
      "            Function evaluations: 80\n",
      "            Gradient evaluations: 27\n",
      "recalls: CRC = 0.8919482312035161, MACP = 0.8832215717044642\n",
      "precisions: CRC = 0.22008816944418177, MACP = 0.3187536314215375\n"
     ]
    },
    {
     "name": "stderr",
     "output_type": "stream",
     "text": [
      "100%|██████████| 199/199 [00:00<00:00, 1211.70it/s]\n",
      "/tmp/ipykernel_2769598/464758000.py:48: RuntimeWarning: invalid value encountered in divide\n",
      "  recalls_crc.append(np.nanmean((y_pred_test_th_crc * temp_test_labels).sum(axis=1) / temp_test_labels.sum(axis=1)))\n",
      "/tmp/ipykernel_2769598/464758000.py:49: RuntimeWarning: invalid value encountered in divide\n",
      "  recalls_resnet.append(np.nanmean((y_pred_test_th_res * temp_test_labels).sum(axis=1) / temp_test_labels.sum(axis=1)))\n",
      "/tmp/ipykernel_2769598/464758000.py:51: RuntimeWarning: invalid value encountered in divide\n",
      "  precisions_crc.append(np.nanmean((y_pred_test_th_crc * temp_test_labels).sum(axis=1) / y_pred_test_th_crc.sum(axis=1)))\n",
      "/tmp/ipykernel_2769598/464758000.py:52: RuntimeWarning: invalid value encountered in divide\n",
      "  precisions_resnet.append(np.nanmean((y_pred_test_th_res * temp_test_labels).sum(axis=1) / y_pred_test_th_res.sum(axis=1)))\n",
      " 23%|██▎       | 23/100 [14:41<59:12, 46.14s/it]"
     ]
    },
    {
     "name": "stdout",
     "output_type": "stream",
     "text": [
      "Optimization terminated successfully    (Exit mode 0)\n",
      "            Current function value: -9.521371977708734\n",
      "            Iterations: 32\n",
      "            Function evaluations: 99\n",
      "            Gradient evaluations: 32\n",
      "recalls: CRC = 0.8959329768637542, MACP = 0.8966106458970087\n",
      "precisions: CRC = 0.2238214253254923, MACP = 0.27700367726245867\n"
     ]
    },
    {
     "name": "stderr",
     "output_type": "stream",
     "text": [
      "100%|██████████| 199/199 [00:00<00:00, 748.78it/s]\n",
      "/tmp/ipykernel_2769598/464758000.py:48: RuntimeWarning: invalid value encountered in divide\n",
      "  recalls_crc.append(np.nanmean((y_pred_test_th_crc * temp_test_labels).sum(axis=1) / temp_test_labels.sum(axis=1)))\n",
      "/tmp/ipykernel_2769598/464758000.py:49: RuntimeWarning: invalid value encountered in divide\n",
      "  recalls_resnet.append(np.nanmean((y_pred_test_th_res * temp_test_labels).sum(axis=1) / temp_test_labels.sum(axis=1)))\n",
      "/tmp/ipykernel_2769598/464758000.py:51: RuntimeWarning: invalid value encountered in divide\n",
      "  precisions_crc.append(np.nanmean((y_pred_test_th_crc * temp_test_labels).sum(axis=1) / y_pred_test_th_crc.sum(axis=1)))\n",
      "/tmp/ipykernel_2769598/464758000.py:52: RuntimeWarning: invalid value encountered in divide\n",
      "  precisions_resnet.append(np.nanmean((y_pred_test_th_res * temp_test_labels).sum(axis=1) / y_pred_test_th_res.sum(axis=1)))\n",
      " 24%|██▍       | 24/100 [15:35<1:01:11, 48.31s/it]"
     ]
    },
    {
     "name": "stdout",
     "output_type": "stream",
     "text": [
      "Optimization terminated successfully    (Exit mode 0)\n",
      "            Current function value: -9.520878433553204\n",
      "            Iterations: 34\n",
      "            Function evaluations: 91\n",
      "            Gradient evaluations: 34\n",
      "recalls: CRC = 0.9075776248903518, MACP = 0.9197910560866548\n",
      "precisions: CRC = 0.22421495976947708, MACP = 0.2241933093247201\n"
     ]
    },
    {
     "name": "stderr",
     "output_type": "stream",
     "text": [
      "100%|██████████| 199/199 [00:00<00:00, 557.95it/s]\n",
      "/tmp/ipykernel_2769598/464758000.py:48: RuntimeWarning: invalid value encountered in divide\n",
      "  recalls_crc.append(np.nanmean((y_pred_test_th_crc * temp_test_labels).sum(axis=1) / temp_test_labels.sum(axis=1)))\n",
      "/tmp/ipykernel_2769598/464758000.py:49: RuntimeWarning: invalid value encountered in divide\n",
      "  recalls_resnet.append(np.nanmean((y_pred_test_th_res * temp_test_labels).sum(axis=1) / temp_test_labels.sum(axis=1)))\n",
      "/tmp/ipykernel_2769598/464758000.py:51: RuntimeWarning: invalid value encountered in divide\n",
      "  precisions_crc.append(np.nanmean((y_pred_test_th_crc * temp_test_labels).sum(axis=1) / y_pred_test_th_crc.sum(axis=1)))\n",
      "/tmp/ipykernel_2769598/464758000.py:52: RuntimeWarning: invalid value encountered in divide\n",
      "  precisions_resnet.append(np.nanmean((y_pred_test_th_res * temp_test_labels).sum(axis=1) / y_pred_test_th_res.sum(axis=1)))\n",
      " 25%|██▌       | 25/100 [15:51<48:22, 38.70s/it]  "
     ]
    },
    {
     "name": "stdout",
     "output_type": "stream",
     "text": [
      "Optimization terminated successfully    (Exit mode 0)\n",
      "            Current function value: -9.521118789825922\n",
      "            Iterations: 12\n",
      "            Function evaluations: 28\n",
      "            Gradient evaluations: 12\n",
      "recalls: CRC = 0.8807683028024225, MACP = 0.8990070158057176\n",
      "precisions: CRC = 0.3155559731021249, MACP = 0.2859934420858394\n"
     ]
    },
    {
     "name": "stderr",
     "output_type": "stream",
     "text": [
      "100%|██████████| 199/199 [00:00<00:00, 1258.37it/s]\n",
      "/tmp/ipykernel_2769598/464758000.py:48: RuntimeWarning: invalid value encountered in divide\n",
      "  recalls_crc.append(np.nanmean((y_pred_test_th_crc * temp_test_labels).sum(axis=1) / temp_test_labels.sum(axis=1)))\n",
      "/tmp/ipykernel_2769598/464758000.py:49: RuntimeWarning: invalid value encountered in divide\n",
      "  recalls_resnet.append(np.nanmean((y_pred_test_th_res * temp_test_labels).sum(axis=1) / temp_test_labels.sum(axis=1)))\n",
      "/tmp/ipykernel_2769598/464758000.py:51: RuntimeWarning: invalid value encountered in divide\n",
      "  precisions_crc.append(np.nanmean((y_pred_test_th_crc * temp_test_labels).sum(axis=1) / y_pred_test_th_crc.sum(axis=1)))\n",
      "/tmp/ipykernel_2769598/464758000.py:52: RuntimeWarning: invalid value encountered in divide\n",
      "  precisions_resnet.append(np.nanmean((y_pred_test_th_res * temp_test_labels).sum(axis=1) / y_pred_test_th_res.sum(axis=1)))\n",
      " 26%|██▌       | 26/100 [16:16<42:35, 34.53s/it]"
     ]
    },
    {
     "name": "stdout",
     "output_type": "stream",
     "text": [
      "Optimization terminated successfully    (Exit mode 0)\n",
      "            Current function value: -9.52190563452949\n",
      "            Iterations: 20\n",
      "            Function evaluations: 42\n",
      "            Gradient evaluations: 20\n",
      "recalls: CRC = 0.8954320635476979, MACP = 0.8990782034906694\n",
      "precisions: CRC = 0.22606300127894619, MACP = 0.28332802118940176\n"
     ]
    },
    {
     "name": "stderr",
     "output_type": "stream",
     "text": [
      "100%|██████████| 199/199 [00:00<00:00, 826.72it/s]\n",
      "/tmp/ipykernel_2769598/464758000.py:48: RuntimeWarning: invalid value encountered in divide\n",
      "  recalls_crc.append(np.nanmean((y_pred_test_th_crc * temp_test_labels).sum(axis=1) / temp_test_labels.sum(axis=1)))\n",
      "/tmp/ipykernel_2769598/464758000.py:49: RuntimeWarning: invalid value encountered in divide\n",
      "  recalls_resnet.append(np.nanmean((y_pred_test_th_res * temp_test_labels).sum(axis=1) / temp_test_labels.sum(axis=1)))\n",
      "/tmp/ipykernel_2769598/464758000.py:51: RuntimeWarning: invalid value encountered in divide\n",
      "  precisions_crc.append(np.nanmean((y_pred_test_th_crc * temp_test_labels).sum(axis=1) / y_pred_test_th_crc.sum(axis=1)))\n",
      "/tmp/ipykernel_2769598/464758000.py:52: RuntimeWarning: invalid value encountered in divide\n",
      "  precisions_resnet.append(np.nanmean((y_pred_test_th_res * temp_test_labels).sum(axis=1) / y_pred_test_th_res.sum(axis=1)))\n",
      " 27%|██▋       | 27/100 [16:51<42:19, 34.79s/it]"
     ]
    },
    {
     "name": "stdout",
     "output_type": "stream",
     "text": [
      "Optimization terminated successfully    (Exit mode 0)\n",
      "            Current function value: -9.522036299863988\n",
      "            Iterations: 25\n",
      "            Function evaluations: 65\n",
      "            Gradient evaluations: 25\n",
      "recalls: CRC = 0.8977323794843319, MACP = 0.8895704887198868\n",
      "precisions: CRC = 0.2257451320532185, MACP = 0.3186264753061538\n"
     ]
    },
    {
     "name": "stderr",
     "output_type": "stream",
     "text": [
      "100%|██████████| 199/199 [00:00<00:00, 1092.37it/s]\n",
      "/tmp/ipykernel_2769598/464758000.py:48: RuntimeWarning: invalid value encountered in divide\n",
      "  recalls_crc.append(np.nanmean((y_pred_test_th_crc * temp_test_labels).sum(axis=1) / temp_test_labels.sum(axis=1)))\n",
      "/tmp/ipykernel_2769598/464758000.py:49: RuntimeWarning: invalid value encountered in divide\n",
      "  recalls_resnet.append(np.nanmean((y_pred_test_th_res * temp_test_labels).sum(axis=1) / temp_test_labels.sum(axis=1)))\n",
      "/tmp/ipykernel_2769598/464758000.py:51: RuntimeWarning: invalid value encountered in divide\n",
      "  precisions_crc.append(np.nanmean((y_pred_test_th_crc * temp_test_labels).sum(axis=1) / y_pred_test_th_crc.sum(axis=1)))\n",
      "/tmp/ipykernel_2769598/464758000.py:52: RuntimeWarning: invalid value encountered in divide\n",
      "  precisions_resnet.append(np.nanmean((y_pred_test_th_res * temp_test_labels).sum(axis=1) / y_pred_test_th_res.sum(axis=1)))\n",
      " 28%|██▊       | 28/100 [17:14<37:38, 31.37s/it]"
     ]
    },
    {
     "name": "stdout",
     "output_type": "stream",
     "text": [
      "Optimization terminated successfully    (Exit mode 0)\n",
      "            Current function value: -9.522479129991659\n",
      "            Iterations: 20\n",
      "            Function evaluations: 42\n",
      "            Gradient evaluations: 20\n",
      "recalls: CRC = 0.8702629805087464, MACP = 0.8802240737875673\n",
      "precisions: CRC = 0.3260987352295419, MACP = 0.3435948589973917\n"
     ]
    },
    {
     "name": "stderr",
     "output_type": "stream",
     "text": [
      "100%|██████████| 199/199 [00:00<00:00, 927.02it/s] \n",
      "/tmp/ipykernel_2769598/464758000.py:48: RuntimeWarning: invalid value encountered in divide\n",
      "  recalls_crc.append(np.nanmean((y_pred_test_th_crc * temp_test_labels).sum(axis=1) / temp_test_labels.sum(axis=1)))\n",
      "/tmp/ipykernel_2769598/464758000.py:49: RuntimeWarning: invalid value encountered in divide\n",
      "  recalls_resnet.append(np.nanmean((y_pred_test_th_res * temp_test_labels).sum(axis=1) / temp_test_labels.sum(axis=1)))\n",
      "/tmp/ipykernel_2769598/464758000.py:51: RuntimeWarning: invalid value encountered in divide\n",
      "  precisions_crc.append(np.nanmean((y_pred_test_th_crc * temp_test_labels).sum(axis=1) / y_pred_test_th_crc.sum(axis=1)))\n",
      "/tmp/ipykernel_2769598/464758000.py:52: RuntimeWarning: invalid value encountered in divide\n",
      "  precisions_resnet.append(np.nanmean((y_pred_test_th_res * temp_test_labels).sum(axis=1) / y_pred_test_th_res.sum(axis=1)))\n",
      " 29%|██▉       | 29/100 [17:40<34:57, 29.54s/it]"
     ]
    },
    {
     "name": "stdout",
     "output_type": "stream",
     "text": [
      "Optimization terminated successfully    (Exit mode 0)\n",
      "            Current function value: -9.521013525083852\n",
      "            Iterations: 20\n",
      "            Function evaluations: 41\n",
      "            Gradient evaluations: 20\n",
      "recalls: CRC = 0.9024944714019576, MACP = 0.8985905544155571\n",
      "precisions: CRC = 0.22228548464572942, MACP = 0.29834767068275253\n"
     ]
    },
    {
     "name": "stderr",
     "output_type": "stream",
     "text": [
      "100%|██████████| 199/199 [00:00<00:00, 1205.30it/s]\n",
      "/tmp/ipykernel_2769598/464758000.py:48: RuntimeWarning: invalid value encountered in divide\n",
      "  recalls_crc.append(np.nanmean((y_pred_test_th_crc * temp_test_labels).sum(axis=1) / temp_test_labels.sum(axis=1)))\n",
      "/tmp/ipykernel_2769598/464758000.py:49: RuntimeWarning: invalid value encountered in divide\n",
      "  recalls_resnet.append(np.nanmean((y_pred_test_th_res * temp_test_labels).sum(axis=1) / temp_test_labels.sum(axis=1)))\n",
      "/tmp/ipykernel_2769598/464758000.py:51: RuntimeWarning: invalid value encountered in divide\n",
      "  precisions_crc.append(np.nanmean((y_pred_test_th_crc * temp_test_labels).sum(axis=1) / y_pred_test_th_crc.sum(axis=1)))\n",
      "/tmp/ipykernel_2769598/464758000.py:52: RuntimeWarning: invalid value encountered in divide\n",
      "  precisions_resnet.append(np.nanmean((y_pred_test_th_res * temp_test_labels).sum(axis=1) / y_pred_test_th_res.sum(axis=1)))\n",
      " 30%|███       | 30/100 [18:12<35:25, 30.36s/it]"
     ]
    },
    {
     "name": "stdout",
     "output_type": "stream",
     "text": [
      "Optimization terminated successfully    (Exit mode 0)\n",
      "            Current function value: -9.521356360677212\n",
      "            Iterations: 25\n",
      "            Function evaluations: 51\n",
      "            Gradient evaluations: 25\n",
      "recalls: CRC = 0.9047589082789743, MACP = 0.9095192044763862\n",
      "precisions: CRC = 0.22430606804393236, MACP = 0.2594885991431881\n"
     ]
    },
    {
     "name": "stderr",
     "output_type": "stream",
     "text": [
      "100%|██████████| 199/199 [00:00<00:00, 1162.37it/s]\n",
      "/tmp/ipykernel_2769598/464758000.py:48: RuntimeWarning: invalid value encountered in divide\n",
      "  recalls_crc.append(np.nanmean((y_pred_test_th_crc * temp_test_labels).sum(axis=1) / temp_test_labels.sum(axis=1)))\n",
      "/tmp/ipykernel_2769598/464758000.py:49: RuntimeWarning: invalid value encountered in divide\n",
      "  recalls_resnet.append(np.nanmean((y_pred_test_th_res * temp_test_labels).sum(axis=1) / temp_test_labels.sum(axis=1)))\n",
      "/tmp/ipykernel_2769598/464758000.py:51: RuntimeWarning: invalid value encountered in divide\n",
      "  precisions_crc.append(np.nanmean((y_pred_test_th_crc * temp_test_labels).sum(axis=1) / y_pred_test_th_crc.sum(axis=1)))\n",
      "/tmp/ipykernel_2769598/464758000.py:52: RuntimeWarning: invalid value encountered in divide\n",
      "  precisions_resnet.append(np.nanmean((y_pred_test_th_res * temp_test_labels).sum(axis=1) / y_pred_test_th_res.sum(axis=1)))\n",
      " 31%|███       | 31/100 [19:31<51:36, 44.87s/it]"
     ]
    },
    {
     "name": "stdout",
     "output_type": "stream",
     "text": [
      "Optimization terminated successfully    (Exit mode 0)\n",
      "            Current function value: -9.521555932244844\n",
      "            Iterations: 38\n",
      "            Function evaluations: 155\n",
      "            Gradient evaluations: 38\n",
      "recalls: CRC = 0.9061007925010783, MACP = 0.9158649467048245\n",
      "precisions: CRC = 0.22097681411647874, MACP = 0.24264717924166504\n"
     ]
    },
    {
     "name": "stderr",
     "output_type": "stream",
     "text": [
      "100%|██████████| 199/199 [00:00<00:00, 1251.62it/s]\n",
      "/tmp/ipykernel_2769598/464758000.py:48: RuntimeWarning: invalid value encountered in divide\n",
      "  recalls_crc.append(np.nanmean((y_pred_test_th_crc * temp_test_labels).sum(axis=1) / temp_test_labels.sum(axis=1)))\n",
      "/tmp/ipykernel_2769598/464758000.py:49: RuntimeWarning: invalid value encountered in divide\n",
      "  recalls_resnet.append(np.nanmean((y_pred_test_th_res * temp_test_labels).sum(axis=1) / temp_test_labels.sum(axis=1)))\n",
      "/tmp/ipykernel_2769598/464758000.py:51: RuntimeWarning: invalid value encountered in divide\n",
      "  precisions_crc.append(np.nanmean((y_pred_test_th_crc * temp_test_labels).sum(axis=1) / y_pred_test_th_crc.sum(axis=1)))\n",
      "/tmp/ipykernel_2769598/464758000.py:52: RuntimeWarning: invalid value encountered in divide\n",
      "  precisions_resnet.append(np.nanmean((y_pred_test_th_res * temp_test_labels).sum(axis=1) / y_pred_test_th_res.sum(axis=1)))\n",
      " 32%|███▏      | 32/100 [19:56<44:21, 39.14s/it]"
     ]
    },
    {
     "name": "stdout",
     "output_type": "stream",
     "text": [
      "Optimization terminated successfully    (Exit mode 0)\n",
      "            Current function value: -9.521479490516471\n",
      "            Iterations: 19\n",
      "            Function evaluations: 44\n",
      "            Gradient evaluations: 19\n",
      "recalls: CRC = 0.8977900516905655, MACP = 0.903278941510492\n",
      "precisions: CRC = 0.22267490500649703, MACP = 0.2711132687077536\n"
     ]
    },
    {
     "name": "stderr",
     "output_type": "stream",
     "text": [
      "100%|██████████| 199/199 [00:00<00:00, 1047.01it/s]\n",
      "/tmp/ipykernel_2769598/464758000.py:48: RuntimeWarning: invalid value encountered in divide\n",
      "  recalls_crc.append(np.nanmean((y_pred_test_th_crc * temp_test_labels).sum(axis=1) / temp_test_labels.sum(axis=1)))\n",
      "/tmp/ipykernel_2769598/464758000.py:49: RuntimeWarning: invalid value encountered in divide\n",
      "  recalls_resnet.append(np.nanmean((y_pred_test_th_res * temp_test_labels).sum(axis=1) / temp_test_labels.sum(axis=1)))\n",
      "/tmp/ipykernel_2769598/464758000.py:51: RuntimeWarning: invalid value encountered in divide\n",
      "  precisions_crc.append(np.nanmean((y_pred_test_th_crc * temp_test_labels).sum(axis=1) / y_pred_test_th_crc.sum(axis=1)))\n",
      "/tmp/ipykernel_2769598/464758000.py:52: RuntimeWarning: invalid value encountered in divide\n",
      "  precisions_resnet.append(np.nanmean((y_pred_test_th_res * temp_test_labels).sum(axis=1) / y_pred_test_th_res.sum(axis=1)))\n",
      " 33%|███▎      | 33/100 [20:50<48:25, 43.36s/it]"
     ]
    },
    {
     "name": "stdout",
     "output_type": "stream",
     "text": [
      "Optimization terminated successfully    (Exit mode 0)\n",
      "            Current function value: -9.522026747651221\n",
      "            Iterations: 26\n",
      "            Function evaluations: 96\n",
      "            Gradient evaluations: 26\n",
      "recalls: CRC = 0.8777785387517525, MACP = 0.8822790321041399\n",
      "precisions: CRC = 0.3194213328112568, MACP = 0.3479159992505626\n"
     ]
    },
    {
     "name": "stderr",
     "output_type": "stream",
     "text": [
      "100%|██████████| 199/199 [00:00<00:00, 211.58it/s]\n",
      "/tmp/ipykernel_2769598/464758000.py:48: RuntimeWarning: invalid value encountered in divide\n",
      "  recalls_crc.append(np.nanmean((y_pred_test_th_crc * temp_test_labels).sum(axis=1) / temp_test_labels.sum(axis=1)))\n",
      "/tmp/ipykernel_2769598/464758000.py:49: RuntimeWarning: invalid value encountered in divide\n",
      "  recalls_resnet.append(np.nanmean((y_pred_test_th_res * temp_test_labels).sum(axis=1) / temp_test_labels.sum(axis=1)))\n",
      "/tmp/ipykernel_2769598/464758000.py:51: RuntimeWarning: invalid value encountered in divide\n",
      "  precisions_crc.append(np.nanmean((y_pred_test_th_crc * temp_test_labels).sum(axis=1) / y_pred_test_th_crc.sum(axis=1)))\n",
      "/tmp/ipykernel_2769598/464758000.py:52: RuntimeWarning: invalid value encountered in divide\n",
      "  precisions_resnet.append(np.nanmean((y_pred_test_th_res * temp_test_labels).sum(axis=1) / y_pred_test_th_res.sum(axis=1)))\n",
      " 34%|███▍      | 34/100 [21:11<40:33, 36.87s/it]"
     ]
    },
    {
     "name": "stdout",
     "output_type": "stream",
     "text": [
      "Optimization terminated successfully    (Exit mode 0)\n",
      "            Current function value: -9.52115750931161\n",
      "            Iterations: 19\n",
      "            Function evaluations: 42\n",
      "            Gradient evaluations: 19\n",
      "recalls: CRC = 0.911823205784268, MACP = 0.9168759629312085\n",
      "precisions: CRC = 0.216096124926591, MACP = 0.2543059336117434\n"
     ]
    },
    {
     "name": "stderr",
     "output_type": "stream",
     "text": [
      "100%|██████████| 199/199 [00:00<00:00, 1185.37it/s]\n",
      "/tmp/ipykernel_2769598/464758000.py:48: RuntimeWarning: invalid value encountered in divide\n",
      "  recalls_crc.append(np.nanmean((y_pred_test_th_crc * temp_test_labels).sum(axis=1) / temp_test_labels.sum(axis=1)))\n",
      "/tmp/ipykernel_2769598/464758000.py:49: RuntimeWarning: invalid value encountered in divide\n",
      "  recalls_resnet.append(np.nanmean((y_pred_test_th_res * temp_test_labels).sum(axis=1) / temp_test_labels.sum(axis=1)))\n",
      "/tmp/ipykernel_2769598/464758000.py:51: RuntimeWarning: invalid value encountered in divide\n",
      "  precisions_crc.append(np.nanmean((y_pred_test_th_crc * temp_test_labels).sum(axis=1) / y_pred_test_th_crc.sum(axis=1)))\n",
      "/tmp/ipykernel_2769598/464758000.py:52: RuntimeWarning: invalid value encountered in divide\n",
      "  precisions_resnet.append(np.nanmean((y_pred_test_th_res * temp_test_labels).sum(axis=1) / y_pred_test_th_res.sum(axis=1)))\n",
      " 35%|███▌      | 35/100 [21:35<35:36, 32.87s/it]"
     ]
    },
    {
     "name": "stdout",
     "output_type": "stream",
     "text": [
      "Optimization terminated successfully    (Exit mode 0)\n",
      "            Current function value: -9.521528581927308\n",
      "            Iterations: 20\n",
      "            Function evaluations: 42\n",
      "            Gradient evaluations: 20\n",
      "recalls: CRC = 0.8701381373363785, MACP = 0.8672487714986717\n",
      "precisions: CRC = 0.31821644289233, MACP = 0.3981099262314428\n"
     ]
    },
    {
     "name": "stderr",
     "output_type": "stream",
     "text": [
      "100%|██████████| 199/199 [00:00<00:00, 310.63it/s]\n"
     ]
    }
   ],
   "source": [
    "recalls_crc = []\n",
    "recalls_resnet = []\n",
    "\n",
    "precisions_crc = []\n",
    "precisions_resnet = []\n",
    "\n",
    "for _ in tqdm(range(100)):\n",
    "    cal_inx = np.random.choice(range(len(all_pred_probas)), len(all_pred_probas) // 4 , replace=False)\n",
    "    test_inx = np.array([i for i in range(len(all_pred_probas)) if i not in cal_inx])\n",
    "    temp_cal_pred_probas = all_pred_probas[cal_inx]\n",
    "    temp_cal_res_emb = all_res_emb[cal_inx]\n",
    "    temp_cal_labels = all_labels[cal_inx]\n",
    "\n",
    "    index_not_empy = np.where(temp_cal_labels.sum(axis=(1, 2)) > 0)[0]\n",
    "    temp_cal_labels = temp_cal_labels[index_not_empy]\n",
    "    temp_cal_res_emb = temp_cal_res_emb[index_not_empy]\n",
    "    temp_cal_pred_probas = temp_cal_pred_probas[index_not_empy]\n",
    "\n",
    "    temp_test_pred_probas = all_pred_probas[test_inx]\n",
    "    temp_test_res_emb = all_res_emb[test_inx]\n",
    "    temp_test_labels = all_labels[test_inx]\n",
    "\n",
    "    # CRC\n",
    "    mapie_crc = MapieMultiLabelClassifier(MapieWrapper(), method=\"crc\")\n",
    "    for i in tqdm(range(len(temp_cal_pred_probas))):\n",
    "        X, y = temp_cal_pred_probas[i], temp_cal_labels[i]\n",
    "        mapie_crc.partial_fit(X.ravel()[np.newaxis, :], y.ravel()[np.newaxis, :])\n",
    "    _, _ = mapie_crc.predict(temp_test_pred_probas.ravel()[np.newaxis, :], alpha=ALPHA)\n",
    "    th_crc = mapie_crc.lambdas_star\n",
    "\n",
    "    # ResNet\n",
    "    # lambda_resnet, dist_resnet = grid_search_lambda(temp_cal_labels, temp_cal_pred_probas, temp_cal_res_emb, RESNET_EMBEDDING_SIZE)\n",
    "    # print(lambda_resnet, dist_resnet)\n",
    "    lambda_resnet = 0.1\n",
    "    result_res = minimize(\n",
    "        J, np.random.uniform(0, 1, RESNET_EMBEDDING_SIZE),\n",
    "        method=\"SLSQP\",\n",
    "        args=(temp_cal_labels, temp_cal_pred_probas, temp_cal_res_emb, ALPHA, len(temp_cal_labels), REGULARIZATION, lambda_resnet), jac=J_prime,\n",
    "        options={\"disp\": True, \"maxiter\": 1000}, tol=1e-10\n",
    "    )\n",
    "    ths_res = (temp_test_res_emb @ result_res.x).reshape(-1, 1, 1)\n",
    "\n",
    "    \n",
    "\n",
    "    y_pred_test_th_crc = (temp_test_pred_probas >= th_crc).astype(int)\n",
    "    y_pred_test_th_res = (temp_test_pred_probas >= ths_res).astype(int)\n",
    "\n",
    "    recalls_crc.append(np.nanmean((y_pred_test_th_crc * temp_test_labels).sum(axis=1) / temp_test_labels.sum(axis=1)))\n",
    "    recalls_resnet.append(np.nanmean((y_pred_test_th_res * temp_test_labels).sum(axis=1) / temp_test_labels.sum(axis=1)))\n",
    "\n",
    "    precisions_crc.append(np.nanmean((y_pred_test_th_crc * temp_test_labels).sum(axis=1) / y_pred_test_th_crc.sum(axis=1)))\n",
    "    precisions_resnet.append(np.nanmean((y_pred_test_th_res * temp_test_labels).sum(axis=1) / y_pred_test_th_res.sum(axis=1)))\n",
    "    print(f\"recalls: CRC = {recalls_crc[-1]}, MACP = {recalls_resnet[-1]}\")\n",
    "    print(f\"precisions: CRC = {precisions_crc[-1]}, MACP = {precisions_resnet[-1]}\")\n",
    "    \n",
    "    "
   ]
  },
  {
   "cell_type": "markdown",
   "metadata": {},
   "source": [
    "# Plot results"
   ]
  },
  {
   "cell_type": "code",
   "execution_count": null,
   "metadata": {},
   "outputs": [
    {
     "data": {
      "text/plain": [
       "Text(0.5, 0, 'Precision')"
      ]
     },
     "execution_count": 22,
     "metadata": {},
     "output_type": "execute_result"
    },
    {
     "data": {
      "image/png": "[encoded data removed]",
      "text/plain": [
       "<Figure size 2000x2000 with 4 Axes>"
      ]
     },
     "metadata": {},
     "output_type": "display_data"
    }
   ],
   "source": [
    "s = 10\n",
    "nrow = 2\n",
    "ncol = 2\n",
    "f, ax = plt.subplots(nrow, ncol, figsize=(ncol * s, nrow * s))\n",
    "\n",
    "nbins = 20\n",
    "ax[0, 0].hist(recalls_resnet, bins=nbins, alpha=.5)\n",
    "ax[0, 0].set_title(f\"Muti-accurate ResNet embedding - average recall: {np.nanmean(recalls_resnet):.3f}\")\n",
    "ax[0, 0].set_xlabel(\"Recall\")\n",
    "\n",
    "ax[0, 1].hist(recalls_crc, bins=nbins, alpha=.5)\n",
    "ax[0, 1].set_title(f\"CRC - average recall: {np.nanmean(recalls_crc):.3f}\")\n",
    "ax[0, 1].set_xlabel(\"Recall\")\n",
    "\n",
    "ax[1, 0].hist(precisions_resnet, bins=nbins, alpha=.5)\n",
    "ax[1, 0].set_title(f\"Muti-accurate ResNet embedding - average precision: {np.nanmean(precisions_resnet):.3f}\")\n",
    "ax[1, 0].set_xlabel(\"Precision\")\n",
    "\n",
    "ax[1, 1].hist(precisions_crc, bins=nbins, alpha=.5)\n",
    "ax[1, 1].set_title(f\"CRC - average precision: {np.nanmean(precisions_crc):.3f}\")\n",
    "ax[1, 1].set_xlabel(\"Precision\")"
   ]
  },
  {
   "cell_type": "code",
   "execution_count": null,
   "metadata": {},
   "outputs": [],
   "source": []
  }
 ],
 "metadata": {
  "kernelspec": {
   "display_name": ".venv",
   "language": "python",
   "name": "python3"
  },
  "language_info": {
   "codemirror_mode": {
    "name": "ipython",
    "version": 3
   },
   "file_extension": ".py",
   "mimetype": "text/x-python",
   "name": "python",
   "nbconvert_exporter": "python",
   "pygments_lexer": "ipython3",
   "version": "3.10.12"
  }
 },
 "nbformat": 4,
 "nbformat_minor": 2
}
