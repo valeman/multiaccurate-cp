{
 "cells": [
  {
   "cell_type": "code",
   "execution_count": 1,
   "metadata": {},
   "outputs": [],
   "source": [
    "import sys\n",
    "sys.path.append(\"/home/vblot/multiaccurate_cp/\")"
   ]
  },
  {
   "cell_type": "code",
   "execution_count": 2,
   "metadata": {},
   "outputs": [],
   "source": [
    "import os\n",
    "import yaml\n",
    "\n",
    "import cv2\n",
    "import numpy as np\n",
    "import matplotlib.pyplot as plt\n",
    "from scipy import integrate\n",
    "from scipy.optimize import minimize\n",
    "from sklearn.model_selection import KFold\n",
    "from tqdm import tqdm\n",
    "\n",
    "from multiaccurate_cp.utils.multiaccurate import J, J_prime\n",
    "\n",
    "%load_ext autoreload\n",
    "%autoreload 2\n"
   ]
  },
  {
   "cell_type": "code",
   "execution_count": 3,
   "metadata": {},
   "outputs": [],
   "source": [
    "DATASET = \"polyp\"\n",
    "BASE_DIR = f\"/home/vblot/multiaccurate_cp/data/{DATASET}\"\n",
    "MODELS_PATH = f\"/home/vblot/multiaccurate_cp/data/{DATASET}/03_model_weights/resnet\"\n",
    "MODEL_NAME = \"20240325_1446\""
   ]
  },
  {
   "cell_type": "code",
   "execution_count": 4,
   "metadata": {},
   "outputs": [],
   "source": [
    "# Specify the path to the YAML file\n",
    "file_path = os.path.join(MODELS_PATH, MODEL_NAME, \"config.yaml\")\n",
    "\n",
    "# Read the YAML file\n",
    "with open(file_path, \"r\") as file:\n",
    "    config = yaml.safe_load(file)\n"
   ]
  },
  {
   "cell_type": "code",
   "execution_count": 5,
   "metadata": {},
   "outputs": [
    {
     "data": {
      "text/plain": [
       "{'mean_RGB_values_path': None,\n",
       " 'ml_data_dir': 'data/polyp/02_prepared_data',\n",
       " 'model': {'batch_size': 40,\n",
       "  'embedding_size': 1024,\n",
       "  'epochs': 100,\n",
       "  'lr': 0.0001,\n",
       "  'model_input': 'image_and_probas',\n",
       "  'num_workers': 8,\n",
       "  'patience': 20,\n",
       "  'resnet': 'resnet50',\n",
       "  'target_recall': 0.9},\n",
       " 'output_dir': 'data/polyp/03_model_weights/resnet',\n",
       " 'polyp': True,\n",
       " 'probas_dir': 'data/polyp/04_predictions'}"
      ]
     },
     "execution_count": 5,
     "metadata": {},
     "output_type": "execute_result"
    }
   ],
   "source": [
    "config"
   ]
  },
  {
   "cell_type": "code",
   "execution_count": 6,
   "metadata": {},
   "outputs": [],
   "source": [
    "IMG_SIZE = 64\n",
    "EMBEDDING_SIZE = config[\"model\"][\"embedding_size\"]"
   ]
  },
  {
   "cell_type": "code",
   "execution_count": 7,
   "metadata": {},
   "outputs": [],
   "source": [
    "DIR_CAL_PRED_PROBAS = os.path.join(BASE_DIR, \"04_predictions/cal/pred_probas\")\n",
    "DIR_CAL_RES_EMB = os.path.join(BASE_DIR, \"04_predictions/cal/res_embeddings\", MODEL_NAME)\n",
    "DIR_CAL_LABELS = os.path.join(BASE_DIR, \"02_prepared_data/cal/labels\")\n",
    "DIR_TEST_PRED_PROBAS = DIR_CAL_PRED_PROBAS.replace(\"cal\", \"test\")\n",
    "DIR_TEST_RES_EMB = DIR_CAL_RES_EMB.replace(\"cal\", \"test\")\n",
    "DIR_TEST_LABELS = DIR_CAL_LABELS.replace(\"cal\", \"test\")\n"
   ]
  },
  {
   "cell_type": "code",
   "execution_count": 8,
   "metadata": {},
   "outputs": [],
   "source": [
    "def load_data(pred_probas_dir, res_emb_dir, labels_dir):\n",
    "    pred_probas = np.zeros((len(os.listdir(pred_probas_dir)), IMG_SIZE, IMG_SIZE))\n",
    "    res_emb = np.zeros((len(os.listdir(res_emb_dir)), EMBEDDING_SIZE))\n",
    "    labels = np.zeros((len(os.listdir(labels_dir)), IMG_SIZE, IMG_SIZE))\n",
    "\n",
    "    for i, (pred_proba_file, res_emb_file, label_file) in enumerate(tqdm(zip(sorted(os.listdir(pred_probas_dir)),\n",
    "                                                                       sorted(os.listdir(res_emb_dir)),\n",
    "                                                                       sorted(os.listdir(labels_dir))))):\n",
    "        pred_proba = np.load(os.path.join(pred_probas_dir, pred_proba_file))\n",
    "        pred_probas[i] = cv2.resize(pred_proba, (IMG_SIZE, IMG_SIZE))\n",
    "        res_emb[i] = np.load(os.path.join(res_emb_dir, res_emb_file))\n",
    "        label = cv2.imread(os.path.join(labels_dir, label_file), cv2.IMREAD_GRAYSCALE) / 255\n",
    "        labels[i] = cv2.resize(label, (IMG_SIZE, IMG_SIZE)) > .5    \n",
    "    return pred_probas, res_emb, labels\n"
   ]
  },
  {
   "cell_type": "code",
   "execution_count": 9,
   "metadata": {},
   "outputs": [
    {
     "name": "stderr",
     "output_type": "stream",
     "text": [
      "252it [00:00, 818.59it/s]\n"
     ]
    }
   ],
   "source": [
    "c_pp, c_re, c_l = load_data(DIR_CAL_PRED_PROBAS, DIR_CAL_RES_EMB, DIR_CAL_LABELS)\n"
   ]
  },
  {
   "cell_type": "code",
   "execution_count": 10,
   "metadata": {},
   "outputs": [
    {
     "name": "stderr",
     "output_type": "stream",
     "text": [
      "546it [00:00, 938.78it/s] \n"
     ]
    }
   ],
   "source": [
    "t_pp, t_re, t_l = load_data(DIR_TEST_PRED_PROBAS, DIR_TEST_RES_EMB, DIR_TEST_LABELS)"
   ]
  },
  {
   "cell_type": "code",
   "execution_count": 11,
   "metadata": {},
   "outputs": [
    {
     "data": {
      "text/plain": [
       "((798, 64, 64), (798, 1024), (798, 64, 64))"
      ]
     },
     "execution_count": 11,
     "metadata": {},
     "output_type": "execute_result"
    }
   ],
   "source": [
    "all_pred_probas = np.concatenate([c_pp, t_pp])\n",
    "all_res_emb = np.concatenate([c_re, t_re])\n",
    "all_labels = np.concatenate([c_l, t_l])\n",
    "\n",
    "all_pred_probas.shape, all_res_emb.shape, all_labels.shape"
   ]
  },
  {
   "cell_type": "code",
   "execution_count": 12,
   "metadata": {},
   "outputs": [],
   "source": [
    "ALPHA = .1"
   ]
  },
  {
   "cell_type": "code",
   "execution_count": 13,
   "metadata": {},
   "outputs": [
    {
     "name": "stderr",
     "output_type": "stream",
     "text": [
      "0it [00:00, ?it/s]/tmp/ipykernel_2915570/1544859823.py:26: RuntimeWarning: invalid value encountered in divide\n",
      "  precision_test = np.nan_to_num((y_pred_test_th * temp_test_labels).sum(axis=(1, 2)) / y_pred_test_th.sum(axis=(1, 2)), nan=1)\n",
      "1it [01:01, 61.54s/it]"
     ]
    },
    {
     "name": "stdout",
     "output_type": "stream",
     "text": [
      "0.8384983072668574\n"
     ]
    },
    {
     "name": "stderr",
     "output_type": "stream",
     "text": [
      "2it [02:30, 77.91s/it]"
     ]
    },
    {
     "name": "stdout",
     "output_type": "stream",
     "text": [
      "0.8292471418302746\n"
     ]
    },
    {
     "name": "stderr",
     "output_type": "stream",
     "text": [
      "3it [03:28, 68.45s/it]"
     ]
    },
    {
     "name": "stdout",
     "output_type": "stream",
     "text": [
      "0.88671931258586\n"
     ]
    },
    {
     "name": "stderr",
     "output_type": "stream",
     "text": [
      "4it [03:29, 41.82s/it]"
     ]
    },
    {
     "name": "stdout",
     "output_type": "stream",
     "text": [
      "1.0\n"
     ]
    },
    {
     "name": "stderr",
     "output_type": "stream",
     "text": [
      "Exception ignored in: <function _releaseLock at 0x7fe9de8c7be0>\n",
      "Traceback (most recent call last):\n",
      "  File \"/usr/lib/python3.10/logging/__init__.py\", line 228, in _releaseLock\n",
      "    def _releaseLock():\n",
      "KeyboardInterrupt: \n"
     ]
    }
   ],
   "source": [
    "recalls = []\n",
    "precisions = []\n",
    "\n",
    "for _ in tqdm(range(100)):\n",
    "    cal_inx = np.random.choice(range(len(all_pred_probas)), len(all_pred_probas) // 2 , replace=False)\n",
    "    test_inx = np.array([i for i in range(len(all_pred_probas)) if i not in cal_inx])\n",
    "    temp_cal_pred_probas = all_pred_probas[cal_inx]\n",
    "    temp_cal_res_emb = all_res_emb[cal_inx]\n",
    "    temp_cal_labels = all_labels[cal_inx]\n",
    "    temp_test_pred_probas = all_pred_probas[test_inx]\n",
    "    temp_test_res_emb = all_res_emb[test_inx]\n",
    "    temp_test_labels = all_labels[test_inx]\n",
    "\n",
    "    n = len(temp_cal_pred_probas)\n",
    "\n",
    "    result = minimize(\n",
    "        J, np.random.uniform(0, 1, EMBEDDING_SIZE),\n",
    "        method=\"SLSQP\",\n",
    "        args=(temp_cal_labels, temp_cal_pred_probas, temp_cal_res_emb, ALPHA, n), jac=J_prime,\n",
    "        options={\"disp\": False, \"maxiter\": 10000}\n",
    "    )\n",
    "\n",
    "    ths = np.maximum((temp_test_res_emb @ result.x).reshape(-1, 1, 1), -np.inf)\n",
    "    y_pred_test_th = (temp_test_pred_probas >= ths).astype(int)\n",
    "    recall_test = (y_pred_test_th * temp_test_labels).sum(axis=(1, 2)) / temp_test_labels.sum(axis=(1, 2))\n",
    "    precision_test = np.nan_to_num((y_pred_test_th * temp_test_labels).sum(axis=(1, 2)) / y_pred_test_th.sum(axis=(1, 2)), nan=1)\n",
    "    recalls.append(np.nanmean(recall_test))\n",
    "    precisions.append(np.nanmean(precision_test))\n",
    "    print(np.nanmean(recall_test))\n",
    "\n",
    "    \n"
   ]
  },
  {
   "cell_type": "code",
   "execution_count": null,
   "metadata": {},
   "outputs": [
    {
     "data": {
      "text/plain": [
       "(array([1., 0., 0., 0., 0., 0., 0., 0., 0., 9.]),\n",
       " array([0.91433997, 0.92290597, 0.93147197, 0.94003798, 0.94860398,\n",
       "        0.95716998, 0.96573599, 0.97430199, 0.98286799, 0.991434  ,\n",
       "        1.        ]),\n",
       " <BarContainer object of 10 artists>)"
      ]
     },
     "execution_count": 35,
     "metadata": {},
     "output_type": "execute_result"
    },
    {
     "data": {
      "image/png": "[encoded data removed]",
      "text/plain": [
       "<Figure size 640x480 with 1 Axes>"
      ]
     },
     "metadata": {},
     "output_type": "display_data"
    }
   ],
   "source": [
    "plt.hist(recalls)"
   ]
  },
  {
   "cell_type": "code",
   "execution_count": null,
   "metadata": {},
   "outputs": [
    {
     "data": {
      "text/plain": [
       "0.9914339967008704"
      ]
     },
     "execution_count": 36,
     "metadata": {},
     "output_type": "execute_result"
    }
   ],
   "source": [
    "np.mean(recalls)"
   ]
  },
  {
   "cell_type": "code",
   "execution_count": null,
   "metadata": {},
   "outputs": [
    {
     "data": {
      "text/plain": [
       "(array([2., 5., 1., 1., 0., 0., 0., 0., 0., 1.]),\n",
       " array([0.05529476, 0.06909726, 0.08289976, 0.09670225, 0.11050475,\n",
       "        0.12430725, 0.13810974, 0.15191224, 0.16571474, 0.17951723,\n",
       "        0.19331973]),\n",
       " <BarContainer object of 10 artists>)"
      ]
     },
     "execution_count": 37,
     "metadata": {},
     "output_type": "execute_result"
    },
    {
     "data": {
      "image/png": "[encoded data removed]",
      "text/plain": [
       "<Figure size 640x480 with 1 Axes>"
      ]
     },
     "metadata": {},
     "output_type": "display_data"
    }
   ],
   "source": [
    "plt.hist(precisions)"
   ]
  },
  {
   "cell_type": "code",
   "execution_count": null,
   "metadata": {},
   "outputs": [
    {
     "data": {
      "text/plain": [
       "array([-2.3227777 , -2.27589949, -2.25461115, -2.25048395, -2.24854904,\n",
       "       -2.2334106 , -2.22169288, -2.20807043, -2.20802603, -2.20531569,\n",
       "       -2.19370115, -2.17963712, -2.15545727, -2.14683098, -2.13128815,\n",
       "       -2.12930914, -2.10046943, -2.09800542, -2.0973925 , -2.0925508 ,\n",
       "       -2.08839042, -2.07545525, -2.06968204, -2.06610773, -2.05209287,\n",
       "       -2.04208333, -2.03970324, -2.03194283, -2.02293694, -2.00760604,\n",
       "       -2.00150385, -1.99835579, -1.99769033, -1.99565236, -1.99490753,\n",
       "       -1.99176835, -1.990518  , -1.98441362, -1.98290165, -1.98140777,\n",
       "       -1.96910063, -1.96901516, -1.94650777, -1.93702763, -1.93583741,\n",
       "       -1.93477091, -1.92063976, -1.91790095, -1.91628851, -1.90954809,\n",
       "       -1.90061527, -1.89551611, -1.89425738, -1.88978166, -1.88814882,\n",
       "       -1.87938543, -1.87693577, -1.864814  , -1.86396438, -1.86233427,\n",
       "       -1.85174882, -1.85035414, -1.8413587 , -1.82533899, -1.82111133,\n",
       "       -1.81816337, -1.81004277, -1.80756906, -1.80096138, -1.78830104,\n",
       "       -1.7864788 , -1.76590373, -1.72556671, -1.72430246, -1.67228312,\n",
       "       -1.66012441, -1.6385994 , -1.63396505])"
      ]
     },
     "execution_count": 38,
     "metadata": {},
     "output_type": "execute_result"
    }
   ],
   "source": [
    "np.unique(ths)"
   ]
  },
  {
   "cell_type": "code",
   "execution_count": null,
   "metadata": {},
   "outputs": [
    {
     "data": {
      "text/plain": [
       "array([[[0.01]],\n",
       "\n",
       "       [[0.01]],\n",
       "\n",
       "       [[0.01]],\n",
       "\n",
       "       [[0.01]],\n",
       "\n",
       "       [[0.01]],\n",
       "\n",
       "       [[0.01]],\n",
       "\n",
       "       [[0.01]],\n",
       "\n",
       "       [[0.01]],\n",
       "\n",
       "       [[0.01]],\n",
       "\n",
       "       [[0.01]],\n",
       "\n",
       "       [[0.01]],\n",
       "\n",
       "       [[0.01]],\n",
       "\n",
       "       [[0.01]],\n",
       "\n",
       "       [[0.01]],\n",
       "\n",
       "       [[0.01]],\n",
       "\n",
       "       [[0.01]],\n",
       "\n",
       "       [[0.01]],\n",
       "\n",
       "       [[0.01]],\n",
       "\n",
       "       [[0.01]],\n",
       "\n",
       "       [[0.01]],\n",
       "\n",
       "       [[0.01]],\n",
       "\n",
       "       [[0.01]],\n",
       "\n",
       "       [[0.01]],\n",
       "\n",
       "       [[0.01]],\n",
       "\n",
       "       [[0.01]],\n",
       "\n",
       "       [[0.01]],\n",
       "\n",
       "       [[0.01]],\n",
       "\n",
       "       [[0.01]],\n",
       "\n",
       "       [[0.01]],\n",
       "\n",
       "       [[0.01]],\n",
       "\n",
       "       [[0.01]],\n",
       "\n",
       "       [[0.01]],\n",
       "\n",
       "       [[0.01]],\n",
       "\n",
       "       [[0.01]],\n",
       "\n",
       "       [[0.01]],\n",
       "\n",
       "       [[0.01]],\n",
       "\n",
       "       [[0.01]],\n",
       "\n",
       "       [[0.01]],\n",
       "\n",
       "       [[0.01]],\n",
       "\n",
       "       [[0.01]],\n",
       "\n",
       "       [[0.01]],\n",
       "\n",
       "       [[0.01]],\n",
       "\n",
       "       [[0.01]],\n",
       "\n",
       "       [[0.01]],\n",
       "\n",
       "       [[0.01]],\n",
       "\n",
       "       [[0.01]],\n",
       "\n",
       "       [[0.01]],\n",
       "\n",
       "       [[0.01]],\n",
       "\n",
       "       [[0.01]],\n",
       "\n",
       "       [[0.01]],\n",
       "\n",
       "       [[0.01]],\n",
       "\n",
       "       [[0.01]],\n",
       "\n",
       "       [[0.01]],\n",
       "\n",
       "       [[0.01]],\n",
       "\n",
       "       [[0.01]],\n",
       "\n",
       "       [[0.01]],\n",
       "\n",
       "       [[0.01]],\n",
       "\n",
       "       [[0.01]],\n",
       "\n",
       "       [[0.01]],\n",
       "\n",
       "       [[0.01]],\n",
       "\n",
       "       [[0.01]],\n",
       "\n",
       "       [[0.01]],\n",
       "\n",
       "       [[0.01]],\n",
       "\n",
       "       [[0.01]],\n",
       "\n",
       "       [[0.01]],\n",
       "\n",
       "       [[0.01]],\n",
       "\n",
       "       [[0.01]],\n",
       "\n",
       "       [[0.01]],\n",
       "\n",
       "       [[0.01]],\n",
       "\n",
       "       [[0.01]],\n",
       "\n",
       "       [[0.01]],\n",
       "\n",
       "       [[0.01]],\n",
       "\n",
       "       [[0.01]],\n",
       "\n",
       "       [[0.01]],\n",
       "\n",
       "       [[0.01]],\n",
       "\n",
       "       [[0.01]],\n",
       "\n",
       "       [[0.01]],\n",
       "\n",
       "       [[0.01]],\n",
       "\n",
       "       [[0.01]]])"
      ]
     },
     "execution_count": 22,
     "metadata": {},
     "output_type": "execute_result"
    }
   ],
   "source": [
    "ths"
   ]
  },
  {
   "cell_type": "code",
   "execution_count": null,
   "metadata": {},
   "outputs": [],
   "source": []
  }
 ],
 "metadata": {
  "kernelspec": {
   "display_name": "Python 3",
   "language": "python",
   "name": "python3"
  },
  "language_info": {
   "codemirror_mode": {
    "name": "ipython",
    "version": 3
   },
   "file_extension": ".py",
   "mimetype": "text/x-python",
   "name": "python",
   "nbconvert_exporter": "python",
   "pygments_lexer": "ipython3",
   "version": "3.10.12"
  }
 },
 "nbformat": 4,
 "nbformat_minor": 2
}
