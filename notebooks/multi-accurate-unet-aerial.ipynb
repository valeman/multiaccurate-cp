{
 "cells": [
  {
   "cell_type": "code",
   "execution_count": 1,
   "metadata": {},
   "outputs": [],
   "source": [
    "import sys\n",
    "sys.path.append(\"/home/vblot/multiaccurate_cp/\")"
   ]
  },
  {
   "cell_type": "code",
   "execution_count": 2,
   "metadata": {},
   "outputs": [],
   "source": [
    "\n",
    "\n",
    "import os\n",
    "import yaml\n",
    "\n",
    "import cv2\n",
    "import numpy as np\n",
    "import matplotlib.pyplot as plt\n",
    "from scipy import integrate\n",
    "from scipy.optimize import minimize\n",
    "from tqdm import tqdm\n",
    "\n",
    "from multiaccurate_cp.utils.multiaccurate import J, J_prime\n",
    "\n",
    "%load_ext autoreload\n",
    "%autoreload 2"
   ]
  },
  {
   "cell_type": "code",
   "execution_count": 3,
   "metadata": {},
   "outputs": [],
   "source": [
    "BASE_DIR = \"/home/vblot/multiaccurate_cp/data/aerial\"\n"
   ]
  },
  {
   "cell_type": "code",
   "execution_count": 7,
   "metadata": {},
   "outputs": [],
   "source": [
    "IMG_SIZE = 64\n",
    "EMBEDDING_SIZE = 512"
   ]
  },
  {
   "cell_type": "code",
   "execution_count": 8,
   "metadata": {},
   "outputs": [],
   "source": [
    "DIR_CAL_PRED_PROBAS = os.path.join(BASE_DIR, \"04_predictions/cal/pred_probas\")\n",
    "DIR_CAL_RES_EMB = os.path.join(BASE_DIR, \"04_predictions/cal/embeddings\",)\n",
    "DIR_CAL_LABELS = os.path.join(BASE_DIR, \"02_prepared_data/cal/labels\")\n",
    "DIR_TEST_PRED_PROBAS = DIR_CAL_PRED_PROBAS.replace(\"cal\", \"test\")\n",
    "DIR_TEST_RES_EMB = DIR_CAL_RES_EMB.replace(\"cal\", \"test\")\n",
    "DIR_TEST_LABELS = DIR_CAL_LABELS.replace(\"cal\", \"test\")\n"
   ]
  },
  {
   "cell_type": "code",
   "execution_count": 9,
   "metadata": {},
   "outputs": [],
   "source": [
    "def load_data(pred_probas_dir, res_emb_dir, labels_dir):\n",
    "    pred_probas = np.zeros((len(os.listdir(pred_probas_dir)), IMG_SIZE, IMG_SIZE))\n",
    "    res_emb = np.zeros((len(os.listdir(res_emb_dir)), EMBEDDING_SIZE))\n",
    "    labels = np.zeros((len(os.listdir(labels_dir)), IMG_SIZE, IMG_SIZE))\n",
    "\n",
    "    for i, (pred_proba_file, res_emb_file, label_file) in enumerate(tqdm(zip(sorted(os.listdir(pred_probas_dir)),\n",
    "                                                                       sorted(os.listdir(res_emb_dir)),\n",
    "                                                                       sorted(os.listdir(labels_dir))))):\n",
    "        pred_proba = np.load(os.path.join(pred_probas_dir, pred_proba_file))\n",
    "        pred_probas[i] = cv2.resize(pred_proba, (IMG_SIZE, IMG_SIZE))\n",
    "        res_emb[i] = np.load(os.path.join(res_emb_dir, res_emb_file))\n",
    "        label = cv2.imread(os.path.join(labels_dir, label_file), cv2.IMREAD_GRAYSCALE) / 255\n",
    "        labels[i] = cv2.resize(label, (IMG_SIZE, IMG_SIZE)) > .5    \n",
    "    return pred_probas, res_emb, labels\n"
   ]
  },
  {
   "cell_type": "code",
   "execution_count": 10,
   "metadata": {},
   "outputs": [
    {
     "name": "stderr",
     "output_type": "stream",
     "text": [
      "1500it [00:17, 86.26it/s] \n"
     ]
    }
   ],
   "source": [
    "cal_pred_probas, cal_res_emb, cal_labels = load_data(DIR_CAL_PRED_PROBAS, DIR_CAL_RES_EMB, DIR_CAL_LABELS)\n"
   ]
  },
  {
   "cell_type": "code",
   "execution_count": 11,
   "metadata": {},
   "outputs": [
    {
     "data": {
      "text/plain": [
       "(0.0, 4.007718086242676)"
      ]
     },
     "execution_count": 11,
     "metadata": {},
     "output_type": "execute_result"
    }
   ],
   "source": [
    "cal_res_emb.min(), cal_res_emb.max()"
   ]
  },
  {
   "cell_type": "code",
   "execution_count": 12,
   "metadata": {},
   "outputs": [
    {
     "name": "stderr",
     "output_type": "stream",
     "text": [
      "0it [00:00, ?it/s]"
     ]
    },
    {
     "name": "stderr",
     "output_type": "stream",
     "text": [
      "2300it [00:08, 270.38it/s]\n"
     ]
    }
   ],
   "source": [
    "test_pred_probas, test_res_emb, test_labels = load_data(DIR_TEST_PRED_PROBAS, DIR_TEST_RES_EMB, DIR_TEST_LABELS)"
   ]
  },
  {
   "cell_type": "code",
   "execution_count": 13,
   "metadata": {},
   "outputs": [],
   "source": [
    "index_not_empy = np.where(cal_labels.sum(axis=(1, 2)) > 0)[0]\n",
    "cal_labels = cal_labels[index_not_empy]\n",
    "cal_res_emb = cal_res_emb[index_not_empy]\n",
    "cal_pred_probas = cal_pred_probas[index_not_empy]"
   ]
  },
  {
   "cell_type": "code",
   "execution_count": 14,
   "metadata": {},
   "outputs": [
    {
     "data": {
      "text/plain": [
       "((1221, 64, 64), (1221, 512), (1221, 64, 64))"
      ]
     },
     "execution_count": 14,
     "metadata": {},
     "output_type": "execute_result"
    }
   ],
   "source": [
    "cal_labels.shape, cal_res_emb.shape, cal_pred_probas.shape"
   ]
  },
  {
   "cell_type": "code",
   "execution_count": 15,
   "metadata": {},
   "outputs": [
    {
     "data": {
      "text/plain": [
       "(1.0, 0.9999030828475952)"
      ]
     },
     "execution_count": 15,
     "metadata": {},
     "output_type": "execute_result"
    }
   ],
   "source": [
    "cal_labels.max(), cal_pred_probas.max()"
   ]
  },
  {
   "cell_type": "code",
   "execution_count": 16,
   "metadata": {},
   "outputs": [],
   "source": [
    "ALPHA = .1\n",
    "N = len(cal_labels)\n",
    "REGULARIZATION = \"ridge\""
   ]
  },
  {
   "cell_type": "code",
   "execution_count": 17,
   "metadata": {},
   "outputs": [],
   "source": [
    "def grid_search_lambda(labels, pred_probas, res_emb):\n",
    "    lambdas = [0.001, 0.01, 0.1, 0.2, 0.5, 0.7, 1]\n",
    "    best_dist = np.inf\n",
    "    best_lambda = None\n",
    "    cv = len(lambdas)\n",
    "    # get cv indices\n",
    "    indices = np.arange(len(labels))\n",
    "    np.random.shuffle(indices)\n",
    "    indices = np.array_split(indices, cv)\n",
    "    for i, lambda_ in enumerate(tqdm(lambdas)):\n",
    "        test_labels = labels[indices[i]]\n",
    "        test_pred_probas = pred_probas[indices[i]]\n",
    "        test_res_emb = res_emb[indices[i]]\n",
    "        cal_labels = np.concatenate([labels[indices[j]] for j in range(cv) if j != i])\n",
    "        cal_pred_probas = np.concatenate([pred_probas[indices[j]] for j in range(cv) if j != i])\n",
    "        cal_res_emb = np.concatenate([res_emb[indices[j]] for j in range(cv) if j != i])\n",
    "        \n",
    "        result = minimize(\n",
    "            J, np.random.uniform(0, 1, EMBEDDING_SIZE),\n",
    "            method=\"SLSQP\",\n",
    "            args=(cal_labels, cal_pred_probas, cal_res_emb, ALPHA, N, REGULARIZATION, lambda_), jac=J_prime,\n",
    "            options={\"disp\": False, \"maxiter\": 10000}\n",
    "        )\n",
    "        ths = np.maximum((test_res_emb @ result.x).reshape(-1, 1, 1), 0.01)\n",
    "        ths = (test_res_emb @ result.x).reshape(-1, 1, 1)\n",
    "        test_res_emb.shape\n",
    "        y_pred_test_th = (test_pred_probas >= ths).astype(int)\n",
    "        recall_test = np.nanmean((y_pred_test_th * test_labels).sum(axis=1) / test_labels.sum(axis=1))\n",
    "        if (np.abs(recall_test - 1)) < best_dist:\n",
    "            best_dist = np.abs(recall_test - (1 - ALPHA))\n",
    "            best_lambda = lambda_\n",
    "        \n",
    "    return best_lambda, best_dist\n",
    "        "
   ]
  },
  {
   "cell_type": "code",
   "execution_count": 18,
   "metadata": {},
   "outputs": [
    {
     "name": "stderr",
     "output_type": "stream",
     "text": [
      "  0%|          | 0/7 [00:00<?, ?it/s]"
     ]
    },
    {
     "name": "stderr",
     "output_type": "stream",
     "text": [
      "/tmp/ipykernel_2083890/320009140.py:28: RuntimeWarning: invalid value encountered in divide\n",
      "  recall_test = np.nanmean((y_pred_test_th * test_labels).sum(axis=1) / test_labels.sum(axis=1))\n",
      "100%|██████████| 7/7 [02:08<00:00, 18.29s/it]"
     ]
    },
    {
     "name": "stdout",
     "output_type": "stream",
     "text": [
      "0.001 0.010228501244904153\n"
     ]
    },
    {
     "name": "stderr",
     "output_type": "stream",
     "text": [
      "\n"
     ]
    },
    {
     "name": "stdout",
     "output_type": "stream",
     "text": [
      "Optimization terminated successfully    (Exit mode 0)\n",
      "            Current function value: -9.927450553073665\n",
      "            Iterations: 94\n",
      "            Function evaluations: 142\n",
      "            Gradient evaluations: 94\n"
     ]
    },
    {
     "data": {
      "text/plain": [
       "-0.043895986218703324"
      ]
     },
     "execution_count": 18,
     "metadata": {},
     "output_type": "execute_result"
    }
   ],
   "source": [
    "lambda_, dist = grid_search_lambda(cal_labels, cal_pred_probas, cal_res_emb)\n",
    "print(lambda_, dist)\n",
    "result = minimize(\n",
    "    J, np.random.uniform(0, 1, EMBEDDING_SIZE),\n",
    "    method=\"SLSQP\",\n",
    "    args=(cal_labels, cal_pred_probas, cal_res_emb, ALPHA, N, REGULARIZATION, lambda_), jac=J_prime,\n",
    "    options={\"disp\": True, \"maxiter\": 1000}, tol=1e-10\n",
    "    \n",
    ")\n",
    "result.x.min()"
   ]
  },
  {
   "cell_type": "code",
   "execution_count": 19,
   "metadata": {},
   "outputs": [
    {
     "data": {
      "text/plain": [
       " message: Optimization terminated successfully\n",
       " success: True\n",
       "  status: 0\n",
       "     fun: -9.927450553073665\n",
       "       x: [-1.126e-03  9.754e-03 ...  5.957e-03 -2.226e-02]\n",
       "     nit: 94\n",
       "     jac: [ 3.691e-06 -3.017e-05 ... -1.566e-04 -4.988e-06]\n",
       "    nfev: 142\n",
       "    njev: 94"
      ]
     },
     "execution_count": 19,
     "metadata": {},
     "output_type": "execute_result"
    }
   ],
   "source": [
    "result"
   ]
  },
  {
   "cell_type": "code",
   "execution_count": 20,
   "metadata": {},
   "outputs": [],
   "source": [
    "# ths = np.maximum((test_res_emb @ result.x).reshape(-1, 1, 1), 0.01)\n",
    "ths = (test_res_emb @ result.x).reshape(-1, 1, 1)"
   ]
  },
  {
   "cell_type": "code",
   "execution_count": 21,
   "metadata": {},
   "outputs": [
    {
     "data": {
      "text/plain": [
       "(-0.003371368517390956, 0.4624331964125914)"
      ]
     },
     "execution_count": 21,
     "metadata": {},
     "output_type": "execute_result"
    }
   ],
   "source": [
    "ths.min(), ths.max()"
   ]
  },
  {
   "cell_type": "code",
   "execution_count": 22,
   "metadata": {},
   "outputs": [
    {
     "name": "stderr",
     "output_type": "stream",
     "text": [
      "/tmp/ipykernel_2083890/2765564226.py:2: RuntimeWarning: invalid value encountered in divide\n",
      "  recall_test = (y_pred_test_th * test_labels).sum(axis=(1, 2)) / test_labels.sum(axis=(1, 2))\n"
     ]
    }
   ],
   "source": [
    "y_pred_test_th = (test_pred_probas >= ths).astype(int)\n",
    "recall_test = (y_pred_test_th * test_labels).sum(axis=(1, 2)) / test_labels.sum(axis=(1, 2))"
   ]
  },
  {
   "cell_type": "code",
   "execution_count": 23,
   "metadata": {},
   "outputs": [
    {
     "data": {
      "text/plain": [
       "(2300,)"
      ]
     },
     "execution_count": 23,
     "metadata": {},
     "output_type": "execute_result"
    }
   ],
   "source": [
    "recall_test.shape"
   ]
  },
  {
   "cell_type": "code",
   "execution_count": 24,
   "metadata": {},
   "outputs": [
    {
     "data": {
      "text/plain": [
       "0"
      ]
     },
     "execution_count": 24,
     "metadata": {},
     "output_type": "execute_result"
    }
   ],
   "source": [
    "y_pred_test_th.min()"
   ]
  },
  {
   "cell_type": "code",
   "execution_count": 25,
   "metadata": {},
   "outputs": [
    {
     "data": {
      "text/plain": [
       "0.9068397988761485"
      ]
     },
     "execution_count": 25,
     "metadata": {},
     "output_type": "execute_result"
    }
   ],
   "source": [
    "np.nanmean(recall_test)"
   ]
  },
  {
   "cell_type": "code",
   "execution_count": 26,
   "metadata": {},
   "outputs": [
    {
     "data": {
      "text/plain": [
       "(0.9068397988761485, 0.9008190008190008)"
      ]
     },
     "execution_count": 26,
     "metadata": {},
     "output_type": "execute_result"
    }
   ],
   "source": [
    "np.nanmean(recall_test), 1 - ALPHA + 1/N"
   ]
  },
  {
   "cell_type": "code",
   "execution_count": 27,
   "metadata": {},
   "outputs": [
    {
     "name": "stderr",
     "output_type": "stream",
     "text": [
      "/tmp/ipykernel_2083890/3317103724.py:1: RuntimeWarning: invalid value encountered in divide\n",
      "  precision_test = np.nan_to_num((y_pred_test_th * test_labels).sum(axis=(1, 2)) / y_pred_test_th.sum(axis=(1, 2)), nan=1)\n"
     ]
    },
    {
     "data": {
      "text/plain": [
       "0.6848839173804593"
      ]
     },
     "execution_count": 27,
     "metadata": {},
     "output_type": "execute_result"
    }
   ],
   "source": [
    "precision_test = np.nan_to_num((y_pred_test_th * test_labels).sum(axis=(1, 2)) / y_pred_test_th.sum(axis=(1, 2)), nan=1)\n",
    "np.mean(precision_test)"
   ]
  },
  {
   "cell_type": "code",
   "execution_count": 28,
   "metadata": {},
   "outputs": [
    {
     "data": {
      "image/png": "[encoded data removed]",
      "text/plain": [
       "<Figure size 640x480 with 1 Axes>"
      ]
     },
     "metadata": {},
     "output_type": "display_data"
    }
   ],
   "source": [
    "plt.hist(ths[:, 0, 0], bins=100)\n",
    "plt.show()"
   ]
  },
  {
   "cell_type": "code",
   "execution_count": 29,
   "metadata": {},
   "outputs": [
    {
     "data": {
      "image/png": "[encoded data removed]",
      "text/plain": [
       "<Figure size 640x480 with 1 Axes>"
      ]
     },
     "metadata": {},
     "output_type": "display_data"
    }
   ],
   "source": [
    "plt.hist(precision_test)\n",
    "plt.show()"
   ]
  },
  {
   "cell_type": "code",
   "execution_count": 30,
   "metadata": {},
   "outputs": [
    {
     "data": {
      "image/png": "[encoded data removed]",
      "text/plain": [
       "<Figure size 640x480 with 1 Axes>"
      ]
     },
     "metadata": {},
     "output_type": "display_data"
    }
   ],
   "source": [
    "plt.hist(recall_test)\n",
    "plt.show()"
   ]
  },
  {
   "cell_type": "code",
   "execution_count": 31,
   "metadata": {},
   "outputs": [
    {
     "data": {
      "text/plain": [
       "0.6848839173804593"
      ]
     },
     "execution_count": 31,
     "metadata": {},
     "output_type": "execute_result"
    }
   ],
   "source": [
    "np.mean(precision_test)"
   ]
  },
  {
   "cell_type": "code",
   "execution_count": 32,
   "metadata": {},
   "outputs": [
    {
     "data": {
      "text/plain": [
       "0.7565464965009185"
      ]
     },
     "execution_count": 32,
     "metadata": {},
     "output_type": "execute_result"
    }
   ],
   "source": [
    "np.median(precision_test)"
   ]
  },
  {
   "cell_type": "code",
   "execution_count": 74,
   "metadata": {},
   "outputs": [],
   "source": [
    "if not os.path.exists(os.path.join(BASE_DIR, \"05_multiaccurate_results\", MODEL_NAME)):\n",
    "    os.makedirs(os.path.join(BASE_DIR, \"05_multiaccurate_results\", MODEL_NAME))\n",
    "\n",
    "\n",
    "np.save(os.path.join(BASE_DIR, \"05_multiaccurate_results\", MODEL_NAME, \"theta.npy\"), result.x)"
   ]
  },
  {
   "cell_type": "code",
   "execution_count": 75,
   "metadata": {},
   "outputs": [
    {
     "data": {
      "text/plain": [
       "(1024,)"
      ]
     },
     "execution_count": 75,
     "metadata": {},
     "output_type": "execute_result"
    }
   ],
   "source": [
    "result.x.shape"
   ]
  },
  {
   "cell_type": "code",
   "execution_count": 76,
   "metadata": {},
   "outputs": [
    {
     "name": "stderr",
     "output_type": "stream",
     "text": [
      "  0%|          | 0/100 [00:00<?, ?it/s]"
     ]
    },
    {
     "name": "stderr",
     "output_type": "stream",
     "text": [
      "/tmp/ipykernel_1749122/4188066551.py:5: RuntimeWarning: invalid value encountered in divide\n",
      "  recall = (pred_th * test_labels).sum(axis=(1, 2)) / test_labels.sum(axis=(1, 2))\n",
      "/tmp/ipykernel_1749122/4188066551.py:6: RuntimeWarning: invalid value encountered in divide\n",
      "  precision = np.nan_to_num((pred_th * test_labels).sum(axis=(1, 2)) / pred_th.sum(axis=(1, 2)), nan=1)\n",
      "100%|██████████| 100/100 [00:03<00:00, 27.51it/s]\n"
     ]
    }
   ],
   "source": [
    "recalls = []\n",
    "precisions = []\n",
    "for th in tqdm(np.linspace(0, 1, 100)):\n",
    "    pred_th = test_pred_probas >= th\n",
    "    recall = (pred_th * test_labels).sum(axis=(1, 2)) / test_labels.sum(axis=(1, 2))\n",
    "    precision = np.nan_to_num((pred_th * test_labels).sum(axis=(1, 2)) / pred_th.sum(axis=(1, 2)), nan=1)\n",
    "    recalls.append(np.nanmean(recall))\n",
    "    precisions.append(np.nanmean(precision))\n",
    "    \n"
   ]
  },
  {
   "cell_type": "code",
   "execution_count": 77,
   "metadata": {},
   "outputs": [
    {
     "data": {
      "text/plain": [
       "<matplotlib.collections.PathCollection at 0x7fae64ae26b0>"
      ]
     },
     "execution_count": 77,
     "metadata": {},
     "output_type": "execute_result"
    },
    {
     "data": {
      "image/png": "[encoded data removed]",
      "text/plain": [
       "<Figure size 640x480 with 1 Axes>"
      ]
     },
     "metadata": {},
     "output_type": "display_data"
    }
   ],
   "source": [
    "plt.plot(precisions, recalls)\n",
    "plt.scatter(np.nanmean(precision_test), np.nanmean(recall_test))"
   ]
  },
  {
   "cell_type": "code",
   "execution_count": 50,
   "metadata": {},
   "outputs": [
    {
     "data": {
      "text/plain": [
       "(0.9284999385131935, 0.6989669728822704)"
      ]
     },
     "execution_count": 50,
     "metadata": {},
     "output_type": "execute_result"
    }
   ],
   "source": [
    "np.nanmean(recall_test), np.nanmean(precision_test)"
   ]
  },
  {
   "cell_type": "code",
   "execution_count": null,
   "metadata": {},
   "outputs": [],
   "source": []
  }
 ],
 "metadata": {
  "kernelspec": {
   "display_name": "Python 3",
   "language": "python",
   "name": "python3"
  },
  "language_info": {
   "codemirror_mode": {
    "name": "ipython",
    "version": 3
   },
   "file_extension": ".py",
   "mimetype": "text/x-python",
   "name": "python",
   "nbconvert_exporter": "python",
   "pygments_lexer": "ipython3",
   "version": "3.10.12"
  }
 },
 "nbformat": 4,
 "nbformat_minor": 2
}
