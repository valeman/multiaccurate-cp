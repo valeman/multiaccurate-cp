{
 "cells": [
  {
   "cell_type": "code",
   "execution_count": 1,
   "metadata": {},
   "outputs": [],
   "source": [
    "import sys\n",
    "sys.path.append(\"/home/vblot/multiaccurate_cp/\")"
   ]
  },
  {
   "cell_type": "code",
   "execution_count": 2,
   "metadata": {},
   "outputs": [],
   "source": [
    "import os\n",
    "import yaml\n",
    "\n",
    "import cv2\n",
    "import numpy as np\n",
    "import matplotlib.pyplot as plt\n",
    "from mapie.multi_label_classification import MapieMultiLabelClassifier\n",
    "from scipy import integrate\n",
    "from scipy.optimize import minimize\n",
    "from sklearn.model_selection import KFold\n",
    "from tqdm import tqdm\n",
    "\n",
    "from multiaccurate_cp.utils.multiaccurate import J, J_prime\n",
    "\n",
    "%load_ext autoreload\n",
    "%autoreload 2\n"
   ]
  },
  {
   "cell_type": "code",
   "execution_count": 3,
   "metadata": {},
   "outputs": [],
   "source": [
    "DATASET = \"polyp\"\n",
    "BASE_DIR = f\"/home/vblot/multiaccurate_cp/data/{DATASET}\"\n"
   ]
  },
  {
   "cell_type": "code",
   "execution_count": 4,
   "metadata": {},
   "outputs": [],
   "source": [
    "IMG_SIZE = 64\n"
   ]
  },
  {
   "cell_type": "code",
   "execution_count": 5,
   "metadata": {},
   "outputs": [],
   "source": [
    "DIR_CAL_PRED_PROBAS = os.path.join(BASE_DIR, \"04_predictions/cal/pred_probas\")\n",
    "DIR_CAL_LABELS = os.path.join(BASE_DIR, \"02_prepared_data/cal/labels\")\n",
    "DIR_TEST_PRED_PROBAS = DIR_CAL_PRED_PROBAS.replace(\"cal\", \"test\")\n",
    "DIR_TEST_LABELS = DIR_CAL_LABELS.replace(\"cal\", \"test\")\n"
   ]
  },
  {
   "cell_type": "code",
   "execution_count": 6,
   "metadata": {},
   "outputs": [],
   "source": [
    "def load_data(pred_probas_dir, labels_dir):\n",
    "    pred_probas = np.zeros((len(os.listdir(pred_probas_dir)), IMG_SIZE, IMG_SIZE))\n",
    "    labels = np.zeros((len(os.listdir(labels_dir)), IMG_SIZE, IMG_SIZE))\n",
    "\n",
    "    for i, (pred_proba_file, label_file) in enumerate(tqdm(zip(sorted(os.listdir(pred_probas_dir)),\n",
    "                                                                       sorted(os.listdir(labels_dir))))):\n",
    "        pred_proba = np.load(os.path.join(pred_probas_dir, pred_proba_file))\n",
    "        pred_probas[i] = cv2.resize(pred_proba, (IMG_SIZE, IMG_SIZE))\n",
    "        label = cv2.imread(os.path.join(labels_dir, label_file), cv2.IMREAD_GRAYSCALE) / 255\n",
    "        labels[i] = cv2.resize(label, (IMG_SIZE, IMG_SIZE)) > .5    \n",
    "    return pred_probas, labels\n"
   ]
  },
  {
   "cell_type": "code",
   "execution_count": 7,
   "metadata": {},
   "outputs": [
    {
     "name": "stderr",
     "output_type": "stream",
     "text": [
      "209it [00:08, 14.93it/s]"
     ]
    }
   ],
   "source": [
    "c_pp, c_l = load_data(DIR_CAL_PRED_PROBAS, DIR_CAL_LABELS)\n"
   ]
  },
  {
   "cell_type": "code",
   "execution_count": null,
   "metadata": {},
   "outputs": [
    {
     "name": "stderr",
     "output_type": "stream",
     "text": [
      "546it [00:00, 945.81it/s] \n"
     ]
    }
   ],
   "source": [
    "t_pp, t_l = load_data(DIR_TEST_PRED_PROBAS, DIR_TEST_LABELS)"
   ]
  },
  {
   "cell_type": "code",
   "execution_count": null,
   "metadata": {},
   "outputs": [
    {
     "data": {
      "text/plain": [
       "((798, 64, 64), (798, 64, 64))"
      ]
     },
     "execution_count": 26,
     "metadata": {},
     "output_type": "execute_result"
    }
   ],
   "source": [
    "all_pred_probas = np.concatenate([c_pp, t_pp])\n",
    "all_labels = np.concatenate([c_l, t_l])\n",
    "\n",
    "all_pred_probas.shape, all_labels.shape"
   ]
  },
  {
   "cell_type": "code",
   "execution_count": null,
   "metadata": {},
   "outputs": [],
   "source": [
    "ALPHA = .1"
   ]
  },
  {
   "cell_type": "code",
   "execution_count": null,
   "metadata": {},
   "outputs": [],
   "source": [
    "class MapieWrapper():\n",
    "    def __init__(self):\n",
    "        self.trained_ = True\n",
    "        self.classes_ = 1\n",
    "\n",
    "    def fit(self, X, y=None):\n",
    "        pass\n",
    "\n",
    "    def predict_proba(self, X):\n",
    "        return X\n",
    "\n",
    "    def predict(self, X):\n",
    "        pred_proba = self.predict_proba(X)\n",
    "        return pred_proba >= .5\n",
    "\n",
    "    def __sklearn_is_fitted__(self):\n",
    "        return True"
   ]
  },
  {
   "cell_type": "code",
   "execution_count": 29,
   "metadata": {},
   "outputs": [
    {
     "name": "stderr",
     "output_type": "stream",
     "text": [
      "  0%|          | 0/100 [00:00<?, ?it/s]/tmp/ipykernel_1494523/2455691256.py:24: RuntimeWarning: invalid value encountered in divide\n",
      "  precision_test = np.nan_to_num((y_pred_test_th * temp_test_labels).sum(axis=(1, 2)) / y_pred_test_th.sum(axis=(1, 2)), nan=1)\n",
      "  1%|          | 1/100 [00:00<00:35,  2.78it/s]/tmp/ipykernel_1494523/2455691256.py:24: RuntimeWarning: invalid value encountered in divide\n",
      "  precision_test = np.nan_to_num((y_pred_test_th * temp_test_labels).sum(axis=(1, 2)) / y_pred_test_th.sum(axis=(1, 2)), nan=1)\n",
      "  2%|▏         | 2/100 [00:00<00:32,  3.00it/s]/tmp/ipykernel_1494523/2455691256.py:24: RuntimeWarning: invalid value encountered in divide\n",
      "  precision_test = np.nan_to_num((y_pred_test_th * temp_test_labels).sum(axis=(1, 2)) / y_pred_test_th.sum(axis=(1, 2)), nan=1)\n",
      "  3%|▎         | 3/100 [00:01<00:32,  2.99it/s]/tmp/ipykernel_1494523/2455691256.py:24: RuntimeWarning: invalid value encountered in divide\n",
      "  precision_test = np.nan_to_num((y_pred_test_th * temp_test_labels).sum(axis=(1, 2)) / y_pred_test_th.sum(axis=(1, 2)), nan=1)\n",
      "  4%|▍         | 4/100 [00:01<00:31,  3.05it/s]/tmp/ipykernel_1494523/2455691256.py:24: RuntimeWarning: invalid value encountered in divide\n",
      "  precision_test = np.nan_to_num((y_pred_test_th * temp_test_labels).sum(axis=(1, 2)) / y_pred_test_th.sum(axis=(1, 2)), nan=1)\n",
      "  5%|▌         | 5/100 [00:01<00:30,  3.10it/s]/tmp/ipykernel_1494523/2455691256.py:24: RuntimeWarning: invalid value encountered in divide\n",
      "  precision_test = np.nan_to_num((y_pred_test_th * temp_test_labels).sum(axis=(1, 2)) / y_pred_test_th.sum(axis=(1, 2)), nan=1)\n",
      "  6%|▌         | 6/100 [00:01<00:30,  3.12it/s]/tmp/ipykernel_1494523/2455691256.py:24: RuntimeWarning: invalid value encountered in divide\n",
      "  precision_test = np.nan_to_num((y_pred_test_th * temp_test_labels).sum(axis=(1, 2)) / y_pred_test_th.sum(axis=(1, 2)), nan=1)\n",
      "  7%|▋         | 7/100 [00:02<00:29,  3.11it/s]/tmp/ipykernel_1494523/2455691256.py:24: RuntimeWarning: invalid value encountered in divide\n",
      "  precision_test = np.nan_to_num((y_pred_test_th * temp_test_labels).sum(axis=(1, 2)) / y_pred_test_th.sum(axis=(1, 2)), nan=1)\n",
      "  8%|▊         | 8/100 [00:02<00:29,  3.09it/s]/tmp/ipykernel_1494523/2455691256.py:24: RuntimeWarning: invalid value encountered in divide\n",
      "  precision_test = np.nan_to_num((y_pred_test_th * temp_test_labels).sum(axis=(1, 2)) / y_pred_test_th.sum(axis=(1, 2)), nan=1)\n",
      "  9%|▉         | 9/100 [00:02<00:29,  3.11it/s]/tmp/ipykernel_1494523/2455691256.py:24: RuntimeWarning: invalid value encountered in divide\n",
      "  precision_test = np.nan_to_num((y_pred_test_th * temp_test_labels).sum(axis=(1, 2)) / y_pred_test_th.sum(axis=(1, 2)), nan=1)\n",
      " 10%|█         | 10/100 [00:03<00:28,  3.10it/s]/tmp/ipykernel_1494523/2455691256.py:24: RuntimeWarning: invalid value encountered in divide\n",
      "  precision_test = np.nan_to_num((y_pred_test_th * temp_test_labels).sum(axis=(1, 2)) / y_pred_test_th.sum(axis=(1, 2)), nan=1)\n",
      " 11%|█         | 11/100 [00:03<00:28,  3.13it/s]/tmp/ipykernel_1494523/2455691256.py:24: RuntimeWarning: invalid value encountered in divide\n",
      "  precision_test = np.nan_to_num((y_pred_test_th * temp_test_labels).sum(axis=(1, 2)) / y_pred_test_th.sum(axis=(1, 2)), nan=1)\n",
      " 12%|█▏        | 12/100 [00:03<00:28,  3.14it/s]/tmp/ipykernel_1494523/2455691256.py:24: RuntimeWarning: invalid value encountered in divide\n",
      "  precision_test = np.nan_to_num((y_pred_test_th * temp_test_labels).sum(axis=(1, 2)) / y_pred_test_th.sum(axis=(1, 2)), nan=1)\n",
      " 13%|█▎        | 13/100 [00:04<00:27,  3.11it/s]/tmp/ipykernel_1494523/2455691256.py:24: RuntimeWarning: invalid value encountered in divide\n",
      "  precision_test = np.nan_to_num((y_pred_test_th * temp_test_labels).sum(axis=(1, 2)) / y_pred_test_th.sum(axis=(1, 2)), nan=1)\n",
      " 14%|█▍        | 14/100 [00:04<00:27,  3.13it/s]/tmp/ipykernel_1494523/2455691256.py:24: RuntimeWarning: invalid value encountered in divide\n",
      "  precision_test = np.nan_to_num((y_pred_test_th * temp_test_labels).sum(axis=(1, 2)) / y_pred_test_th.sum(axis=(1, 2)), nan=1)\n",
      " 15%|█▌        | 15/100 [00:04<00:27,  3.14it/s]/tmp/ipykernel_1494523/2455691256.py:24: RuntimeWarning: invalid value encountered in divide\n",
      "  precision_test = np.nan_to_num((y_pred_test_th * temp_test_labels).sum(axis=(1, 2)) / y_pred_test_th.sum(axis=(1, 2)), nan=1)\n",
      " 16%|█▌        | 16/100 [00:05<00:27,  3.04it/s]/tmp/ipykernel_1494523/2455691256.py:24: RuntimeWarning: invalid value encountered in divide\n",
      "  precision_test = np.nan_to_num((y_pred_test_th * temp_test_labels).sum(axis=(1, 2)) / y_pred_test_th.sum(axis=(1, 2)), nan=1)\n",
      " 17%|█▋        | 17/100 [00:05<00:27,  3.04it/s]/tmp/ipykernel_1494523/2455691256.py:24: RuntimeWarning: invalid value encountered in divide\n",
      "  precision_test = np.nan_to_num((y_pred_test_th * temp_test_labels).sum(axis=(1, 2)) / y_pred_test_th.sum(axis=(1, 2)), nan=1)\n",
      " 18%|█▊        | 18/100 [00:05<00:26,  3.09it/s]/tmp/ipykernel_1494523/2455691256.py:24: RuntimeWarning: invalid value encountered in divide\n",
      "  precision_test = np.nan_to_num((y_pred_test_th * temp_test_labels).sum(axis=(1, 2)) / y_pred_test_th.sum(axis=(1, 2)), nan=1)\n",
      " 19%|█▉        | 19/100 [00:06<00:25,  3.14it/s]/tmp/ipykernel_1494523/2455691256.py:24: RuntimeWarning: invalid value encountered in divide\n",
      "  precision_test = np.nan_to_num((y_pred_test_th * temp_test_labels).sum(axis=(1, 2)) / y_pred_test_th.sum(axis=(1, 2)), nan=1)\n",
      " 20%|██        | 20/100 [00:06<00:25,  3.16it/s]/tmp/ipykernel_1494523/2455691256.py:24: RuntimeWarning: invalid value encountered in divide\n",
      "  precision_test = np.nan_to_num((y_pred_test_th * temp_test_labels).sum(axis=(1, 2)) / y_pred_test_th.sum(axis=(1, 2)), nan=1)\n",
      " 21%|██        | 21/100 [00:06<00:24,  3.19it/s]/tmp/ipykernel_1494523/2455691256.py:24: RuntimeWarning: invalid value encountered in divide\n",
      "  precision_test = np.nan_to_num((y_pred_test_th * temp_test_labels).sum(axis=(1, 2)) / y_pred_test_th.sum(axis=(1, 2)), nan=1)\n",
      " 22%|██▏       | 22/100 [00:07<00:24,  3.20it/s]/tmp/ipykernel_1494523/2455691256.py:24: RuntimeWarning: invalid value encountered in divide\n",
      "  precision_test = np.nan_to_num((y_pred_test_th * temp_test_labels).sum(axis=(1, 2)) / y_pred_test_th.sum(axis=(1, 2)), nan=1)\n",
      " 23%|██▎       | 23/100 [00:07<00:24,  3.21it/s]/tmp/ipykernel_1494523/2455691256.py:24: RuntimeWarning: invalid value encountered in divide\n",
      "  precision_test = np.nan_to_num((y_pred_test_th * temp_test_labels).sum(axis=(1, 2)) / y_pred_test_th.sum(axis=(1, 2)), nan=1)\n",
      " 24%|██▍       | 24/100 [00:07<00:23,  3.21it/s]/tmp/ipykernel_1494523/2455691256.py:24: RuntimeWarning: invalid value encountered in divide\n",
      "  precision_test = np.nan_to_num((y_pred_test_th * temp_test_labels).sum(axis=(1, 2)) / y_pred_test_th.sum(axis=(1, 2)), nan=1)\n",
      " 25%|██▌       | 25/100 [00:07<00:23,  3.21it/s]/tmp/ipykernel_1494523/2455691256.py:24: RuntimeWarning: invalid value encountered in divide\n",
      "  precision_test = np.nan_to_num((y_pred_test_th * temp_test_labels).sum(axis=(1, 2)) / y_pred_test_th.sum(axis=(1, 2)), nan=1)\n",
      " 26%|██▌       | 26/100 [00:08<00:23,  3.19it/s]/tmp/ipykernel_1494523/2455691256.py:24: RuntimeWarning: invalid value encountered in divide\n",
      "  precision_test = np.nan_to_num((y_pred_test_th * temp_test_labels).sum(axis=(1, 2)) / y_pred_test_th.sum(axis=(1, 2)), nan=1)\n",
      " 27%|██▋       | 27/100 [00:08<00:22,  3.18it/s]/tmp/ipykernel_1494523/2455691256.py:24: RuntimeWarning: invalid value encountered in divide\n",
      "  precision_test = np.nan_to_num((y_pred_test_th * temp_test_labels).sum(axis=(1, 2)) / y_pred_test_th.sum(axis=(1, 2)), nan=1)\n",
      " 28%|██▊       | 28/100 [00:08<00:22,  3.16it/s]/tmp/ipykernel_1494523/2455691256.py:24: RuntimeWarning: invalid value encountered in divide\n",
      "  precision_test = np.nan_to_num((y_pred_test_th * temp_test_labels).sum(axis=(1, 2)) / y_pred_test_th.sum(axis=(1, 2)), nan=1)\n",
      " 29%|██▉       | 29/100 [00:09<00:22,  3.17it/s]/tmp/ipykernel_1494523/2455691256.py:24: RuntimeWarning: invalid value encountered in divide\n",
      "  precision_test = np.nan_to_num((y_pred_test_th * temp_test_labels).sum(axis=(1, 2)) / y_pred_test_th.sum(axis=(1, 2)), nan=1)\n",
      " 30%|███       | 30/100 [00:09<00:22,  3.17it/s]/tmp/ipykernel_1494523/2455691256.py:24: RuntimeWarning: invalid value encountered in divide\n",
      "  precision_test = np.nan_to_num((y_pred_test_th * temp_test_labels).sum(axis=(1, 2)) / y_pred_test_th.sum(axis=(1, 2)), nan=1)\n",
      " 31%|███       | 31/100 [00:09<00:22,  3.06it/s]/tmp/ipykernel_1494523/2455691256.py:24: RuntimeWarning: invalid value encountered in divide\n",
      "  precision_test = np.nan_to_num((y_pred_test_th * temp_test_labels).sum(axis=(1, 2)) / y_pred_test_th.sum(axis=(1, 2)), nan=1)\n",
      " 32%|███▏      | 32/100 [00:10<00:22,  3.08it/s]/tmp/ipykernel_1494523/2455691256.py:24: RuntimeWarning: invalid value encountered in divide\n",
      "  precision_test = np.nan_to_num((y_pred_test_th * temp_test_labels).sum(axis=(1, 2)) / y_pred_test_th.sum(axis=(1, 2)), nan=1)\n",
      " 33%|███▎      | 33/100 [00:10<00:21,  3.11it/s]/tmp/ipykernel_1494523/2455691256.py:24: RuntimeWarning: invalid value encountered in divide\n",
      "  precision_test = np.nan_to_num((y_pred_test_th * temp_test_labels).sum(axis=(1, 2)) / y_pred_test_th.sum(axis=(1, 2)), nan=1)\n",
      " 34%|███▍      | 34/100 [00:10<00:21,  3.13it/s]/tmp/ipykernel_1494523/2455691256.py:24: RuntimeWarning: invalid value encountered in divide\n",
      "  precision_test = np.nan_to_num((y_pred_test_th * temp_test_labels).sum(axis=(1, 2)) / y_pred_test_th.sum(axis=(1, 2)), nan=1)\n",
      " 35%|███▌      | 35/100 [00:11<00:20,  3.10it/s]/tmp/ipykernel_1494523/2455691256.py:24: RuntimeWarning: invalid value encountered in divide\n",
      "  precision_test = np.nan_to_num((y_pred_test_th * temp_test_labels).sum(axis=(1, 2)) / y_pred_test_th.sum(axis=(1, 2)), nan=1)\n",
      " 36%|███▌      | 36/100 [00:11<00:20,  3.13it/s]/tmp/ipykernel_1494523/2455691256.py:24: RuntimeWarning: invalid value encountered in divide\n",
      "  precision_test = np.nan_to_num((y_pred_test_th * temp_test_labels).sum(axis=(1, 2)) / y_pred_test_th.sum(axis=(1, 2)), nan=1)\n",
      " 37%|███▋      | 37/100 [00:11<00:20,  3.12it/s]/tmp/ipykernel_1494523/2455691256.py:24: RuntimeWarning: invalid value encountered in divide\n",
      "  precision_test = np.nan_to_num((y_pred_test_th * temp_test_labels).sum(axis=(1, 2)) / y_pred_test_th.sum(axis=(1, 2)), nan=1)\n",
      " 38%|███▊      | 38/100 [00:12<00:19,  3.12it/s]/tmp/ipykernel_1494523/2455691256.py:24: RuntimeWarning: invalid value encountered in divide\n",
      "  precision_test = np.nan_to_num((y_pred_test_th * temp_test_labels).sum(axis=(1, 2)) / y_pred_test_th.sum(axis=(1, 2)), nan=1)\n",
      " 39%|███▉      | 39/100 [00:12<00:19,  3.12it/s]/tmp/ipykernel_1494523/2455691256.py:24: RuntimeWarning: invalid value encountered in divide\n",
      "  precision_test = np.nan_to_num((y_pred_test_th * temp_test_labels).sum(axis=(1, 2)) / y_pred_test_th.sum(axis=(1, 2)), nan=1)\n",
      " 40%|████      | 40/100 [00:12<00:19,  3.14it/s]/tmp/ipykernel_1494523/2455691256.py:24: RuntimeWarning: invalid value encountered in divide\n",
      "  precision_test = np.nan_to_num((y_pred_test_th * temp_test_labels).sum(axis=(1, 2)) / y_pred_test_th.sum(axis=(1, 2)), nan=1)\n",
      " 41%|████      | 41/100 [00:13<00:18,  3.11it/s]/tmp/ipykernel_1494523/2455691256.py:24: RuntimeWarning: invalid value encountered in divide\n",
      "  precision_test = np.nan_to_num((y_pred_test_th * temp_test_labels).sum(axis=(1, 2)) / y_pred_test_th.sum(axis=(1, 2)), nan=1)\n",
      " 42%|████▏     | 42/100 [00:13<00:18,  3.13it/s]/tmp/ipykernel_1494523/2455691256.py:24: RuntimeWarning: invalid value encountered in divide\n",
      "  precision_test = np.nan_to_num((y_pred_test_th * temp_test_labels).sum(axis=(1, 2)) / y_pred_test_th.sum(axis=(1, 2)), nan=1)\n",
      " 43%|████▎     | 43/100 [00:13<00:18,  3.03it/s]/tmp/ipykernel_1494523/2455691256.py:24: RuntimeWarning: invalid value encountered in divide\n",
      "  precision_test = np.nan_to_num((y_pred_test_th * temp_test_labels).sum(axis=(1, 2)) / y_pred_test_th.sum(axis=(1, 2)), nan=1)\n",
      " 44%|████▍     | 44/100 [00:14<00:18,  3.07it/s]/tmp/ipykernel_1494523/2455691256.py:24: RuntimeWarning: invalid value encountered in divide\n",
      "  precision_test = np.nan_to_num((y_pred_test_th * temp_test_labels).sum(axis=(1, 2)) / y_pred_test_th.sum(axis=(1, 2)), nan=1)\n",
      " 45%|████▌     | 45/100 [00:14<00:17,  3.10it/s]/tmp/ipykernel_1494523/2455691256.py:24: RuntimeWarning: invalid value encountered in divide\n",
      "  precision_test = np.nan_to_num((y_pred_test_th * temp_test_labels).sum(axis=(1, 2)) / y_pred_test_th.sum(axis=(1, 2)), nan=1)\n",
      " 46%|████▌     | 46/100 [00:14<00:17,  3.12it/s]/tmp/ipykernel_1494523/2455691256.py:24: RuntimeWarning: invalid value encountered in divide\n",
      "  precision_test = np.nan_to_num((y_pred_test_th * temp_test_labels).sum(axis=(1, 2)) / y_pred_test_th.sum(axis=(1, 2)), nan=1)\n",
      " 47%|████▋     | 47/100 [00:15<00:16,  3.14it/s]/tmp/ipykernel_1494523/2455691256.py:24: RuntimeWarning: invalid value encountered in divide\n",
      "  precision_test = np.nan_to_num((y_pred_test_th * temp_test_labels).sum(axis=(1, 2)) / y_pred_test_th.sum(axis=(1, 2)), nan=1)\n",
      " 48%|████▊     | 48/100 [00:15<00:16,  3.16it/s]/tmp/ipykernel_1494523/2455691256.py:24: RuntimeWarning: invalid value encountered in divide\n",
      "  precision_test = np.nan_to_num((y_pred_test_th * temp_test_labels).sum(axis=(1, 2)) / y_pred_test_th.sum(axis=(1, 2)), nan=1)\n",
      " 49%|████▉     | 49/100 [00:15<00:16,  3.16it/s]/tmp/ipykernel_1494523/2455691256.py:24: RuntimeWarning: invalid value encountered in divide\n",
      "  precision_test = np.nan_to_num((y_pred_test_th * temp_test_labels).sum(axis=(1, 2)) / y_pred_test_th.sum(axis=(1, 2)), nan=1)\n",
      " 50%|█████     | 50/100 [00:16<00:15,  3.17it/s]/tmp/ipykernel_1494523/2455691256.py:24: RuntimeWarning: invalid value encountered in divide\n",
      "  precision_test = np.nan_to_num((y_pred_test_th * temp_test_labels).sum(axis=(1, 2)) / y_pred_test_th.sum(axis=(1, 2)), nan=1)\n",
      " 51%|█████     | 51/100 [00:16<00:15,  3.17it/s]/tmp/ipykernel_1494523/2455691256.py:24: RuntimeWarning: invalid value encountered in divide\n",
      "  precision_test = np.nan_to_num((y_pred_test_th * temp_test_labels).sum(axis=(1, 2)) / y_pred_test_th.sum(axis=(1, 2)), nan=1)\n",
      " 52%|█████▏    | 52/100 [00:16<00:15,  3.18it/s]/tmp/ipykernel_1494523/2455691256.py:24: RuntimeWarning: invalid value encountered in divide\n",
      "  precision_test = np.nan_to_num((y_pred_test_th * temp_test_labels).sum(axis=(1, 2)) / y_pred_test_th.sum(axis=(1, 2)), nan=1)\n",
      " 53%|█████▎    | 53/100 [00:16<00:14,  3.18it/s]/tmp/ipykernel_1494523/2455691256.py:24: RuntimeWarning: invalid value encountered in divide\n",
      "  precision_test = np.nan_to_num((y_pred_test_th * temp_test_labels).sum(axis=(1, 2)) / y_pred_test_th.sum(axis=(1, 2)), nan=1)\n",
      " 54%|█████▍    | 54/100 [00:17<00:14,  3.14it/s]/tmp/ipykernel_1494523/2455691256.py:24: RuntimeWarning: invalid value encountered in divide\n",
      "  precision_test = np.nan_to_num((y_pred_test_th * temp_test_labels).sum(axis=(1, 2)) / y_pred_test_th.sum(axis=(1, 2)), nan=1)\n",
      " 55%|█████▌    | 55/100 [00:17<00:14,  3.13it/s]/tmp/ipykernel_1494523/2455691256.py:24: RuntimeWarning: invalid value encountered in divide\n",
      "  precision_test = np.nan_to_num((y_pred_test_th * temp_test_labels).sum(axis=(1, 2)) / y_pred_test_th.sum(axis=(1, 2)), nan=1)\n",
      " 56%|█████▌    | 56/100 [00:17<00:13,  3.15it/s]/tmp/ipykernel_1494523/2455691256.py:24: RuntimeWarning: invalid value encountered in divide\n",
      "  precision_test = np.nan_to_num((y_pred_test_th * temp_test_labels).sum(axis=(1, 2)) / y_pred_test_th.sum(axis=(1, 2)), nan=1)\n",
      " 57%|█████▋    | 57/100 [00:18<00:13,  3.14it/s]/tmp/ipykernel_1494523/2455691256.py:24: RuntimeWarning: invalid value encountered in divide\n",
      "  precision_test = np.nan_to_num((y_pred_test_th * temp_test_labels).sum(axis=(1, 2)) / y_pred_test_th.sum(axis=(1, 2)), nan=1)\n",
      " 58%|█████▊    | 58/100 [00:18<00:13,  3.05it/s]/tmp/ipykernel_1494523/2455691256.py:24: RuntimeWarning: invalid value encountered in divide\n",
      "  precision_test = np.nan_to_num((y_pred_test_th * temp_test_labels).sum(axis=(1, 2)) / y_pred_test_th.sum(axis=(1, 2)), nan=1)\n",
      " 59%|█████▉    | 59/100 [00:18<00:13,  3.07it/s]/tmp/ipykernel_1494523/2455691256.py:24: RuntimeWarning: invalid value encountered in divide\n",
      "  precision_test = np.nan_to_num((y_pred_test_th * temp_test_labels).sum(axis=(1, 2)) / y_pred_test_th.sum(axis=(1, 2)), nan=1)\n",
      " 60%|██████    | 60/100 [00:19<00:12,  3.10it/s]/tmp/ipykernel_1494523/2455691256.py:24: RuntimeWarning: invalid value encountered in divide\n",
      "  precision_test = np.nan_to_num((y_pred_test_th * temp_test_labels).sum(axis=(1, 2)) / y_pred_test_th.sum(axis=(1, 2)), nan=1)\n",
      " 61%|██████    | 61/100 [00:19<00:12,  3.08it/s]/tmp/ipykernel_1494523/2455691256.py:24: RuntimeWarning: invalid value encountered in divide\n",
      "  precision_test = np.nan_to_num((y_pred_test_th * temp_test_labels).sum(axis=(1, 2)) / y_pred_test_th.sum(axis=(1, 2)), nan=1)\n",
      " 62%|██████▏   | 62/100 [00:19<00:12,  3.08it/s]/tmp/ipykernel_1494523/2455691256.py:24: RuntimeWarning: invalid value encountered in divide\n",
      "  precision_test = np.nan_to_num((y_pred_test_th * temp_test_labels).sum(axis=(1, 2)) / y_pred_test_th.sum(axis=(1, 2)), nan=1)\n",
      " 63%|██████▎   | 63/100 [00:20<00:11,  3.12it/s]/tmp/ipykernel_1494523/2455691256.py:24: RuntimeWarning: invalid value encountered in divide\n",
      "  precision_test = np.nan_to_num((y_pred_test_th * temp_test_labels).sum(axis=(1, 2)) / y_pred_test_th.sum(axis=(1, 2)), nan=1)\n",
      " 64%|██████▍   | 64/100 [00:20<00:11,  3.14it/s]/tmp/ipykernel_1494523/2455691256.py:24: RuntimeWarning: invalid value encountered in divide\n",
      "  precision_test = np.nan_to_num((y_pred_test_th * temp_test_labels).sum(axis=(1, 2)) / y_pred_test_th.sum(axis=(1, 2)), nan=1)\n",
      " 65%|██████▌   | 65/100 [00:20<00:11,  3.13it/s]/tmp/ipykernel_1494523/2455691256.py:24: RuntimeWarning: invalid value encountered in divide\n",
      "  precision_test = np.nan_to_num((y_pred_test_th * temp_test_labels).sum(axis=(1, 2)) / y_pred_test_th.sum(axis=(1, 2)), nan=1)\n",
      " 66%|██████▌   | 66/100 [00:21<00:10,  3.10it/s]/tmp/ipykernel_1494523/2455691256.py:24: RuntimeWarning: invalid value encountered in divide\n",
      "  precision_test = np.nan_to_num((y_pred_test_th * temp_test_labels).sum(axis=(1, 2)) / y_pred_test_th.sum(axis=(1, 2)), nan=1)\n",
      " 67%|██████▋   | 67/100 [00:21<00:10,  3.13it/s]/tmp/ipykernel_1494523/2455691256.py:24: RuntimeWarning: invalid value encountered in divide\n",
      "  precision_test = np.nan_to_num((y_pred_test_th * temp_test_labels).sum(axis=(1, 2)) / y_pred_test_th.sum(axis=(1, 2)), nan=1)\n",
      " 68%|██████▊   | 68/100 [00:21<00:10,  3.14it/s]/tmp/ipykernel_1494523/2455691256.py:24: RuntimeWarning: invalid value encountered in divide\n",
      "  precision_test = np.nan_to_num((y_pred_test_th * temp_test_labels).sum(axis=(1, 2)) / y_pred_test_th.sum(axis=(1, 2)), nan=1)\n",
      " 69%|██████▉   | 69/100 [00:22<00:09,  3.15it/s]/tmp/ipykernel_1494523/2455691256.py:24: RuntimeWarning: invalid value encountered in divide\n",
      "  precision_test = np.nan_to_num((y_pred_test_th * temp_test_labels).sum(axis=(1, 2)) / y_pred_test_th.sum(axis=(1, 2)), nan=1)\n",
      " 70%|███████   | 70/100 [00:22<00:09,  3.05it/s]/tmp/ipykernel_1494523/2455691256.py:24: RuntimeWarning: invalid value encountered in divide\n",
      "  precision_test = np.nan_to_num((y_pred_test_th * temp_test_labels).sum(axis=(1, 2)) / y_pred_test_th.sum(axis=(1, 2)), nan=1)\n",
      " 71%|███████   | 71/100 [00:22<00:09,  3.08it/s]/tmp/ipykernel_1494523/2455691256.py:24: RuntimeWarning: invalid value encountered in divide\n",
      "  precision_test = np.nan_to_num((y_pred_test_th * temp_test_labels).sum(axis=(1, 2)) / y_pred_test_th.sum(axis=(1, 2)), nan=1)\n",
      " 72%|███████▏  | 72/100 [00:23<00:09,  3.10it/s]/tmp/ipykernel_1494523/2455691256.py:24: RuntimeWarning: invalid value encountered in divide\n",
      "  precision_test = np.nan_to_num((y_pred_test_th * temp_test_labels).sum(axis=(1, 2)) / y_pred_test_th.sum(axis=(1, 2)), nan=1)\n",
      " 73%|███████▎  | 73/100 [00:23<00:08,  3.12it/s]/tmp/ipykernel_1494523/2455691256.py:24: RuntimeWarning: invalid value encountered in divide\n",
      "  precision_test = np.nan_to_num((y_pred_test_th * temp_test_labels).sum(axis=(1, 2)) / y_pred_test_th.sum(axis=(1, 2)), nan=1)\n",
      " 74%|███████▍  | 74/100 [00:23<00:08,  3.14it/s]/tmp/ipykernel_1494523/2455691256.py:24: RuntimeWarning: invalid value encountered in divide\n",
      "  precision_test = np.nan_to_num((y_pred_test_th * temp_test_labels).sum(axis=(1, 2)) / y_pred_test_th.sum(axis=(1, 2)), nan=1)\n",
      " 75%|███████▌  | 75/100 [00:24<00:07,  3.16it/s]/tmp/ipykernel_1494523/2455691256.py:24: RuntimeWarning: invalid value encountered in divide\n",
      "  precision_test = np.nan_to_num((y_pred_test_th * temp_test_labels).sum(axis=(1, 2)) / y_pred_test_th.sum(axis=(1, 2)), nan=1)\n",
      " 76%|███████▌  | 76/100 [00:24<00:07,  3.16it/s]/tmp/ipykernel_1494523/2455691256.py:24: RuntimeWarning: invalid value encountered in divide\n",
      "  precision_test = np.nan_to_num((y_pred_test_th * temp_test_labels).sum(axis=(1, 2)) / y_pred_test_th.sum(axis=(1, 2)), nan=1)\n",
      " 77%|███████▋  | 77/100 [00:24<00:07,  3.17it/s]/tmp/ipykernel_1494523/2455691256.py:24: RuntimeWarning: invalid value encountered in divide\n",
      "  precision_test = np.nan_to_num((y_pred_test_th * temp_test_labels).sum(axis=(1, 2)) / y_pred_test_th.sum(axis=(1, 2)), nan=1)\n",
      " 78%|███████▊  | 78/100 [00:24<00:06,  3.18it/s]/tmp/ipykernel_1494523/2455691256.py:24: RuntimeWarning: invalid value encountered in divide\n",
      "  precision_test = np.nan_to_num((y_pred_test_th * temp_test_labels).sum(axis=(1, 2)) / y_pred_test_th.sum(axis=(1, 2)), nan=1)\n",
      " 79%|███████▉  | 79/100 [00:25<00:06,  3.18it/s]/tmp/ipykernel_1494523/2455691256.py:24: RuntimeWarning: invalid value encountered in divide\n",
      "  precision_test = np.nan_to_num((y_pred_test_th * temp_test_labels).sum(axis=(1, 2)) / y_pred_test_th.sum(axis=(1, 2)), nan=1)\n",
      " 80%|████████  | 80/100 [00:25<00:06,  3.18it/s]/tmp/ipykernel_1494523/2455691256.py:24: RuntimeWarning: invalid value encountered in divide\n",
      "  precision_test = np.nan_to_num((y_pred_test_th * temp_test_labels).sum(axis=(1, 2)) / y_pred_test_th.sum(axis=(1, 2)), nan=1)\n",
      " 81%|████████  | 81/100 [00:25<00:05,  3.17it/s]/tmp/ipykernel_1494523/2455691256.py:24: RuntimeWarning: invalid value encountered in divide\n",
      "  precision_test = np.nan_to_num((y_pred_test_th * temp_test_labels).sum(axis=(1, 2)) / y_pred_test_th.sum(axis=(1, 2)), nan=1)\n",
      " 82%|████████▏ | 82/100 [00:26<00:05,  3.15it/s]/tmp/ipykernel_1494523/2455691256.py:24: RuntimeWarning: invalid value encountered in divide\n",
      "  precision_test = np.nan_to_num((y_pred_test_th * temp_test_labels).sum(axis=(1, 2)) / y_pred_test_th.sum(axis=(1, 2)), nan=1)\n",
      " 83%|████████▎ | 83/100 [00:26<00:05,  3.16it/s]/tmp/ipykernel_1494523/2455691256.py:24: RuntimeWarning: invalid value encountered in divide\n",
      "  precision_test = np.nan_to_num((y_pred_test_th * temp_test_labels).sum(axis=(1, 2)) / y_pred_test_th.sum(axis=(1, 2)), nan=1)\n",
      " 84%|████████▍ | 84/100 [00:26<00:05,  3.16it/s]/tmp/ipykernel_1494523/2455691256.py:24: RuntimeWarning: invalid value encountered in divide\n",
      "  precision_test = np.nan_to_num((y_pred_test_th * temp_test_labels).sum(axis=(1, 2)) / y_pred_test_th.sum(axis=(1, 2)), nan=1)\n",
      " 85%|████████▌ | 85/100 [00:27<00:04,  3.05it/s]/tmp/ipykernel_1494523/2455691256.py:24: RuntimeWarning: invalid value encountered in divide\n",
      "  precision_test = np.nan_to_num((y_pred_test_th * temp_test_labels).sum(axis=(1, 2)) / y_pred_test_th.sum(axis=(1, 2)), nan=1)\n",
      " 86%|████████▌ | 86/100 [00:27<00:04,  3.07it/s]/tmp/ipykernel_1494523/2455691256.py:24: RuntimeWarning: invalid value encountered in divide\n",
      "  precision_test = np.nan_to_num((y_pred_test_th * temp_test_labels).sum(axis=(1, 2)) / y_pred_test_th.sum(axis=(1, 2)), nan=1)\n",
      " 87%|████████▋ | 87/100 [00:27<00:04,  3.10it/s]/tmp/ipykernel_1494523/2455691256.py:24: RuntimeWarning: invalid value encountered in divide\n",
      "  precision_test = np.nan_to_num((y_pred_test_th * temp_test_labels).sum(axis=(1, 2)) / y_pred_test_th.sum(axis=(1, 2)), nan=1)\n",
      " 88%|████████▊ | 88/100 [00:28<00:03,  3.12it/s]/tmp/ipykernel_1494523/2455691256.py:24: RuntimeWarning: invalid value encountered in divide\n",
      "  precision_test = np.nan_to_num((y_pred_test_th * temp_test_labels).sum(axis=(1, 2)) / y_pred_test_th.sum(axis=(1, 2)), nan=1)\n",
      " 89%|████████▉ | 89/100 [00:28<00:03,  3.13it/s]/tmp/ipykernel_1494523/2455691256.py:24: RuntimeWarning: invalid value encountered in divide\n",
      "  precision_test = np.nan_to_num((y_pred_test_th * temp_test_labels).sum(axis=(1, 2)) / y_pred_test_th.sum(axis=(1, 2)), nan=1)\n",
      " 90%|█████████ | 90/100 [00:28<00:03,  3.15it/s]/tmp/ipykernel_1494523/2455691256.py:24: RuntimeWarning: invalid value encountered in divide\n",
      "  precision_test = np.nan_to_num((y_pred_test_th * temp_test_labels).sum(axis=(1, 2)) / y_pred_test_th.sum(axis=(1, 2)), nan=1)\n",
      " 91%|█████████ | 91/100 [00:29<00:02,  3.18it/s]/tmp/ipykernel_1494523/2455691256.py:24: RuntimeWarning: invalid value encountered in divide\n",
      "  precision_test = np.nan_to_num((y_pred_test_th * temp_test_labels).sum(axis=(1, 2)) / y_pred_test_th.sum(axis=(1, 2)), nan=1)\n",
      " 92%|█████████▏| 92/100 [00:29<00:02,  3.18it/s]/tmp/ipykernel_1494523/2455691256.py:24: RuntimeWarning: invalid value encountered in divide\n",
      "  precision_test = np.nan_to_num((y_pred_test_th * temp_test_labels).sum(axis=(1, 2)) / y_pred_test_th.sum(axis=(1, 2)), nan=1)\n",
      " 93%|█████████▎| 93/100 [00:29<00:02,  3.19it/s]/tmp/ipykernel_1494523/2455691256.py:24: RuntimeWarning: invalid value encountered in divide\n",
      "  precision_test = np.nan_to_num((y_pred_test_th * temp_test_labels).sum(axis=(1, 2)) / y_pred_test_th.sum(axis=(1, 2)), nan=1)\n",
      " 94%|█████████▍| 94/100 [00:30<00:01,  3.21it/s]/tmp/ipykernel_1494523/2455691256.py:24: RuntimeWarning: invalid value encountered in divide\n",
      "  precision_test = np.nan_to_num((y_pred_test_th * temp_test_labels).sum(axis=(1, 2)) / y_pred_test_th.sum(axis=(1, 2)), nan=1)\n",
      " 95%|█████████▌| 95/100 [00:30<00:01,  3.22it/s]/tmp/ipykernel_1494523/2455691256.py:24: RuntimeWarning: invalid value encountered in divide\n",
      "  precision_test = np.nan_to_num((y_pred_test_th * temp_test_labels).sum(axis=(1, 2)) / y_pred_test_th.sum(axis=(1, 2)), nan=1)\n",
      " 96%|█████████▌| 96/100 [00:30<00:01,  3.21it/s]/tmp/ipykernel_1494523/2455691256.py:24: RuntimeWarning: invalid value encountered in divide\n",
      "  precision_test = np.nan_to_num((y_pred_test_th * temp_test_labels).sum(axis=(1, 2)) / y_pred_test_th.sum(axis=(1, 2)), nan=1)\n",
      " 97%|█████████▋| 97/100 [00:31<00:00,  3.10it/s]/tmp/ipykernel_1494523/2455691256.py:24: RuntimeWarning: invalid value encountered in divide\n",
      "  precision_test = np.nan_to_num((y_pred_test_th * temp_test_labels).sum(axis=(1, 2)) / y_pred_test_th.sum(axis=(1, 2)), nan=1)\n",
      " 98%|█████████▊| 98/100 [00:31<00:00,  3.14it/s]/tmp/ipykernel_1494523/2455691256.py:24: RuntimeWarning: invalid value encountered in divide\n",
      "  precision_test = np.nan_to_num((y_pred_test_th * temp_test_labels).sum(axis=(1, 2)) / y_pred_test_th.sum(axis=(1, 2)), nan=1)\n",
      " 99%|█████████▉| 99/100 [00:31<00:00,  3.16it/s]/tmp/ipykernel_1494523/2455691256.py:24: RuntimeWarning: invalid value encountered in divide\n",
      "  precision_test = np.nan_to_num((y_pred_test_th * temp_test_labels).sum(axis=(1, 2)) / y_pred_test_th.sum(axis=(1, 2)), nan=1)\n",
      "100%|██████████| 100/100 [00:31<00:00,  3.13it/s]\n"
     ]
    }
   ],
   "source": [
    "recalls = []\n",
    "precisions = []\n",
    "\n",
    "# kf = KFold(n_splits=100, shuffle=True, random_state=42)\n",
    "for _ in tqdm(range(100)):\n",
    "    cal_inx = np.random.choice(range(len(all_pred_probas)), len(all_pred_probas) // 2 , replace=False)\n",
    "    test_inx = np.array([i for i in range(len(all_pred_probas)) if i not in cal_inx])\n",
    "    temp_cal_pred_probas = all_pred_probas[cal_inx]\n",
    "    temp_cal_labels = all_labels[cal_inx]\n",
    "    temp_test_pred_probas = all_pred_probas[test_inx]\n",
    "    temp_test_labels = all_labels[test_inx]\n",
    "\n",
    "    n = len(temp_cal_pred_probas)\n",
    "    mapie_crc = MapieMultiLabelClassifier(MapieWrapper(), method=\"crc\")\n",
    "    for i in range(len(temp_cal_labels)):\n",
    "        X, y = temp_cal_pred_probas[i], temp_cal_labels[i]\n",
    "        mapie_crc.partial_fit(X.ravel()[np.newaxis, :], y.ravel()[np.newaxis, :])\n",
    "\n",
    "    _, _ = mapie_crc.predict(temp_test_pred_probas.ravel()[np.newaxis, :], alpha=ALPHA)\n",
    "    th_crc = mapie_crc.lambdas_star\n",
    "\n",
    "    y_pred_test_th = (temp_test_pred_probas >= th_crc).astype(int)\n",
    "    recall_test = (y_pred_test_th * temp_test_labels).sum(axis=(1, 2)) / temp_test_labels.sum(axis=(1, 2))\n",
    "    precision_test = np.nan_to_num((y_pred_test_th * temp_test_labels).sum(axis=(1, 2)) / y_pred_test_th.sum(axis=(1, 2)), nan=1)\n",
    "    recalls.append(np.nanmean(recall_test))\n",
    "    precisions.append(np.nanmean(precision_test))\n",
    "    # print(np.nanmean(recall_test))\n",
    "\n",
    "    \n"
   ]
  },
  {
   "cell_type": "code",
   "execution_count": 30,
   "metadata": {},
   "outputs": [
    {
     "data": {
      "text/plain": [
       "(array([ 2.,  0.,  6., 12., 10., 20., 15., 23.,  8.,  4.]),\n",
       " array([0.73663917, 0.74833149, 0.76002381, 0.77171614, 0.78340846,\n",
       "        0.79510078, 0.8067931 , 0.81848543, 0.83017775, 0.84187007,\n",
       "        0.8535624 ]),\n",
       " <BarContainer object of 10 artists>)"
      ]
     },
     "execution_count": 30,
     "metadata": {},
     "output_type": "execute_result"
    },
    {
     "data": {
      "image/png": "[encoded data removed]",
      "text/plain": [
       "<Figure size 640x480 with 1 Axes>"
      ]
     },
     "metadata": {},
     "output_type": "display_data"
    }
   ],
   "source": [
    "plt.hist(recalls)"
   ]
  },
  {
   "cell_type": "code",
   "execution_count": 31,
   "metadata": {},
   "outputs": [
    {
     "data": {
      "text/plain": [
       "0.804631467724038"
      ]
     },
     "execution_count": 31,
     "metadata": {},
     "output_type": "execute_result"
    }
   ],
   "source": [
    "np.mean(recalls)"
   ]
  },
  {
   "cell_type": "code",
   "execution_count": 32,
   "metadata": {},
   "outputs": [
    {
     "data": {
      "text/plain": [
       "(array([ 3.,  6., 11., 20., 17., 20.,  8.,  9.,  4.,  2.]),\n",
       " array([0.72358821, 0.7386689 , 0.75374958, 0.76883026, 0.78391094,\n",
       "        0.79899163, 0.81407231, 0.82915299, 0.84423368, 0.85931436,\n",
       "        0.87439504]),\n",
       " <BarContainer object of 10 artists>)"
      ]
     },
     "execution_count": 32,
     "metadata": {},
     "output_type": "execute_result"
    },
    {
     "data": {
      "image/png": "[encoded data removed]",
      "text/plain": [
       "<Figure size 640x480 with 1 Axes>"
      ]
     },
     "metadata": {},
     "output_type": "display_data"
    }
   ],
   "source": [
    "plt.hist(precisions)"
   ]
  },
  {
   "cell_type": "code",
   "execution_count": 33,
   "metadata": {},
   "outputs": [
    {
     "ename": "NameError",
     "evalue": "name 'ths' is not defined",
     "output_type": "error",
     "traceback": [
      "\u001b[0;31m---------------------------------------------------------------------------\u001b[0m",
      "\u001b[0;31mNameError\u001b[0m                                 Traceback (most recent call last)",
      "Cell \u001b[0;32mIn[33], line 1\u001b[0m\n\u001b[0;32m----> 1\u001b[0m np\u001b[38;5;241m.\u001b[39munique(\u001b[43mths\u001b[49m)\n",
      "\u001b[0;31mNameError\u001b[0m: name 'ths' is not defined"
     ]
    }
   ],
   "source": [
    "np.unique(ths)"
   ]
  },
  {
   "cell_type": "code",
   "execution_count": null,
   "metadata": {},
   "outputs": [
    {
     "data": {
      "text/plain": [
       "array([[[0.01]],\n",
       "\n",
       "       [[0.01]],\n",
       "\n",
       "       [[0.01]],\n",
       "\n",
       "       [[0.01]],\n",
       "\n",
       "       [[0.01]],\n",
       "\n",
       "       [[0.01]],\n",
       "\n",
       "       [[0.01]],\n",
       "\n",
       "       [[0.01]],\n",
       "\n",
       "       [[0.01]],\n",
       "\n",
       "       [[0.01]],\n",
       "\n",
       "       [[0.01]],\n",
       "\n",
       "       [[0.01]],\n",
       "\n",
       "       [[0.01]],\n",
       "\n",
       "       [[0.01]],\n",
       "\n",
       "       [[0.01]],\n",
       "\n",
       "       [[0.01]],\n",
       "\n",
       "       [[0.01]],\n",
       "\n",
       "       [[0.01]],\n",
       "\n",
       "       [[0.01]],\n",
       "\n",
       "       [[0.01]],\n",
       "\n",
       "       [[0.01]],\n",
       "\n",
       "       [[0.01]],\n",
       "\n",
       "       [[0.01]],\n",
       "\n",
       "       [[0.01]],\n",
       "\n",
       "       [[0.01]],\n",
       "\n",
       "       [[0.01]],\n",
       "\n",
       "       [[0.01]],\n",
       "\n",
       "       [[0.01]],\n",
       "\n",
       "       [[0.01]],\n",
       "\n",
       "       [[0.01]],\n",
       "\n",
       "       [[0.01]],\n",
       "\n",
       "       [[0.01]],\n",
       "\n",
       "       [[0.01]],\n",
       "\n",
       "       [[0.01]],\n",
       "\n",
       "       [[0.01]],\n",
       "\n",
       "       [[0.01]],\n",
       "\n",
       "       [[0.01]],\n",
       "\n",
       "       [[0.01]],\n",
       "\n",
       "       [[0.01]],\n",
       "\n",
       "       [[0.01]],\n",
       "\n",
       "       [[0.01]],\n",
       "\n",
       "       [[0.01]],\n",
       "\n",
       "       [[0.01]],\n",
       "\n",
       "       [[0.01]],\n",
       "\n",
       "       [[0.01]],\n",
       "\n",
       "       [[0.01]],\n",
       "\n",
       "       [[0.01]],\n",
       "\n",
       "       [[0.01]],\n",
       "\n",
       "       [[0.01]],\n",
       "\n",
       "       [[0.01]],\n",
       "\n",
       "       [[0.01]],\n",
       "\n",
       "       [[0.01]],\n",
       "\n",
       "       [[0.01]],\n",
       "\n",
       "       [[0.01]],\n",
       "\n",
       "       [[0.01]],\n",
       "\n",
       "       [[0.01]],\n",
       "\n",
       "       [[0.01]],\n",
       "\n",
       "       [[0.01]],\n",
       "\n",
       "       [[0.01]],\n",
       "\n",
       "       [[0.01]],\n",
       "\n",
       "       [[0.01]],\n",
       "\n",
       "       [[0.01]],\n",
       "\n",
       "       [[0.01]],\n",
       "\n",
       "       [[0.01]],\n",
       "\n",
       "       [[0.01]],\n",
       "\n",
       "       [[0.01]],\n",
       "\n",
       "       [[0.01]],\n",
       "\n",
       "       [[0.01]],\n",
       "\n",
       "       [[0.01]],\n",
       "\n",
       "       [[0.01]],\n",
       "\n",
       "       [[0.01]],\n",
       "\n",
       "       [[0.01]],\n",
       "\n",
       "       [[0.01]],\n",
       "\n",
       "       [[0.01]],\n",
       "\n",
       "       [[0.01]],\n",
       "\n",
       "       [[0.01]],\n",
       "\n",
       "       [[0.01]],\n",
       "\n",
       "       [[0.01]],\n",
       "\n",
       "       [[0.01]]])"
      ]
     },
     "execution_count": 22,
     "metadata": {},
     "output_type": "execute_result"
    }
   ],
   "source": [
    "ths"
   ]
  },
  {
   "cell_type": "code",
   "execution_count": null,
   "metadata": {},
   "outputs": [],
   "source": []
  }
 ],
 "metadata": {
  "kernelspec": {
   "display_name": "Python 3",
   "language": "python",
   "name": "python3"
  },
  "language_info": {
   "codemirror_mode": {
    "name": "ipython",
    "version": 3
   },
   "file_extension": ".py",
   "mimetype": "text/x-python",
   "name": "python",
   "nbconvert_exporter": "python",
   "pygments_lexer": "ipython3",
   "version": "3.10.12"
  }
 },
 "nbformat": 4,
 "nbformat_minor": 2
}
